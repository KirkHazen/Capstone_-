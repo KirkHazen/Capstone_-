{
 "cells": [
  {
   "cell_type": "markdown",
   "id": "134db3e5",
   "metadata": {},
   "source": [
    "# Table of Contents\n",
    "1. [Introduction](#id0)\n",
    "2. [Import Packages](#id1)\n",
    "3. [Data Import from FARS National Survey](#id2)\n",
    "4. [Making DataFrames](#id3)\n",
    "5. [Initial Assessments of Column Types](#id4)\n",
    "6. [Assessing Possible Joins](#id5)\n",
    "7. [Checking Columns and Odd Cases](#id6)\n",
    "8. [Trimming Dataframe to Helpful Columns](#id7)\n",
    "9. [Saving Data](#id8)\n",
    "\n"
   ]
  },
  {
   "cell_type": "markdown",
   "id": "249dc96e",
   "metadata": {},
   "source": [
    "<a id=\"id0\"></a>"
   ]
  },
  {
   "cell_type": "markdown",
   "id": "d19be3ee",
   "metadata": {},
   "source": [
    "## Introduction\n",
    "Data was drawn from the Fatality Analysis Reporting System (FARS) of the National Highway Traffic Safety Administration (NHTSA). As the FARS manual notes, \" Crashes each year result in thousands of lives lost, hundreds of thousands of injured victims, and billions of dollars in property damage. Accurate data are required to support\n",
    "the development, implementation, and assessment of highway safety programs aimed at reducing\n",
    "this toll.\" The FARS data was collected to help improve traveler safety. The FARS data are specific in that \" To qualify as a FARS case, the crash had to involve a motor vehicle traveling on a\n",
    "trafficway customarily open to the public, and must have resulted in the death of a motorist or a\n",
    "non-motorist within 30 days of the crash.\"\n",
    "\n",
    "National Center for Statistics and Analysis. (2022, March). *Fatality Analysis Reporting System\n",
    "analytical user’s manual*, 1975-2020 (Report No. DOT HS 813 254). National Highway\n",
    "Traffic Safety Administration. "
   ]
  },
  {
   "cell_type": "markdown",
   "id": "b9eac1e8",
   "metadata": {},
   "source": [
    "<a id=\"id1\"></a>"
   ]
  },
  {
   "cell_type": "markdown",
   "id": "6e35d7be",
   "metadata": {},
   "source": [
    "## Import Packages"
   ]
  },
  {
   "cell_type": "code",
   "execution_count": 100,
   "id": "8bb90033",
   "metadata": {},
   "outputs": [],
   "source": [
    "\n",
    "import pandas as pd\n",
    "import csv\n",
    "import os\n"
   ]
  },
  {
   "cell_type": "markdown",
   "id": "0d4f3449",
   "metadata": {},
   "source": [
    "<a id=\"id2\"></a>"
   ]
  },
  {
   "cell_type": "markdown",
   "id": "9e6e01ed",
   "metadata": {},
   "source": [
    "## Data Import from FARS National Survey"
   ]
  },
  {
   "cell_type": "code",
   "execution_count": 101,
   "id": "151c9326",
   "metadata": {
    "scrolled": true
   },
   "outputs": [],
   "source": [
    "### downloaded 19 CSVs from here https://www.nhtsa.gov/file-downloads?p=nhtsa/downloads/FARS/2019/ \n",
    "data_accident = \"/Users/kirk/DS/Springboard_DST/Capstone_2/data/external/FARS2019NationalCSV/accident.CSV\"\n",
    "data_person = \"/Users/kirk/DS/Springboard_DST/Capstone_2/data/external/FARS2019NationalCSV/Person.CSV\"\n",
    "#data_cevent = \"/Users/kirk/DS/Springboard_DST/Capstone_2/data/external/FARS2019NationalCSV/CEvent.CSV\"\n",
    "data_factor = \"/Users/kirk/DS/Springboard_DST/Capstone_2/data/external/FARS2019NationalCSV/Factor.CSV\"\n",
    "data_vision = \"/Users/kirk/DS/Springboard_DST/Capstone_2/data/external/FARS2019NationalCSV/Vision.csv\"\n",
    "data_drugs = \"/Users/kirk/DS/Springboard_DST/Capstone_2/data/external/FARS2019NationalCSV/Drugs.csv\"\n",
    "#data_race = \"/Users/kirk/DS/Springboard_DST/Capstone_2/data/external/FARS2019NationalCSV/Race.CSV\""
   ]
  },
  {
   "cell_type": "markdown",
   "id": "3013cb98",
   "metadata": {},
   "source": [
    "<a id=\"id3\"></a>"
   ]
  },
  {
   "cell_type": "markdown",
   "id": "dc3c29f5",
   "metadata": {},
   "source": [
    "## Making DataFrames"
   ]
  },
  {
   "cell_type": "code",
   "execution_count": 102,
   "id": "7d7f7d81",
   "metadata": {
    "scrolled": false
   },
   "outputs": [
    {
     "data": {
      "text/plain": [
       "<bound method DataFrame.info of        STATE STATENAME  ST_CASE  VE_TOTAL  VE_FORMS  PVH_INVL  PEDS  PERSONS  \\\n",
       "0          1   Alabama    10001         2         2         0     0        3   \n",
       "1          1   Alabama    10002         2         2         0     0        2   \n",
       "2          1   Alabama    10003         3         3         0     0        4   \n",
       "3          1   Alabama    10004         1         1         0     1        1   \n",
       "4          1   Alabama    10005         1         1         0     0        1   \n",
       "...      ...       ...      ...       ...       ...       ...   ...      ...   \n",
       "33482     56   Wyoming   560117         1         1         0     0        1   \n",
       "33483     56   Wyoming   560118         5         5         0     0        6   \n",
       "33484     56   Wyoming   560119         1         1         0     0        1   \n",
       "33485     56   Wyoming   560120         1         1         0     0        2   \n",
       "33486     56   Wyoming   560121         2         2         0     0        3   \n",
       "\n",
       "       PERMVIT  PERNOTMVIT  ...  HOSP_MN                        HOSP_MNNAME  \\\n",
       "0            3           0  ...       27                                 27   \n",
       "1            2           0  ...       99  Unknown EMS Hospital Arrival Time   \n",
       "2            4           0  ...        5                                  5   \n",
       "3            1           1  ...       88   Not Applicable (Not Transported)   \n",
       "4            1           0  ...       88   Not Applicable (Not Transported)   \n",
       "...        ...         ...  ...      ...                                ...   \n",
       "33482        1           0  ...       99  Unknown EMS Hospital Arrival Time   \n",
       "33483        6           0  ...        0                                  0   \n",
       "33484        1           0  ...       21                                 21   \n",
       "33485        2           0  ...       52                                 52   \n",
       "33486        3           0  ...        2                                  2   \n",
       "\n",
       "       CF1                                            CF1NAME  CF2  CF2NAME  \\\n",
       "0        0                                               None    0     None   \n",
       "1        0                                               None    0     None   \n",
       "2       14  Motor Vehicle struck by falling cargo,or somet...    0     None   \n",
       "3        0                                               None    0     None   \n",
       "4        0                                               None    0     None   \n",
       "...    ...                                                ...  ...      ...   \n",
       "33482    0                                               None    0     None   \n",
       "33483    0                                               None    0     None   \n",
       "33484    0                                               None    0     None   \n",
       "33485    0                                               None    0     None   \n",
       "33486    0                                               None    0     None   \n",
       "\n",
       "       CF3 CF3NAME  FATALS  DRUNK_DR  \n",
       "0        0    None       1         1  \n",
       "1        0    None       1         0  \n",
       "2        0    None       1         0  \n",
       "3        0    None       1         0  \n",
       "4        0    None       1         1  \n",
       "...    ...     ...     ...       ...  \n",
       "33482    0    None       1         0  \n",
       "33483    0    None       1         0  \n",
       "33484    0    None       1         1  \n",
       "33485    0    None       1         1  \n",
       "33486    0    None       2         1  \n",
       "\n",
       "[33487 rows x 91 columns]>"
      ]
     },
     "execution_count": 102,
     "metadata": {},
     "output_type": "execute_result"
    }
   ],
   "source": [
    "table_accident = pd.read_csv(data_accident, low_memory=False)\n",
    "table_accident.info"
   ]
  },
  {
   "cell_type": "code",
   "execution_count": 103,
   "id": "187c6ea2",
   "metadata": {},
   "outputs": [
    {
     "data": {
      "text/plain": [
       "Index(['STATE', 'STATENAME', 'ST_CASE', 'VE_TOTAL', 'VE_FORMS', 'PVH_INVL',\n",
       "       'PEDS', 'PERSONS', 'PERMVIT', 'PERNOTMVIT', 'COUNTY', 'COUNTYNAME',\n",
       "       'CITY', 'CITYNAME', 'DAY', 'DAYNAME', 'MONTH', 'MONTHNAME', 'YEAR',\n",
       "       'DAY_WEEK', 'DAY_WEEKNAME', 'HOUR', 'HOURNAME', 'MINUTE', 'MINUTENAME',\n",
       "       'NHS', 'NHSNAME', 'ROUTE', 'ROUTENAME', 'TWAY_ID', 'TWAY_ID2',\n",
       "       'RUR_URB', 'RUR_URBNAME', 'FUNC_SYS', 'FUNC_SYSNAME', 'RD_OWNER',\n",
       "       'RD_OWNERNAME', 'MILEPT', 'MILEPTNAME', 'LATITUDE', 'LATITUDENAME',\n",
       "       'LONGITUD', 'LONGITUDNAME', 'SP_JUR', 'SP_JURNAME', 'HARM_EV',\n",
       "       'HARM_EVNAME', 'MAN_COLL', 'MAN_COLLNAME', 'RELJCT1', 'RELJCT1NAME',\n",
       "       'RELJCT2', 'RELJCT2NAME', 'TYP_INT', 'TYP_INTNAME', 'WRK_ZONE',\n",
       "       'WRK_ZONENAME', 'REL_ROAD', 'REL_ROADNAME', 'LGT_COND', 'LGT_CONDNAME',\n",
       "       'WEATHER1', 'WEATHER1NAME', 'WEATHER2', 'WEATHER2NAME', 'WEATHER',\n",
       "       'WEATHERNAME', 'SCH_BUS', 'SCH_BUSNAME', 'RAIL', 'RAILNAME', 'NOT_HOUR',\n",
       "       'NOT_HOURNAME', 'NOT_MIN', 'NOT_MINNAME', 'ARR_HOUR', 'ARR_HOURNAME',\n",
       "       'ARR_MIN', 'ARR_MINNAME', 'HOSP_HR', 'HOSP_HRNAME', 'HOSP_MN',\n",
       "       'HOSP_MNNAME', 'CF1', 'CF1NAME', 'CF2', 'CF2NAME', 'CF3', 'CF3NAME',\n",
       "       'FATALS', 'DRUNK_DR'],\n",
       "      dtype='object')"
      ]
     },
     "execution_count": 103,
     "metadata": {},
     "output_type": "execute_result"
    }
   ],
   "source": [
    "table_accident.columns"
   ]
  },
  {
   "cell_type": "code",
   "execution_count": 104,
   "id": "a0f287aa",
   "metadata": {},
   "outputs": [
    {
     "data": {
      "text/plain": [
       "September    3093\n",
       "August       3091\n",
       "July         3037\n",
       "October      2972\n",
       "June         2926\n",
       "May          2917\n",
       "November     2841\n",
       "December     2774\n",
       "April        2611\n",
       "March        2544\n",
       "January      2476\n",
       "February     2205\n",
       "Name: MONTHNAME, dtype: int64"
      ]
     },
     "execution_count": 104,
     "metadata": {},
     "output_type": "execute_result"
    }
   ],
   "source": [
    "table_accident['MONTHNAME'].value_counts()"
   ]
  },
  {
   "cell_type": "code",
   "execution_count": 105,
   "id": "a556db26",
   "metadata": {},
   "outputs": [
    {
     "data": {
      "text/plain": [
       "1    31123\n",
       "2     1986\n",
       "3      287\n",
       "4       70\n",
       "5       12\n",
       "6        5\n",
       "7        3\n",
       "8        1\n",
       "Name: FATALS, dtype: int64"
      ]
     },
     "execution_count": 105,
     "metadata": {},
     "output_type": "execute_result"
    }
   ],
   "source": [
    "table_accident.FATALS.value_counts()"
   ]
  },
  {
   "cell_type": "code",
   "execution_count": 106,
   "id": "7e4bacfb",
   "metadata": {
    "scrolled": true
   },
   "outputs": [
    {
     "data": {
      "text/html": [
       "<div>\n",
       "<style scoped>\n",
       "    .dataframe tbody tr th:only-of-type {\n",
       "        vertical-align: middle;\n",
       "    }\n",
       "\n",
       "    .dataframe tbody tr th {\n",
       "        vertical-align: top;\n",
       "    }\n",
       "\n",
       "    .dataframe thead th {\n",
       "        text-align: right;\n",
       "    }\n",
       "</style>\n",
       "<table border=\"1\" class=\"dataframe\">\n",
       "  <thead>\n",
       "    <tr style=\"text-align: right;\">\n",
       "      <th></th>\n",
       "      <th>STATE</th>\n",
       "      <th>STATENAME</th>\n",
       "      <th>ST_CASE</th>\n",
       "      <th>VE_FORMS</th>\n",
       "      <th>VEH_NO</th>\n",
       "      <th>PER_NO</th>\n",
       "      <th>STR_VEH</th>\n",
       "      <th>COUNTY</th>\n",
       "      <th>DAY</th>\n",
       "      <th>DAYNAME</th>\n",
       "      <th>...</th>\n",
       "      <th>WORK_INJ</th>\n",
       "      <th>WORK_INJNAME</th>\n",
       "      <th>HISPANIC</th>\n",
       "      <th>HISPANICNAME</th>\n",
       "      <th>LOCATION</th>\n",
       "      <th>LOCATIONNAME</th>\n",
       "      <th>HELM_USE</th>\n",
       "      <th>HELM_USENAME</th>\n",
       "      <th>HELM_MIS</th>\n",
       "      <th>HELM_MISNAME</th>\n",
       "    </tr>\n",
       "  </thead>\n",
       "  <tbody>\n",
       "    <tr>\n",
       "      <th>0</th>\n",
       "      <td>1</td>\n",
       "      <td>Alabama</td>\n",
       "      <td>10001</td>\n",
       "      <td>2</td>\n",
       "      <td>1</td>\n",
       "      <td>1</td>\n",
       "      <td>0</td>\n",
       "      <td>81</td>\n",
       "      <td>7</td>\n",
       "      <td>7</td>\n",
       "      <td>...</td>\n",
       "      <td>8</td>\n",
       "      <td>Not Applicable (not a fatality)</td>\n",
       "      <td>0</td>\n",
       "      <td>Not A Fatality (not Applicable)</td>\n",
       "      <td>0</td>\n",
       "      <td>Occupant of a Motor Vehicle</td>\n",
       "      <td>20</td>\n",
       "      <td>Not Applicable</td>\n",
       "      <td>7</td>\n",
       "      <td>None Used/Not Applicable</td>\n",
       "    </tr>\n",
       "    <tr>\n",
       "      <th>1</th>\n",
       "      <td>1</td>\n",
       "      <td>Alabama</td>\n",
       "      <td>10001</td>\n",
       "      <td>2</td>\n",
       "      <td>1</td>\n",
       "      <td>2</td>\n",
       "      <td>0</td>\n",
       "      <td>81</td>\n",
       "      <td>7</td>\n",
       "      <td>7</td>\n",
       "      <td>...</td>\n",
       "      <td>0</td>\n",
       "      <td>No</td>\n",
       "      <td>7</td>\n",
       "      <td>Non-Hispanic</td>\n",
       "      <td>0</td>\n",
       "      <td>Occupant of a Motor Vehicle</td>\n",
       "      <td>20</td>\n",
       "      <td>Not Applicable</td>\n",
       "      <td>7</td>\n",
       "      <td>None Used/Not Applicable</td>\n",
       "    </tr>\n",
       "    <tr>\n",
       "      <th>2</th>\n",
       "      <td>1</td>\n",
       "      <td>Alabama</td>\n",
       "      <td>10001</td>\n",
       "      <td>2</td>\n",
       "      <td>2</td>\n",
       "      <td>1</td>\n",
       "      <td>0</td>\n",
       "      <td>81</td>\n",
       "      <td>7</td>\n",
       "      <td>7</td>\n",
       "      <td>...</td>\n",
       "      <td>8</td>\n",
       "      <td>Not Applicable (not a fatality)</td>\n",
       "      <td>0</td>\n",
       "      <td>Not A Fatality (not Applicable)</td>\n",
       "      <td>0</td>\n",
       "      <td>Occupant of a Motor Vehicle</td>\n",
       "      <td>20</td>\n",
       "      <td>Not Applicable</td>\n",
       "      <td>7</td>\n",
       "      <td>None Used/Not Applicable</td>\n",
       "    </tr>\n",
       "    <tr>\n",
       "      <th>3</th>\n",
       "      <td>1</td>\n",
       "      <td>Alabama</td>\n",
       "      <td>10002</td>\n",
       "      <td>2</td>\n",
       "      <td>1</td>\n",
       "      <td>1</td>\n",
       "      <td>0</td>\n",
       "      <td>55</td>\n",
       "      <td>23</td>\n",
       "      <td>23</td>\n",
       "      <td>...</td>\n",
       "      <td>0</td>\n",
       "      <td>No</td>\n",
       "      <td>7</td>\n",
       "      <td>Non-Hispanic</td>\n",
       "      <td>0</td>\n",
       "      <td>Occupant of a Motor Vehicle</td>\n",
       "      <td>20</td>\n",
       "      <td>Not Applicable</td>\n",
       "      <td>7</td>\n",
       "      <td>None Used/Not Applicable</td>\n",
       "    </tr>\n",
       "    <tr>\n",
       "      <th>4</th>\n",
       "      <td>1</td>\n",
       "      <td>Alabama</td>\n",
       "      <td>10002</td>\n",
       "      <td>2</td>\n",
       "      <td>2</td>\n",
       "      <td>1</td>\n",
       "      <td>0</td>\n",
       "      <td>55</td>\n",
       "      <td>23</td>\n",
       "      <td>23</td>\n",
       "      <td>...</td>\n",
       "      <td>8</td>\n",
       "      <td>Not Applicable (not a fatality)</td>\n",
       "      <td>0</td>\n",
       "      <td>Not A Fatality (not Applicable)</td>\n",
       "      <td>0</td>\n",
       "      <td>Occupant of a Motor Vehicle</td>\n",
       "      <td>20</td>\n",
       "      <td>Not Applicable</td>\n",
       "      <td>7</td>\n",
       "      <td>None Used/Not Applicable</td>\n",
       "    </tr>\n",
       "  </tbody>\n",
       "</table>\n",
       "<p>5 rows × 119 columns</p>\n",
       "</div>"
      ],
      "text/plain": [
       "   STATE STATENAME  ST_CASE  VE_FORMS  VEH_NO  PER_NO  STR_VEH  COUNTY  DAY  \\\n",
       "0      1   Alabama    10001         2       1       1        0      81    7   \n",
       "1      1   Alabama    10001         2       1       2        0      81    7   \n",
       "2      1   Alabama    10001         2       2       1        0      81    7   \n",
       "3      1   Alabama    10002         2       1       1        0      55   23   \n",
       "4      1   Alabama    10002         2       2       1        0      55   23   \n",
       "\n",
       "   DAYNAME  ...  WORK_INJ                     WORK_INJNAME  HISPANIC  \\\n",
       "0        7  ...         8  Not Applicable (not a fatality)         0   \n",
       "1        7  ...         0                               No         7   \n",
       "2        7  ...         8  Not Applicable (not a fatality)         0   \n",
       "3       23  ...         0                               No         7   \n",
       "4       23  ...         8  Not Applicable (not a fatality)         0   \n",
       "\n",
       "                      HISPANICNAME  LOCATION                 LOCATIONNAME  \\\n",
       "0  Not A Fatality (not Applicable)         0  Occupant of a Motor Vehicle   \n",
       "1                     Non-Hispanic         0  Occupant of a Motor Vehicle   \n",
       "2  Not A Fatality (not Applicable)         0  Occupant of a Motor Vehicle   \n",
       "3                     Non-Hispanic         0  Occupant of a Motor Vehicle   \n",
       "4  Not A Fatality (not Applicable)         0  Occupant of a Motor Vehicle   \n",
       "\n",
       "   HELM_USE    HELM_USENAME  HELM_MIS              HELM_MISNAME  \n",
       "0        20  Not Applicable         7  None Used/Not Applicable  \n",
       "1        20  Not Applicable         7  None Used/Not Applicable  \n",
       "2        20  Not Applicable         7  None Used/Not Applicable  \n",
       "3        20  Not Applicable         7  None Used/Not Applicable  \n",
       "4        20  Not Applicable         7  None Used/Not Applicable  \n",
       "\n",
       "[5 rows x 119 columns]"
      ]
     },
     "execution_count": 106,
     "metadata": {},
     "output_type": "execute_result"
    }
   ],
   "source": [
    "table_person = pd.read_csv(data_person, low_memory=False)\n",
    "table_person.head(5)"
   ]
  },
  {
   "cell_type": "code",
   "execution_count": 107,
   "id": "918d56e5",
   "metadata": {},
   "outputs": [
    {
     "data": {
      "text/plain": [
       "array(['STATE', 'STATENAME', 'ST_CASE', 'VE_FORMS', 'VEH_NO', 'PER_NO',\n",
       "       'STR_VEH', 'COUNTY', 'DAY', 'DAYNAME', 'MONTH', 'MONTHNAME',\n",
       "       'HOUR', 'HOURNAME', 'MINUTE', 'MINUTENAME', 'RUR_URB',\n",
       "       'RUR_URBNAME', 'FUNC_SYS', 'FUNC_SYSNAME', 'HARM_EV',\n",
       "       'HARM_EVNAME', 'MAN_COLL', 'MAN_COLLNAME', 'SCH_BUS',\n",
       "       'SCH_BUSNAME', 'MAKE', 'MAKENAME', 'MAK_MOD', 'BODY_TYP',\n",
       "       'BODY_TYPNAME', 'MOD_YEAR', 'MOD_YEARNAME', 'TOW_VEH',\n",
       "       'TOW_VEHNAME', 'SPEC_USE', 'SPEC_USENAME', 'EMER_USE',\n",
       "       'EMER_USENAME', 'ROLLOVER', 'ROLLOVERNAME', 'IMPACT1',\n",
       "       'IMPACT1NAME', 'FIRE_EXP', 'FIRE_EXPNAME', 'AGE', 'AGENAME', 'SEX',\n",
       "       'SEXNAME', 'PER_TYP', 'PER_TYPNAME', 'INJ_SEV', 'INJ_SEVNAME',\n",
       "       'SEAT_POS', 'SEAT_POSNAME', 'REST_USE', 'REST_USENAME', 'REST_MIS',\n",
       "       'REST_MISNAME', 'AIR_BAG', 'AIR_BAGNAME', 'EJECTION',\n",
       "       'EJECTIONNAME', 'EJ_PATH', 'EJ_PATHNAME', 'EXTRICAT',\n",
       "       'EXTRICATNAME', 'DRINKING', 'DRINKINGNAME', 'ALC_DET',\n",
       "       'ALC_DETNAME', 'ALC_STATUS', 'ALC_STATUSNAME', 'ATST_TYP',\n",
       "       'ATST_TYPNAME', 'ALC_RES', 'ALC_RESNAME', 'DRUGS', 'DRUGSNAME',\n",
       "       'DRUG_DET', 'DRUG_DETNAME', 'DSTATUS', 'DSTATUSNAME', 'HOSPITAL',\n",
       "       'HOSPITALNAME', 'DOA', 'DOANAME', 'DEATH_DA', 'DEATH_DANAME',\n",
       "       'DEATH_MO', 'DEATH_MONAME', 'DEATH_YR', 'DEATH_YRNAME', 'DEATH_HR',\n",
       "       'DEATH_HRNAME', 'DEATH_MN', 'DEATH_MNNAME', 'DEATH_TM',\n",
       "       'DEATH_TMNAME', 'LAG_HRS', 'LAG_HRSNAME', 'LAG_MINS',\n",
       "       'LAG_MINSNAME', 'P_SF1', 'P_SF1NAME', 'P_SF2', 'P_SF2NAME',\n",
       "       'P_SF3', 'P_SF3NAME', 'WORK_INJ', 'WORK_INJNAME', 'HISPANIC',\n",
       "       'HISPANICNAME', 'LOCATION', 'LOCATIONNAME', 'HELM_USE',\n",
       "       'HELM_USENAME', 'HELM_MIS', 'HELM_MISNAME'], dtype=object)"
      ]
     },
     "execution_count": 107,
     "metadata": {},
     "output_type": "execute_result"
    }
   ],
   "source": [
    "pd.unique(table_person.columns)"
   ]
  },
  {
   "cell_type": "code",
   "execution_count": 108,
   "id": "a562d715",
   "metadata": {},
   "outputs": [
    {
     "data": {
      "text/plain": [
       "Not Applicable    62413\n",
       "Died at Scene     20121\n",
       "Died En Route       241\n",
       "Unknown              68\n",
       "Name: DOANAME, dtype: int64"
      ]
     },
     "execution_count": 108,
     "metadata": {},
     "output_type": "execute_result"
    }
   ],
   "source": [
    "#### assessing values in PERSON to decide which to keep\n",
    "# pd.unique(table_person.DOANAME)\n",
    "table_person.DOANAME.value_counts()"
   ]
  },
  {
   "cell_type": "code",
   "execution_count": 109,
   "id": "1e780abb",
   "metadata": {},
   "outputs": [],
   "source": [
    "### Need to craft a fatality by person column"
   ]
  },
  {
   "cell_type": "code",
   "execution_count": 110,
   "id": "ede17e51",
   "metadata": {
    "scrolled": true
   },
   "outputs": [
    {
     "data": {
      "text/html": [
       "<div>\n",
       "<style scoped>\n",
       "    .dataframe tbody tr th:only-of-type {\n",
       "        vertical-align: middle;\n",
       "    }\n",
       "\n",
       "    .dataframe tbody tr th {\n",
       "        vertical-align: top;\n",
       "    }\n",
       "\n",
       "    .dataframe thead th {\n",
       "        text-align: right;\n",
       "    }\n",
       "</style>\n",
       "<table border=\"1\" class=\"dataframe\">\n",
       "  <thead>\n",
       "    <tr style=\"text-align: right;\">\n",
       "      <th></th>\n",
       "      <th>STATE</th>\n",
       "      <th>STATENAME</th>\n",
       "      <th>ST_CASE</th>\n",
       "      <th>VEH_NO</th>\n",
       "      <th>MFACTOR</th>\n",
       "      <th>MFACTORNAME</th>\n",
       "    </tr>\n",
       "  </thead>\n",
       "  <tbody>\n",
       "    <tr>\n",
       "      <th>0</th>\n",
       "      <td>1</td>\n",
       "      <td>Alabama</td>\n",
       "      <td>10001</td>\n",
       "      <td>1</td>\n",
       "      <td>0</td>\n",
       "      <td>None</td>\n",
       "    </tr>\n",
       "    <tr>\n",
       "      <th>1</th>\n",
       "      <td>1</td>\n",
       "      <td>Alabama</td>\n",
       "      <td>10001</td>\n",
       "      <td>2</td>\n",
       "      <td>0</td>\n",
       "      <td>None</td>\n",
       "    </tr>\n",
       "    <tr>\n",
       "      <th>2</th>\n",
       "      <td>1</td>\n",
       "      <td>Alabama</td>\n",
       "      <td>10002</td>\n",
       "      <td>1</td>\n",
       "      <td>0</td>\n",
       "      <td>None</td>\n",
       "    </tr>\n",
       "    <tr>\n",
       "      <th>3</th>\n",
       "      <td>1</td>\n",
       "      <td>Alabama</td>\n",
       "      <td>10002</td>\n",
       "      <td>2</td>\n",
       "      <td>0</td>\n",
       "      <td>None</td>\n",
       "    </tr>\n",
       "    <tr>\n",
       "      <th>4</th>\n",
       "      <td>1</td>\n",
       "      <td>Alabama</td>\n",
       "      <td>10003</td>\n",
       "      <td>1</td>\n",
       "      <td>0</td>\n",
       "      <td>None</td>\n",
       "    </tr>\n",
       "  </tbody>\n",
       "</table>\n",
       "</div>"
      ],
      "text/plain": [
       "   STATE STATENAME  ST_CASE  VEH_NO  MFACTOR MFACTORNAME\n",
       "0      1   Alabama    10001       1        0        None\n",
       "1      1   Alabama    10001       2        0        None\n",
       "2      1   Alabama    10002       1        0        None\n",
       "3      1   Alabama    10002       2        0        None\n",
       "4      1   Alabama    10003       1        0        None"
      ]
     },
     "execution_count": 110,
     "metadata": {},
     "output_type": "execute_result"
    }
   ],
   "source": [
    "table_factor = pd.read_csv(data_factor, low_memory=False)\n",
    "table_factor.head()"
   ]
  },
  {
   "cell_type": "code",
   "execution_count": 111,
   "id": "17a6eebd",
   "metadata": {
    "scrolled": false
   },
   "outputs": [
    {
     "data": {
      "text/plain": [
       "array(['None', 'Reported as Unknown',\n",
       "       'Vehicle Contributing Factors - No Details', 'Tires',\n",
       "       'Other Lights', 'Other', 'Brake System', 'Head Lights',\n",
       "       'Not Reported', 'Steering', 'Windows/Windshield',\n",
       "       'Truck Coupling/Trailer Hitch/Safety Chains', 'Suspension',\n",
       "       'Safety Systems', 'Body, Doors', 'Wheels', 'Mirrors',\n",
       "       'Power Train', 'Exhaust System', 'Signal Lights', 'Wipers'],\n",
       "      dtype=object)"
      ]
     },
     "execution_count": 111,
     "metadata": {},
     "output_type": "execute_result"
    }
   ],
   "source": [
    "### checking out factor names in factors\n",
    "pd.unique(table_factor['MFACTORNAME'])"
   ]
  },
  {
   "cell_type": "code",
   "execution_count": 112,
   "id": "e39201d0",
   "metadata": {
    "scrolled": true
   },
   "outputs": [
    {
     "data": {
      "text/html": [
       "<div>\n",
       "<style scoped>\n",
       "    .dataframe tbody tr th:only-of-type {\n",
       "        vertical-align: middle;\n",
       "    }\n",
       "\n",
       "    .dataframe tbody tr th {\n",
       "        vertical-align: top;\n",
       "    }\n",
       "\n",
       "    .dataframe thead th {\n",
       "        text-align: right;\n",
       "    }\n",
       "</style>\n",
       "<table border=\"1\" class=\"dataframe\">\n",
       "  <thead>\n",
       "    <tr style=\"text-align: right;\">\n",
       "      <th></th>\n",
       "      <th>STATE</th>\n",
       "      <th>STATENAME</th>\n",
       "      <th>ST_CASE</th>\n",
       "      <th>VEH_NO</th>\n",
       "      <th>MVISOBSC</th>\n",
       "      <th>MVISOBSCNAME</th>\n",
       "    </tr>\n",
       "  </thead>\n",
       "  <tbody>\n",
       "    <tr>\n",
       "      <th>0</th>\n",
       "      <td>1</td>\n",
       "      <td>Alabama</td>\n",
       "      <td>10001</td>\n",
       "      <td>1</td>\n",
       "      <td>0</td>\n",
       "      <td>No Obstruction Noted</td>\n",
       "    </tr>\n",
       "    <tr>\n",
       "      <th>1</th>\n",
       "      <td>1</td>\n",
       "      <td>Alabama</td>\n",
       "      <td>10001</td>\n",
       "      <td>2</td>\n",
       "      <td>0</td>\n",
       "      <td>No Obstruction Noted</td>\n",
       "    </tr>\n",
       "    <tr>\n",
       "      <th>2</th>\n",
       "      <td>1</td>\n",
       "      <td>Alabama</td>\n",
       "      <td>10002</td>\n",
       "      <td>1</td>\n",
       "      <td>0</td>\n",
       "      <td>No Obstruction Noted</td>\n",
       "    </tr>\n",
       "    <tr>\n",
       "      <th>3</th>\n",
       "      <td>1</td>\n",
       "      <td>Alabama</td>\n",
       "      <td>10002</td>\n",
       "      <td>2</td>\n",
       "      <td>0</td>\n",
       "      <td>No Obstruction Noted</td>\n",
       "    </tr>\n",
       "    <tr>\n",
       "      <th>4</th>\n",
       "      <td>1</td>\n",
       "      <td>Alabama</td>\n",
       "      <td>10003</td>\n",
       "      <td>1</td>\n",
       "      <td>0</td>\n",
       "      <td>No Obstruction Noted</td>\n",
       "    </tr>\n",
       "  </tbody>\n",
       "</table>\n",
       "</div>"
      ],
      "text/plain": [
       "   STATE STATENAME  ST_CASE  VEH_NO  MVISOBSC          MVISOBSCNAME\n",
       "0      1   Alabama    10001       1         0  No Obstruction Noted\n",
       "1      1   Alabama    10001       2         0  No Obstruction Noted\n",
       "2      1   Alabama    10002       1         0  No Obstruction Noted\n",
       "3      1   Alabama    10002       2         0  No Obstruction Noted\n",
       "4      1   Alabama    10003       1         0  No Obstruction Noted"
      ]
     },
     "execution_count": 112,
     "metadata": {},
     "output_type": "execute_result"
    }
   ],
   "source": [
    "table_vision = pd.read_csv(data_vision, low_memory=False)\n",
    "table_vision.head()"
   ]
  },
  {
   "cell_type": "code",
   "execution_count": 113,
   "id": "028a5042",
   "metadata": {
    "scrolled": true
   },
   "outputs": [
    {
     "data": {
      "text/plain": [
       "array(['No Obstruction Noted',\n",
       "       'Curve, Hill or Other Roadway Design Feature',\n",
       "       'No Driver Present/Unknown if Driver present',\n",
       "       'Reflected Glare, Bright Sunlight, Headlights',\n",
       "       'In-Transport Motor Vehicle (including load)',\n",
       "       'Rain, Snow, Fog, Smoke, Sand, Dust', 'Reported as Unknown',\n",
       "       'Vision Obscured - No Details',\n",
       "       'Not In-Transport Motor Vehicle (parked, working)',\n",
       "       'Other Visual Obstruction', 'Inadequate Defrost or Defog System',\n",
       "       'Trees, Crops, Vegetation', 'Splash or Spray of Passing Vehicle',\n",
       "       'Obstruction Interior to the Vehicle',\n",
       "       'Obstructing Angles on Vehicle',\n",
       "       'Inadequate Vehicle Lighting System', 'External Mirrors',\n",
       "       'Broken or Improperly Cleaned Windshield',\n",
       "       'Building, Billboard, Other Structure'], dtype=object)"
      ]
     },
     "execution_count": 113,
     "metadata": {},
     "output_type": "execute_result"
    }
   ],
   "source": [
    "### checking out factor names in vision\n",
    "pd.unique(table_vision['MVISOBSCNAME'])"
   ]
  },
  {
   "cell_type": "markdown",
   "id": "c3b6a8ae",
   "metadata": {},
   "source": [
    "<a id=\"id2\"></a>"
   ]
  },
  {
   "cell_type": "code",
   "execution_count": 114,
   "id": "3bb557db",
   "metadata": {},
   "outputs": [
    {
     "data": {
      "text/html": [
       "<div>\n",
       "<style scoped>\n",
       "    .dataframe tbody tr th:only-of-type {\n",
       "        vertical-align: middle;\n",
       "    }\n",
       "\n",
       "    .dataframe tbody tr th {\n",
       "        vertical-align: top;\n",
       "    }\n",
       "\n",
       "    .dataframe thead th {\n",
       "        text-align: right;\n",
       "    }\n",
       "</style>\n",
       "<table border=\"1\" class=\"dataframe\">\n",
       "  <thead>\n",
       "    <tr style=\"text-align: right;\">\n",
       "      <th></th>\n",
       "      <th>STATE</th>\n",
       "      <th>STATENAME</th>\n",
       "      <th>ST_CASE</th>\n",
       "      <th>VEH_NO</th>\n",
       "      <th>PER_NO</th>\n",
       "      <th>DRUGSPEC</th>\n",
       "      <th>DRUGSPECNAME</th>\n",
       "      <th>DRUGRES</th>\n",
       "      <th>DRUGRESNAME</th>\n",
       "    </tr>\n",
       "  </thead>\n",
       "  <tbody>\n",
       "    <tr>\n",
       "      <th>0</th>\n",
       "      <td>1</td>\n",
       "      <td>Alabama</td>\n",
       "      <td>10001</td>\n",
       "      <td>1</td>\n",
       "      <td>1</td>\n",
       "      <td>0</td>\n",
       "      <td>Test Not Given</td>\n",
       "      <td>0</td>\n",
       "      <td>Test Not Given</td>\n",
       "    </tr>\n",
       "    <tr>\n",
       "      <th>1</th>\n",
       "      <td>1</td>\n",
       "      <td>Alabama</td>\n",
       "      <td>10001</td>\n",
       "      <td>1</td>\n",
       "      <td>2</td>\n",
       "      <td>0</td>\n",
       "      <td>Test Not Given</td>\n",
       "      <td>0</td>\n",
       "      <td>Test Not Given</td>\n",
       "    </tr>\n",
       "    <tr>\n",
       "      <th>2</th>\n",
       "      <td>1</td>\n",
       "      <td>Alabama</td>\n",
       "      <td>10001</td>\n",
       "      <td>2</td>\n",
       "      <td>1</td>\n",
       "      <td>0</td>\n",
       "      <td>Test Not Given</td>\n",
       "      <td>0</td>\n",
       "      <td>Test Not Given</td>\n",
       "    </tr>\n",
       "    <tr>\n",
       "      <th>3</th>\n",
       "      <td>1</td>\n",
       "      <td>Alabama</td>\n",
       "      <td>10002</td>\n",
       "      <td>1</td>\n",
       "      <td>1</td>\n",
       "      <td>1</td>\n",
       "      <td>Whole Blood</td>\n",
       "      <td>401</td>\n",
       "      <td>AMPHETAMINE</td>\n",
       "    </tr>\n",
       "    <tr>\n",
       "      <th>4</th>\n",
       "      <td>1</td>\n",
       "      <td>Alabama</td>\n",
       "      <td>10002</td>\n",
       "      <td>1</td>\n",
       "      <td>1</td>\n",
       "      <td>1</td>\n",
       "      <td>Whole Blood</td>\n",
       "      <td>417</td>\n",
       "      <td>METHAMPHETAMINE</td>\n",
       "    </tr>\n",
       "  </tbody>\n",
       "</table>\n",
       "</div>"
      ],
      "text/plain": [
       "   STATE STATENAME  ST_CASE  VEH_NO  PER_NO  DRUGSPEC    DRUGSPECNAME  \\\n",
       "0      1   Alabama    10001       1       1         0  Test Not Given   \n",
       "1      1   Alabama    10001       1       2         0  Test Not Given   \n",
       "2      1   Alabama    10001       2       1         0  Test Not Given   \n",
       "3      1   Alabama    10002       1       1         1     Whole Blood   \n",
       "4      1   Alabama    10002       1       1         1     Whole Blood   \n",
       "\n",
       "   DRUGRES      DRUGRESNAME  \n",
       "0        0   Test Not Given  \n",
       "1        0   Test Not Given  \n",
       "2        0   Test Not Given  \n",
       "3      401      AMPHETAMINE  \n",
       "4      417  METHAMPHETAMINE  "
      ]
     },
     "execution_count": 114,
     "metadata": {},
     "output_type": "execute_result"
    }
   ],
   "source": [
    "table_drugs = pd.read_csv(data_drugs, low_memory=False)\n",
    "table_drugs.head()"
   ]
  },
  {
   "cell_type": "markdown",
   "id": "b9d45e12",
   "metadata": {},
   "source": [
    "<a id=\"id4\"></a>"
   ]
  },
  {
   "cell_type": "markdown",
   "id": "45accc7e",
   "metadata": {},
   "source": [
    "## Initial Assessments of Column Types"
   ]
  },
  {
   "cell_type": "code",
   "execution_count": 115,
   "id": "736c18a7",
   "metadata": {
    "scrolled": true
   },
   "outputs": [
    {
     "data": {
      "text/plain": [
       "Index(['STATE', 'STATENAME', 'ST_CASE', 'VE_TOTAL', 'VE_FORMS', 'PVH_INVL',\n",
       "       'PEDS', 'PERSONS', 'PERMVIT', 'PERNOTMVIT', 'COUNTY', 'COUNTYNAME',\n",
       "       'CITY', 'CITYNAME', 'DAY', 'DAYNAME', 'MONTH', 'MONTHNAME', 'YEAR',\n",
       "       'DAY_WEEK', 'DAY_WEEKNAME', 'HOUR', 'HOURNAME', 'MINUTE', 'MINUTENAME',\n",
       "       'NHS', 'NHSNAME', 'ROUTE', 'ROUTENAME', 'TWAY_ID', 'TWAY_ID2',\n",
       "       'RUR_URB', 'RUR_URBNAME', 'FUNC_SYS', 'FUNC_SYSNAME', 'RD_OWNER',\n",
       "       'RD_OWNERNAME', 'MILEPT', 'MILEPTNAME', 'LATITUDE', 'LATITUDENAME',\n",
       "       'LONGITUD', 'LONGITUDNAME', 'SP_JUR', 'SP_JURNAME', 'HARM_EV',\n",
       "       'HARM_EVNAME', 'MAN_COLL', 'MAN_COLLNAME', 'RELJCT1', 'RELJCT1NAME',\n",
       "       'RELJCT2', 'RELJCT2NAME', 'TYP_INT', 'TYP_INTNAME', 'WRK_ZONE',\n",
       "       'WRK_ZONENAME', 'REL_ROAD', 'REL_ROADNAME', 'LGT_COND', 'LGT_CONDNAME',\n",
       "       'WEATHER1', 'WEATHER1NAME', 'WEATHER2', 'WEATHER2NAME', 'WEATHER',\n",
       "       'WEATHERNAME', 'SCH_BUS', 'SCH_BUSNAME', 'RAIL', 'RAILNAME', 'NOT_HOUR',\n",
       "       'NOT_HOURNAME', 'NOT_MIN', 'NOT_MINNAME', 'ARR_HOUR', 'ARR_HOURNAME',\n",
       "       'ARR_MIN', 'ARR_MINNAME', 'HOSP_HR', 'HOSP_HRNAME', 'HOSP_MN',\n",
       "       'HOSP_MNNAME', 'CF1', 'CF1NAME', 'CF2', 'CF2NAME', 'CF3', 'CF3NAME',\n",
       "       'FATALS', 'DRUNK_DR'],\n",
       "      dtype='object')"
      ]
     },
     "execution_count": 115,
     "metadata": {},
     "output_type": "execute_result"
    }
   ],
   "source": [
    "### Data wrangling challenge will be to see how and if the columns from different DataFrames should be combined\n",
    "table_accident.columns"
   ]
  },
  {
   "cell_type": "code",
   "execution_count": 116,
   "id": "04eefbe9",
   "metadata": {},
   "outputs": [
    {
     "data": {
      "text/plain": [
       "0    2\n",
       "1    1\n",
       "2    1\n",
       "3    1\n",
       "4    1\n",
       "Name: MONTH, dtype: int64"
      ]
     },
     "execution_count": 116,
     "metadata": {},
     "output_type": "execute_result"
    }
   ],
   "source": [
    "table_accident['MONTH'].head()"
   ]
  },
  {
   "cell_type": "code",
   "execution_count": 117,
   "id": "beec0b37",
   "metadata": {
    "scrolled": false
   },
   "outputs": [
    {
     "name": "stdout",
     "output_type": "stream",
     "text": [
      "['STATE', 'STATENAME', 'ST_CASE', 'VE_FORMS', 'VEH_NO', 'PER_NO', 'STR_VEH', 'COUNTY', 'DAY', 'DAYNAME', 'MONTH', 'MONTHNAME', 'HOUR', 'HOURNAME', 'MINUTE', 'MINUTENAME', 'RUR_URB', 'RUR_URBNAME', 'FUNC_SYS', 'FUNC_SYSNAME', 'HARM_EV', 'HARM_EVNAME', 'MAN_COLL', 'MAN_COLLNAME', 'SCH_BUS', 'SCH_BUSNAME', 'MAKE', 'MAKENAME', 'MAK_MOD', 'BODY_TYP', 'BODY_TYPNAME', 'MOD_YEAR', 'MOD_YEARNAME', 'TOW_VEH', 'TOW_VEHNAME', 'SPEC_USE', 'SPEC_USENAME', 'EMER_USE', 'EMER_USENAME', 'ROLLOVER', 'ROLLOVERNAME', 'IMPACT1', 'IMPACT1NAME', 'FIRE_EXP', 'FIRE_EXPNAME', 'AGE', 'AGENAME', 'SEX', 'SEXNAME', 'PER_TYP', 'PER_TYPNAME', 'INJ_SEV', 'INJ_SEVNAME', 'SEAT_POS', 'SEAT_POSNAME', 'REST_USE', 'REST_USENAME', 'REST_MIS', 'REST_MISNAME', 'AIR_BAG', 'AIR_BAGNAME', 'EJECTION', 'EJECTIONNAME', 'EJ_PATH', 'EJ_PATHNAME', 'EXTRICAT', 'EXTRICATNAME', 'DRINKING', 'DRINKINGNAME', 'ALC_DET', 'ALC_DETNAME', 'ALC_STATUS', 'ALC_STATUSNAME', 'ATST_TYP', 'ATST_TYPNAME', 'ALC_RES', 'ALC_RESNAME', 'DRUGS', 'DRUGSNAME', 'DRUG_DET', 'DRUG_DETNAME', 'DSTATUS', 'DSTATUSNAME', 'HOSPITAL', 'HOSPITALNAME', 'DOA', 'DOANAME', 'DEATH_DA', 'DEATH_DANAME', 'DEATH_MO', 'DEATH_MONAME', 'DEATH_YR', 'DEATH_YRNAME', 'DEATH_HR', 'DEATH_HRNAME', 'DEATH_MN', 'DEATH_MNNAME', 'DEATH_TM', 'DEATH_TMNAME', 'LAG_HRS', 'LAG_HRSNAME', 'LAG_MINS', 'LAG_MINSNAME', 'P_SF1', 'P_SF1NAME', 'P_SF2', 'P_SF2NAME', 'P_SF3', 'P_SF3NAME', 'WORK_INJ', 'WORK_INJNAME', 'HISPANIC', 'HISPANICNAME', 'LOCATION', 'LOCATIONNAME', 'HELM_USE', 'HELM_USENAME', 'HELM_MIS', 'HELM_MISNAME']\n"
     ]
    }
   ],
   "source": [
    "### Really large column list for person data\n",
    "print(table_person.columns.tolist())"
   ]
  },
  {
   "cell_type": "code",
   "execution_count": 118,
   "id": "98ce1ea0",
   "metadata": {},
   "outputs": [],
   "source": [
    "#### Need to subset for important columns only in accident, winnow the other tables, and then combine\n",
    "df_accident = table_accident[['STATENAME', 'ST_CASE','PEDS', 'RUR_URBNAME', 'HARM_EVNAME', \n",
    "                             'TYP_INTNAME', 'LGT_CONDNAME', 'WEATHER1NAME', 'WEATHER2NAME', \n",
    "                              'WEATHERNAME','FATALS','DRUNK_DR','DAY_WEEKNAME' , 'HOUR', 'MONTHNAME']]    \n",
    "\n",
    "df_person = table_person[['STATE', 'ST_CASE', 'VE_FORMS', 'VEH_NO', 'PER_NO', 'AGE', 'SEXNAME','PER_TYPNAME','DRINKINGNAME',]]\n",
    "\n",
    "df_factor = table_factor[['ST_CASE', 'VEH_NO', 'MFACTORNAME']]\n",
    "\n",
    "df_vision = table_vision[['ST_CASE', 'VEH_NO','MVISOBSCNAME']]\n",
    "\n",
    "df_drugs = table_drugs[['ST_CASE', 'VEH_NO', 'PER_NO', 'DRUGRESNAME']]\n"
   ]
  },
  {
   "cell_type": "code",
   "execution_count": 119,
   "id": "50e8d045",
   "metadata": {
    "scrolled": false
   },
   "outputs": [
    {
     "data": {
      "text/plain": [
       "Index(['STATENAME', 'ST_CASE', 'PEDS', 'RUR_URBNAME', 'HARM_EVNAME',\n",
       "       'TYP_INTNAME', 'LGT_CONDNAME', 'WEATHER1NAME', 'WEATHER2NAME',\n",
       "       'WEATHERNAME', 'FATALS', 'DRUNK_DR', 'DAY_WEEKNAME', 'HOUR',\n",
       "       'MONTHNAME'],\n",
       "      dtype='object')"
      ]
     },
     "execution_count": 119,
     "metadata": {},
     "output_type": "execute_result"
    }
   ],
   "source": [
    "df_accident.columns"
   ]
  },
  {
   "cell_type": "code",
   "execution_count": 120,
   "id": "a14f97d3",
   "metadata": {
    "scrolled": true
   },
   "outputs": [
    {
     "data": {
      "text/html": [
       "<div>\n",
       "<style scoped>\n",
       "    .dataframe tbody tr th:only-of-type {\n",
       "        vertical-align: middle;\n",
       "    }\n",
       "\n",
       "    .dataframe tbody tr th {\n",
       "        vertical-align: top;\n",
       "    }\n",
       "\n",
       "    .dataframe thead th {\n",
       "        text-align: right;\n",
       "    }\n",
       "</style>\n",
       "<table border=\"1\" class=\"dataframe\">\n",
       "  <thead>\n",
       "    <tr style=\"text-align: right;\">\n",
       "      <th></th>\n",
       "      <th>STATENAME</th>\n",
       "      <th>ST_CASE</th>\n",
       "      <th>PEDS</th>\n",
       "      <th>RUR_URBNAME</th>\n",
       "      <th>HARM_EVNAME</th>\n",
       "      <th>TYP_INTNAME</th>\n",
       "      <th>LGT_CONDNAME</th>\n",
       "      <th>WEATHER1NAME</th>\n",
       "      <th>WEATHER2NAME</th>\n",
       "      <th>WEATHERNAME</th>\n",
       "      <th>FATALS</th>\n",
       "      <th>DRUNK_DR</th>\n",
       "      <th>DAY_WEEKNAME</th>\n",
       "      <th>HOUR</th>\n",
       "      <th>MONTHNAME</th>\n",
       "    </tr>\n",
       "  </thead>\n",
       "  <tbody>\n",
       "    <tr>\n",
       "      <th>0</th>\n",
       "      <td>Alabama</td>\n",
       "      <td>10001</td>\n",
       "      <td>0</td>\n",
       "      <td>Urban</td>\n",
       "      <td>Motor Vehicle In-Transport</td>\n",
       "      <td>Not an Intersection</td>\n",
       "      <td>Daylight</td>\n",
       "      <td>Clear</td>\n",
       "      <td>No Additional Atmospheric Conditions</td>\n",
       "      <td>Clear</td>\n",
       "      <td>1</td>\n",
       "      <td>1</td>\n",
       "      <td>Thursday</td>\n",
       "      <td>12</td>\n",
       "      <td>February</td>\n",
       "    </tr>\n",
       "    <tr>\n",
       "      <th>1</th>\n",
       "      <td>Alabama</td>\n",
       "      <td>10002</td>\n",
       "      <td>0</td>\n",
       "      <td>Urban</td>\n",
       "      <td>Motor Vehicle In-Transport</td>\n",
       "      <td>Not an Intersection</td>\n",
       "      <td>Dark - Not Lighted</td>\n",
       "      <td>Rain</td>\n",
       "      <td>No Additional Atmospheric Conditions</td>\n",
       "      <td>Rain</td>\n",
       "      <td>1</td>\n",
       "      <td>0</td>\n",
       "      <td>Wednesday</td>\n",
       "      <td>18</td>\n",
       "      <td>January</td>\n",
       "    </tr>\n",
       "    <tr>\n",
       "      <th>2</th>\n",
       "      <td>Alabama</td>\n",
       "      <td>10003</td>\n",
       "      <td>0</td>\n",
       "      <td>Rural</td>\n",
       "      <td>Motor Vehicle In-Transport</td>\n",
       "      <td>Not an Intersection</td>\n",
       "      <td>Dark - Not Lighted</td>\n",
       "      <td>Cloudy</td>\n",
       "      <td>No Additional Atmospheric Conditions</td>\n",
       "      <td>Cloudy</td>\n",
       "      <td>1</td>\n",
       "      <td>0</td>\n",
       "      <td>Tuesday</td>\n",
       "      <td>19</td>\n",
       "      <td>January</td>\n",
       "    </tr>\n",
       "    <tr>\n",
       "      <th>3</th>\n",
       "      <td>Alabama</td>\n",
       "      <td>10004</td>\n",
       "      <td>1</td>\n",
       "      <td>Rural</td>\n",
       "      <td>Pedestrian</td>\n",
       "      <td>Not an Intersection</td>\n",
       "      <td>Dark - Not Lighted</td>\n",
       "      <td>Clear</td>\n",
       "      <td>No Additional Atmospheric Conditions</td>\n",
       "      <td>Clear</td>\n",
       "      <td>1</td>\n",
       "      <td>0</td>\n",
       "      <td>Tuesday</td>\n",
       "      <td>3</td>\n",
       "      <td>January</td>\n",
       "    </tr>\n",
       "    <tr>\n",
       "      <th>4</th>\n",
       "      <td>Alabama</td>\n",
       "      <td>10005</td>\n",
       "      <td>0</td>\n",
       "      <td>Urban</td>\n",
       "      <td>Rollover/Overturn</td>\n",
       "      <td>Not an Intersection</td>\n",
       "      <td>Dark - Not Lighted</td>\n",
       "      <td>Fog, Smog, Smoke</td>\n",
       "      <td>No Additional Atmospheric Conditions</td>\n",
       "      <td>Fog, Smog, Smoke</td>\n",
       "      <td>1</td>\n",
       "      <td>1</td>\n",
       "      <td>Friday</td>\n",
       "      <td>5</td>\n",
       "      <td>January</td>\n",
       "    </tr>\n",
       "  </tbody>\n",
       "</table>\n",
       "</div>"
      ],
      "text/plain": [
       "  STATENAME  ST_CASE  PEDS RUR_URBNAME                 HARM_EVNAME  \\\n",
       "0   Alabama    10001     0       Urban  Motor Vehicle In-Transport   \n",
       "1   Alabama    10002     0       Urban  Motor Vehicle In-Transport   \n",
       "2   Alabama    10003     0       Rural  Motor Vehicle In-Transport   \n",
       "3   Alabama    10004     1       Rural                  Pedestrian   \n",
       "4   Alabama    10005     0       Urban           Rollover/Overturn   \n",
       "\n",
       "           TYP_INTNAME        LGT_CONDNAME      WEATHER1NAME  \\\n",
       "0  Not an Intersection            Daylight             Clear   \n",
       "1  Not an Intersection  Dark - Not Lighted              Rain   \n",
       "2  Not an Intersection  Dark - Not Lighted            Cloudy   \n",
       "3  Not an Intersection  Dark - Not Lighted             Clear   \n",
       "4  Not an Intersection  Dark - Not Lighted  Fog, Smog, Smoke   \n",
       "\n",
       "                           WEATHER2NAME       WEATHERNAME  FATALS  DRUNK_DR  \\\n",
       "0  No Additional Atmospheric Conditions             Clear       1         1   \n",
       "1  No Additional Atmospheric Conditions              Rain       1         0   \n",
       "2  No Additional Atmospheric Conditions            Cloudy       1         0   \n",
       "3  No Additional Atmospheric Conditions             Clear       1         0   \n",
       "4  No Additional Atmospheric Conditions  Fog, Smog, Smoke       1         1   \n",
       "\n",
       "  DAY_WEEKNAME  HOUR MONTHNAME  \n",
       "0     Thursday    12  February  \n",
       "1    Wednesday    18   January  \n",
       "2      Tuesday    19   January  \n",
       "3      Tuesday     3   January  \n",
       "4       Friday     5   January  "
      ]
     },
     "execution_count": 120,
     "metadata": {},
     "output_type": "execute_result"
    }
   ],
   "source": [
    "df_accident.head()"
   ]
  },
  {
   "cell_type": "code",
   "execution_count": 121,
   "id": "a22c3bdd",
   "metadata": {
    "scrolled": true
   },
   "outputs": [
    {
     "data": {
      "text/plain": [
       "Index(['STATE', 'ST_CASE', 'VE_FORMS', 'VEH_NO', 'PER_NO', 'AGE', 'SEXNAME',\n",
       "       'PER_TYPNAME', 'DRINKINGNAME'],\n",
       "      dtype='object')"
      ]
     },
     "execution_count": 121,
     "metadata": {},
     "output_type": "execute_result"
    }
   ],
   "source": [
    "df_person.columns"
   ]
  },
  {
   "cell_type": "code",
   "execution_count": 122,
   "id": "0a8eb5d1",
   "metadata": {},
   "outputs": [
    {
     "data": {
      "text/plain": [
       "Index(['ST_CASE', 'VEH_NO', 'MFACTORNAME'], dtype='object')"
      ]
     },
     "execution_count": 122,
     "metadata": {},
     "output_type": "execute_result"
    }
   ],
   "source": [
    "df_factor.columns"
   ]
  },
  {
   "cell_type": "code",
   "execution_count": 123,
   "id": "119002e4",
   "metadata": {
    "scrolled": true
   },
   "outputs": [
    {
     "data": {
      "text/plain": [
       "Index(['ST_CASE', 'VEH_NO', 'MVISOBSCNAME'], dtype='object')"
      ]
     },
     "execution_count": 123,
     "metadata": {},
     "output_type": "execute_result"
    }
   ],
   "source": [
    "df_vision.columns"
   ]
  },
  {
   "cell_type": "code",
   "execution_count": 124,
   "id": "e1a1888e",
   "metadata": {},
   "outputs": [
    {
     "data": {
      "text/plain": [
       "Index(['ST_CASE', 'VEH_NO', 'PER_NO', 'DRUGRESNAME'], dtype='object')"
      ]
     },
     "execution_count": 124,
     "metadata": {},
     "output_type": "execute_result"
    }
   ],
   "source": [
    "df_drugs.columns"
   ]
  },
  {
   "cell_type": "code",
   "execution_count": 125,
   "id": "4fd9c599",
   "metadata": {},
   "outputs": [
    {
     "data": {
      "text/plain": [
       "Test Not Given                     48439\n",
       "Tested, No Drugs Found/Negative    14313\n",
       "Not Reported                        6414\n",
       "Other Drug                          6209\n",
       "Tetrahydrocannabinols (THC)         3296\n",
       "                                   ...  \n",
       "Cloxazolam                             1\n",
       "Hydroxypethidine                       1\n",
       "Methylone                              1\n",
       "ETHYLMORPHINE                          1\n",
       "Methenolone                            1\n",
       "Name: DRUGRESNAME, Length: 133, dtype: int64"
      ]
     },
     "execution_count": 125,
     "metadata": {},
     "output_type": "execute_result"
    }
   ],
   "source": [
    "### But drugs names data are too complex for these purposes; let's hold out on simplifing to drugs or no_drugs\n",
    "df_drugs['DRUGRESNAME'].value_counts()\n"
   ]
  },
  {
   "cell_type": "markdown",
   "id": "f52d3e79",
   "metadata": {},
   "source": [
    "<a id=\"id5\"></a>"
   ]
  },
  {
   "cell_type": "markdown",
   "id": "0af9a0f8",
   "metadata": {},
   "source": [
    "## Assessing Possible Joins"
   ]
  },
  {
   "cell_type": "markdown",
   "id": "2da41b34",
   "metadata": {},
   "source": [
    "The different dataframes were assessed to see in what useful ways they could be combined to better understand fatalities. However, the dataframes were established as separate tables to provide insights without duplicating state case unique IDs and thereby fatalities. These complications are illustrated below. \n"
   ]
  },
  {
   "cell_type": "code",
   "execution_count": 126,
   "id": "7c7c7101",
   "metadata": {},
   "outputs": [
    {
     "data": {
      "text/html": [
       "<div>\n",
       "<style scoped>\n",
       "    .dataframe tbody tr th:only-of-type {\n",
       "        vertical-align: middle;\n",
       "    }\n",
       "\n",
       "    .dataframe tbody tr th {\n",
       "        vertical-align: top;\n",
       "    }\n",
       "\n",
       "    .dataframe thead th {\n",
       "        text-align: right;\n",
       "    }\n",
       "</style>\n",
       "<table border=\"1\" class=\"dataframe\">\n",
       "  <thead>\n",
       "    <tr style=\"text-align: right;\">\n",
       "      <th></th>\n",
       "      <th>STATENAME</th>\n",
       "      <th>ST_CASE</th>\n",
       "      <th>PEDS</th>\n",
       "      <th>RUR_URBNAME</th>\n",
       "      <th>HARM_EVNAME</th>\n",
       "      <th>TYP_INTNAME</th>\n",
       "      <th>LGT_CONDNAME</th>\n",
       "      <th>WEATHER1NAME</th>\n",
       "      <th>WEATHER2NAME</th>\n",
       "      <th>WEATHERNAME</th>\n",
       "      <th>FATALS</th>\n",
       "      <th>DRUNK_DR</th>\n",
       "      <th>DAY_WEEKNAME</th>\n",
       "      <th>HOUR</th>\n",
       "      <th>MONTHNAME</th>\n",
       "      <th>VEH_NO</th>\n",
       "      <th>MFACTORNAME</th>\n",
       "    </tr>\n",
       "  </thead>\n",
       "  <tbody>\n",
       "    <tr>\n",
       "      <th>0</th>\n",
       "      <td>Alabama</td>\n",
       "      <td>10001</td>\n",
       "      <td>0</td>\n",
       "      <td>Urban</td>\n",
       "      <td>Motor Vehicle In-Transport</td>\n",
       "      <td>Not an Intersection</td>\n",
       "      <td>Daylight</td>\n",
       "      <td>Clear</td>\n",
       "      <td>No Additional Atmospheric Conditions</td>\n",
       "      <td>Clear</td>\n",
       "      <td>1</td>\n",
       "      <td>1</td>\n",
       "      <td>Thursday</td>\n",
       "      <td>12</td>\n",
       "      <td>February</td>\n",
       "      <td>1</td>\n",
       "      <td>None</td>\n",
       "    </tr>\n",
       "    <tr>\n",
       "      <th>1</th>\n",
       "      <td>Alabama</td>\n",
       "      <td>10001</td>\n",
       "      <td>0</td>\n",
       "      <td>Urban</td>\n",
       "      <td>Motor Vehicle In-Transport</td>\n",
       "      <td>Not an Intersection</td>\n",
       "      <td>Daylight</td>\n",
       "      <td>Clear</td>\n",
       "      <td>No Additional Atmospheric Conditions</td>\n",
       "      <td>Clear</td>\n",
       "      <td>1</td>\n",
       "      <td>1</td>\n",
       "      <td>Thursday</td>\n",
       "      <td>12</td>\n",
       "      <td>February</td>\n",
       "      <td>2</td>\n",
       "      <td>None</td>\n",
       "    </tr>\n",
       "    <tr>\n",
       "      <th>2</th>\n",
       "      <td>Alabama</td>\n",
       "      <td>10002</td>\n",
       "      <td>0</td>\n",
       "      <td>Urban</td>\n",
       "      <td>Motor Vehicle In-Transport</td>\n",
       "      <td>Not an Intersection</td>\n",
       "      <td>Dark - Not Lighted</td>\n",
       "      <td>Rain</td>\n",
       "      <td>No Additional Atmospheric Conditions</td>\n",
       "      <td>Rain</td>\n",
       "      <td>1</td>\n",
       "      <td>0</td>\n",
       "      <td>Wednesday</td>\n",
       "      <td>18</td>\n",
       "      <td>January</td>\n",
       "      <td>1</td>\n",
       "      <td>None</td>\n",
       "    </tr>\n",
       "    <tr>\n",
       "      <th>3</th>\n",
       "      <td>Alabama</td>\n",
       "      <td>10002</td>\n",
       "      <td>0</td>\n",
       "      <td>Urban</td>\n",
       "      <td>Motor Vehicle In-Transport</td>\n",
       "      <td>Not an Intersection</td>\n",
       "      <td>Dark - Not Lighted</td>\n",
       "      <td>Rain</td>\n",
       "      <td>No Additional Atmospheric Conditions</td>\n",
       "      <td>Rain</td>\n",
       "      <td>1</td>\n",
       "      <td>0</td>\n",
       "      <td>Wednesday</td>\n",
       "      <td>18</td>\n",
       "      <td>January</td>\n",
       "      <td>2</td>\n",
       "      <td>None</td>\n",
       "    </tr>\n",
       "    <tr>\n",
       "      <th>4</th>\n",
       "      <td>Alabama</td>\n",
       "      <td>10003</td>\n",
       "      <td>0</td>\n",
       "      <td>Rural</td>\n",
       "      <td>Motor Vehicle In-Transport</td>\n",
       "      <td>Not an Intersection</td>\n",
       "      <td>Dark - Not Lighted</td>\n",
       "      <td>Cloudy</td>\n",
       "      <td>No Additional Atmospheric Conditions</td>\n",
       "      <td>Cloudy</td>\n",
       "      <td>1</td>\n",
       "      <td>0</td>\n",
       "      <td>Tuesday</td>\n",
       "      <td>19</td>\n",
       "      <td>January</td>\n",
       "      <td>1</td>\n",
       "      <td>None</td>\n",
       "    </tr>\n",
       "  </tbody>\n",
       "</table>\n",
       "</div>"
      ],
      "text/plain": [
       "  STATENAME  ST_CASE  PEDS RUR_URBNAME                 HARM_EVNAME  \\\n",
       "0   Alabama    10001     0       Urban  Motor Vehicle In-Transport   \n",
       "1   Alabama    10001     0       Urban  Motor Vehicle In-Transport   \n",
       "2   Alabama    10002     0       Urban  Motor Vehicle In-Transport   \n",
       "3   Alabama    10002     0       Urban  Motor Vehicle In-Transport   \n",
       "4   Alabama    10003     0       Rural  Motor Vehicle In-Transport   \n",
       "\n",
       "           TYP_INTNAME        LGT_CONDNAME WEATHER1NAME  \\\n",
       "0  Not an Intersection            Daylight        Clear   \n",
       "1  Not an Intersection            Daylight        Clear   \n",
       "2  Not an Intersection  Dark - Not Lighted         Rain   \n",
       "3  Not an Intersection  Dark - Not Lighted         Rain   \n",
       "4  Not an Intersection  Dark - Not Lighted       Cloudy   \n",
       "\n",
       "                           WEATHER2NAME WEATHERNAME  FATALS  DRUNK_DR  \\\n",
       "0  No Additional Atmospheric Conditions       Clear       1         1   \n",
       "1  No Additional Atmospheric Conditions       Clear       1         1   \n",
       "2  No Additional Atmospheric Conditions        Rain       1         0   \n",
       "3  No Additional Atmospheric Conditions        Rain       1         0   \n",
       "4  No Additional Atmospheric Conditions      Cloudy       1         0   \n",
       "\n",
       "  DAY_WEEKNAME  HOUR MONTHNAME  VEH_NO MFACTORNAME  \n",
       "0     Thursday    12  February       1        None  \n",
       "1     Thursday    12  February       2        None  \n",
       "2    Wednesday    18   January       1        None  \n",
       "3    Wednesday    18   January       2        None  \n",
       "4      Tuesday    19   January       1        None  "
      ]
     },
     "execution_count": 126,
     "metadata": {},
     "output_type": "execute_result"
    }
   ],
   "source": [
    "### Adding factor data\n",
    "df_merged_accident = df_accident.merge(df_factor, on=['ST_CASE'], how = 'left')\n",
    "df_merged_accident.head(5)"
   ]
  },
  {
   "cell_type": "markdown",
   "id": "0650d1d4",
   "metadata": {},
   "source": [
    "In the cell above, the FATALS for ST_CASE 10001 has been doubled, introducing an error to the data."
   ]
  },
  {
   "cell_type": "code",
   "execution_count": 127,
   "id": "244131e4",
   "metadata": {
    "scrolled": true
   },
   "outputs": [
    {
     "data": {
      "text/plain": [
       "count    33487.000000\n",
       "mean         1.085645\n",
       "std          0.345290\n",
       "min          1.000000\n",
       "25%          1.000000\n",
       "50%          1.000000\n",
       "75%          1.000000\n",
       "max          8.000000\n",
       "Name: FATALS, dtype: float64"
      ]
     },
     "execution_count": 127,
     "metadata": {},
     "output_type": "execute_result"
    }
   ],
   "source": [
    "#### Considering the rare case of 8 fatalities below, we need to keep the fatalities from duplicating when joining.\n",
    "df_accident.FATALS.describe()"
   ]
  },
  {
   "cell_type": "code",
   "execution_count": 128,
   "id": "05f83aa9",
   "metadata": {},
   "outputs": [
    {
     "data": {
      "text/html": [
       "<div>\n",
       "<style scoped>\n",
       "    .dataframe tbody tr th:only-of-type {\n",
       "        vertical-align: middle;\n",
       "    }\n",
       "\n",
       "    .dataframe tbody tr th {\n",
       "        vertical-align: top;\n",
       "    }\n",
       "\n",
       "    .dataframe thead th {\n",
       "        text-align: right;\n",
       "    }\n",
       "</style>\n",
       "<table border=\"1\" class=\"dataframe\">\n",
       "  <thead>\n",
       "    <tr style=\"text-align: right;\">\n",
       "      <th></th>\n",
       "      <th>STATENAME</th>\n",
       "      <th>ST_CASE</th>\n",
       "      <th>PEDS</th>\n",
       "      <th>RUR_URBNAME</th>\n",
       "      <th>HARM_EVNAME</th>\n",
       "      <th>TYP_INTNAME</th>\n",
       "      <th>LGT_CONDNAME</th>\n",
       "      <th>WEATHER1NAME</th>\n",
       "      <th>WEATHER2NAME</th>\n",
       "      <th>WEATHERNAME</th>\n",
       "      <th>FATALS</th>\n",
       "      <th>DRUNK_DR</th>\n",
       "      <th>DAY_WEEKNAME</th>\n",
       "      <th>HOUR</th>\n",
       "      <th>MONTHNAME</th>\n",
       "      <th>VEH_NO</th>\n",
       "      <th>MFACTORNAME</th>\n",
       "      <th>MVISOBSCNAME</th>\n",
       "    </tr>\n",
       "  </thead>\n",
       "  <tbody>\n",
       "    <tr>\n",
       "      <th>0</th>\n",
       "      <td>Alabama</td>\n",
       "      <td>10001</td>\n",
       "      <td>0</td>\n",
       "      <td>Urban</td>\n",
       "      <td>Motor Vehicle In-Transport</td>\n",
       "      <td>Not an Intersection</td>\n",
       "      <td>Daylight</td>\n",
       "      <td>Clear</td>\n",
       "      <td>No Additional Atmospheric Conditions</td>\n",
       "      <td>Clear</td>\n",
       "      <td>1</td>\n",
       "      <td>1</td>\n",
       "      <td>Thursday</td>\n",
       "      <td>12</td>\n",
       "      <td>February</td>\n",
       "      <td>1</td>\n",
       "      <td>None</td>\n",
       "      <td>No Obstruction Noted</td>\n",
       "    </tr>\n",
       "    <tr>\n",
       "      <th>1</th>\n",
       "      <td>Alabama</td>\n",
       "      <td>10001</td>\n",
       "      <td>0</td>\n",
       "      <td>Urban</td>\n",
       "      <td>Motor Vehicle In-Transport</td>\n",
       "      <td>Not an Intersection</td>\n",
       "      <td>Daylight</td>\n",
       "      <td>Clear</td>\n",
       "      <td>No Additional Atmospheric Conditions</td>\n",
       "      <td>Clear</td>\n",
       "      <td>1</td>\n",
       "      <td>1</td>\n",
       "      <td>Thursday</td>\n",
       "      <td>12</td>\n",
       "      <td>February</td>\n",
       "      <td>2</td>\n",
       "      <td>None</td>\n",
       "      <td>No Obstruction Noted</td>\n",
       "    </tr>\n",
       "    <tr>\n",
       "      <th>2</th>\n",
       "      <td>Alabama</td>\n",
       "      <td>10002</td>\n",
       "      <td>0</td>\n",
       "      <td>Urban</td>\n",
       "      <td>Motor Vehicle In-Transport</td>\n",
       "      <td>Not an Intersection</td>\n",
       "      <td>Dark - Not Lighted</td>\n",
       "      <td>Rain</td>\n",
       "      <td>No Additional Atmospheric Conditions</td>\n",
       "      <td>Rain</td>\n",
       "      <td>1</td>\n",
       "      <td>0</td>\n",
       "      <td>Wednesday</td>\n",
       "      <td>18</td>\n",
       "      <td>January</td>\n",
       "      <td>1</td>\n",
       "      <td>None</td>\n",
       "      <td>No Obstruction Noted</td>\n",
       "    </tr>\n",
       "    <tr>\n",
       "      <th>3</th>\n",
       "      <td>Alabama</td>\n",
       "      <td>10002</td>\n",
       "      <td>0</td>\n",
       "      <td>Urban</td>\n",
       "      <td>Motor Vehicle In-Transport</td>\n",
       "      <td>Not an Intersection</td>\n",
       "      <td>Dark - Not Lighted</td>\n",
       "      <td>Rain</td>\n",
       "      <td>No Additional Atmospheric Conditions</td>\n",
       "      <td>Rain</td>\n",
       "      <td>1</td>\n",
       "      <td>0</td>\n",
       "      <td>Wednesday</td>\n",
       "      <td>18</td>\n",
       "      <td>January</td>\n",
       "      <td>2</td>\n",
       "      <td>None</td>\n",
       "      <td>No Obstruction Noted</td>\n",
       "    </tr>\n",
       "    <tr>\n",
       "      <th>4</th>\n",
       "      <td>Alabama</td>\n",
       "      <td>10003</td>\n",
       "      <td>0</td>\n",
       "      <td>Rural</td>\n",
       "      <td>Motor Vehicle In-Transport</td>\n",
       "      <td>Not an Intersection</td>\n",
       "      <td>Dark - Not Lighted</td>\n",
       "      <td>Cloudy</td>\n",
       "      <td>No Additional Atmospheric Conditions</td>\n",
       "      <td>Cloudy</td>\n",
       "      <td>1</td>\n",
       "      <td>0</td>\n",
       "      <td>Tuesday</td>\n",
       "      <td>19</td>\n",
       "      <td>January</td>\n",
       "      <td>1</td>\n",
       "      <td>None</td>\n",
       "      <td>No Obstruction Noted</td>\n",
       "    </tr>\n",
       "    <tr>\n",
       "      <th>5</th>\n",
       "      <td>Alabama</td>\n",
       "      <td>10003</td>\n",
       "      <td>0</td>\n",
       "      <td>Rural</td>\n",
       "      <td>Motor Vehicle In-Transport</td>\n",
       "      <td>Not an Intersection</td>\n",
       "      <td>Dark - Not Lighted</td>\n",
       "      <td>Cloudy</td>\n",
       "      <td>No Additional Atmospheric Conditions</td>\n",
       "      <td>Cloudy</td>\n",
       "      <td>1</td>\n",
       "      <td>0</td>\n",
       "      <td>Tuesday</td>\n",
       "      <td>19</td>\n",
       "      <td>January</td>\n",
       "      <td>2</td>\n",
       "      <td>None</td>\n",
       "      <td>No Obstruction Noted</td>\n",
       "    </tr>\n",
       "    <tr>\n",
       "      <th>6</th>\n",
       "      <td>Alabama</td>\n",
       "      <td>10003</td>\n",
       "      <td>0</td>\n",
       "      <td>Rural</td>\n",
       "      <td>Motor Vehicle In-Transport</td>\n",
       "      <td>Not an Intersection</td>\n",
       "      <td>Dark - Not Lighted</td>\n",
       "      <td>Cloudy</td>\n",
       "      <td>No Additional Atmospheric Conditions</td>\n",
       "      <td>Cloudy</td>\n",
       "      <td>1</td>\n",
       "      <td>0</td>\n",
       "      <td>Tuesday</td>\n",
       "      <td>19</td>\n",
       "      <td>January</td>\n",
       "      <td>3</td>\n",
       "      <td>None</td>\n",
       "      <td>No Obstruction Noted</td>\n",
       "    </tr>\n",
       "    <tr>\n",
       "      <th>7</th>\n",
       "      <td>Alabama</td>\n",
       "      <td>10004</td>\n",
       "      <td>1</td>\n",
       "      <td>Rural</td>\n",
       "      <td>Pedestrian</td>\n",
       "      <td>Not an Intersection</td>\n",
       "      <td>Dark - Not Lighted</td>\n",
       "      <td>Clear</td>\n",
       "      <td>No Additional Atmospheric Conditions</td>\n",
       "      <td>Clear</td>\n",
       "      <td>1</td>\n",
       "      <td>0</td>\n",
       "      <td>Tuesday</td>\n",
       "      <td>3</td>\n",
       "      <td>January</td>\n",
       "      <td>1</td>\n",
       "      <td>None</td>\n",
       "      <td>No Obstruction Noted</td>\n",
       "    </tr>\n",
       "    <tr>\n",
       "      <th>8</th>\n",
       "      <td>Alabama</td>\n",
       "      <td>10005</td>\n",
       "      <td>0</td>\n",
       "      <td>Urban</td>\n",
       "      <td>Rollover/Overturn</td>\n",
       "      <td>Not an Intersection</td>\n",
       "      <td>Dark - Not Lighted</td>\n",
       "      <td>Fog, Smog, Smoke</td>\n",
       "      <td>No Additional Atmospheric Conditions</td>\n",
       "      <td>Fog, Smog, Smoke</td>\n",
       "      <td>1</td>\n",
       "      <td>1</td>\n",
       "      <td>Friday</td>\n",
       "      <td>5</td>\n",
       "      <td>January</td>\n",
       "      <td>1</td>\n",
       "      <td>None</td>\n",
       "      <td>No Obstruction Noted</td>\n",
       "    </tr>\n",
       "    <tr>\n",
       "      <th>9</th>\n",
       "      <td>Alabama</td>\n",
       "      <td>10006</td>\n",
       "      <td>0</td>\n",
       "      <td>Rural</td>\n",
       "      <td>Motor Vehicle In-Transport</td>\n",
       "      <td>Not an Intersection</td>\n",
       "      <td>Daylight</td>\n",
       "      <td>Clear</td>\n",
       "      <td>No Additional Atmospheric Conditions</td>\n",
       "      <td>Clear</td>\n",
       "      <td>1</td>\n",
       "      <td>0</td>\n",
       "      <td>Monday</td>\n",
       "      <td>12</td>\n",
       "      <td>January</td>\n",
       "      <td>1</td>\n",
       "      <td>None</td>\n",
       "      <td>No Obstruction Noted</td>\n",
       "    </tr>\n",
       "  </tbody>\n",
       "</table>\n",
       "</div>"
      ],
      "text/plain": [
       "  STATENAME  ST_CASE  PEDS RUR_URBNAME                 HARM_EVNAME  \\\n",
       "0   Alabama    10001     0       Urban  Motor Vehicle In-Transport   \n",
       "1   Alabama    10001     0       Urban  Motor Vehicle In-Transport   \n",
       "2   Alabama    10002     0       Urban  Motor Vehicle In-Transport   \n",
       "3   Alabama    10002     0       Urban  Motor Vehicle In-Transport   \n",
       "4   Alabama    10003     0       Rural  Motor Vehicle In-Transport   \n",
       "5   Alabama    10003     0       Rural  Motor Vehicle In-Transport   \n",
       "6   Alabama    10003     0       Rural  Motor Vehicle In-Transport   \n",
       "7   Alabama    10004     1       Rural                  Pedestrian   \n",
       "8   Alabama    10005     0       Urban           Rollover/Overturn   \n",
       "9   Alabama    10006     0       Rural  Motor Vehicle In-Transport   \n",
       "\n",
       "           TYP_INTNAME        LGT_CONDNAME      WEATHER1NAME  \\\n",
       "0  Not an Intersection            Daylight             Clear   \n",
       "1  Not an Intersection            Daylight             Clear   \n",
       "2  Not an Intersection  Dark - Not Lighted              Rain   \n",
       "3  Not an Intersection  Dark - Not Lighted              Rain   \n",
       "4  Not an Intersection  Dark - Not Lighted            Cloudy   \n",
       "5  Not an Intersection  Dark - Not Lighted            Cloudy   \n",
       "6  Not an Intersection  Dark - Not Lighted            Cloudy   \n",
       "7  Not an Intersection  Dark - Not Lighted             Clear   \n",
       "8  Not an Intersection  Dark - Not Lighted  Fog, Smog, Smoke   \n",
       "9  Not an Intersection            Daylight             Clear   \n",
       "\n",
       "                           WEATHER2NAME       WEATHERNAME  FATALS  DRUNK_DR  \\\n",
       "0  No Additional Atmospheric Conditions             Clear       1         1   \n",
       "1  No Additional Atmospheric Conditions             Clear       1         1   \n",
       "2  No Additional Atmospheric Conditions              Rain       1         0   \n",
       "3  No Additional Atmospheric Conditions              Rain       1         0   \n",
       "4  No Additional Atmospheric Conditions            Cloudy       1         0   \n",
       "5  No Additional Atmospheric Conditions            Cloudy       1         0   \n",
       "6  No Additional Atmospheric Conditions            Cloudy       1         0   \n",
       "7  No Additional Atmospheric Conditions             Clear       1         0   \n",
       "8  No Additional Atmospheric Conditions  Fog, Smog, Smoke       1         1   \n",
       "9  No Additional Atmospheric Conditions             Clear       1         0   \n",
       "\n",
       "  DAY_WEEKNAME  HOUR MONTHNAME  VEH_NO MFACTORNAME          MVISOBSCNAME  \n",
       "0     Thursday    12  February       1        None  No Obstruction Noted  \n",
       "1     Thursday    12  February       2        None  No Obstruction Noted  \n",
       "2    Wednesday    18   January       1        None  No Obstruction Noted  \n",
       "3    Wednesday    18   January       2        None  No Obstruction Noted  \n",
       "4      Tuesday    19   January       1        None  No Obstruction Noted  \n",
       "5      Tuesday    19   January       2        None  No Obstruction Noted  \n",
       "6      Tuesday    19   January       3        None  No Obstruction Noted  \n",
       "7      Tuesday     3   January       1        None  No Obstruction Noted  \n",
       "8       Friday     5   January       1        None  No Obstruction Noted  \n",
       "9       Monday    12   January       1        None  No Obstruction Noted  "
      ]
     },
     "execution_count": 128,
     "metadata": {},
     "output_type": "execute_result"
    }
   ],
   "source": [
    "### Adding vision\n",
    "df_merged_accident = df_merged_accident.merge(df_vision, on=['ST_CASE', 'VEH_NO',], how = 'left')\n",
    "df_merged_accident.head(10)\n"
   ]
  },
  {
   "cell_type": "code",
   "execution_count": 129,
   "id": "b6f06a6e",
   "metadata": {},
   "outputs": [
    {
     "data": {
      "text/plain": [
       "count    51735.000000\n",
       "mean        13.447492\n",
       "std          9.013299\n",
       "min          0.000000\n",
       "25%          8.000000\n",
       "50%         14.000000\n",
       "75%         18.000000\n",
       "max         99.000000\n",
       "Name: HOUR, dtype: float64"
      ]
     },
     "execution_count": 129,
     "metadata": {},
     "output_type": "execute_result"
    }
   ],
   "source": [
    "df_merged_accident.HOUR.describe().T"
   ]
  },
  {
   "cell_type": "code",
   "execution_count": 130,
   "id": "60ecfff9",
   "metadata": {},
   "outputs": [
    {
     "data": {
      "text/html": [
       "<div>\n",
       "<style scoped>\n",
       "    .dataframe tbody tr th:only-of-type {\n",
       "        vertical-align: middle;\n",
       "    }\n",
       "\n",
       "    .dataframe tbody tr th {\n",
       "        vertical-align: top;\n",
       "    }\n",
       "\n",
       "    .dataframe thead th {\n",
       "        text-align: right;\n",
       "    }\n",
       "</style>\n",
       "<table border=\"1\" class=\"dataframe\">\n",
       "  <thead>\n",
       "    <tr style=\"text-align: right;\">\n",
       "      <th></th>\n",
       "      <th>STATENAME</th>\n",
       "      <th>ST_CASE</th>\n",
       "      <th>PEDS</th>\n",
       "      <th>RUR_URBNAME</th>\n",
       "      <th>HARM_EVNAME</th>\n",
       "      <th>TYP_INTNAME</th>\n",
       "      <th>LGT_CONDNAME</th>\n",
       "      <th>WEATHER1NAME</th>\n",
       "      <th>WEATHER2NAME</th>\n",
       "      <th>WEATHERNAME</th>\n",
       "      <th>...</th>\n",
       "      <th>VEH_NO</th>\n",
       "      <th>MFACTORNAME</th>\n",
       "      <th>MVISOBSCNAME</th>\n",
       "      <th>STATE</th>\n",
       "      <th>VE_FORMS</th>\n",
       "      <th>PER_NO</th>\n",
       "      <th>AGE</th>\n",
       "      <th>SEXNAME</th>\n",
       "      <th>PER_TYPNAME</th>\n",
       "      <th>DRINKINGNAME</th>\n",
       "    </tr>\n",
       "  </thead>\n",
       "  <tbody>\n",
       "    <tr>\n",
       "      <th>0</th>\n",
       "      <td>Alabama</td>\n",
       "      <td>10001</td>\n",
       "      <td>0</td>\n",
       "      <td>Urban</td>\n",
       "      <td>Motor Vehicle In-Transport</td>\n",
       "      <td>Not an Intersection</td>\n",
       "      <td>Daylight</td>\n",
       "      <td>Clear</td>\n",
       "      <td>No Additional Atmospheric Conditions</td>\n",
       "      <td>Clear</td>\n",
       "      <td>...</td>\n",
       "      <td>1</td>\n",
       "      <td>None</td>\n",
       "      <td>No Obstruction Noted</td>\n",
       "      <td>1.0</td>\n",
       "      <td>2.0</td>\n",
       "      <td>1.0</td>\n",
       "      <td>34.0</td>\n",
       "      <td>Female</td>\n",
       "      <td>Driver of a Motor Vehicle In-Transport</td>\n",
       "      <td>No (Alcohol Not Involved)</td>\n",
       "    </tr>\n",
       "    <tr>\n",
       "      <th>1</th>\n",
       "      <td>Alabama</td>\n",
       "      <td>10001</td>\n",
       "      <td>0</td>\n",
       "      <td>Urban</td>\n",
       "      <td>Motor Vehicle In-Transport</td>\n",
       "      <td>Not an Intersection</td>\n",
       "      <td>Daylight</td>\n",
       "      <td>Clear</td>\n",
       "      <td>No Additional Atmospheric Conditions</td>\n",
       "      <td>Clear</td>\n",
       "      <td>...</td>\n",
       "      <td>1</td>\n",
       "      <td>None</td>\n",
       "      <td>No Obstruction Noted</td>\n",
       "      <td>1.0</td>\n",
       "      <td>2.0</td>\n",
       "      <td>2.0</td>\n",
       "      <td>53.0</td>\n",
       "      <td>Male</td>\n",
       "      <td>Passenger of a Motor Vehicle In-Transport</td>\n",
       "      <td>Not Reported</td>\n",
       "    </tr>\n",
       "    <tr>\n",
       "      <th>2</th>\n",
       "      <td>Alabama</td>\n",
       "      <td>10001</td>\n",
       "      <td>0</td>\n",
       "      <td>Urban</td>\n",
       "      <td>Motor Vehicle In-Transport</td>\n",
       "      <td>Not an Intersection</td>\n",
       "      <td>Daylight</td>\n",
       "      <td>Clear</td>\n",
       "      <td>No Additional Atmospheric Conditions</td>\n",
       "      <td>Clear</td>\n",
       "      <td>...</td>\n",
       "      <td>2</td>\n",
       "      <td>None</td>\n",
       "      <td>No Obstruction Noted</td>\n",
       "      <td>1.0</td>\n",
       "      <td>2.0</td>\n",
       "      <td>1.0</td>\n",
       "      <td>59.0</td>\n",
       "      <td>Male</td>\n",
       "      <td>Driver of a Motor Vehicle In-Transport</td>\n",
       "      <td>Yes (Alcohol Involved)</td>\n",
       "    </tr>\n",
       "    <tr>\n",
       "      <th>3</th>\n",
       "      <td>Alabama</td>\n",
       "      <td>10002</td>\n",
       "      <td>0</td>\n",
       "      <td>Urban</td>\n",
       "      <td>Motor Vehicle In-Transport</td>\n",
       "      <td>Not an Intersection</td>\n",
       "      <td>Dark - Not Lighted</td>\n",
       "      <td>Rain</td>\n",
       "      <td>No Additional Atmospheric Conditions</td>\n",
       "      <td>Rain</td>\n",
       "      <td>...</td>\n",
       "      <td>1</td>\n",
       "      <td>None</td>\n",
       "      <td>No Obstruction Noted</td>\n",
       "      <td>1.0</td>\n",
       "      <td>2.0</td>\n",
       "      <td>1.0</td>\n",
       "      <td>42.0</td>\n",
       "      <td>Female</td>\n",
       "      <td>Driver of a Motor Vehicle In-Transport</td>\n",
       "      <td>Reported as Unknown</td>\n",
       "    </tr>\n",
       "    <tr>\n",
       "      <th>4</th>\n",
       "      <td>Alabama</td>\n",
       "      <td>10002</td>\n",
       "      <td>0</td>\n",
       "      <td>Urban</td>\n",
       "      <td>Motor Vehicle In-Transport</td>\n",
       "      <td>Not an Intersection</td>\n",
       "      <td>Dark - Not Lighted</td>\n",
       "      <td>Rain</td>\n",
       "      <td>No Additional Atmospheric Conditions</td>\n",
       "      <td>Rain</td>\n",
       "      <td>...</td>\n",
       "      <td>2</td>\n",
       "      <td>None</td>\n",
       "      <td>No Obstruction Noted</td>\n",
       "      <td>1.0</td>\n",
       "      <td>2.0</td>\n",
       "      <td>1.0</td>\n",
       "      <td>54.0</td>\n",
       "      <td>Female</td>\n",
       "      <td>Driver of a Motor Vehicle In-Transport</td>\n",
       "      <td>No (Alcohol Not Involved)</td>\n",
       "    </tr>\n",
       "  </tbody>\n",
       "</table>\n",
       "<p>5 rows × 25 columns</p>\n",
       "</div>"
      ],
      "text/plain": [
       "  STATENAME  ST_CASE  PEDS RUR_URBNAME                 HARM_EVNAME  \\\n",
       "0   Alabama    10001     0       Urban  Motor Vehicle In-Transport   \n",
       "1   Alabama    10001     0       Urban  Motor Vehicle In-Transport   \n",
       "2   Alabama    10001     0       Urban  Motor Vehicle In-Transport   \n",
       "3   Alabama    10002     0       Urban  Motor Vehicle In-Transport   \n",
       "4   Alabama    10002     0       Urban  Motor Vehicle In-Transport   \n",
       "\n",
       "           TYP_INTNAME        LGT_CONDNAME WEATHER1NAME  \\\n",
       "0  Not an Intersection            Daylight        Clear   \n",
       "1  Not an Intersection            Daylight        Clear   \n",
       "2  Not an Intersection            Daylight        Clear   \n",
       "3  Not an Intersection  Dark - Not Lighted         Rain   \n",
       "4  Not an Intersection  Dark - Not Lighted         Rain   \n",
       "\n",
       "                           WEATHER2NAME WEATHERNAME  ...  VEH_NO  MFACTORNAME  \\\n",
       "0  No Additional Atmospheric Conditions       Clear  ...       1         None   \n",
       "1  No Additional Atmospheric Conditions       Clear  ...       1         None   \n",
       "2  No Additional Atmospheric Conditions       Clear  ...       2         None   \n",
       "3  No Additional Atmospheric Conditions        Rain  ...       1         None   \n",
       "4  No Additional Atmospheric Conditions        Rain  ...       2         None   \n",
       "\n",
       "           MVISOBSCNAME  STATE VE_FORMS  PER_NO   AGE SEXNAME  \\\n",
       "0  No Obstruction Noted    1.0      2.0     1.0  34.0  Female   \n",
       "1  No Obstruction Noted    1.0      2.0     2.0  53.0    Male   \n",
       "2  No Obstruction Noted    1.0      2.0     1.0  59.0    Male   \n",
       "3  No Obstruction Noted    1.0      2.0     1.0  42.0  Female   \n",
       "4  No Obstruction Noted    1.0      2.0     1.0  54.0  Female   \n",
       "\n",
       "                                 PER_TYPNAME               DRINKINGNAME  \n",
       "0     Driver of a Motor Vehicle In-Transport  No (Alcohol Not Involved)  \n",
       "1  Passenger of a Motor Vehicle In-Transport               Not Reported  \n",
       "2     Driver of a Motor Vehicle In-Transport     Yes (Alcohol Involved)  \n",
       "3     Driver of a Motor Vehicle In-Transport        Reported as Unknown  \n",
       "4     Driver of a Motor Vehicle In-Transport  No (Alcohol Not Involved)  \n",
       "\n",
       "[5 rows x 25 columns]"
      ]
     },
     "execution_count": 130,
     "metadata": {},
     "output_type": "execute_result"
    }
   ],
   "source": [
    "### Adding df_merged_person to df_merged_accident to assess shape\n",
    "df_merged_accident = df_merged_accident.merge(df_person, on=['ST_CASE', 'VEH_NO'], how = 'left')\n",
    "df_merged_accident.head(5)\n"
   ]
  },
  {
   "cell_type": "markdown",
   "id": "f7000912",
   "metadata": {},
   "source": [
    "Because of these complications, the decision was made to work with the complete accident table until at least after the EDA as it does contain basic information number of persons in the vehicles, drunk driving, number of pedestrians, weather, day, and rural/urban setting for the accident itself."
   ]
  },
  {
   "cell_type": "markdown",
   "id": "aab79ca9",
   "metadata": {},
   "source": [
    "<a id=\"id6\"></a>"
   ]
  },
  {
   "cell_type": "markdown",
   "id": "68db823d",
   "metadata": {},
   "source": [
    "## Checking Columns and Odd Cases"
   ]
  },
  {
   "cell_type": "code",
   "execution_count": 131,
   "id": "e59e7a25",
   "metadata": {
    "scrolled": false
   },
   "outputs": [],
   "source": [
    "### changing some int64 into categories\n",
    "table_accident['STATE'] = table_accident['STATE'].astype('category')\n",
    "table_accident['ST_CASE'] = table_accident['ST_CASE'].astype('category')\n",
    "table_accident['STATENAME'] = table_accident['STATENAME'].astype('category')\n",
    "table_accident['DRUNK_DR'] = table_accident['DRUNK_DR'].astype('category')\n",
    "table_accident['RUR_URBNAME'] = table_accident['RUR_URBNAME'].astype('category')\n",
    "total = table_accident"
   ]
  },
  {
   "cell_type": "code",
   "execution_count": 132,
   "id": "fafd6570",
   "metadata": {
    "scrolled": true
   },
   "outputs": [
    {
     "data": {
      "text/plain": [
       "California              3427\n",
       "Texas                   3296\n",
       "Florida                 2952\n",
       "Georgia                 1378\n",
       "North Carolina          1358\n",
       "Tennessee               1041\n",
       "Ohio                    1039\n",
       "Pennsylvania             990\n",
       "Illinois                 938\n",
       "South Carolina           927\n",
       "Arizona                  908\n",
       "Michigan                 903\n",
       "New York                 879\n",
       "Alabama                  856\n",
       "Missouri                 819\n",
       "Virginia                 774\n",
       "Indiana                  752\n",
       "Louisiana                681\n",
       "Kentucky                 667\n",
       "Oklahoma                 584\n",
       "Mississippi              580\n",
       "Colorado                 545\n",
       "Wisconsin                527\n",
       "New Jersey               524\n",
       "Washington               513\n",
       "Maryland                 496\n",
       "Arkansas                 473\n",
       "Oregon                   455\n",
       "New Mexico               369\n",
       "Kansas                   361\n",
       "Minnesota                333\n",
       "Massachusetts            323\n",
       "Iowa                     313\n",
       "Nevada                   285\n",
       "West Virginia            247\n",
       "Connecticut              233\n",
       "Utah                     225\n",
       "Nebraska                 212\n",
       "Idaho                    201\n",
       "Montana                  166\n",
       "Maine                    143\n",
       "Delaware                 122\n",
       "Wyoming                  120\n",
       "Hawaii                   102\n",
       "North Dakota              91\n",
       "New Hampshire             90\n",
       "South Dakota              88\n",
       "Alaska                    62\n",
       "Rhode Island              53\n",
       "Vermont                   44\n",
       "District of Columbia      22\n",
       "Name: STATENAME, dtype: int64"
      ]
     },
     "execution_count": 132,
     "metadata": {},
     "output_type": "execute_result"
    }
   ],
   "source": [
    "total.STATENAME.value_counts()"
   ]
  },
  {
   "cell_type": "markdown",
   "id": "a1e57343",
   "metadata": {},
   "source": [
    "It seems there was a crash in PA where 59 vehicles were involved and there were 2 fatalities; blowing snow with a jackknifed truck. This crash is an outlier, and although it is important for multicar crashes, it will really throw off the axes in any EDA plots. Will also drop all rows where total vehicles is 1."
   ]
  },
  {
   "cell_type": "code",
   "execution_count": 159,
   "id": "9f1f0b50",
   "metadata": {
    "scrolled": true
   },
   "outputs": [
    {
     "name": "stdout",
     "output_type": "stream",
     "text": [
      "     STATE STATENAME ST_CASE  VE_TOTAL  VE_FORMS  PVH_INVL  PEDS  PERSONS  \\\n",
      "5850     8  Colorado   80125        28        28         0     0       31   \n",
      "\n",
      "      PERMVIT  PERNOTMVIT  ...  HOSP_MN HOSP_MNNAME  CF1  \\\n",
      "5850       31           0  ...       34          34   19   \n",
      "\n",
      "                                 CF1NAME  CF2                    CF2NAME  CF3  \\\n",
      "5850  Recent/Previous Crash scene Nearby   27  Backup Due to Prior Crash    0   \n",
      "\n",
      "     CF3NAME  FATALS  DRUNK_DR  \n",
      "5850    None       4         0  \n",
      "\n",
      "[1 rows x 91 columns]\n"
     ]
    }
   ],
   "source": [
    "rare_crash = total[total.VE_TOTAL == 28]\n",
    "print(rare_crash)"
   ]
  },
  {
   "cell_type": "code",
   "execution_count": 160,
   "id": "1cb29312",
   "metadata": {},
   "outputs": [],
   "source": [
    "total = total.drop([5850])"
   ]
  },
  {
   "cell_type": "code",
   "execution_count": 161,
   "id": "9eadce88",
   "metadata": {},
   "outputs": [
    {
     "data": {
      "text/plain": [
       "1     18332\n",
       "2     12287\n",
       "3      2072\n",
       "4       484\n",
       "5       184\n",
       "6        61\n",
       "7        35\n",
       "8        14\n",
       "9         5\n",
       "12        4\n",
       "11        2\n",
       "16        2\n",
       "Name: VE_TOTAL, dtype: int64"
      ]
     },
     "execution_count": 161,
     "metadata": {},
     "output_type": "execute_result"
    }
   ],
   "source": [
    "total.VE_TOTAL.value_counts()\n"
   ]
  },
  {
   "cell_type": "code",
   "execution_count": 162,
   "id": "05ffd5e0",
   "metadata": {},
   "outputs": [
    {
     "data": {
      "text/html": [
       "<div>\n",
       "<style scoped>\n",
       "    .dataframe tbody tr th:only-of-type {\n",
       "        vertical-align: middle;\n",
       "    }\n",
       "\n",
       "    .dataframe tbody tr th {\n",
       "        vertical-align: top;\n",
       "    }\n",
       "\n",
       "    .dataframe thead th {\n",
       "        text-align: right;\n",
       "    }\n",
       "</style>\n",
       "<table border=\"1\" class=\"dataframe\">\n",
       "  <thead>\n",
       "    <tr style=\"text-align: right;\">\n",
       "      <th></th>\n",
       "      <th>STATE</th>\n",
       "      <th>STATENAME</th>\n",
       "      <th>ST_CASE</th>\n",
       "      <th>VE_TOTAL</th>\n",
       "      <th>VE_FORMS</th>\n",
       "      <th>PVH_INVL</th>\n",
       "      <th>PEDS</th>\n",
       "      <th>PERSONS</th>\n",
       "      <th>PERMVIT</th>\n",
       "      <th>PERNOTMVIT</th>\n",
       "      <th>...</th>\n",
       "      <th>HOSP_MN</th>\n",
       "      <th>HOSP_MNNAME</th>\n",
       "      <th>CF1</th>\n",
       "      <th>CF1NAME</th>\n",
       "      <th>CF2</th>\n",
       "      <th>CF2NAME</th>\n",
       "      <th>CF3</th>\n",
       "      <th>CF3NAME</th>\n",
       "      <th>FATALS</th>\n",
       "      <th>DRUNK_DR</th>\n",
       "    </tr>\n",
       "  </thead>\n",
       "  <tbody>\n",
       "    <tr>\n",
       "      <th>17431</th>\n",
       "      <td>28</td>\n",
       "      <td>Mississippi</td>\n",
       "      <td>280246</td>\n",
       "      <td>2</td>\n",
       "      <td>2</td>\n",
       "      <td>0</td>\n",
       "      <td>0</td>\n",
       "      <td>10</td>\n",
       "      <td>10</td>\n",
       "      <td>0</td>\n",
       "      <td>...</td>\n",
       "      <td>99</td>\n",
       "      <td>Unknown EMS Hospital Arrival Time</td>\n",
       "      <td>0</td>\n",
       "      <td>None</td>\n",
       "      <td>0</td>\n",
       "      <td>None</td>\n",
       "      <td>0</td>\n",
       "      <td>None</td>\n",
       "      <td>8</td>\n",
       "      <td>0</td>\n",
       "    </tr>\n",
       "  </tbody>\n",
       "</table>\n",
       "<p>1 rows × 91 columns</p>\n",
       "</div>"
      ],
      "text/plain": [
       "      STATE    STATENAME ST_CASE  VE_TOTAL  VE_FORMS  PVH_INVL  PEDS  PERSONS  \\\n",
       "17431    28  Mississippi  280246         2         2         0     0       10   \n",
       "\n",
       "       PERMVIT  PERNOTMVIT  ...  HOSP_MN                        HOSP_MNNAME  \\\n",
       "17431       10           0  ...       99  Unknown EMS Hospital Arrival Time   \n",
       "\n",
       "       CF1 CF1NAME  CF2  CF2NAME  CF3 CF3NAME  FATALS  DRUNK_DR  \n",
       "17431    0    None    0     None    0    None       8         0  \n",
       "\n",
       "[1 rows x 91 columns]"
      ]
     },
     "execution_count": 162,
     "metadata": {},
     "output_type": "execute_result"
    }
   ],
   "source": [
    "### State Case 280246 is an illustrative example of the data. Two vehicle accident where vehicle 1 had 9 people and \n",
    "### vehicle 2 had 1. Each row is listed as 8 fatalities, because for THAT ST_CASE number, there were 8. We acutally \n",
    "### don't know which of the 9 people in the first vehicle died.\n",
    "\n",
    "rare_deaths = total[total.FATALS == 8]\n",
    "rare_deaths.head()"
   ]
  },
  {
   "cell_type": "code",
   "execution_count": 163,
   "id": "0f380077",
   "metadata": {},
   "outputs": [
    {
     "data": {
      "text/plain": [
       "STATENAME  FATALS\n",
       "Alabama    1         799\n",
       "           2          44\n",
       "           3          10\n",
       "           4           2\n",
       "           5           1\n",
       "                    ... \n",
       "Wisconsin  3           2\n",
       "           4           1\n",
       "Wyoming    1          97\n",
       "           2          19\n",
       "           3           4\n",
       "Name: FATALS, Length: 197, dtype: int64"
      ]
     },
     "execution_count": 163,
     "metadata": {},
     "output_type": "execute_result"
    }
   ],
   "source": [
    "total.groupby(\"STATENAME\").FATALS.value_counts(sort=True)"
   ]
  },
  {
   "cell_type": "markdown",
   "id": "cc28f38a",
   "metadata": {},
   "source": [
    "In the EDA, we can explore patterns in the rural and urban datasets themselves."
   ]
  },
  {
   "cell_type": "markdown",
   "id": "05e4a2ad",
   "metadata": {},
   "source": [
    "<a id=\"id7\"></a>"
   ]
  },
  {
   "cell_type": "markdown",
   "id": "92fb66c1",
   "metadata": {},
   "source": [
    "## Trimming Dataframe to Helpful Columns"
   ]
  },
  {
   "cell_type": "code",
   "execution_count": 164,
   "id": "218c719d",
   "metadata": {},
   "outputs": [
    {
     "data": {
      "text/html": [
       "<div>\n",
       "<style scoped>\n",
       "    .dataframe tbody tr th:only-of-type {\n",
       "        vertical-align: middle;\n",
       "    }\n",
       "\n",
       "    .dataframe tbody tr th {\n",
       "        vertical-align: top;\n",
       "    }\n",
       "\n",
       "    .dataframe thead th {\n",
       "        text-align: right;\n",
       "    }\n",
       "</style>\n",
       "<table border=\"1\" class=\"dataframe\">\n",
       "  <thead>\n",
       "    <tr style=\"text-align: right;\">\n",
       "      <th></th>\n",
       "      <th>DAY_WEEK</th>\n",
       "      <th>DAY_WEEKNAME</th>\n",
       "      <th>HOUR</th>\n",
       "      <th>HOURNAME</th>\n",
       "      <th>MINUTE</th>\n",
       "    </tr>\n",
       "  </thead>\n",
       "  <tbody>\n",
       "    <tr>\n",
       "      <th>0</th>\n",
       "      <td>5</td>\n",
       "      <td>Thursday</td>\n",
       "      <td>12</td>\n",
       "      <td>12:00pm-12:59pm</td>\n",
       "      <td>54</td>\n",
       "    </tr>\n",
       "    <tr>\n",
       "      <th>1</th>\n",
       "      <td>4</td>\n",
       "      <td>Wednesday</td>\n",
       "      <td>18</td>\n",
       "      <td>6:00pm-6:59pm</td>\n",
       "      <td>3</td>\n",
       "    </tr>\n",
       "    <tr>\n",
       "      <th>2</th>\n",
       "      <td>3</td>\n",
       "      <td>Tuesday</td>\n",
       "      <td>19</td>\n",
       "      <td>7:00pm-7:59pm</td>\n",
       "      <td>0</td>\n",
       "    </tr>\n",
       "    <tr>\n",
       "      <th>3</th>\n",
       "      <td>3</td>\n",
       "      <td>Tuesday</td>\n",
       "      <td>3</td>\n",
       "      <td>3:00am-3:59am</td>\n",
       "      <td>15</td>\n",
       "    </tr>\n",
       "    <tr>\n",
       "      <th>4</th>\n",
       "      <td>6</td>\n",
       "      <td>Friday</td>\n",
       "      <td>5</td>\n",
       "      <td>5:00am-5:59am</td>\n",
       "      <td>50</td>\n",
       "    </tr>\n",
       "  </tbody>\n",
       "</table>\n",
       "</div>"
      ],
      "text/plain": [
       "   DAY_WEEK DAY_WEEKNAME  HOUR         HOURNAME  MINUTE\n",
       "0         5     Thursday    12  12:00pm-12:59pm      54\n",
       "1         4    Wednesday    18    6:00pm-6:59pm       3\n",
       "2         3      Tuesday    19    7:00pm-7:59pm       0\n",
       "3         3      Tuesday     3    3:00am-3:59am      15\n",
       "4         6       Friday     5    5:00am-5:59am      50"
      ]
     },
     "execution_count": 164,
     "metadata": {},
     "output_type": "execute_result"
    }
   ],
   "source": [
    "total.iloc[:,19:24].head()"
   ]
  },
  {
   "cell_type": "code",
   "execution_count": 165,
   "id": "b94dd1b2",
   "metadata": {},
   "outputs": [
    {
     "data": {
      "text/plain": [
       "Index(['STATE', 'STATENAME', 'ST_CASE', 'VE_TOTAL', 'VE_FORMS', 'PVH_INVL',\n",
       "       'PEDS', 'PERSONS', 'PERMVIT', 'PERNOTMVIT', 'COUNTY', 'COUNTYNAME',\n",
       "       'CITY', 'CITYNAME', 'DAY', 'DAYNAME', 'MONTH', 'MONTHNAME', 'YEAR',\n",
       "       'DAY_WEEK', 'DAY_WEEKNAME', 'HOUR', 'HOURNAME', 'MINUTE', 'MINUTENAME',\n",
       "       'NHS', 'NHSNAME', 'ROUTE', 'ROUTENAME', 'TWAY_ID', 'TWAY_ID2',\n",
       "       'RUR_URB', 'RUR_URBNAME', 'FUNC_SYS', 'FUNC_SYSNAME', 'RD_OWNER',\n",
       "       'RD_OWNERNAME', 'MILEPT', 'MILEPTNAME', 'LATITUDE', 'LATITUDENAME',\n",
       "       'LONGITUD', 'LONGITUDNAME', 'SP_JUR', 'SP_JURNAME', 'HARM_EV',\n",
       "       'HARM_EVNAME', 'MAN_COLL', 'MAN_COLLNAME', 'RELJCT1', 'RELJCT1NAME',\n",
       "       'RELJCT2', 'RELJCT2NAME', 'TYP_INT', 'TYP_INTNAME', 'WRK_ZONE',\n",
       "       'WRK_ZONENAME', 'REL_ROAD', 'REL_ROADNAME', 'LGT_COND', 'LGT_CONDNAME',\n",
       "       'WEATHER1', 'WEATHER1NAME', 'WEATHER2', 'WEATHER2NAME', 'WEATHER',\n",
       "       'WEATHERNAME', 'SCH_BUS', 'SCH_BUSNAME', 'RAIL', 'RAILNAME', 'NOT_HOUR',\n",
       "       'NOT_HOURNAME', 'NOT_MIN', 'NOT_MINNAME', 'ARR_HOUR', 'ARR_HOURNAME',\n",
       "       'ARR_MIN', 'ARR_MINNAME', 'HOSP_HR', 'HOSP_HRNAME', 'HOSP_MN',\n",
       "       'HOSP_MNNAME', 'CF1', 'CF1NAME', 'CF2', 'CF2NAME', 'CF3', 'CF3NAME',\n",
       "       'FATALS', 'DRUNK_DR'],\n",
       "      dtype='object')"
      ]
     },
     "execution_count": 165,
     "metadata": {},
     "output_type": "execute_result"
    }
   ],
   "source": [
    "total.columns"
   ]
  },
  {
   "cell_type": "code",
   "execution_count": 166,
   "id": "cec599af",
   "metadata": {},
   "outputs": [
    {
     "data": {
      "text/html": [
       "<div>\n",
       "<style scoped>\n",
       "    .dataframe tbody tr th:only-of-type {\n",
       "        vertical-align: middle;\n",
       "    }\n",
       "\n",
       "    .dataframe tbody tr th {\n",
       "        vertical-align: top;\n",
       "    }\n",
       "\n",
       "    .dataframe thead th {\n",
       "        text-align: right;\n",
       "    }\n",
       "</style>\n",
       "<table border=\"1\" class=\"dataframe\">\n",
       "  <thead>\n",
       "    <tr style=\"text-align: right;\">\n",
       "      <th></th>\n",
       "      <th>STATENAME</th>\n",
       "      <th>VE_TOTAL</th>\n",
       "      <th>PEDS</th>\n",
       "      <th>PERSONS</th>\n",
       "      <th>DAYNAME</th>\n",
       "      <th>MONTHNAME</th>\n",
       "      <th>HOUR</th>\n",
       "      <th>DAY_WEEKNAME</th>\n",
       "      <th>RUR_URBNAME</th>\n",
       "      <th>HARM_EVNAME</th>\n",
       "      <th>LGT_CONDNAME</th>\n",
       "      <th>WEATHER1NAME</th>\n",
       "      <th>WEATHERNAME</th>\n",
       "      <th>FATALS</th>\n",
       "      <th>DRUNK_DR</th>\n",
       "    </tr>\n",
       "  </thead>\n",
       "  <tbody>\n",
       "    <tr>\n",
       "      <th>0</th>\n",
       "      <td>Alabama</td>\n",
       "      <td>2</td>\n",
       "      <td>0</td>\n",
       "      <td>3</td>\n",
       "      <td>7</td>\n",
       "      <td>February</td>\n",
       "      <td>12</td>\n",
       "      <td>Thursday</td>\n",
       "      <td>Urban</td>\n",
       "      <td>Motor Vehicle In-Transport</td>\n",
       "      <td>Daylight</td>\n",
       "      <td>Clear</td>\n",
       "      <td>Clear</td>\n",
       "      <td>1</td>\n",
       "      <td>1</td>\n",
       "    </tr>\n",
       "    <tr>\n",
       "      <th>1</th>\n",
       "      <td>Alabama</td>\n",
       "      <td>2</td>\n",
       "      <td>0</td>\n",
       "      <td>2</td>\n",
       "      <td>23</td>\n",
       "      <td>January</td>\n",
       "      <td>18</td>\n",
       "      <td>Wednesday</td>\n",
       "      <td>Urban</td>\n",
       "      <td>Motor Vehicle In-Transport</td>\n",
       "      <td>Dark - Not Lighted</td>\n",
       "      <td>Rain</td>\n",
       "      <td>Rain</td>\n",
       "      <td>1</td>\n",
       "      <td>0</td>\n",
       "    </tr>\n",
       "    <tr>\n",
       "      <th>2</th>\n",
       "      <td>Alabama</td>\n",
       "      <td>3</td>\n",
       "      <td>0</td>\n",
       "      <td>4</td>\n",
       "      <td>22</td>\n",
       "      <td>January</td>\n",
       "      <td>19</td>\n",
       "      <td>Tuesday</td>\n",
       "      <td>Rural</td>\n",
       "      <td>Motor Vehicle In-Transport</td>\n",
       "      <td>Dark - Not Lighted</td>\n",
       "      <td>Cloudy</td>\n",
       "      <td>Cloudy</td>\n",
       "      <td>1</td>\n",
       "      <td>0</td>\n",
       "    </tr>\n",
       "    <tr>\n",
       "      <th>3</th>\n",
       "      <td>Alabama</td>\n",
       "      <td>1</td>\n",
       "      <td>1</td>\n",
       "      <td>1</td>\n",
       "      <td>22</td>\n",
       "      <td>January</td>\n",
       "      <td>3</td>\n",
       "      <td>Tuesday</td>\n",
       "      <td>Rural</td>\n",
       "      <td>Pedestrian</td>\n",
       "      <td>Dark - Not Lighted</td>\n",
       "      <td>Clear</td>\n",
       "      <td>Clear</td>\n",
       "      <td>1</td>\n",
       "      <td>0</td>\n",
       "    </tr>\n",
       "    <tr>\n",
       "      <th>4</th>\n",
       "      <td>Alabama</td>\n",
       "      <td>1</td>\n",
       "      <td>0</td>\n",
       "      <td>1</td>\n",
       "      <td>18</td>\n",
       "      <td>January</td>\n",
       "      <td>5</td>\n",
       "      <td>Friday</td>\n",
       "      <td>Urban</td>\n",
       "      <td>Rollover/Overturn</td>\n",
       "      <td>Dark - Not Lighted</td>\n",
       "      <td>Fog, Smog, Smoke</td>\n",
       "      <td>Fog, Smog, Smoke</td>\n",
       "      <td>1</td>\n",
       "      <td>1</td>\n",
       "    </tr>\n",
       "  </tbody>\n",
       "</table>\n",
       "</div>"
      ],
      "text/plain": [
       "  STATENAME  VE_TOTAL  PEDS  PERSONS  DAYNAME MONTHNAME  HOUR DAY_WEEKNAME  \\\n",
       "0   Alabama         2     0        3        7  February    12     Thursday   \n",
       "1   Alabama         2     0        2       23   January    18    Wednesday   \n",
       "2   Alabama         3     0        4       22   January    19      Tuesday   \n",
       "3   Alabama         1     1        1       22   January     3      Tuesday   \n",
       "4   Alabama         1     0        1       18   January     5       Friday   \n",
       "\n",
       "  RUR_URBNAME                 HARM_EVNAME        LGT_CONDNAME  \\\n",
       "0       Urban  Motor Vehicle In-Transport            Daylight   \n",
       "1       Urban  Motor Vehicle In-Transport  Dark - Not Lighted   \n",
       "2       Rural  Motor Vehicle In-Transport  Dark - Not Lighted   \n",
       "3       Rural                  Pedestrian  Dark - Not Lighted   \n",
       "4       Urban           Rollover/Overturn  Dark - Not Lighted   \n",
       "\n",
       "       WEATHER1NAME       WEATHERNAME  FATALS DRUNK_DR  \n",
       "0             Clear             Clear       1        1  \n",
       "1              Rain              Rain       1        0  \n",
       "2            Cloudy            Cloudy       1        0  \n",
       "3             Clear             Clear       1        0  \n",
       "4  Fog, Smog, Smoke  Fog, Smog, Smoke       1        1  "
      ]
     },
     "execution_count": 166,
     "metadata": {},
     "output_type": "execute_result"
    }
   ],
   "source": [
    "accident = total[['STATENAME','VE_TOTAL','PEDS', 'PERSONS','DAYNAME','MONTHNAME','HOUR',\n",
    "                  'DAY_WEEKNAME','RUR_URBNAME','HARM_EVNAME','LGT_CONDNAME', 'WEATHER1NAME',\n",
    "                 'WEATHERNAME', 'FATALS', 'DRUNK_DR']]\n",
    "accident.reset_index()\n",
    "accident.head(5)"
   ]
  },
  {
   "cell_type": "code",
   "execution_count": 167,
   "id": "5bdb8931",
   "metadata": {},
   "outputs": [
    {
     "data": {
      "text/plain": [
       "(33482, 15)"
      ]
     },
     "execution_count": 167,
     "metadata": {},
     "output_type": "execute_result"
    }
   ],
   "source": [
    "accident.shape"
   ]
  },
  {
   "cell_type": "code",
   "execution_count": 168,
   "id": "e5fcb5d8",
   "metadata": {},
   "outputs": [
    {
     "data": {
      "text/plain": [
       "(14624, 15)"
      ]
     },
     "execution_count": 168,
     "metadata": {},
     "output_type": "execute_result"
    }
   ],
   "source": [
    "## Possibly univariate analysis, the rural data will be split from the urban data\n",
    "rural = accident[accident['RUR_URBNAME'] == 'Rural']\n",
    "rural.reset_index()\n",
    "rural.shape"
   ]
  },
  {
   "cell_type": "code",
   "execution_count": 169,
   "id": "ab2f7801",
   "metadata": {
    "scrolled": true
   },
   "outputs": [
    {
     "data": {
      "text/plain": [
       "(18750, 15)"
      ]
     },
     "execution_count": 169,
     "metadata": {},
     "output_type": "execute_result"
    }
   ],
   "source": [
    "urban = accident[accident['RUR_URBNAME'] == 'Urban']\n",
    "urban.reset_index()\n",
    "urban.shape"
   ]
  },
  {
   "cell_type": "markdown",
   "id": "88b1dc76",
   "metadata": {},
   "source": [
    "<a id=\"id8\"></a>"
   ]
  },
  {
   "cell_type": "markdown",
   "id": "7f4e0015",
   "metadata": {},
   "source": [
    "## Saving Data"
   ]
  },
  {
   "cell_type": "code",
   "execution_count": 172,
   "id": "9a01153e",
   "metadata": {},
   "outputs": [],
   "source": [
    "# save the data to a new csv file\n",
    "accident.to_csv('../data/processed/accident.csv', index=False)\n",
    "urban.to_csv('../data/processed/urban.csv', index=False)\n",
    "rural.to_csv('../data/processed/rural.csv', index=False)\n"
   ]
  }
 ],
 "metadata": {
  "kernelspec": {
   "display_name": "Python 3 (ipykernel)",
   "language": "python",
   "name": "python3"
  },
  "language_info": {
   "codemirror_mode": {
    "name": "ipython",
    "version": 3
   },
   "file_extension": ".py",
   "mimetype": "text/x-python",
   "name": "python",
   "nbconvert_exporter": "python",
   "pygments_lexer": "ipython3",
   "version": "3.9.7"
  }
 },
 "nbformat": 4,
 "nbformat_minor": 5
}
