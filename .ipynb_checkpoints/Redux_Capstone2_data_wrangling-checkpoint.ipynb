{
 "cells": [
  {
   "cell_type": "markdown",
   "id": "134db3e5",
   "metadata": {},
   "source": [
    "# Table of Contents\n",
    "1. [Introduction](#id0)\n",
    "2. [Import Packages](#id1)\n",
    "3. [Data Import from FARS National Survey](#id2)\n",
    "4. [Making DataFrames](#id3)\n",
    "5. [Subsetting before initial assessments of column types](#id4)\n",
    "6. [Merging DataFrames](#id5)\n",
    "7. [Checking Column Data Types](#id6)\n",
    "8. [Splitting Dataframes and Saving Data](#id7)\n",
    "\n"
   ]
  },
  {
   "cell_type": "markdown",
   "id": "249dc96e",
   "metadata": {},
   "source": [
    "<a id=\"id0\"></a>"
   ]
  },
  {
   "cell_type": "markdown",
   "id": "d19be3ee",
   "metadata": {},
   "source": [
    "## Introduction\n",
    "Data was drawn from the Fatality Analysis Reporting System (FARS) of the National Highway Traffic Safety Administration (NHTSA). As the FARS manual notes, \" Crashes each year result in thousands of lives lost, hundreds of thousands of injured victims, and billions of dollars in property damage. Accurate data are required to support\n",
    "the development, implementation, and assessment of highway safety programs aimed at reducing\n",
    "this toll.\" The FARS data was collected to help improve traveler safety. The FARS data are specific in that \" To qualify as a FARS case, the crash had to involve a motor vehicle traveling on a\n",
    "trafficway customarily open to the public, and must have resulted in the death of a motorist or a\n",
    "non-motorist within 30 days of the crash.\"\n",
    "\n",
    "National Center for Statistics and Analysis. (2022, March). *Fatality Analysis Reporting System\n",
    "analytical user’s manual*, 1975-2020 (Report No. DOT HS 813 254). National Highway\n",
    "Traffic Safety Administration. "
   ]
  },
  {
   "cell_type": "markdown",
   "id": "b9eac1e8",
   "metadata": {},
   "source": [
    "<a id=\"id1\"></a>"
   ]
  },
  {
   "cell_type": "code",
   "execution_count": 24,
   "id": "8bb90033",
   "metadata": {},
   "outputs": [],
   "source": [
    "\n",
    "import pandas as pd\n",
    "import csv\n",
    "import os\n",
    "import matplotlib.pyplot as plt\n"
   ]
  },
  {
   "cell_type": "markdown",
   "id": "0d4f3449",
   "metadata": {},
   "source": [
    "<a id=\"id2\"></a>"
   ]
  },
  {
   "cell_type": "markdown",
   "id": "9e6e01ed",
   "metadata": {},
   "source": [
    "## Data Import from FARS National Survey"
   ]
  },
  {
   "cell_type": "code",
   "execution_count": 3,
   "id": "151c9326",
   "metadata": {
    "scrolled": true
   },
   "outputs": [],
   "source": [
    "### downloaded 19 CSVs from here https://www.nhtsa.gov/file-downloads?p=nhtsa/downloads/FARS/2019/ \n",
    "data_accident = \"/Users/kirk/DS/Springboard_DST/Capstone_2/data/external/FARS2019NationalCSV/accident.CSV\"\n",
    "data_person = \"/Users/kirk/DS/Springboard_DST/Capstone_2/data/external/FARS2019NationalCSV/Person.CSV\"\n",
    "#data_cevent = \"/Users/kirk/DS/Springboard_DST/Capstone_2/data/external/FARS2019NationalCSV/CEvent.CSV\"\n",
    "data_factor = \"/Users/kirk/DS/Springboard_DST/Capstone_2/data/external/FARS2019NationalCSV/Factor.CSV\"\n",
    "data_vision = \"/Users/kirk/DS/Springboard_DST/Capstone_2/data/external/FARS2019NationalCSV/Vision.csv\"\n",
    "data_drugs = \"/Users/kirk/DS/Springboard_DST/Capstone_2/data/external/FARS2019NationalCSV/Drugs.csv\"\n",
    "#data_race = \"/Users/kirk/DS/Springboard_DST/Capstone_2/data/external/FARS2019NationalCSV/Race.CSV\""
   ]
  },
  {
   "cell_type": "markdown",
   "id": "3013cb98",
   "metadata": {},
   "source": [
    "<a id=\"id3\"></a>"
   ]
  },
  {
   "cell_type": "markdown",
   "id": "dc3c29f5",
   "metadata": {},
   "source": [
    "## Making DataFrames"
   ]
  },
  {
   "cell_type": "code",
   "execution_count": 4,
   "id": "7d7f7d81",
   "metadata": {
    "scrolled": false
   },
   "outputs": [
    {
     "data": {
      "text/html": [
       "<div>\n",
       "<style scoped>\n",
       "    .dataframe tbody tr th:only-of-type {\n",
       "        vertical-align: middle;\n",
       "    }\n",
       "\n",
       "    .dataframe tbody tr th {\n",
       "        vertical-align: top;\n",
       "    }\n",
       "\n",
       "    .dataframe thead th {\n",
       "        text-align: right;\n",
       "    }\n",
       "</style>\n",
       "<table border=\"1\" class=\"dataframe\">\n",
       "  <thead>\n",
       "    <tr style=\"text-align: right;\">\n",
       "      <th></th>\n",
       "      <th>STATE</th>\n",
       "      <th>STATENAME</th>\n",
       "      <th>ST_CASE</th>\n",
       "      <th>VE_TOTAL</th>\n",
       "      <th>VE_FORMS</th>\n",
       "      <th>PVH_INVL</th>\n",
       "      <th>PEDS</th>\n",
       "      <th>PERSONS</th>\n",
       "      <th>PERMVIT</th>\n",
       "      <th>PERNOTMVIT</th>\n",
       "      <th>...</th>\n",
       "      <th>HOSP_MN</th>\n",
       "      <th>HOSP_MNNAME</th>\n",
       "      <th>CF1</th>\n",
       "      <th>CF1NAME</th>\n",
       "      <th>CF2</th>\n",
       "      <th>CF2NAME</th>\n",
       "      <th>CF3</th>\n",
       "      <th>CF3NAME</th>\n",
       "      <th>FATALS</th>\n",
       "      <th>DRUNK_DR</th>\n",
       "    </tr>\n",
       "  </thead>\n",
       "  <tbody>\n",
       "    <tr>\n",
       "      <th>0</th>\n",
       "      <td>1</td>\n",
       "      <td>Alabama</td>\n",
       "      <td>10001</td>\n",
       "      <td>2</td>\n",
       "      <td>2</td>\n",
       "      <td>0</td>\n",
       "      <td>0</td>\n",
       "      <td>3</td>\n",
       "      <td>3</td>\n",
       "      <td>0</td>\n",
       "      <td>...</td>\n",
       "      <td>27</td>\n",
       "      <td>27</td>\n",
       "      <td>0</td>\n",
       "      <td>None</td>\n",
       "      <td>0</td>\n",
       "      <td>None</td>\n",
       "      <td>0</td>\n",
       "      <td>None</td>\n",
       "      <td>1</td>\n",
       "      <td>1</td>\n",
       "    </tr>\n",
       "    <tr>\n",
       "      <th>1</th>\n",
       "      <td>1</td>\n",
       "      <td>Alabama</td>\n",
       "      <td>10002</td>\n",
       "      <td>2</td>\n",
       "      <td>2</td>\n",
       "      <td>0</td>\n",
       "      <td>0</td>\n",
       "      <td>2</td>\n",
       "      <td>2</td>\n",
       "      <td>0</td>\n",
       "      <td>...</td>\n",
       "      <td>99</td>\n",
       "      <td>Unknown EMS Hospital Arrival Time</td>\n",
       "      <td>0</td>\n",
       "      <td>None</td>\n",
       "      <td>0</td>\n",
       "      <td>None</td>\n",
       "      <td>0</td>\n",
       "      <td>None</td>\n",
       "      <td>1</td>\n",
       "      <td>0</td>\n",
       "    </tr>\n",
       "    <tr>\n",
       "      <th>2</th>\n",
       "      <td>1</td>\n",
       "      <td>Alabama</td>\n",
       "      <td>10003</td>\n",
       "      <td>3</td>\n",
       "      <td>3</td>\n",
       "      <td>0</td>\n",
       "      <td>0</td>\n",
       "      <td>4</td>\n",
       "      <td>4</td>\n",
       "      <td>0</td>\n",
       "      <td>...</td>\n",
       "      <td>5</td>\n",
       "      <td>5</td>\n",
       "      <td>14</td>\n",
       "      <td>Motor Vehicle struck by falling cargo,or somet...</td>\n",
       "      <td>0</td>\n",
       "      <td>None</td>\n",
       "      <td>0</td>\n",
       "      <td>None</td>\n",
       "      <td>1</td>\n",
       "      <td>0</td>\n",
       "    </tr>\n",
       "    <tr>\n",
       "      <th>3</th>\n",
       "      <td>1</td>\n",
       "      <td>Alabama</td>\n",
       "      <td>10004</td>\n",
       "      <td>1</td>\n",
       "      <td>1</td>\n",
       "      <td>0</td>\n",
       "      <td>1</td>\n",
       "      <td>1</td>\n",
       "      <td>1</td>\n",
       "      <td>1</td>\n",
       "      <td>...</td>\n",
       "      <td>88</td>\n",
       "      <td>Not Applicable (Not Transported)</td>\n",
       "      <td>0</td>\n",
       "      <td>None</td>\n",
       "      <td>0</td>\n",
       "      <td>None</td>\n",
       "      <td>0</td>\n",
       "      <td>None</td>\n",
       "      <td>1</td>\n",
       "      <td>0</td>\n",
       "    </tr>\n",
       "    <tr>\n",
       "      <th>4</th>\n",
       "      <td>1</td>\n",
       "      <td>Alabama</td>\n",
       "      <td>10005</td>\n",
       "      <td>1</td>\n",
       "      <td>1</td>\n",
       "      <td>0</td>\n",
       "      <td>0</td>\n",
       "      <td>1</td>\n",
       "      <td>1</td>\n",
       "      <td>0</td>\n",
       "      <td>...</td>\n",
       "      <td>88</td>\n",
       "      <td>Not Applicable (Not Transported)</td>\n",
       "      <td>0</td>\n",
       "      <td>None</td>\n",
       "      <td>0</td>\n",
       "      <td>None</td>\n",
       "      <td>0</td>\n",
       "      <td>None</td>\n",
       "      <td>1</td>\n",
       "      <td>1</td>\n",
       "    </tr>\n",
       "  </tbody>\n",
       "</table>\n",
       "<p>5 rows × 91 columns</p>\n",
       "</div>"
      ],
      "text/plain": [
       "   STATE STATENAME  ST_CASE  VE_TOTAL  VE_FORMS  PVH_INVL  PEDS  PERSONS  \\\n",
       "0      1   Alabama    10001         2         2         0     0        3   \n",
       "1      1   Alabama    10002         2         2         0     0        2   \n",
       "2      1   Alabama    10003         3         3         0     0        4   \n",
       "3      1   Alabama    10004         1         1         0     1        1   \n",
       "4      1   Alabama    10005         1         1         0     0        1   \n",
       "\n",
       "   PERMVIT  PERNOTMVIT  ...  HOSP_MN                        HOSP_MNNAME  CF1  \\\n",
       "0        3           0  ...       27                                 27    0   \n",
       "1        2           0  ...       99  Unknown EMS Hospital Arrival Time    0   \n",
       "2        4           0  ...        5                                  5   14   \n",
       "3        1           1  ...       88   Not Applicable (Not Transported)    0   \n",
       "4        1           0  ...       88   Not Applicable (Not Transported)    0   \n",
       "\n",
       "                                             CF1NAME  CF2  CF2NAME  CF3  \\\n",
       "0                                               None    0     None    0   \n",
       "1                                               None    0     None    0   \n",
       "2  Motor Vehicle struck by falling cargo,or somet...    0     None    0   \n",
       "3                                               None    0     None    0   \n",
       "4                                               None    0     None    0   \n",
       "\n",
       "  CF3NAME  FATALS  DRUNK_DR  \n",
       "0    None       1         1  \n",
       "1    None       1         0  \n",
       "2    None       1         0  \n",
       "3    None       1         0  \n",
       "4    None       1         1  \n",
       "\n",
       "[5 rows x 91 columns]"
      ]
     },
     "execution_count": 4,
     "metadata": {},
     "output_type": "execute_result"
    }
   ],
   "source": [
    "table_accident = pd.read_csv(data_accident, low_memory=False)\n",
    "table_accident.head()"
   ]
  },
  {
   "cell_type": "code",
   "execution_count": 5,
   "id": "187c6ea2",
   "metadata": {},
   "outputs": [
    {
     "data": {
      "text/plain": [
       "Index(['STATE', 'STATENAME', 'ST_CASE', 'VE_TOTAL', 'VE_FORMS', 'PVH_INVL',\n",
       "       'PEDS', 'PERSONS', 'PERMVIT', 'PERNOTMVIT', 'COUNTY', 'COUNTYNAME',\n",
       "       'CITY', 'CITYNAME', 'DAY', 'DAYNAME', 'MONTH', 'MONTHNAME', 'YEAR',\n",
       "       'DAY_WEEK', 'DAY_WEEKNAME', 'HOUR', 'HOURNAME', 'MINUTE', 'MINUTENAME',\n",
       "       'NHS', 'NHSNAME', 'ROUTE', 'ROUTENAME', 'TWAY_ID', 'TWAY_ID2',\n",
       "       'RUR_URB', 'RUR_URBNAME', 'FUNC_SYS', 'FUNC_SYSNAME', 'RD_OWNER',\n",
       "       'RD_OWNERNAME', 'MILEPT', 'MILEPTNAME', 'LATITUDE', 'LATITUDENAME',\n",
       "       'LONGITUD', 'LONGITUDNAME', 'SP_JUR', 'SP_JURNAME', 'HARM_EV',\n",
       "       'HARM_EVNAME', 'MAN_COLL', 'MAN_COLLNAME', 'RELJCT1', 'RELJCT1NAME',\n",
       "       'RELJCT2', 'RELJCT2NAME', 'TYP_INT', 'TYP_INTNAME', 'WRK_ZONE',\n",
       "       'WRK_ZONENAME', 'REL_ROAD', 'REL_ROADNAME', 'LGT_COND', 'LGT_CONDNAME',\n",
       "       'WEATHER1', 'WEATHER1NAME', 'WEATHER2', 'WEATHER2NAME', 'WEATHER',\n",
       "       'WEATHERNAME', 'SCH_BUS', 'SCH_BUSNAME', 'RAIL', 'RAILNAME', 'NOT_HOUR',\n",
       "       'NOT_HOURNAME', 'NOT_MIN', 'NOT_MINNAME', 'ARR_HOUR', 'ARR_HOURNAME',\n",
       "       'ARR_MIN', 'ARR_MINNAME', 'HOSP_HR', 'HOSP_HRNAME', 'HOSP_MN',\n",
       "       'HOSP_MNNAME', 'CF1', 'CF1NAME', 'CF2', 'CF2NAME', 'CF3', 'CF3NAME',\n",
       "       'FATALS', 'DRUNK_DR'],\n",
       "      dtype='object')"
      ]
     },
     "execution_count": 5,
     "metadata": {},
     "output_type": "execute_result"
    }
   ],
   "source": [
    "table_accident.columns"
   ]
  },
  {
   "cell_type": "code",
   "execution_count": 6,
   "id": "a0f287aa",
   "metadata": {},
   "outputs": [
    {
     "data": {
      "text/plain": [
       "September    3093\n",
       "August       3091\n",
       "July         3037\n",
       "October      2972\n",
       "June         2926\n",
       "May          2917\n",
       "November     2841\n",
       "December     2774\n",
       "April        2611\n",
       "March        2544\n",
       "January      2476\n",
       "February     2205\n",
       "Name: MONTHNAME, dtype: int64"
      ]
     },
     "execution_count": 6,
     "metadata": {},
     "output_type": "execute_result"
    }
   ],
   "source": [
    "table_accident['MONTHNAME'].value_counts()"
   ]
  },
  {
   "cell_type": "code",
   "execution_count": 7,
   "id": "a556db26",
   "metadata": {},
   "outputs": [
    {
     "data": {
      "text/plain": [
       "1    31123\n",
       "2     1986\n",
       "3      287\n",
       "4       70\n",
       "5       12\n",
       "6        5\n",
       "7        3\n",
       "8        1\n",
       "Name: FATALS, dtype: int64"
      ]
     },
     "execution_count": 7,
     "metadata": {},
     "output_type": "execute_result"
    }
   ],
   "source": [
    "table_accident.FATALS.value_counts()"
   ]
  },
  {
   "cell_type": "code",
   "execution_count": 8,
   "id": "7e4bacfb",
   "metadata": {
    "scrolled": true
   },
   "outputs": [
    {
     "data": {
      "text/html": [
       "<div>\n",
       "<style scoped>\n",
       "    .dataframe tbody tr th:only-of-type {\n",
       "        vertical-align: middle;\n",
       "    }\n",
       "\n",
       "    .dataframe tbody tr th {\n",
       "        vertical-align: top;\n",
       "    }\n",
       "\n",
       "    .dataframe thead th {\n",
       "        text-align: right;\n",
       "    }\n",
       "</style>\n",
       "<table border=\"1\" class=\"dataframe\">\n",
       "  <thead>\n",
       "    <tr style=\"text-align: right;\">\n",
       "      <th></th>\n",
       "      <th>STATE</th>\n",
       "      <th>STATENAME</th>\n",
       "      <th>ST_CASE</th>\n",
       "      <th>VE_FORMS</th>\n",
       "      <th>VEH_NO</th>\n",
       "      <th>PER_NO</th>\n",
       "      <th>STR_VEH</th>\n",
       "      <th>COUNTY</th>\n",
       "      <th>DAY</th>\n",
       "      <th>DAYNAME</th>\n",
       "      <th>...</th>\n",
       "      <th>WORK_INJ</th>\n",
       "      <th>WORK_INJNAME</th>\n",
       "      <th>HISPANIC</th>\n",
       "      <th>HISPANICNAME</th>\n",
       "      <th>LOCATION</th>\n",
       "      <th>LOCATIONNAME</th>\n",
       "      <th>HELM_USE</th>\n",
       "      <th>HELM_USENAME</th>\n",
       "      <th>HELM_MIS</th>\n",
       "      <th>HELM_MISNAME</th>\n",
       "    </tr>\n",
       "  </thead>\n",
       "  <tbody>\n",
       "    <tr>\n",
       "      <th>0</th>\n",
       "      <td>1</td>\n",
       "      <td>Alabama</td>\n",
       "      <td>10001</td>\n",
       "      <td>2</td>\n",
       "      <td>1</td>\n",
       "      <td>1</td>\n",
       "      <td>0</td>\n",
       "      <td>81</td>\n",
       "      <td>7</td>\n",
       "      <td>7</td>\n",
       "      <td>...</td>\n",
       "      <td>8</td>\n",
       "      <td>Not Applicable (not a fatality)</td>\n",
       "      <td>0</td>\n",
       "      <td>Not A Fatality (not Applicable)</td>\n",
       "      <td>0</td>\n",
       "      <td>Occupant of a Motor Vehicle</td>\n",
       "      <td>20</td>\n",
       "      <td>Not Applicable</td>\n",
       "      <td>7</td>\n",
       "      <td>None Used/Not Applicable</td>\n",
       "    </tr>\n",
       "    <tr>\n",
       "      <th>1</th>\n",
       "      <td>1</td>\n",
       "      <td>Alabama</td>\n",
       "      <td>10001</td>\n",
       "      <td>2</td>\n",
       "      <td>1</td>\n",
       "      <td>2</td>\n",
       "      <td>0</td>\n",
       "      <td>81</td>\n",
       "      <td>7</td>\n",
       "      <td>7</td>\n",
       "      <td>...</td>\n",
       "      <td>0</td>\n",
       "      <td>No</td>\n",
       "      <td>7</td>\n",
       "      <td>Non-Hispanic</td>\n",
       "      <td>0</td>\n",
       "      <td>Occupant of a Motor Vehicle</td>\n",
       "      <td>20</td>\n",
       "      <td>Not Applicable</td>\n",
       "      <td>7</td>\n",
       "      <td>None Used/Not Applicable</td>\n",
       "    </tr>\n",
       "    <tr>\n",
       "      <th>2</th>\n",
       "      <td>1</td>\n",
       "      <td>Alabama</td>\n",
       "      <td>10001</td>\n",
       "      <td>2</td>\n",
       "      <td>2</td>\n",
       "      <td>1</td>\n",
       "      <td>0</td>\n",
       "      <td>81</td>\n",
       "      <td>7</td>\n",
       "      <td>7</td>\n",
       "      <td>...</td>\n",
       "      <td>8</td>\n",
       "      <td>Not Applicable (not a fatality)</td>\n",
       "      <td>0</td>\n",
       "      <td>Not A Fatality (not Applicable)</td>\n",
       "      <td>0</td>\n",
       "      <td>Occupant of a Motor Vehicle</td>\n",
       "      <td>20</td>\n",
       "      <td>Not Applicable</td>\n",
       "      <td>7</td>\n",
       "      <td>None Used/Not Applicable</td>\n",
       "    </tr>\n",
       "    <tr>\n",
       "      <th>3</th>\n",
       "      <td>1</td>\n",
       "      <td>Alabama</td>\n",
       "      <td>10002</td>\n",
       "      <td>2</td>\n",
       "      <td>1</td>\n",
       "      <td>1</td>\n",
       "      <td>0</td>\n",
       "      <td>55</td>\n",
       "      <td>23</td>\n",
       "      <td>23</td>\n",
       "      <td>...</td>\n",
       "      <td>0</td>\n",
       "      <td>No</td>\n",
       "      <td>7</td>\n",
       "      <td>Non-Hispanic</td>\n",
       "      <td>0</td>\n",
       "      <td>Occupant of a Motor Vehicle</td>\n",
       "      <td>20</td>\n",
       "      <td>Not Applicable</td>\n",
       "      <td>7</td>\n",
       "      <td>None Used/Not Applicable</td>\n",
       "    </tr>\n",
       "    <tr>\n",
       "      <th>4</th>\n",
       "      <td>1</td>\n",
       "      <td>Alabama</td>\n",
       "      <td>10002</td>\n",
       "      <td>2</td>\n",
       "      <td>2</td>\n",
       "      <td>1</td>\n",
       "      <td>0</td>\n",
       "      <td>55</td>\n",
       "      <td>23</td>\n",
       "      <td>23</td>\n",
       "      <td>...</td>\n",
       "      <td>8</td>\n",
       "      <td>Not Applicable (not a fatality)</td>\n",
       "      <td>0</td>\n",
       "      <td>Not A Fatality (not Applicable)</td>\n",
       "      <td>0</td>\n",
       "      <td>Occupant of a Motor Vehicle</td>\n",
       "      <td>20</td>\n",
       "      <td>Not Applicable</td>\n",
       "      <td>7</td>\n",
       "      <td>None Used/Not Applicable</td>\n",
       "    </tr>\n",
       "    <tr>\n",
       "      <th>5</th>\n",
       "      <td>1</td>\n",
       "      <td>Alabama</td>\n",
       "      <td>10003</td>\n",
       "      <td>3</td>\n",
       "      <td>1</td>\n",
       "      <td>1</td>\n",
       "      <td>0</td>\n",
       "      <td>29</td>\n",
       "      <td>22</td>\n",
       "      <td>22</td>\n",
       "      <td>...</td>\n",
       "      <td>8</td>\n",
       "      <td>Not Applicable (not a fatality)</td>\n",
       "      <td>0</td>\n",
       "      <td>Not A Fatality (not Applicable)</td>\n",
       "      <td>0</td>\n",
       "      <td>Occupant of a Motor Vehicle</td>\n",
       "      <td>20</td>\n",
       "      <td>Not Applicable</td>\n",
       "      <td>7</td>\n",
       "      <td>None Used/Not Applicable</td>\n",
       "    </tr>\n",
       "    <tr>\n",
       "      <th>6</th>\n",
       "      <td>1</td>\n",
       "      <td>Alabama</td>\n",
       "      <td>10003</td>\n",
       "      <td>3</td>\n",
       "      <td>1</td>\n",
       "      <td>2</td>\n",
       "      <td>0</td>\n",
       "      <td>29</td>\n",
       "      <td>22</td>\n",
       "      <td>22</td>\n",
       "      <td>...</td>\n",
       "      <td>0</td>\n",
       "      <td>No</td>\n",
       "      <td>7</td>\n",
       "      <td>Non-Hispanic</td>\n",
       "      <td>0</td>\n",
       "      <td>Occupant of a Motor Vehicle</td>\n",
       "      <td>20</td>\n",
       "      <td>Not Applicable</td>\n",
       "      <td>7</td>\n",
       "      <td>None Used/Not Applicable</td>\n",
       "    </tr>\n",
       "    <tr>\n",
       "      <th>7</th>\n",
       "      <td>1</td>\n",
       "      <td>Alabama</td>\n",
       "      <td>10003</td>\n",
       "      <td>3</td>\n",
       "      <td>2</td>\n",
       "      <td>1</td>\n",
       "      <td>0</td>\n",
       "      <td>29</td>\n",
       "      <td>22</td>\n",
       "      <td>22</td>\n",
       "      <td>...</td>\n",
       "      <td>8</td>\n",
       "      <td>Not Applicable (not a fatality)</td>\n",
       "      <td>0</td>\n",
       "      <td>Not A Fatality (not Applicable)</td>\n",
       "      <td>0</td>\n",
       "      <td>Occupant of a Motor Vehicle</td>\n",
       "      <td>20</td>\n",
       "      <td>Not Applicable</td>\n",
       "      <td>7</td>\n",
       "      <td>None Used/Not Applicable</td>\n",
       "    </tr>\n",
       "    <tr>\n",
       "      <th>8</th>\n",
       "      <td>1</td>\n",
       "      <td>Alabama</td>\n",
       "      <td>10003</td>\n",
       "      <td>3</td>\n",
       "      <td>3</td>\n",
       "      <td>1</td>\n",
       "      <td>0</td>\n",
       "      <td>29</td>\n",
       "      <td>22</td>\n",
       "      <td>22</td>\n",
       "      <td>...</td>\n",
       "      <td>8</td>\n",
       "      <td>Not Applicable (not a fatality)</td>\n",
       "      <td>0</td>\n",
       "      <td>Not A Fatality (not Applicable)</td>\n",
       "      <td>0</td>\n",
       "      <td>Occupant of a Motor Vehicle</td>\n",
       "      <td>20</td>\n",
       "      <td>Not Applicable</td>\n",
       "      <td>7</td>\n",
       "      <td>None Used/Not Applicable</td>\n",
       "    </tr>\n",
       "    <tr>\n",
       "      <th>9</th>\n",
       "      <td>1</td>\n",
       "      <td>Alabama</td>\n",
       "      <td>10004</td>\n",
       "      <td>1</td>\n",
       "      <td>0</td>\n",
       "      <td>1</td>\n",
       "      <td>1</td>\n",
       "      <td>55</td>\n",
       "      <td>22</td>\n",
       "      <td>22</td>\n",
       "      <td>...</td>\n",
       "      <td>0</td>\n",
       "      <td>No</td>\n",
       "      <td>7</td>\n",
       "      <td>Non-Hispanic</td>\n",
       "      <td>11</td>\n",
       "      <td>Not at Intersection - On Roadway, Not in Marke...</td>\n",
       "      <td>96</td>\n",
       "      <td>Not a Motor Vehicle Occupant</td>\n",
       "      <td>8</td>\n",
       "      <td>Not a Motor Vehicle Occupant</td>\n",
       "    </tr>\n",
       "  </tbody>\n",
       "</table>\n",
       "<p>10 rows × 119 columns</p>\n",
       "</div>"
      ],
      "text/plain": [
       "   STATE STATENAME  ST_CASE  VE_FORMS  VEH_NO  PER_NO  STR_VEH  COUNTY  DAY  \\\n",
       "0      1   Alabama    10001         2       1       1        0      81    7   \n",
       "1      1   Alabama    10001         2       1       2        0      81    7   \n",
       "2      1   Alabama    10001         2       2       1        0      81    7   \n",
       "3      1   Alabama    10002         2       1       1        0      55   23   \n",
       "4      1   Alabama    10002         2       2       1        0      55   23   \n",
       "5      1   Alabama    10003         3       1       1        0      29   22   \n",
       "6      1   Alabama    10003         3       1       2        0      29   22   \n",
       "7      1   Alabama    10003         3       2       1        0      29   22   \n",
       "8      1   Alabama    10003         3       3       1        0      29   22   \n",
       "9      1   Alabama    10004         1       0       1        1      55   22   \n",
       "\n",
       "   DAYNAME  ...  WORK_INJ                     WORK_INJNAME  HISPANIC  \\\n",
       "0        7  ...         8  Not Applicable (not a fatality)         0   \n",
       "1        7  ...         0                               No         7   \n",
       "2        7  ...         8  Not Applicable (not a fatality)         0   \n",
       "3       23  ...         0                               No         7   \n",
       "4       23  ...         8  Not Applicable (not a fatality)         0   \n",
       "5       22  ...         8  Not Applicable (not a fatality)         0   \n",
       "6       22  ...         0                               No         7   \n",
       "7       22  ...         8  Not Applicable (not a fatality)         0   \n",
       "8       22  ...         8  Not Applicable (not a fatality)         0   \n",
       "9       22  ...         0                               No         7   \n",
       "\n",
       "                      HISPANICNAME  LOCATION  \\\n",
       "0  Not A Fatality (not Applicable)         0   \n",
       "1                     Non-Hispanic         0   \n",
       "2  Not A Fatality (not Applicable)         0   \n",
       "3                     Non-Hispanic         0   \n",
       "4  Not A Fatality (not Applicable)         0   \n",
       "5  Not A Fatality (not Applicable)         0   \n",
       "6                     Non-Hispanic         0   \n",
       "7  Not A Fatality (not Applicable)         0   \n",
       "8  Not A Fatality (not Applicable)         0   \n",
       "9                     Non-Hispanic        11   \n",
       "\n",
       "                                        LOCATIONNAME  HELM_USE  \\\n",
       "0                        Occupant of a Motor Vehicle        20   \n",
       "1                        Occupant of a Motor Vehicle        20   \n",
       "2                        Occupant of a Motor Vehicle        20   \n",
       "3                        Occupant of a Motor Vehicle        20   \n",
       "4                        Occupant of a Motor Vehicle        20   \n",
       "5                        Occupant of a Motor Vehicle        20   \n",
       "6                        Occupant of a Motor Vehicle        20   \n",
       "7                        Occupant of a Motor Vehicle        20   \n",
       "8                        Occupant of a Motor Vehicle        20   \n",
       "9  Not at Intersection - On Roadway, Not in Marke...        96   \n",
       "\n",
       "                   HELM_USENAME  HELM_MIS                  HELM_MISNAME  \n",
       "0                Not Applicable         7      None Used/Not Applicable  \n",
       "1                Not Applicable         7      None Used/Not Applicable  \n",
       "2                Not Applicable         7      None Used/Not Applicable  \n",
       "3                Not Applicable         7      None Used/Not Applicable  \n",
       "4                Not Applicable         7      None Used/Not Applicable  \n",
       "5                Not Applicable         7      None Used/Not Applicable  \n",
       "6                Not Applicable         7      None Used/Not Applicable  \n",
       "7                Not Applicable         7      None Used/Not Applicable  \n",
       "8                Not Applicable         7      None Used/Not Applicable  \n",
       "9  Not a Motor Vehicle Occupant         8  Not a Motor Vehicle Occupant  \n",
       "\n",
       "[10 rows x 119 columns]"
      ]
     },
     "execution_count": 8,
     "metadata": {},
     "output_type": "execute_result"
    }
   ],
   "source": [
    "table_person = pd.read_csv(data_person, low_memory=False)\n",
    "table_person.head(10)"
   ]
  },
  {
   "cell_type": "code",
   "execution_count": 9,
   "id": "918d56e5",
   "metadata": {},
   "outputs": [
    {
     "data": {
      "text/plain": [
       "array(['STATE', 'STATENAME', 'ST_CASE', 'VE_FORMS', 'VEH_NO', 'PER_NO',\n",
       "       'STR_VEH', 'COUNTY', 'DAY', 'DAYNAME', 'MONTH', 'MONTHNAME',\n",
       "       'HOUR', 'HOURNAME', 'MINUTE', 'MINUTENAME', 'RUR_URB',\n",
       "       'RUR_URBNAME', 'FUNC_SYS', 'FUNC_SYSNAME', 'HARM_EV',\n",
       "       'HARM_EVNAME', 'MAN_COLL', 'MAN_COLLNAME', 'SCH_BUS',\n",
       "       'SCH_BUSNAME', 'MAKE', 'MAKENAME', 'MAK_MOD', 'BODY_TYP',\n",
       "       'BODY_TYPNAME', 'MOD_YEAR', 'MOD_YEARNAME', 'TOW_VEH',\n",
       "       'TOW_VEHNAME', 'SPEC_USE', 'SPEC_USENAME', 'EMER_USE',\n",
       "       'EMER_USENAME', 'ROLLOVER', 'ROLLOVERNAME', 'IMPACT1',\n",
       "       'IMPACT1NAME', 'FIRE_EXP', 'FIRE_EXPNAME', 'AGE', 'AGENAME', 'SEX',\n",
       "       'SEXNAME', 'PER_TYP', 'PER_TYPNAME', 'INJ_SEV', 'INJ_SEVNAME',\n",
       "       'SEAT_POS', 'SEAT_POSNAME', 'REST_USE', 'REST_USENAME', 'REST_MIS',\n",
       "       'REST_MISNAME', 'AIR_BAG', 'AIR_BAGNAME', 'EJECTION',\n",
       "       'EJECTIONNAME', 'EJ_PATH', 'EJ_PATHNAME', 'EXTRICAT',\n",
       "       'EXTRICATNAME', 'DRINKING', 'DRINKINGNAME', 'ALC_DET',\n",
       "       'ALC_DETNAME', 'ALC_STATUS', 'ALC_STATUSNAME', 'ATST_TYP',\n",
       "       'ATST_TYPNAME', 'ALC_RES', 'ALC_RESNAME', 'DRUGS', 'DRUGSNAME',\n",
       "       'DRUG_DET', 'DRUG_DETNAME', 'DSTATUS', 'DSTATUSNAME', 'HOSPITAL',\n",
       "       'HOSPITALNAME', 'DOA', 'DOANAME', 'DEATH_DA', 'DEATH_DANAME',\n",
       "       'DEATH_MO', 'DEATH_MONAME', 'DEATH_YR', 'DEATH_YRNAME', 'DEATH_HR',\n",
       "       'DEATH_HRNAME', 'DEATH_MN', 'DEATH_MNNAME', 'DEATH_TM',\n",
       "       'DEATH_TMNAME', 'LAG_HRS', 'LAG_HRSNAME', 'LAG_MINS',\n",
       "       'LAG_MINSNAME', 'P_SF1', 'P_SF1NAME', 'P_SF2', 'P_SF2NAME',\n",
       "       'P_SF3', 'P_SF3NAME', 'WORK_INJ', 'WORK_INJNAME', 'HISPANIC',\n",
       "       'HISPANICNAME', 'LOCATION', 'LOCATIONNAME', 'HELM_USE',\n",
       "       'HELM_USENAME', 'HELM_MIS', 'HELM_MISNAME'], dtype=object)"
      ]
     },
     "execution_count": 9,
     "metadata": {},
     "output_type": "execute_result"
    }
   ],
   "source": [
    "pd.unique(table_person.columns)"
   ]
  },
  {
   "cell_type": "code",
   "execution_count": 10,
   "id": "a562d715",
   "metadata": {},
   "outputs": [
    {
     "data": {
      "text/plain": [
       "Not Applicable    62413\n",
       "Died at Scene     20121\n",
       "Died En Route       241\n",
       "Unknown              68\n",
       "Name: DOANAME, dtype: int64"
      ]
     },
     "execution_count": 10,
     "metadata": {},
     "output_type": "execute_result"
    }
   ],
   "source": [
    "#### assessing values in PERSON to decide which to keep\n",
    "# pd.unique(table_person.DOANAME)\n",
    "table_person.DOANAME.value_counts()"
   ]
  },
  {
   "cell_type": "code",
   "execution_count": 11,
   "id": "1e780abb",
   "metadata": {},
   "outputs": [],
   "source": [
    "### Need to craft a fatality by person column"
   ]
  },
  {
   "cell_type": "code",
   "execution_count": 12,
   "id": "ede17e51",
   "metadata": {
    "scrolled": true
   },
   "outputs": [
    {
     "data": {
      "text/html": [
       "<div>\n",
       "<style scoped>\n",
       "    .dataframe tbody tr th:only-of-type {\n",
       "        vertical-align: middle;\n",
       "    }\n",
       "\n",
       "    .dataframe tbody tr th {\n",
       "        vertical-align: top;\n",
       "    }\n",
       "\n",
       "    .dataframe thead th {\n",
       "        text-align: right;\n",
       "    }\n",
       "</style>\n",
       "<table border=\"1\" class=\"dataframe\">\n",
       "  <thead>\n",
       "    <tr style=\"text-align: right;\">\n",
       "      <th></th>\n",
       "      <th>STATE</th>\n",
       "      <th>STATENAME</th>\n",
       "      <th>ST_CASE</th>\n",
       "      <th>VEH_NO</th>\n",
       "      <th>MFACTOR</th>\n",
       "      <th>MFACTORNAME</th>\n",
       "    </tr>\n",
       "  </thead>\n",
       "  <tbody>\n",
       "    <tr>\n",
       "      <th>0</th>\n",
       "      <td>1</td>\n",
       "      <td>Alabama</td>\n",
       "      <td>10001</td>\n",
       "      <td>1</td>\n",
       "      <td>0</td>\n",
       "      <td>None</td>\n",
       "    </tr>\n",
       "    <tr>\n",
       "      <th>1</th>\n",
       "      <td>1</td>\n",
       "      <td>Alabama</td>\n",
       "      <td>10001</td>\n",
       "      <td>2</td>\n",
       "      <td>0</td>\n",
       "      <td>None</td>\n",
       "    </tr>\n",
       "    <tr>\n",
       "      <th>2</th>\n",
       "      <td>1</td>\n",
       "      <td>Alabama</td>\n",
       "      <td>10002</td>\n",
       "      <td>1</td>\n",
       "      <td>0</td>\n",
       "      <td>None</td>\n",
       "    </tr>\n",
       "    <tr>\n",
       "      <th>3</th>\n",
       "      <td>1</td>\n",
       "      <td>Alabama</td>\n",
       "      <td>10002</td>\n",
       "      <td>2</td>\n",
       "      <td>0</td>\n",
       "      <td>None</td>\n",
       "    </tr>\n",
       "    <tr>\n",
       "      <th>4</th>\n",
       "      <td>1</td>\n",
       "      <td>Alabama</td>\n",
       "      <td>10003</td>\n",
       "      <td>1</td>\n",
       "      <td>0</td>\n",
       "      <td>None</td>\n",
       "    </tr>\n",
       "  </tbody>\n",
       "</table>\n",
       "</div>"
      ],
      "text/plain": [
       "   STATE STATENAME  ST_CASE  VEH_NO  MFACTOR MFACTORNAME\n",
       "0      1   Alabama    10001       1        0        None\n",
       "1      1   Alabama    10001       2        0        None\n",
       "2      1   Alabama    10002       1        0        None\n",
       "3      1   Alabama    10002       2        0        None\n",
       "4      1   Alabama    10003       1        0        None"
      ]
     },
     "execution_count": 12,
     "metadata": {},
     "output_type": "execute_result"
    }
   ],
   "source": [
    "table_factor = pd.read_csv(data_factor, low_memory=False)\n",
    "table_factor.head()"
   ]
  },
  {
   "cell_type": "code",
   "execution_count": 13,
   "id": "17a6eebd",
   "metadata": {
    "scrolled": false
   },
   "outputs": [
    {
     "data": {
      "text/plain": [
       "array(['None', 'Reported as Unknown',\n",
       "       'Vehicle Contributing Factors - No Details', 'Tires',\n",
       "       'Other Lights', 'Other', 'Brake System', 'Head Lights',\n",
       "       'Not Reported', 'Steering', 'Windows/Windshield',\n",
       "       'Truck Coupling/Trailer Hitch/Safety Chains', 'Suspension',\n",
       "       'Safety Systems', 'Body, Doors', 'Wheels', 'Mirrors',\n",
       "       'Power Train', 'Exhaust System', 'Signal Lights', 'Wipers'],\n",
       "      dtype=object)"
      ]
     },
     "execution_count": 13,
     "metadata": {},
     "output_type": "execute_result"
    }
   ],
   "source": [
    "### checking out factor names in factors\n",
    "pd.unique(table_factor['MFACTORNAME'])"
   ]
  },
  {
   "cell_type": "code",
   "execution_count": 14,
   "id": "e39201d0",
   "metadata": {
    "scrolled": true
   },
   "outputs": [
    {
     "data": {
      "text/html": [
       "<div>\n",
       "<style scoped>\n",
       "    .dataframe tbody tr th:only-of-type {\n",
       "        vertical-align: middle;\n",
       "    }\n",
       "\n",
       "    .dataframe tbody tr th {\n",
       "        vertical-align: top;\n",
       "    }\n",
       "\n",
       "    .dataframe thead th {\n",
       "        text-align: right;\n",
       "    }\n",
       "</style>\n",
       "<table border=\"1\" class=\"dataframe\">\n",
       "  <thead>\n",
       "    <tr style=\"text-align: right;\">\n",
       "      <th></th>\n",
       "      <th>STATE</th>\n",
       "      <th>STATENAME</th>\n",
       "      <th>ST_CASE</th>\n",
       "      <th>VEH_NO</th>\n",
       "      <th>MVISOBSC</th>\n",
       "      <th>MVISOBSCNAME</th>\n",
       "    </tr>\n",
       "  </thead>\n",
       "  <tbody>\n",
       "    <tr>\n",
       "      <th>0</th>\n",
       "      <td>1</td>\n",
       "      <td>Alabama</td>\n",
       "      <td>10001</td>\n",
       "      <td>1</td>\n",
       "      <td>0</td>\n",
       "      <td>No Obstruction Noted</td>\n",
       "    </tr>\n",
       "    <tr>\n",
       "      <th>1</th>\n",
       "      <td>1</td>\n",
       "      <td>Alabama</td>\n",
       "      <td>10001</td>\n",
       "      <td>2</td>\n",
       "      <td>0</td>\n",
       "      <td>No Obstruction Noted</td>\n",
       "    </tr>\n",
       "    <tr>\n",
       "      <th>2</th>\n",
       "      <td>1</td>\n",
       "      <td>Alabama</td>\n",
       "      <td>10002</td>\n",
       "      <td>1</td>\n",
       "      <td>0</td>\n",
       "      <td>No Obstruction Noted</td>\n",
       "    </tr>\n",
       "    <tr>\n",
       "      <th>3</th>\n",
       "      <td>1</td>\n",
       "      <td>Alabama</td>\n",
       "      <td>10002</td>\n",
       "      <td>2</td>\n",
       "      <td>0</td>\n",
       "      <td>No Obstruction Noted</td>\n",
       "    </tr>\n",
       "    <tr>\n",
       "      <th>4</th>\n",
       "      <td>1</td>\n",
       "      <td>Alabama</td>\n",
       "      <td>10003</td>\n",
       "      <td>1</td>\n",
       "      <td>0</td>\n",
       "      <td>No Obstruction Noted</td>\n",
       "    </tr>\n",
       "  </tbody>\n",
       "</table>\n",
       "</div>"
      ],
      "text/plain": [
       "   STATE STATENAME  ST_CASE  VEH_NO  MVISOBSC          MVISOBSCNAME\n",
       "0      1   Alabama    10001       1         0  No Obstruction Noted\n",
       "1      1   Alabama    10001       2         0  No Obstruction Noted\n",
       "2      1   Alabama    10002       1         0  No Obstruction Noted\n",
       "3      1   Alabama    10002       2         0  No Obstruction Noted\n",
       "4      1   Alabama    10003       1         0  No Obstruction Noted"
      ]
     },
     "execution_count": 14,
     "metadata": {},
     "output_type": "execute_result"
    }
   ],
   "source": [
    "table_vision = pd.read_csv(data_vision, low_memory=False)\n",
    "table_vision.head()"
   ]
  },
  {
   "cell_type": "code",
   "execution_count": 15,
   "id": "028a5042",
   "metadata": {
    "scrolled": true
   },
   "outputs": [
    {
     "data": {
      "text/plain": [
       "array(['No Obstruction Noted',\n",
       "       'Curve, Hill or Other Roadway Design Feature',\n",
       "       'No Driver Present/Unknown if Driver present',\n",
       "       'Reflected Glare, Bright Sunlight, Headlights',\n",
       "       'In-Transport Motor Vehicle (including load)',\n",
       "       'Rain, Snow, Fog, Smoke, Sand, Dust', 'Reported as Unknown',\n",
       "       'Vision Obscured - No Details',\n",
       "       'Not In-Transport Motor Vehicle (parked, working)',\n",
       "       'Other Visual Obstruction', 'Inadequate Defrost or Defog System',\n",
       "       'Trees, Crops, Vegetation', 'Splash or Spray of Passing Vehicle',\n",
       "       'Obstruction Interior to the Vehicle',\n",
       "       'Obstructing Angles on Vehicle',\n",
       "       'Inadequate Vehicle Lighting System', 'External Mirrors',\n",
       "       'Broken or Improperly Cleaned Windshield',\n",
       "       'Building, Billboard, Other Structure'], dtype=object)"
      ]
     },
     "execution_count": 15,
     "metadata": {},
     "output_type": "execute_result"
    }
   ],
   "source": [
    "### checking out factor names in vision\n",
    "pd.unique(table_vision['MVISOBSCNAME'])"
   ]
  },
  {
   "cell_type": "markdown",
   "id": "c3b6a8ae",
   "metadata": {},
   "source": [
    "<a id=\"id2\"></a>"
   ]
  },
  {
   "cell_type": "code",
   "execution_count": 16,
   "id": "3bb557db",
   "metadata": {},
   "outputs": [
    {
     "data": {
      "text/html": [
       "<div>\n",
       "<style scoped>\n",
       "    .dataframe tbody tr th:only-of-type {\n",
       "        vertical-align: middle;\n",
       "    }\n",
       "\n",
       "    .dataframe tbody tr th {\n",
       "        vertical-align: top;\n",
       "    }\n",
       "\n",
       "    .dataframe thead th {\n",
       "        text-align: right;\n",
       "    }\n",
       "</style>\n",
       "<table border=\"1\" class=\"dataframe\">\n",
       "  <thead>\n",
       "    <tr style=\"text-align: right;\">\n",
       "      <th></th>\n",
       "      <th>STATE</th>\n",
       "      <th>STATENAME</th>\n",
       "      <th>ST_CASE</th>\n",
       "      <th>VEH_NO</th>\n",
       "      <th>PER_NO</th>\n",
       "      <th>DRUGSPEC</th>\n",
       "      <th>DRUGSPECNAME</th>\n",
       "      <th>DRUGRES</th>\n",
       "      <th>DRUGRESNAME</th>\n",
       "    </tr>\n",
       "  </thead>\n",
       "  <tbody>\n",
       "    <tr>\n",
       "      <th>0</th>\n",
       "      <td>1</td>\n",
       "      <td>Alabama</td>\n",
       "      <td>10001</td>\n",
       "      <td>1</td>\n",
       "      <td>1</td>\n",
       "      <td>0</td>\n",
       "      <td>Test Not Given</td>\n",
       "      <td>0</td>\n",
       "      <td>Test Not Given</td>\n",
       "    </tr>\n",
       "    <tr>\n",
       "      <th>1</th>\n",
       "      <td>1</td>\n",
       "      <td>Alabama</td>\n",
       "      <td>10001</td>\n",
       "      <td>1</td>\n",
       "      <td>2</td>\n",
       "      <td>0</td>\n",
       "      <td>Test Not Given</td>\n",
       "      <td>0</td>\n",
       "      <td>Test Not Given</td>\n",
       "    </tr>\n",
       "    <tr>\n",
       "      <th>2</th>\n",
       "      <td>1</td>\n",
       "      <td>Alabama</td>\n",
       "      <td>10001</td>\n",
       "      <td>2</td>\n",
       "      <td>1</td>\n",
       "      <td>0</td>\n",
       "      <td>Test Not Given</td>\n",
       "      <td>0</td>\n",
       "      <td>Test Not Given</td>\n",
       "    </tr>\n",
       "    <tr>\n",
       "      <th>3</th>\n",
       "      <td>1</td>\n",
       "      <td>Alabama</td>\n",
       "      <td>10002</td>\n",
       "      <td>1</td>\n",
       "      <td>1</td>\n",
       "      <td>1</td>\n",
       "      <td>Whole Blood</td>\n",
       "      <td>401</td>\n",
       "      <td>AMPHETAMINE</td>\n",
       "    </tr>\n",
       "    <tr>\n",
       "      <th>4</th>\n",
       "      <td>1</td>\n",
       "      <td>Alabama</td>\n",
       "      <td>10002</td>\n",
       "      <td>1</td>\n",
       "      <td>1</td>\n",
       "      <td>1</td>\n",
       "      <td>Whole Blood</td>\n",
       "      <td>417</td>\n",
       "      <td>METHAMPHETAMINE</td>\n",
       "    </tr>\n",
       "  </tbody>\n",
       "</table>\n",
       "</div>"
      ],
      "text/plain": [
       "   STATE STATENAME  ST_CASE  VEH_NO  PER_NO  DRUGSPEC    DRUGSPECNAME  \\\n",
       "0      1   Alabama    10001       1       1         0  Test Not Given   \n",
       "1      1   Alabama    10001       1       2         0  Test Not Given   \n",
       "2      1   Alabama    10001       2       1         0  Test Not Given   \n",
       "3      1   Alabama    10002       1       1         1     Whole Blood   \n",
       "4      1   Alabama    10002       1       1         1     Whole Blood   \n",
       "\n",
       "   DRUGRES      DRUGRESNAME  \n",
       "0        0   Test Not Given  \n",
       "1        0   Test Not Given  \n",
       "2        0   Test Not Given  \n",
       "3      401      AMPHETAMINE  \n",
       "4      417  METHAMPHETAMINE  "
      ]
     },
     "execution_count": 16,
     "metadata": {},
     "output_type": "execute_result"
    }
   ],
   "source": [
    "table_drugs = pd.read_csv(data_drugs, low_memory=False)\n",
    "table_drugs.head()"
   ]
  },
  {
   "cell_type": "markdown",
   "id": "b9d45e12",
   "metadata": {},
   "source": [
    "<a id=\"id4\"></a>"
   ]
  },
  {
   "cell_type": "markdown",
   "id": "45accc7e",
   "metadata": {},
   "source": [
    "## Subsetting before initial assessments of column types"
   ]
  },
  {
   "cell_type": "code",
   "execution_count": 17,
   "id": "736c18a7",
   "metadata": {
    "scrolled": true
   },
   "outputs": [
    {
     "data": {
      "text/plain": [
       "Index(['STATE', 'STATENAME', 'ST_CASE', 'VE_TOTAL', 'VE_FORMS', 'PVH_INVL',\n",
       "       'PEDS', 'PERSONS', 'PERMVIT', 'PERNOTMVIT', 'COUNTY', 'COUNTYNAME',\n",
       "       'CITY', 'CITYNAME', 'DAY', 'DAYNAME', 'MONTH', 'MONTHNAME', 'YEAR',\n",
       "       'DAY_WEEK', 'DAY_WEEKNAME', 'HOUR', 'HOURNAME', 'MINUTE', 'MINUTENAME',\n",
       "       'NHS', 'NHSNAME', 'ROUTE', 'ROUTENAME', 'TWAY_ID', 'TWAY_ID2',\n",
       "       'RUR_URB', 'RUR_URBNAME', 'FUNC_SYS', 'FUNC_SYSNAME', 'RD_OWNER',\n",
       "       'RD_OWNERNAME', 'MILEPT', 'MILEPTNAME', 'LATITUDE', 'LATITUDENAME',\n",
       "       'LONGITUD', 'LONGITUDNAME', 'SP_JUR', 'SP_JURNAME', 'HARM_EV',\n",
       "       'HARM_EVNAME', 'MAN_COLL', 'MAN_COLLNAME', 'RELJCT1', 'RELJCT1NAME',\n",
       "       'RELJCT2', 'RELJCT2NAME', 'TYP_INT', 'TYP_INTNAME', 'WRK_ZONE',\n",
       "       'WRK_ZONENAME', 'REL_ROAD', 'REL_ROADNAME', 'LGT_COND', 'LGT_CONDNAME',\n",
       "       'WEATHER1', 'WEATHER1NAME', 'WEATHER2', 'WEATHER2NAME', 'WEATHER',\n",
       "       'WEATHERNAME', 'SCH_BUS', 'SCH_BUSNAME', 'RAIL', 'RAILNAME', 'NOT_HOUR',\n",
       "       'NOT_HOURNAME', 'NOT_MIN', 'NOT_MINNAME', 'ARR_HOUR', 'ARR_HOURNAME',\n",
       "       'ARR_MIN', 'ARR_MINNAME', 'HOSP_HR', 'HOSP_HRNAME', 'HOSP_MN',\n",
       "       'HOSP_MNNAME', 'CF1', 'CF1NAME', 'CF2', 'CF2NAME', 'CF3', 'CF3NAME',\n",
       "       'FATALS', 'DRUNK_DR'],\n",
       "      dtype='object')"
      ]
     },
     "execution_count": 17,
     "metadata": {},
     "output_type": "execute_result"
    }
   ],
   "source": [
    "### Redux: accident table provides the best numbers with state_case as unique id\n",
    "### Data wrangling challenge will be to combine best columns from different DataFrames to one\n",
    "table_accident.columns"
   ]
  },
  {
   "cell_type": "code",
   "execution_count": 18,
   "id": "04eefbe9",
   "metadata": {},
   "outputs": [
    {
     "data": {
      "text/plain": [
       "0    2\n",
       "1    1\n",
       "2    1\n",
       "3    1\n",
       "4    1\n",
       "Name: MONTH, dtype: int64"
      ]
     },
     "execution_count": 18,
     "metadata": {},
     "output_type": "execute_result"
    }
   ],
   "source": [
    "table_accident['MONTH'].head()"
   ]
  },
  {
   "cell_type": "code",
   "execution_count": 19,
   "id": "beec0b37",
   "metadata": {
    "scrolled": true
   },
   "outputs": [
    {
     "name": "stdout",
     "output_type": "stream",
     "text": [
      "['STATE', 'STATENAME', 'ST_CASE', 'VE_FORMS', 'VEH_NO', 'PER_NO', 'STR_VEH', 'COUNTY', 'DAY', 'DAYNAME', 'MONTH', 'MONTHNAME', 'HOUR', 'HOURNAME', 'MINUTE', 'MINUTENAME', 'RUR_URB', 'RUR_URBNAME', 'FUNC_SYS', 'FUNC_SYSNAME', 'HARM_EV', 'HARM_EVNAME', 'MAN_COLL', 'MAN_COLLNAME', 'SCH_BUS', 'SCH_BUSNAME', 'MAKE', 'MAKENAME', 'MAK_MOD', 'BODY_TYP', 'BODY_TYPNAME', 'MOD_YEAR', 'MOD_YEARNAME', 'TOW_VEH', 'TOW_VEHNAME', 'SPEC_USE', 'SPEC_USENAME', 'EMER_USE', 'EMER_USENAME', 'ROLLOVER', 'ROLLOVERNAME', 'IMPACT1', 'IMPACT1NAME', 'FIRE_EXP', 'FIRE_EXPNAME', 'AGE', 'AGENAME', 'SEX', 'SEXNAME', 'PER_TYP', 'PER_TYPNAME', 'INJ_SEV', 'INJ_SEVNAME', 'SEAT_POS', 'SEAT_POSNAME', 'REST_USE', 'REST_USENAME', 'REST_MIS', 'REST_MISNAME', 'AIR_BAG', 'AIR_BAGNAME', 'EJECTION', 'EJECTIONNAME', 'EJ_PATH', 'EJ_PATHNAME', 'EXTRICAT', 'EXTRICATNAME', 'DRINKING', 'DRINKINGNAME', 'ALC_DET', 'ALC_DETNAME', 'ALC_STATUS', 'ALC_STATUSNAME', 'ATST_TYP', 'ATST_TYPNAME', 'ALC_RES', 'ALC_RESNAME', 'DRUGS', 'DRUGSNAME', 'DRUG_DET', 'DRUG_DETNAME', 'DSTATUS', 'DSTATUSNAME', 'HOSPITAL', 'HOSPITALNAME', 'DOA', 'DOANAME', 'DEATH_DA', 'DEATH_DANAME', 'DEATH_MO', 'DEATH_MONAME', 'DEATH_YR', 'DEATH_YRNAME', 'DEATH_HR', 'DEATH_HRNAME', 'DEATH_MN', 'DEATH_MNNAME', 'DEATH_TM', 'DEATH_TMNAME', 'LAG_HRS', 'LAG_HRSNAME', 'LAG_MINS', 'LAG_MINSNAME', 'P_SF1', 'P_SF1NAME', 'P_SF2', 'P_SF2NAME', 'P_SF3', 'P_SF3NAME', 'WORK_INJ', 'WORK_INJNAME', 'HISPANIC', 'HISPANICNAME', 'LOCATION', 'LOCATIONNAME', 'HELM_USE', 'HELM_USENAME', 'HELM_MIS', 'HELM_MISNAME']\n"
     ]
    }
   ],
   "source": [
    "### Really large column list for person data\n",
    "print(table_person.columns.tolist())"
   ]
  },
  {
   "cell_type": "code",
   "execution_count": 20,
   "id": "98ce1ea0",
   "metadata": {},
   "outputs": [],
   "source": [
    "#### Need to subset for important columns only in accident, winnow the other tables, and then combine\n",
    "df_accident = table_accident[['STATE', 'STATENAME', 'ST_CASE', 'VE_TOTAL', 'VE_FORMS', 'PVH_INVL',\n",
    "       'PEDS', 'PERSONS', 'DAY', 'DAYNAME', 'MONTH', 'MONTHNAME', 'YEAR',\n",
    "       'DAY_WEEKNAME', 'HOUR', 'RUR_URBNAME', 'HARM_EVNAME', 'LGT_CONDNAME', 'WEATHER1NAME','WEATHER2NAME',\n",
    "       'WEATHERNAME', 'FATALS', 'DRUNK_DR']]    \n",
    "\n",
    "df_person = table_person[['STATE', 'ST_CASE', 'VE_FORMS', 'VEH_NO', 'PER_NO', 'AGE', 'SEXNAME','PER_TYPNAME','DRINKINGNAME',]]\n",
    "\n",
    "df_factor = table_factor[['ST_CASE', 'VEH_NO', 'MFACTORNAME']]\n",
    "\n",
    "df_vision = table_vision[['ST_CASE', 'VEH_NO','MVISOBSCNAME']]\n",
    "\n",
    "df_drugs = table_drugs[['ST_CASE', 'VEH_NO', 'PER_NO', 'DRUGRESNAME']]\n"
   ]
  },
  {
   "cell_type": "code",
   "execution_count": 21,
   "id": "50e8d045",
   "metadata": {
    "scrolled": false
   },
   "outputs": [
    {
     "data": {
      "text/plain": [
       "Index(['STATE', 'STATENAME', 'ST_CASE', 'VE_TOTAL', 'VE_FORMS', 'PVH_INVL',\n",
       "       'PEDS', 'PERSONS', 'DAY', 'DAYNAME', 'MONTH', 'MONTHNAME', 'YEAR',\n",
       "       'DAY_WEEKNAME', 'HOUR', 'RUR_URBNAME', 'HARM_EVNAME', 'LGT_CONDNAME',\n",
       "       'WEATHER1NAME', 'WEATHER2NAME', 'WEATHERNAME', 'FATALS', 'DRUNK_DR'],\n",
       "      dtype='object')"
      ]
     },
     "execution_count": 21,
     "metadata": {},
     "output_type": "execute_result"
    }
   ],
   "source": [
    "df_accident.columns"
   ]
  },
  {
   "cell_type": "code",
   "execution_count": 38,
   "id": "67eacd49",
   "metadata": {},
   "outputs": [],
   "source": [
    "###Making a new F_RATIO column after dropping the 0s for PERSONS\n",
    "df_accident = df_accident[df_accident[\"PERSONS\"] > 0]\n",
    "df_accident['F_RATIO'] = (df_accident['FATALS']/(df_accident['PERSONS']+df_accident['PEDS'])*100).round(2)"
   ]
  },
  {
   "cell_type": "code",
   "execution_count": 39,
   "id": "76acd110",
   "metadata": {},
   "outputs": [
    {
     "data": {
      "image/png": "[encoded data removed]",
      "text/plain": [
       "<Figure size 432x288 with 1 Axes>"
      ]
     },
     "metadata": {
      "needs_background": "light"
     },
     "output_type": "display_data"
    }
   ],
   "source": [
    "plt.boxplot(df_accident['F_RATIO']);"
   ]
  },
  {
   "cell_type": "code",
   "execution_count": 40,
   "id": "a14f97d3",
   "metadata": {},
   "outputs": [
    {
     "data": {
      "text/html": [
       "<div>\n",
       "<style scoped>\n",
       "    .dataframe tbody tr th:only-of-type {\n",
       "        vertical-align: middle;\n",
       "    }\n",
       "\n",
       "    .dataframe tbody tr th {\n",
       "        vertical-align: top;\n",
       "    }\n",
       "\n",
       "    .dataframe thead th {\n",
       "        text-align: right;\n",
       "    }\n",
       "</style>\n",
       "<table border=\"1\" class=\"dataframe\">\n",
       "  <thead>\n",
       "    <tr style=\"text-align: right;\">\n",
       "      <th></th>\n",
       "      <th>STATE</th>\n",
       "      <th>STATENAME</th>\n",
       "      <th>ST_CASE</th>\n",
       "      <th>VE_TOTAL</th>\n",
       "      <th>VE_FORMS</th>\n",
       "      <th>PVH_INVL</th>\n",
       "      <th>PEDS</th>\n",
       "      <th>PERSONS</th>\n",
       "      <th>DAY</th>\n",
       "      <th>DAYNAME</th>\n",
       "      <th>...</th>\n",
       "      <th>HOUR</th>\n",
       "      <th>RUR_URBNAME</th>\n",
       "      <th>HARM_EVNAME</th>\n",
       "      <th>LGT_CONDNAME</th>\n",
       "      <th>WEATHER1NAME</th>\n",
       "      <th>WEATHER2NAME</th>\n",
       "      <th>WEATHERNAME</th>\n",
       "      <th>FATALS</th>\n",
       "      <th>DRUNK_DR</th>\n",
       "      <th>F_RATIO</th>\n",
       "    </tr>\n",
       "  </thead>\n",
       "  <tbody>\n",
       "    <tr>\n",
       "      <th>0</th>\n",
       "      <td>1</td>\n",
       "      <td>Alabama</td>\n",
       "      <td>10001</td>\n",
       "      <td>2</td>\n",
       "      <td>2</td>\n",
       "      <td>0</td>\n",
       "      <td>0</td>\n",
       "      <td>3</td>\n",
       "      <td>7</td>\n",
       "      <td>7</td>\n",
       "      <td>...</td>\n",
       "      <td>12</td>\n",
       "      <td>Urban</td>\n",
       "      <td>Motor Vehicle In-Transport</td>\n",
       "      <td>Daylight</td>\n",
       "      <td>Clear</td>\n",
       "      <td>No Additional Atmospheric Conditions</td>\n",
       "      <td>Clear</td>\n",
       "      <td>1</td>\n",
       "      <td>1</td>\n",
       "      <td>33.33</td>\n",
       "    </tr>\n",
       "    <tr>\n",
       "      <th>1</th>\n",
       "      <td>1</td>\n",
       "      <td>Alabama</td>\n",
       "      <td>10002</td>\n",
       "      <td>2</td>\n",
       "      <td>2</td>\n",
       "      <td>0</td>\n",
       "      <td>0</td>\n",
       "      <td>2</td>\n",
       "      <td>23</td>\n",
       "      <td>23</td>\n",
       "      <td>...</td>\n",
       "      <td>18</td>\n",
       "      <td>Urban</td>\n",
       "      <td>Motor Vehicle In-Transport</td>\n",
       "      <td>Dark - Not Lighted</td>\n",
       "      <td>Rain</td>\n",
       "      <td>No Additional Atmospheric Conditions</td>\n",
       "      <td>Rain</td>\n",
       "      <td>1</td>\n",
       "      <td>0</td>\n",
       "      <td>50.00</td>\n",
       "    </tr>\n",
       "    <tr>\n",
       "      <th>2</th>\n",
       "      <td>1</td>\n",
       "      <td>Alabama</td>\n",
       "      <td>10003</td>\n",
       "      <td>3</td>\n",
       "      <td>3</td>\n",
       "      <td>0</td>\n",
       "      <td>0</td>\n",
       "      <td>4</td>\n",
       "      <td>22</td>\n",
       "      <td>22</td>\n",
       "      <td>...</td>\n",
       "      <td>19</td>\n",
       "      <td>Rural</td>\n",
       "      <td>Motor Vehicle In-Transport</td>\n",
       "      <td>Dark - Not Lighted</td>\n",
       "      <td>Cloudy</td>\n",
       "      <td>No Additional Atmospheric Conditions</td>\n",
       "      <td>Cloudy</td>\n",
       "      <td>1</td>\n",
       "      <td>0</td>\n",
       "      <td>25.00</td>\n",
       "    </tr>\n",
       "    <tr>\n",
       "      <th>3</th>\n",
       "      <td>1</td>\n",
       "      <td>Alabama</td>\n",
       "      <td>10004</td>\n",
       "      <td>1</td>\n",
       "      <td>1</td>\n",
       "      <td>0</td>\n",
       "      <td>1</td>\n",
       "      <td>1</td>\n",
       "      <td>22</td>\n",
       "      <td>22</td>\n",
       "      <td>...</td>\n",
       "      <td>3</td>\n",
       "      <td>Rural</td>\n",
       "      <td>Pedestrian</td>\n",
       "      <td>Dark - Not Lighted</td>\n",
       "      <td>Clear</td>\n",
       "      <td>No Additional Atmospheric Conditions</td>\n",
       "      <td>Clear</td>\n",
       "      <td>1</td>\n",
       "      <td>0</td>\n",
       "      <td>50.00</td>\n",
       "    </tr>\n",
       "    <tr>\n",
       "      <th>4</th>\n",
       "      <td>1</td>\n",
       "      <td>Alabama</td>\n",
       "      <td>10005</td>\n",
       "      <td>1</td>\n",
       "      <td>1</td>\n",
       "      <td>0</td>\n",
       "      <td>0</td>\n",
       "      <td>1</td>\n",
       "      <td>18</td>\n",
       "      <td>18</td>\n",
       "      <td>...</td>\n",
       "      <td>5</td>\n",
       "      <td>Urban</td>\n",
       "      <td>Rollover/Overturn</td>\n",
       "      <td>Dark - Not Lighted</td>\n",
       "      <td>Fog, Smog, Smoke</td>\n",
       "      <td>No Additional Atmospheric Conditions</td>\n",
       "      <td>Fog, Smog, Smoke</td>\n",
       "      <td>1</td>\n",
       "      <td>1</td>\n",
       "      <td>100.00</td>\n",
       "    </tr>\n",
       "  </tbody>\n",
       "</table>\n",
       "<p>5 rows × 24 columns</p>\n",
       "</div>"
      ],
      "text/plain": [
       "  STATE STATENAME ST_CASE  VE_TOTAL  VE_FORMS  PVH_INVL  PEDS  PERSONS  DAY  \\\n",
       "0     1   Alabama   10001         2         2         0     0        3    7   \n",
       "1     1   Alabama   10002         2         2         0     0        2   23   \n",
       "2     1   Alabama   10003         3         3         0     0        4   22   \n",
       "3     1   Alabama   10004         1         1         0     1        1   22   \n",
       "4     1   Alabama   10005         1         1         0     0        1   18   \n",
       "\n",
       "   DAYNAME  ...  HOUR RUR_URBNAME                 HARM_EVNAME  \\\n",
       "0        7  ...    12       Urban  Motor Vehicle In-Transport   \n",
       "1       23  ...    18       Urban  Motor Vehicle In-Transport   \n",
       "2       22  ...    19       Rural  Motor Vehicle In-Transport   \n",
       "3       22  ...     3       Rural                  Pedestrian   \n",
       "4       18  ...     5       Urban           Rollover/Overturn   \n",
       "\n",
       "         LGT_CONDNAME      WEATHER1NAME                          WEATHER2NAME  \\\n",
       "0            Daylight             Clear  No Additional Atmospheric Conditions   \n",
       "1  Dark - Not Lighted              Rain  No Additional Atmospheric Conditions   \n",
       "2  Dark - Not Lighted            Cloudy  No Additional Atmospheric Conditions   \n",
       "3  Dark - Not Lighted             Clear  No Additional Atmospheric Conditions   \n",
       "4  Dark - Not Lighted  Fog, Smog, Smoke  No Additional Atmospheric Conditions   \n",
       "\n",
       "        WEATHERNAME FATALS DRUNK_DR F_RATIO  \n",
       "0             Clear      1        1   33.33  \n",
       "1              Rain      1        0   50.00  \n",
       "2            Cloudy      1        0   25.00  \n",
       "3             Clear      1        0   50.00  \n",
       "4  Fog, Smog, Smoke      1        1  100.00  \n",
       "\n",
       "[5 rows x 24 columns]"
      ]
     },
     "execution_count": 40,
     "metadata": {},
     "output_type": "execute_result"
    }
   ],
   "source": [
    "df_accident.head(5)"
   ]
  },
  {
   "cell_type": "markdown",
   "id": "d17892da",
   "metadata": {},
   "source": [
    "### df_accident will be the dataframe to work from from here on out"
   ]
  },
  {
   "cell_type": "markdown",
   "id": "f52d3e79",
   "metadata": {},
   "source": [
    "<a id=\"id5\"></a>"
   ]
  },
  {
   "cell_type": "markdown",
   "id": "0af9a0f8",
   "metadata": {},
   "source": [
    "## Merging DataFrames"
   ]
  },
  {
   "cell_type": "code",
   "execution_count": 22,
   "id": "4f2da033",
   "metadata": {},
   "outputs": [],
   "source": [
    "### Person will not be mergerd with drugs currently by state case, vehicle no, and person no. \n",
    "### Factor will need to be indexed with state case and veh_no; Vision also.\n"
   ]
  },
  {
   "cell_type": "code",
   "execution_count": 23,
   "id": "5ca1750c",
   "metadata": {},
   "outputs": [],
   "source": [
    "### Person will not be mergerd with drugs by state case, vehicle no, and person no; could be melted to several columns? \n",
    "#df_merged_person = df_person.merge(df_drugs, on=['ST_CASE','VEH_NO', 'PER_NO'], how = 'left')\n",
    "#df_merged_person.head()"
   ]
  },
  {
   "cell_type": "markdown",
   "id": "aab79ca9",
   "metadata": {},
   "source": [
    "<a id=\"id6\"></a>"
   ]
  },
  {
   "cell_type": "markdown",
   "id": "68db823d",
   "metadata": {},
   "source": [
    "## Checking Columns"
   ]
  },
  {
   "cell_type": "code",
   "execution_count": 41,
   "id": "e59e7a25",
   "metadata": {
    "scrolled": false
   },
   "outputs": [
    {
     "data": {
      "text/plain": [
       "Index(['STATE', 'STATENAME', 'ST_CASE', 'VE_TOTAL', 'VE_FORMS', 'PVH_INVL',\n",
       "       'PEDS', 'PERSONS', 'DAY', 'DAYNAME', 'MONTH', 'MONTHNAME', 'YEAR',\n",
       "       'DAY_WEEKNAME', 'HOUR', 'RUR_URBNAME', 'HARM_EVNAME', 'LGT_CONDNAME',\n",
       "       'WEATHER1NAME', 'WEATHER2NAME', 'WEATHERNAME', 'FATALS', 'DRUNK_DR',\n",
       "       'F_RATIO'],\n",
       "      dtype='object')"
      ]
     },
     "execution_count": 41,
     "metadata": {},
     "output_type": "execute_result"
    }
   ],
   "source": [
    "### changing some int64 into categories\n",
    "df_accident['STATE'] = df_accident['STATE'].astype('category')\n",
    "df_accident['ST_CASE'] = df_accident['ST_CASE'].astype('category')\n",
    "df_accident['STATENAME'] = df_accident['STATENAME'].astype('category')\n",
    "df_accident['DRUNK_DR'] = df_accident['DRUNK_DR'].astype('category')\n",
    "df_accident['RUR_URBNAME'] = df_accident['RUR_URBNAME'].astype('category')\n",
    "total = df_accident\n",
    "total.columns"
   ]
  },
  {
   "cell_type": "code",
   "execution_count": 42,
   "id": "fafd6570",
   "metadata": {},
   "outputs": [
    {
     "data": {
      "text/plain": [
       "California              3423\n",
       "Texas                   3293\n",
       "Florida                 2950\n",
       "Georgia                 1378\n",
       "North Carolina          1357\n",
       "Tennessee               1041\n",
       "Ohio                    1038\n",
       "Pennsylvania             990\n",
       "Illinois                 936\n",
       "South Carolina           927\n",
       "Arizona                  907\n",
       "Michigan                 902\n",
       "New York                 877\n",
       "Alabama                  856\n",
       "Missouri                 819\n",
       "Virginia                 774\n",
       "Indiana                  752\n",
       "Louisiana                680\n",
       "Kentucky                 666\n",
       "Oklahoma                 583\n",
       "Mississippi              579\n",
       "Colorado                 544\n",
       "Wisconsin                527\n",
       "New Jersey               523\n",
       "Washington               512\n",
       "Maryland                 496\n",
       "Arkansas                 473\n",
       "Oregon                   454\n",
       "New Mexico               369\n",
       "Kansas                   361\n",
       "Minnesota                333\n",
       "Massachusetts            322\n",
       "Iowa                     313\n",
       "Nevada                   285\n",
       "West Virginia            247\n",
       "Connecticut              232\n",
       "Utah                     225\n",
       "Nebraska                 212\n",
       "Idaho                    201\n",
       "Montana                  166\n",
       "Maine                    141\n",
       "Delaware                 122\n",
       "Wyoming                  120\n",
       "Hawaii                   101\n",
       "North Dakota              91\n",
       "New Hampshire             90\n",
       "South Dakota              88\n",
       "Alaska                    62\n",
       "Rhode Island              53\n",
       "Vermont                   44\n",
       "District of Columbia      22\n",
       "Name: STATENAME, dtype: int64"
      ]
     },
     "execution_count": 42,
     "metadata": {},
     "output_type": "execute_result"
    }
   ],
   "source": [
    "total.STATENAME.value_counts()"
   ]
  },
  {
   "cell_type": "code",
   "execution_count": 43,
   "id": "b684188a",
   "metadata": {},
   "outputs": [
    {
     "data": {
      "text/plain": [
       "count    33457.000000\n",
       "mean        57.508089\n",
       "std         28.576888\n",
       "min          2.700000\n",
       "25%         33.330000\n",
       "50%         50.000000\n",
       "75%        100.000000\n",
       "max        100.000000\n",
       "Name: F_RATIO, dtype: float64"
      ]
     },
     "execution_count": 43,
     "metadata": {},
     "output_type": "execute_result"
    }
   ],
   "source": [
    "total.F_RATIO.describe()"
   ]
  },
  {
   "cell_type": "code",
   "execution_count": 48,
   "id": "05ffd5e0",
   "metadata": {},
   "outputs": [],
   "source": [
    "### State Case 280246 is an illustrative example of the data. Two vehicle accident where vehicle 1 had 9 people and \n",
    "### vehicle 2 had 1. Each row is listed as 8 fatalities, because for THAT ST_CASE number, there were 8. We acutally \n",
    "### don't know which of the 9 people in the first vehicle died.\n",
    "\n",
    "rare_deaths = total[total.FATALS == 8]\n",
    "rare_deaths.to_csv('rare_deaths.csv')"
   ]
  },
  {
   "cell_type": "code",
   "execution_count": 49,
   "id": "0f380077",
   "metadata": {},
   "outputs": [
    {
     "data": {
      "text/plain": [
       "STATENAME  FATALS\n",
       "Alabama    1         799\n",
       "           2          44\n",
       "           3          10\n",
       "           4           2\n",
       "           5           1\n",
       "                    ... \n",
       "Wisconsin  3           2\n",
       "           4           1\n",
       "Wyoming    1          97\n",
       "           2          19\n",
       "           3           4\n",
       "Name: FATALS, Length: 198, dtype: int64"
      ]
     },
     "execution_count": 49,
     "metadata": {},
     "output_type": "execute_result"
    }
   ],
   "source": [
    "total.groupby(\"STATENAME\").FATALS.value_counts(sort=True)"
   ]
  },
  {
   "cell_type": "markdown",
   "id": "88b1dc76",
   "metadata": {},
   "source": [
    "<a id=\"id7\"></a>"
   ]
  },
  {
   "cell_type": "markdown",
   "id": "7f4e0015",
   "metadata": {},
   "source": [
    "## Saving Data"
   ]
  },
  {
   "cell_type": "code",
   "execution_count": 53,
   "id": "9a01153e",
   "metadata": {},
   "outputs": [],
   "source": [
    "# save the data to a new csv file: Waiting until data is more clean during EDA to split to Rural and Urban\n",
    "total.to_csv('../data/processed/new_total.csv')\n"
   ]
  }
 ],
 "metadata": {
  "kernelspec": {
   "display_name": "Python 3 (ipykernel)",
   "language": "python",
   "name": "python3"
  },
  "language_info": {
   "codemirror_mode": {
    "name": "ipython",
    "version": 3
   },
   "file_extension": ".py",
   "mimetype": "text/x-python",
   "name": "python",
   "nbconvert_exporter": "python",
   "pygments_lexer": "ipython3",
   "version": "3.9.7"
  }
 },
 "nbformat": 4,
 "nbformat_minor": 5
}
