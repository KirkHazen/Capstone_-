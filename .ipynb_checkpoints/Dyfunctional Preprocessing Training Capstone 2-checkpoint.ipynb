{
 "cells": [
  {
   "cell_type": "markdown",
   "id": "65a581ff",
   "metadata": {},
   "source": [
    "# Preprocessing and Training Data Development for Capstone 2\n",
    "This notebook handles the preprocessing and development of the training data for the FARS dataset."
   ]
  },
  {
   "cell_type": "markdown",
   "id": "300d298c",
   "metadata": {},
   "source": [
    "# Table of Contents \n",
    "1. [Research questions](#id0)\n",
    "2. [Import Packages](#id1)\n",
    "3. [Load the data](#id2)\n",
    "4. [Test Train Split for Total](#id3)\n",
    "5. [Test Train Split for Rural](#id4)\n",
    "6. [Test Train Split for Urban](#id5)\n",
    "7. [Saving progress](#id6)"
   ]
  },
  {
   "cell_type": "markdown",
   "id": "c3faf389",
   "metadata": {},
   "source": [
    "<a id=\"id0\"></a>"
   ]
  },
  {
   "cell_type": "markdown",
   "id": "16185b72",
   "metadata": {},
   "source": [
    "## Research questions\n",
    "\n",
    "In considering the transformation of rural areas into nonrural areas in the US, what factors most strongly predict fatal crashes in each contexta for the year under consideration and thereby what is predictable as this transformation continues? Will there be more fatal crashes if rural areas are transformed to urban areas? Do rural and urban areas have the same factors that correlate with fatalities.\n"
   ]
  },
  {
   "cell_type": "markdown",
   "id": "184cb980",
   "metadata": {},
   "source": [
    "<a id=\"id1\"></a>"
   ]
  },
  {
   "cell_type": "markdown",
   "id": "571a34a0",
   "metadata": {},
   "source": [
    "## Import packages"
   ]
  },
  {
   "cell_type": "code",
   "execution_count": 45,
   "id": "d7aeca1e",
   "metadata": {},
   "outputs": [],
   "source": [
    "import pandas as pd\n",
    "import numpy as np\n",
    "import os\n",
    "import matplotlib.pyplot as plt\n",
    "import seaborn as sns\n",
    "from sklearn.decomposition import PCA\n",
    "from sklearn import preprocessing\n",
    "from sklearn.preprocessing import scale\n",
    "from sklearn.model_selection import train_test_split\n",
    "import ppscore as pps\n",
    "import warnings\n",
    "warnings.filterwarnings('ignore')"
   ]
  },
  {
   "cell_type": "markdown",
   "id": "6f48e042",
   "metadata": {},
   "source": [
    "<a id=\"id2\"></a>"
   ]
  },
  {
   "cell_type": "markdown",
   "id": "7f5c2600",
   "metadata": {},
   "source": [
    "## Load the data"
   ]
  },
  {
   "cell_type": "code",
   "execution_count": 46,
   "id": "969aba1a",
   "metadata": {},
   "outputs": [],
   "source": [
    "#Import rural and urban datasets separately and also total; will test and train within each and within total.\n",
    "\n",
    "rural = pd.read_csv('../data/processed/new_rural.csv')\n",
    "urban = pd.read_csv('../data/processed/new_urban.csv')\n",
    "total = pd.read_csv('../data/processed/new_total.csv')"
   ]
  },
  {
   "cell_type": "code",
   "execution_count": 55,
   "id": "a4462a3a",
   "metadata": {},
   "outputs": [
    {
     "data": {
      "text/html": [
       "<div>\n",
       "<style scoped>\n",
       "    .dataframe tbody tr th:only-of-type {\n",
       "        vertical-align: middle;\n",
       "    }\n",
       "\n",
       "    .dataframe tbody tr th {\n",
       "        vertical-align: top;\n",
       "    }\n",
       "\n",
       "    .dataframe thead th {\n",
       "        text-align: right;\n",
       "    }\n",
       "</style>\n",
       "<table border=\"1\" class=\"dataframe\">\n",
       "  <thead>\n",
       "    <tr style=\"text-align: right;\">\n",
       "      <th></th>\n",
       "      <th>STATE</th>\n",
       "      <th>STATENAME</th>\n",
       "      <th>ST_CASE</th>\n",
       "      <th>VE_TOTAL</th>\n",
       "      <th>VE_FORMS</th>\n",
       "      <th>PVH_INVL</th>\n",
       "      <th>PEDS</th>\n",
       "      <th>PERSONS</th>\n",
       "      <th>DAY</th>\n",
       "      <th>DAYNAME</th>\n",
       "      <th>...</th>\n",
       "      <th>FATALS</th>\n",
       "      <th>DRUNK_DR</th>\n",
       "      <th>F_RATIO</th>\n",
       "      <th>REGION</th>\n",
       "      <th>WEEK_END</th>\n",
       "      <th>DAY_NIGHT</th>\n",
       "      <th>DN_Avg</th>\n",
       "      <th>WEEK_END_Avg</th>\n",
       "      <th>State_Avg</th>\n",
       "      <th>Day_Avg</th>\n",
       "    </tr>\n",
       "  </thead>\n",
       "  <tbody>\n",
       "    <tr>\n",
       "      <th>0</th>\n",
       "      <td>1</td>\n",
       "      <td>Alabama</td>\n",
       "      <td>10003</td>\n",
       "      <td>3</td>\n",
       "      <td>3</td>\n",
       "      <td>0</td>\n",
       "      <td>0</td>\n",
       "      <td>4</td>\n",
       "      <td>22</td>\n",
       "      <td>22</td>\n",
       "      <td>...</td>\n",
       "      <td>1</td>\n",
       "      <td>0</td>\n",
       "      <td>25.0</td>\n",
       "      <td>South</td>\n",
       "      <td>Weekday</td>\n",
       "      <td>Night_Time</td>\n",
       "      <td>1.085287</td>\n",
       "      <td>1.078926</td>\n",
       "      <td>1.086449</td>\n",
       "      <td>1.079063</td>\n",
       "    </tr>\n",
       "    <tr>\n",
       "      <th>1</th>\n",
       "      <td>1</td>\n",
       "      <td>Alabama</td>\n",
       "      <td>10004</td>\n",
       "      <td>1</td>\n",
       "      <td>1</td>\n",
       "      <td>0</td>\n",
       "      <td>1</td>\n",
       "      <td>1</td>\n",
       "      <td>22</td>\n",
       "      <td>22</td>\n",
       "      <td>...</td>\n",
       "      <td>1</td>\n",
       "      <td>0</td>\n",
       "      <td>50.0</td>\n",
       "      <td>South</td>\n",
       "      <td>Weekday</td>\n",
       "      <td>Day_Time</td>\n",
       "      <td>1.086942</td>\n",
       "      <td>1.078926</td>\n",
       "      <td>1.086449</td>\n",
       "      <td>1.079063</td>\n",
       "    </tr>\n",
       "    <tr>\n",
       "      <th>2</th>\n",
       "      <td>1</td>\n",
       "      <td>Alabama</td>\n",
       "      <td>10006</td>\n",
       "      <td>2</td>\n",
       "      <td>2</td>\n",
       "      <td>0</td>\n",
       "      <td>0</td>\n",
       "      <td>2</td>\n",
       "      <td>7</td>\n",
       "      <td>7</td>\n",
       "      <td>...</td>\n",
       "      <td>1</td>\n",
       "      <td>0</td>\n",
       "      <td>50.0</td>\n",
       "      <td>South</td>\n",
       "      <td>Weekday</td>\n",
       "      <td>Night_Time</td>\n",
       "      <td>1.085287</td>\n",
       "      <td>1.078926</td>\n",
       "      <td>1.086449</td>\n",
       "      <td>1.073489</td>\n",
       "    </tr>\n",
       "    <tr>\n",
       "      <th>3</th>\n",
       "      <td>1</td>\n",
       "      <td>Alabama</td>\n",
       "      <td>10007</td>\n",
       "      <td>1</td>\n",
       "      <td>1</td>\n",
       "      <td>0</td>\n",
       "      <td>0</td>\n",
       "      <td>5</td>\n",
       "      <td>2</td>\n",
       "      <td>2</td>\n",
       "      <td>...</td>\n",
       "      <td>1</td>\n",
       "      <td>0</td>\n",
       "      <td>20.0</td>\n",
       "      <td>South</td>\n",
       "      <td>Weekday</td>\n",
       "      <td>Night_Time</td>\n",
       "      <td>1.085287</td>\n",
       "      <td>1.078926</td>\n",
       "      <td>1.086449</td>\n",
       "      <td>1.082433</td>\n",
       "    </tr>\n",
       "    <tr>\n",
       "      <th>4</th>\n",
       "      <td>1</td>\n",
       "      <td>Alabama</td>\n",
       "      <td>10008</td>\n",
       "      <td>1</td>\n",
       "      <td>1</td>\n",
       "      <td>0</td>\n",
       "      <td>0</td>\n",
       "      <td>1</td>\n",
       "      <td>9</td>\n",
       "      <td>9</td>\n",
       "      <td>...</td>\n",
       "      <td>1</td>\n",
       "      <td>1</td>\n",
       "      <td>100.0</td>\n",
       "      <td>South</td>\n",
       "      <td>Weekend</td>\n",
       "      <td>Night_Time</td>\n",
       "      <td>1.085287</td>\n",
       "      <td>1.100046</td>\n",
       "      <td>1.086449</td>\n",
       "      <td>1.099610</td>\n",
       "    </tr>\n",
       "  </tbody>\n",
       "</table>\n",
       "<p>5 rows × 30 columns</p>\n",
       "</div>"
      ],
      "text/plain": [
       "   STATE STATENAME  ST_CASE  VE_TOTAL  VE_FORMS  PVH_INVL  PEDS  PERSONS  DAY  \\\n",
       "0      1   Alabama    10003         3         3         0     0        4   22   \n",
       "1      1   Alabama    10004         1         1         0     1        1   22   \n",
       "2      1   Alabama    10006         2         2         0     0        2    7   \n",
       "3      1   Alabama    10007         1         1         0     0        5    2   \n",
       "4      1   Alabama    10008         1         1         0     0        1    9   \n",
       "\n",
       "   DAYNAME  ...  FATALS DRUNK_DR F_RATIO  REGION WEEK_END   DAY_NIGHT  \\\n",
       "0       22  ...       1        0    25.0   South  Weekday  Night_Time   \n",
       "1       22  ...       1        0    50.0   South  Weekday    Day_Time   \n",
       "2        7  ...       1        0    50.0   South  Weekday  Night_Time   \n",
       "3        2  ...       1        0    20.0   South  Weekday  Night_Time   \n",
       "4        9  ...       1        1   100.0   South  Weekend  Night_Time   \n",
       "\n",
       "     DN_Avg WEEK_END_Avg State_Avg   Day_Avg  \n",
       "0  1.085287     1.078926  1.086449  1.079063  \n",
       "1  1.086942     1.078926  1.086449  1.079063  \n",
       "2  1.085287     1.078926  1.086449  1.073489  \n",
       "3  1.085287     1.078926  1.086449  1.082433  \n",
       "4  1.085287     1.100046  1.086449  1.099610  \n",
       "\n",
       "[5 rows x 30 columns]"
      ]
     },
     "execution_count": 55,
     "metadata": {},
     "output_type": "execute_result"
    }
   ],
   "source": [
    "rural.drop(['Unnamed: 0', 'Unnamed: 0.1'], axis = 1, inplace=True)\n",
    "rural.head(5)"
   ]
  },
  {
   "cell_type": "code",
   "execution_count": 56,
   "id": "7ed274ee",
   "metadata": {},
   "outputs": [
    {
     "data": {
      "text/html": [
       "<div>\n",
       "<style scoped>\n",
       "    .dataframe tbody tr th:only-of-type {\n",
       "        vertical-align: middle;\n",
       "    }\n",
       "\n",
       "    .dataframe tbody tr th {\n",
       "        vertical-align: top;\n",
       "    }\n",
       "\n",
       "    .dataframe thead th {\n",
       "        text-align: right;\n",
       "    }\n",
       "</style>\n",
       "<table border=\"1\" class=\"dataframe\">\n",
       "  <thead>\n",
       "    <tr style=\"text-align: right;\">\n",
       "      <th></th>\n",
       "      <th>STATE</th>\n",
       "      <th>STATENAME</th>\n",
       "      <th>ST_CASE</th>\n",
       "      <th>VE_TOTAL</th>\n",
       "      <th>VE_FORMS</th>\n",
       "      <th>PVH_INVL</th>\n",
       "      <th>PEDS</th>\n",
       "      <th>PERSONS</th>\n",
       "      <th>DAY</th>\n",
       "      <th>DAYNAME</th>\n",
       "      <th>...</th>\n",
       "      <th>FATALS</th>\n",
       "      <th>DRUNK_DR</th>\n",
       "      <th>F_RATIO</th>\n",
       "      <th>REGION</th>\n",
       "      <th>WEEK_END</th>\n",
       "      <th>DAY_NIGHT</th>\n",
       "      <th>DN_Avg</th>\n",
       "      <th>WEEK_END_Avg</th>\n",
       "      <th>State_Avg</th>\n",
       "      <th>Day_Avg</th>\n",
       "    </tr>\n",
       "  </thead>\n",
       "  <tbody>\n",
       "    <tr>\n",
       "      <th>0</th>\n",
       "      <td>1</td>\n",
       "      <td>Alabama</td>\n",
       "      <td>10001</td>\n",
       "      <td>2</td>\n",
       "      <td>2</td>\n",
       "      <td>0</td>\n",
       "      <td>0</td>\n",
       "      <td>3</td>\n",
       "      <td>7</td>\n",
       "      <td>7</td>\n",
       "      <td>...</td>\n",
       "      <td>1</td>\n",
       "      <td>1</td>\n",
       "      <td>33.33</td>\n",
       "      <td>South</td>\n",
       "      <td>Weekday</td>\n",
       "      <td>Night_Time</td>\n",
       "      <td>1.085287</td>\n",
       "      <td>1.078926</td>\n",
       "      <td>1.086449</td>\n",
       "      <td>1.073477</td>\n",
       "    </tr>\n",
       "    <tr>\n",
       "      <th>1</th>\n",
       "      <td>1</td>\n",
       "      <td>Alabama</td>\n",
       "      <td>10002</td>\n",
       "      <td>2</td>\n",
       "      <td>2</td>\n",
       "      <td>0</td>\n",
       "      <td>0</td>\n",
       "      <td>2</td>\n",
       "      <td>23</td>\n",
       "      <td>23</td>\n",
       "      <td>...</td>\n",
       "      <td>1</td>\n",
       "      <td>0</td>\n",
       "      <td>50.00</td>\n",
       "      <td>South</td>\n",
       "      <td>Weekday</td>\n",
       "      <td>Night_Time</td>\n",
       "      <td>1.085287</td>\n",
       "      <td>1.078926</td>\n",
       "      <td>1.086449</td>\n",
       "      <td>1.082433</td>\n",
       "    </tr>\n",
       "    <tr>\n",
       "      <th>2</th>\n",
       "      <td>1</td>\n",
       "      <td>Alabama</td>\n",
       "      <td>10005</td>\n",
       "      <td>1</td>\n",
       "      <td>1</td>\n",
       "      <td>0</td>\n",
       "      <td>0</td>\n",
       "      <td>1</td>\n",
       "      <td>18</td>\n",
       "      <td>18</td>\n",
       "      <td>...</td>\n",
       "      <td>1</td>\n",
       "      <td>1</td>\n",
       "      <td>100.00</td>\n",
       "      <td>South</td>\n",
       "      <td>Weekday</td>\n",
       "      <td>Day_Time</td>\n",
       "      <td>1.086942</td>\n",
       "      <td>1.078926</td>\n",
       "      <td>1.086449</td>\n",
       "      <td>1.085082</td>\n",
       "    </tr>\n",
       "    <tr>\n",
       "      <th>3</th>\n",
       "      <td>1</td>\n",
       "      <td>Alabama</td>\n",
       "      <td>10009</td>\n",
       "      <td>1</td>\n",
       "      <td>1</td>\n",
       "      <td>0</td>\n",
       "      <td>0</td>\n",
       "      <td>1</td>\n",
       "      <td>8</td>\n",
       "      <td>8</td>\n",
       "      <td>...</td>\n",
       "      <td>1</td>\n",
       "      <td>0</td>\n",
       "      <td>100.00</td>\n",
       "      <td>South</td>\n",
       "      <td>Weekday</td>\n",
       "      <td>Day_Time</td>\n",
       "      <td>1.086942</td>\n",
       "      <td>1.078926</td>\n",
       "      <td>1.086449</td>\n",
       "      <td>1.085082</td>\n",
       "    </tr>\n",
       "    <tr>\n",
       "      <th>4</th>\n",
       "      <td>1</td>\n",
       "      <td>Alabama</td>\n",
       "      <td>10010</td>\n",
       "      <td>1</td>\n",
       "      <td>1</td>\n",
       "      <td>0</td>\n",
       "      <td>1</td>\n",
       "      <td>1</td>\n",
       "      <td>7</td>\n",
       "      <td>7</td>\n",
       "      <td>...</td>\n",
       "      <td>1</td>\n",
       "      <td>0</td>\n",
       "      <td>50.00</td>\n",
       "      <td>South</td>\n",
       "      <td>Weekday</td>\n",
       "      <td>Day_Time</td>\n",
       "      <td>1.086942</td>\n",
       "      <td>1.078926</td>\n",
       "      <td>1.086449</td>\n",
       "      <td>1.073477</td>\n",
       "    </tr>\n",
       "  </tbody>\n",
       "</table>\n",
       "<p>5 rows × 30 columns</p>\n",
       "</div>"
      ],
      "text/plain": [
       "   STATE STATENAME  ST_CASE  VE_TOTAL  VE_FORMS  PVH_INVL  PEDS  PERSONS  DAY  \\\n",
       "0      1   Alabama    10001         2         2         0     0        3    7   \n",
       "1      1   Alabama    10002         2         2         0     0        2   23   \n",
       "2      1   Alabama    10005         1         1         0     0        1   18   \n",
       "3      1   Alabama    10009         1         1         0     0        1    8   \n",
       "4      1   Alabama    10010         1         1         0     1        1    7   \n",
       "\n",
       "   DAYNAME  ...  FATALS DRUNK_DR F_RATIO  REGION WEEK_END   DAY_NIGHT  \\\n",
       "0        7  ...       1        1   33.33   South  Weekday  Night_Time   \n",
       "1       23  ...       1        0   50.00   South  Weekday  Night_Time   \n",
       "2       18  ...       1        1  100.00   South  Weekday    Day_Time   \n",
       "3        8  ...       1        0  100.00   South  Weekday    Day_Time   \n",
       "4        7  ...       1        0   50.00   South  Weekday    Day_Time   \n",
       "\n",
       "     DN_Avg WEEK_END_Avg State_Avg   Day_Avg  \n",
       "0  1.085287     1.078926  1.086449  1.073477  \n",
       "1  1.085287     1.078926  1.086449  1.082433  \n",
       "2  1.086942     1.078926  1.086449  1.085082  \n",
       "3  1.086942     1.078926  1.086449  1.085082  \n",
       "4  1.086942     1.078926  1.086449  1.073477  \n",
       "\n",
       "[5 rows x 30 columns]"
      ]
     },
     "execution_count": 56,
     "metadata": {},
     "output_type": "execute_result"
    }
   ],
   "source": [
    "urban.drop(['Unnamed: 0', 'Unnamed: 0.1'], axis = 1, inplace=True)\n",
    "urban.head(5)"
   ]
  },
  {
   "cell_type": "code",
   "execution_count": 57,
   "id": "431edb4a",
   "metadata": {},
   "outputs": [
    {
     "data": {
      "text/html": [
       "<div>\n",
       "<style scoped>\n",
       "    .dataframe tbody tr th:only-of-type {\n",
       "        vertical-align: middle;\n",
       "    }\n",
       "\n",
       "    .dataframe tbody tr th {\n",
       "        vertical-align: top;\n",
       "    }\n",
       "\n",
       "    .dataframe thead th {\n",
       "        text-align: right;\n",
       "    }\n",
       "</style>\n",
       "<table border=\"1\" class=\"dataframe\">\n",
       "  <thead>\n",
       "    <tr style=\"text-align: right;\">\n",
       "      <th></th>\n",
       "      <th>STATE</th>\n",
       "      <th>STATENAME</th>\n",
       "      <th>ST_CASE</th>\n",
       "      <th>VE_TOTAL</th>\n",
       "      <th>VE_FORMS</th>\n",
       "      <th>PVH_INVL</th>\n",
       "      <th>PEDS</th>\n",
       "      <th>PERSONS</th>\n",
       "      <th>DAY</th>\n",
       "      <th>DAYNAME</th>\n",
       "      <th>...</th>\n",
       "      <th>FATALS</th>\n",
       "      <th>DRUNK_DR</th>\n",
       "      <th>F_RATIO</th>\n",
       "      <th>REGION</th>\n",
       "      <th>WEEK_END</th>\n",
       "      <th>DAY_NIGHT</th>\n",
       "      <th>DN_Avg</th>\n",
       "      <th>WEEK_END_Avg</th>\n",
       "      <th>State_Avg</th>\n",
       "      <th>Day_Avg</th>\n",
       "    </tr>\n",
       "  </thead>\n",
       "  <tbody>\n",
       "    <tr>\n",
       "      <th>0</th>\n",
       "      <td>1</td>\n",
       "      <td>Alabama</td>\n",
       "      <td>10001</td>\n",
       "      <td>2</td>\n",
       "      <td>2</td>\n",
       "      <td>0</td>\n",
       "      <td>0</td>\n",
       "      <td>3</td>\n",
       "      <td>7</td>\n",
       "      <td>7</td>\n",
       "      <td>...</td>\n",
       "      <td>1</td>\n",
       "      <td>1</td>\n",
       "      <td>33.33</td>\n",
       "      <td>South</td>\n",
       "      <td>Weekday</td>\n",
       "      <td>Night_Time</td>\n",
       "      <td>1.085287</td>\n",
       "      <td>1.078926</td>\n",
       "      <td>1.086449</td>\n",
       "      <td>1.073477</td>\n",
       "    </tr>\n",
       "    <tr>\n",
       "      <th>1</th>\n",
       "      <td>1</td>\n",
       "      <td>Alabama</td>\n",
       "      <td>10002</td>\n",
       "      <td>2</td>\n",
       "      <td>2</td>\n",
       "      <td>0</td>\n",
       "      <td>0</td>\n",
       "      <td>2</td>\n",
       "      <td>23</td>\n",
       "      <td>23</td>\n",
       "      <td>...</td>\n",
       "      <td>1</td>\n",
       "      <td>0</td>\n",
       "      <td>50.00</td>\n",
       "      <td>South</td>\n",
       "      <td>Weekday</td>\n",
       "      <td>Night_Time</td>\n",
       "      <td>1.085287</td>\n",
       "      <td>1.078926</td>\n",
       "      <td>1.086449</td>\n",
       "      <td>1.082433</td>\n",
       "    </tr>\n",
       "    <tr>\n",
       "      <th>2</th>\n",
       "      <td>1</td>\n",
       "      <td>Alabama</td>\n",
       "      <td>10003</td>\n",
       "      <td>3</td>\n",
       "      <td>3</td>\n",
       "      <td>0</td>\n",
       "      <td>0</td>\n",
       "      <td>4</td>\n",
       "      <td>22</td>\n",
       "      <td>22</td>\n",
       "      <td>...</td>\n",
       "      <td>1</td>\n",
       "      <td>0</td>\n",
       "      <td>25.00</td>\n",
       "      <td>South</td>\n",
       "      <td>Weekday</td>\n",
       "      <td>Night_Time</td>\n",
       "      <td>1.085287</td>\n",
       "      <td>1.078926</td>\n",
       "      <td>1.086449</td>\n",
       "      <td>1.079063</td>\n",
       "    </tr>\n",
       "    <tr>\n",
       "      <th>3</th>\n",
       "      <td>1</td>\n",
       "      <td>Alabama</td>\n",
       "      <td>10004</td>\n",
       "      <td>1</td>\n",
       "      <td>1</td>\n",
       "      <td>0</td>\n",
       "      <td>1</td>\n",
       "      <td>1</td>\n",
       "      <td>22</td>\n",
       "      <td>22</td>\n",
       "      <td>...</td>\n",
       "      <td>1</td>\n",
       "      <td>0</td>\n",
       "      <td>50.00</td>\n",
       "      <td>South</td>\n",
       "      <td>Weekday</td>\n",
       "      <td>Day_Time</td>\n",
       "      <td>1.086942</td>\n",
       "      <td>1.078926</td>\n",
       "      <td>1.086449</td>\n",
       "      <td>1.079063</td>\n",
       "    </tr>\n",
       "    <tr>\n",
       "      <th>4</th>\n",
       "      <td>1</td>\n",
       "      <td>Alabama</td>\n",
       "      <td>10005</td>\n",
       "      <td>1</td>\n",
       "      <td>1</td>\n",
       "      <td>0</td>\n",
       "      <td>0</td>\n",
       "      <td>1</td>\n",
       "      <td>18</td>\n",
       "      <td>18</td>\n",
       "      <td>...</td>\n",
       "      <td>1</td>\n",
       "      <td>1</td>\n",
       "      <td>100.00</td>\n",
       "      <td>South</td>\n",
       "      <td>Weekday</td>\n",
       "      <td>Day_Time</td>\n",
       "      <td>1.086942</td>\n",
       "      <td>1.078926</td>\n",
       "      <td>1.086449</td>\n",
       "      <td>1.085082</td>\n",
       "    </tr>\n",
       "  </tbody>\n",
       "</table>\n",
       "<p>5 rows × 30 columns</p>\n",
       "</div>"
      ],
      "text/plain": [
       "   STATE STATENAME  ST_CASE  VE_TOTAL  VE_FORMS  PVH_INVL  PEDS  PERSONS  DAY  \\\n",
       "0      1   Alabama    10001         2         2         0     0        3    7   \n",
       "1      1   Alabama    10002         2         2         0     0        2   23   \n",
       "2      1   Alabama    10003         3         3         0     0        4   22   \n",
       "3      1   Alabama    10004         1         1         0     1        1   22   \n",
       "4      1   Alabama    10005         1         1         0     0        1   18   \n",
       "\n",
       "   DAYNAME  ...  FATALS DRUNK_DR F_RATIO  REGION WEEK_END   DAY_NIGHT  \\\n",
       "0        7  ...       1        1   33.33   South  Weekday  Night_Time   \n",
       "1       23  ...       1        0   50.00   South  Weekday  Night_Time   \n",
       "2       22  ...       1        0   25.00   South  Weekday  Night_Time   \n",
       "3       22  ...       1        0   50.00   South  Weekday    Day_Time   \n",
       "4       18  ...       1        1  100.00   South  Weekday    Day_Time   \n",
       "\n",
       "     DN_Avg WEEK_END_Avg State_Avg   Day_Avg  \n",
       "0  1.085287     1.078926  1.086449  1.073477  \n",
       "1  1.085287     1.078926  1.086449  1.082433  \n",
       "2  1.085287     1.078926  1.086449  1.079063  \n",
       "3  1.086942     1.078926  1.086449  1.079063  \n",
       "4  1.086942     1.078926  1.086449  1.085082  \n",
       "\n",
       "[5 rows x 30 columns]"
      ]
     },
     "execution_count": 57,
     "metadata": {},
     "output_type": "execute_result"
    }
   ],
   "source": [
    "total.drop(['Unnamed: 0', 'Unnamed: 0.1'], axis = 1, inplace=True)\n",
    "total.head(5)"
   ]
  },
  {
   "cell_type": "code",
   "execution_count": 69,
   "id": "796e6b1b",
   "metadata": {},
   "outputs": [
    {
     "name": "stdout",
     "output_type": "stream",
     "text": [
      "rural shape is (14615, 30) urban shape is (18734, 30) total shape is (33457, 30)\n"
     ]
    }
   ],
   "source": [
    "print(\"rural shape is\", rural.shape, 'urban shape is', urban.shape, 'total shape is', total.shape)"
   ]
  },
  {
   "cell_type": "markdown",
   "id": "f1761722",
   "metadata": {},
   "source": [
    "<a id=\"id3\"></a>"
   ]
  },
  {
   "cell_type": "markdown",
   "id": "4405992b",
   "metadata": {},
   "source": [
    "## Test train split for Total\n"
   ]
  },
  {
   "cell_type": "code",
   "execution_count": 70,
   "id": "4785d52d",
   "metadata": {},
   "outputs": [],
   "source": [
    "### Test Train Split for total\n",
    "X = total.loc[:, total.columns!='F_RATIO']\n",
    "y = total.F_RATIO\n",
    "\n",
    "X_train, X_test, y_train, y_test = train_test_split(X, y, test_size=.3, random_state=42)"
   ]
  },
  {
   "cell_type": "code",
   "execution_count": 71,
   "id": "68601586",
   "metadata": {},
   "outputs": [
    {
     "data": {
      "text/plain": [
       "0     33.33\n",
       "1     50.00\n",
       "2     25.00\n",
       "3     50.00\n",
       "4    100.00\n",
       "Name: F_RATIO, dtype: float64"
      ]
     },
     "execution_count": 71,
     "metadata": {},
     "output_type": "execute_result"
    }
   ],
   "source": [
    "y.head(5)"
   ]
  },
  {
   "cell_type": "code",
   "execution_count": 77,
   "id": "40700cca",
   "metadata": {},
   "outputs": [
    {
     "data": {
      "text/plain": [
       "STATE             int64\n",
       "STATENAME        object\n",
       "ST_CASE           int64\n",
       "VE_TOTAL          int64\n",
       "VE_FORMS          int64\n",
       "PVH_INVL          int64\n",
       "PEDS              int64\n",
       "PERSONS           int64\n",
       "DAY               int64\n",
       "DAYNAME           int64\n",
       "MONTH             int64\n",
       "MONTHNAME        object\n",
       "DAY_WEEKNAME     object\n",
       "HOUR              int64\n",
       "RUR_URBNAME      object\n",
       "HARM_EVNAME      object\n",
       "LGT_CONDNAME     object\n",
       "WEATHER1NAME     object\n",
       "WEATHER2NAME     object\n",
       "WEATHERNAME      object\n",
       "FATALS            int64\n",
       "DRUNK_DR          int64\n",
       "REGION           object\n",
       "WEEK_END         object\n",
       "DAY_NIGHT        object\n",
       "DN_Avg          float64\n",
       "WEEK_END_Avg    float64\n",
       "State_Avg       float64\n",
       "Day_Avg         float64\n",
       "dtype: object"
      ]
     },
     "execution_count": 77,
     "metadata": {},
     "output_type": "execute_result"
    }
   ],
   "source": [
    "X_train.dtypes"
   ]
  },
  {
   "cell_type": "code",
   "execution_count": 33,
   "id": "18d75ea2",
   "metadata": {
    "scrolled": true
   },
   "outputs": [],
   "source": [
    "### Sorting the categorical variables out of the X sets\n",
    "X_train_dfo = X_train.select_dtypes(include=['object'])\n",
    "X_test_dfo = X_test.select_dtypes(include=['object'])\n"
   ]
  },
  {
   "cell_type": "code",
   "execution_count": 67,
   "id": "f7623c7e",
   "metadata": {},
   "outputs": [
    {
     "data": {
      "text/plain": [
       "(10038, 12)"
      ]
     },
     "execution_count": 67,
     "metadata": {},
     "output_type": "execute_result"
    }
   ],
   "source": [
    "X_test_dfo.shape"
   ]
  },
  {
   "cell_type": "code",
   "execution_count": 80,
   "id": "4787ef6c",
   "metadata": {},
   "outputs": [
    {
     "data": {
      "text/plain": [
       "(10038, 17)"
      ]
     },
     "execution_count": 80,
     "metadata": {},
     "output_type": "execute_result"
    }
   ],
   "source": [
    "### Then stripping them from the continuous ones\n",
    "X_train_df = X_train.select_dtypes(include=['int64', 'float64'])\n",
    "X_test_df = X_test.select_dtypes(include=['int64', 'float64'])\n",
    "\n",
    "X_test_df.shape"
   ]
  },
  {
   "cell_type": "code",
   "execution_count": 81,
   "id": "f1dd4312",
   "metadata": {},
   "outputs": [],
   "source": [
    "# For Total, build scaler based on training data and apply it to test data to then also scale the X test data\n",
    "# For Total, build scaler based on training data and apply it to test data to then also scale the X test data\n",
    "scaler = preprocessing.StandardScaler().fit(X_train_df)\n",
    "X_train_scaled=scaler.transform(X_train_df)\n",
    "X_test_scaled=scaler.transform(X_test_df)\n"
   ]
  },
  {
   "cell_type": "code",
   "execution_count": 84,
   "id": "413c23ce",
   "metadata": {},
   "outputs": [
    {
     "ename": "TypeError",
     "evalue": "cannot concatenate object of type '<class 'numpy.ndarray'>'; only Series and DataFrame objs are valid",
     "output_type": "error",
     "traceback": [
      "\u001b[0;31m---------------------------------------------------------------------------\u001b[0m",
      "\u001b[0;31mTypeError\u001b[0m                                 Traceback (most recent call last)",
      "\u001b[0;32m/var/folders/0j/dq36f4893tn_4kzb5g26474h0000gq/T/ipykernel_13594/1137383749.py\u001b[0m in \u001b[0;36m<module>\u001b[0;34m\u001b[0m\n\u001b[1;32m      1\u001b[0m \u001b[0mframes\u001b[0m \u001b[0;34m=\u001b[0m \u001b[0;34m[\u001b[0m\u001b[0mX_train_scaled\u001b[0m\u001b[0;34m,\u001b[0m \u001b[0mX_train_dfo\u001b[0m\u001b[0;34m]\u001b[0m\u001b[0;34m\u001b[0m\u001b[0;34m\u001b[0m\u001b[0m\n\u001b[0;32m----> 2\u001b[0;31m \u001b[0mX_train_combo\u001b[0m \u001b[0;34m=\u001b[0m \u001b[0mpd\u001b[0m\u001b[0;34m.\u001b[0m\u001b[0mconcat\u001b[0m\u001b[0;34m(\u001b[0m\u001b[0mframes\u001b[0m\u001b[0;34m)\u001b[0m\u001b[0;34m\u001b[0m\u001b[0;34m\u001b[0m\u001b[0m\n\u001b[0m",
      "\u001b[0;32m~/opt/anaconda3/lib/python3.9/site-packages/pandas/util/_decorators.py\u001b[0m in \u001b[0;36mwrapper\u001b[0;34m(*args, **kwargs)\u001b[0m\n\u001b[1;32m    309\u001b[0m                     \u001b[0mstacklevel\u001b[0m\u001b[0;34m=\u001b[0m\u001b[0mstacklevel\u001b[0m\u001b[0;34m,\u001b[0m\u001b[0;34m\u001b[0m\u001b[0;34m\u001b[0m\u001b[0m\n\u001b[1;32m    310\u001b[0m                 )\n\u001b[0;32m--> 311\u001b[0;31m             \u001b[0;32mreturn\u001b[0m \u001b[0mfunc\u001b[0m\u001b[0;34m(\u001b[0m\u001b[0;34m*\u001b[0m\u001b[0margs\u001b[0m\u001b[0;34m,\u001b[0m \u001b[0;34m**\u001b[0m\u001b[0mkwargs\u001b[0m\u001b[0;34m)\u001b[0m\u001b[0;34m\u001b[0m\u001b[0;34m\u001b[0m\u001b[0m\n\u001b[0m\u001b[1;32m    312\u001b[0m \u001b[0;34m\u001b[0m\u001b[0m\n\u001b[1;32m    313\u001b[0m         \u001b[0;32mreturn\u001b[0m \u001b[0mwrapper\u001b[0m\u001b[0;34m\u001b[0m\u001b[0;34m\u001b[0m\u001b[0m\n",
      "\u001b[0;32m~/opt/anaconda3/lib/python3.9/site-packages/pandas/core/reshape/concat.py\u001b[0m in \u001b[0;36mconcat\u001b[0;34m(objs, axis, join, ignore_index, keys, levels, names, verify_integrity, sort, copy)\u001b[0m\n\u001b[1;32m    292\u001b[0m     \u001b[0mValueError\u001b[0m\u001b[0;34m:\u001b[0m \u001b[0mIndexes\u001b[0m \u001b[0mhave\u001b[0m \u001b[0moverlapping\u001b[0m \u001b[0mvalues\u001b[0m\u001b[0;34m:\u001b[0m \u001b[0;34m[\u001b[0m\u001b[0;34m'a'\u001b[0m\u001b[0;34m]\u001b[0m\u001b[0;34m\u001b[0m\u001b[0;34m\u001b[0m\u001b[0m\n\u001b[1;32m    293\u001b[0m     \"\"\"\n\u001b[0;32m--> 294\u001b[0;31m     op = _Concatenator(\n\u001b[0m\u001b[1;32m    295\u001b[0m         \u001b[0mobjs\u001b[0m\u001b[0;34m,\u001b[0m\u001b[0;34m\u001b[0m\u001b[0;34m\u001b[0m\u001b[0m\n\u001b[1;32m    296\u001b[0m         \u001b[0maxis\u001b[0m\u001b[0;34m=\u001b[0m\u001b[0maxis\u001b[0m\u001b[0;34m,\u001b[0m\u001b[0;34m\u001b[0m\u001b[0;34m\u001b[0m\u001b[0m\n",
      "\u001b[0;32m~/opt/anaconda3/lib/python3.9/site-packages/pandas/core/reshape/concat.py\u001b[0m in \u001b[0;36m__init__\u001b[0;34m(self, objs, axis, join, keys, levels, names, ignore_index, verify_integrity, copy, sort)\u001b[0m\n\u001b[1;32m    382\u001b[0m                     \u001b[0;34m\"only Series and DataFrame objs are valid\"\u001b[0m\u001b[0;34m\u001b[0m\u001b[0;34m\u001b[0m\u001b[0m\n\u001b[1;32m    383\u001b[0m                 )\n\u001b[0;32m--> 384\u001b[0;31m                 \u001b[0;32mraise\u001b[0m \u001b[0mTypeError\u001b[0m\u001b[0;34m(\u001b[0m\u001b[0mmsg\u001b[0m\u001b[0;34m)\u001b[0m\u001b[0;34m\u001b[0m\u001b[0;34m\u001b[0m\u001b[0m\n\u001b[0m\u001b[1;32m    385\u001b[0m \u001b[0;34m\u001b[0m\u001b[0m\n\u001b[1;32m    386\u001b[0m             \u001b[0mndims\u001b[0m\u001b[0;34m.\u001b[0m\u001b[0madd\u001b[0m\u001b[0;34m(\u001b[0m\u001b[0mobj\u001b[0m\u001b[0;34m.\u001b[0m\u001b[0mndim\u001b[0m\u001b[0;34m)\u001b[0m\u001b[0;34m\u001b[0m\u001b[0;34m\u001b[0m\u001b[0m\n",
      "\u001b[0;31mTypeError\u001b[0m: cannot concatenate object of type '<class 'numpy.ndarray'>'; only Series and DataFrame objs are valid"
     ]
    }
   ],
   "source": [
    "frames = [X_train_scaled, X_train_dfo]\n",
    "X_train_combo = pd.concat(frames)"
   ]
  },
  {
   "cell_type": "code",
   "execution_count": 44,
   "id": "9d8a2444",
   "metadata": {},
   "outputs": [
    {
     "name": "stdout",
     "output_type": "stream",
     "text": [
      "Total accident training data (23419, 204) Total accident test data (10038, 204) \n",
      " total fatality training data (23419,) total fatality testing data (10038,)\n"
     ]
    }
   ],
   "source": [
    "# For Total, We now want to check the shape of the X train, y_train, X_test and y_test to make sure the proportions are right. \n",
    "print('Total accident training data', X_train_scaled.shape, 'Total accident test data', X_test_scaled.shape, \"\\n\", 'total fatality training data', y_train.shape, 'total fatality testing data', y_test.shape)"
   ]
  },
  {
   "cell_type": "markdown",
   "id": "d4c62030",
   "metadata": {},
   "source": [
    "<a id=\"id4\"></a>"
   ]
  },
  {
   "cell_type": "markdown",
   "id": "81fe52cb",
   "metadata": {},
   "source": [
    "## Test train split for rural\n"
   ]
  },
  {
   "cell_type": "code",
   "execution_count": 45,
   "id": "8b70afcb",
   "metadata": {},
   "outputs": [],
   "source": [
    "### Test Train Split for Rural\n",
    "X_R = rural_ready.loc[:, rural_ready.columns!='F_RATIO']\n",
    "y_R = rural_ready.F_RATIO\n",
    "\n",
    "X_train_R, X_test_R, y_train_R, y_test_R = train_test_split(X_R, y_R, test_size=.3, random_state=42)"
   ]
  },
  {
   "cell_type": "code",
   "execution_count": 8,
   "id": "b22eee79",
   "metadata": {
    "scrolled": false
   },
   "outputs": [
    {
     "data": {
      "text/plain": [
       "Index(['Unnamed: 0', 'Unnamed: 0.1', 'STATE', 'ST_CASE', 'VE_TOTAL',\n",
       "       'VE_FORMS', 'PVH_INVL', 'PEDS', 'PERSONS', 'DAY',\n",
       "       ...\n",
       "       'WEATHERNAME_Sleet or Hail', 'WEATHERNAME_Snow', 'REGION_Midwest',\n",
       "       'REGION_Northeast', 'REGION_South', 'REGION_West', 'WEEK_END_Weekday',\n",
       "       'WEEK_END_Weekend', 'DAY_NIGHT_Day_Time', 'DAY_NIGHT_Night_Time'],\n",
       "      dtype='object', length=198)"
      ]
     },
     "execution_count": 8,
     "metadata": {},
     "output_type": "execute_result"
    }
   ],
   "source": [
    "### Sorting out the categorical variables for rural\n",
    "dfo = rural.select_dtypes(include=['object']) # select object type columns\n",
    "rural_ready = pd.concat([rural.drop(dfo, axis=1), pd.get_dummies(dfo)], axis=1) ### concatenating the dummy filled columns\n",
    "rural_ready.columns"
   ]
  },
  {
   "cell_type": "code",
   "execution_count": 46,
   "id": "876921c6",
   "metadata": {},
   "outputs": [],
   "source": [
    "# For Rural, build scaler based on training data and apply it to test data to then also scale the test data\n",
    "scaler = preprocessing.StandardScaler().fit(X_train_R)\n",
    "X_train_R_scaled=scaler.transform(X_train_R)\n",
    "X_test_R_scaled=scaler.transform(X_test_R)"
   ]
  },
  {
   "cell_type": "code",
   "execution_count": 47,
   "id": "93cded23",
   "metadata": {
    "scrolled": true
   },
   "outputs": [
    {
     "name": "stdout",
     "output_type": "stream",
     "text": [
      "Rural accident training data (10230, 197) Rural accident test data (4385, 197) \n",
      " Rural fatality training data (10230,) Rural fatality testing data (4385,)\n"
     ]
    }
   ],
   "source": [
    "# For Rural, We now want to check the shape of the X train, y_train, X_test and y_test to make sure the proportions are right. \n",
    "print('Rural accident training data', X_train_R_scaled.shape, 'Rural accident test data', X_test_R_scaled.shape, \"\\n\", 'Rural fatality training data', y_train_R.shape, 'Rural fatality testing data', y_test_R.shape)\n",
    "\n"
   ]
  },
  {
   "cell_type": "markdown",
   "id": "575b5d21",
   "metadata": {},
   "source": [
    "<a id=\"id5\"></a>"
   ]
  },
  {
   "cell_type": "markdown",
   "id": "5f238202",
   "metadata": {},
   "source": [
    "## Test train split for urban\n"
   ]
  },
  {
   "cell_type": "code",
   "execution_count": 48,
   "id": "8ff3d160",
   "metadata": {},
   "outputs": [],
   "source": [
    "### Test Train Split for Rural\n",
    "X_U = urban_ready.loc[:, urban_ready.columns!='Rural']\n",
    "y_U = urban_ready.F_RATIO\n",
    "\n",
    "X_train_U, X_test_U, y_train_U, y_test_U = train_test_split(X_U, y_U, test_size=.3, random_state=42)"
   ]
  },
  {
   "cell_type": "code",
   "execution_count": 9,
   "id": "dd7adb02",
   "metadata": {
    "scrolled": true
   },
   "outputs": [
    {
     "data": {
      "text/plain": [
       "Index(['Unnamed: 0', 'Unnamed: 0.1', 'STATE', 'ST_CASE', 'VE_TOTAL',\n",
       "       'VE_FORMS', 'PVH_INVL', 'PEDS', 'PERSONS', 'DAY',\n",
       "       ...\n",
       "       'WEATHERNAME_Sleet or Hail', 'WEATHERNAME_Snow', 'REGION_Midwest',\n",
       "       'REGION_Northeast', 'REGION_South', 'REGION_West', 'WEEK_END_Weekday',\n",
       "       'WEEK_END_Weekend', 'DAY_NIGHT_Day_Time', 'DAY_NIGHT_Night_Time'],\n",
       "      dtype='object', length=199)"
      ]
     },
     "execution_count": 9,
     "metadata": {},
     "output_type": "execute_result"
    }
   ],
   "source": [
    "### Sorting out the categorical variables for rural\n",
    "dfo = urban.select_dtypes(include=['object']) # select object type columns\n",
    "urban_ready = pd.concat([urban.drop(dfo, axis=1), pd.get_dummies(dfo)], axis=1) ### concatenating the dummy filled columns\n",
    "urban_ready.columns"
   ]
  },
  {
   "cell_type": "code",
   "execution_count": 49,
   "id": "faec62d0",
   "metadata": {},
   "outputs": [],
   "source": [
    "# For Rural, build scaler based on training data and apply it to test data to then also scale the test data\n",
    "scaler = preprocessing.StandardScaler().fit(X_train_U)\n",
    "X_train_U_scaled=scaler.transform(X_train_U)\n",
    "X_test_U_scaled=scaler.transform(X_test_U)"
   ]
  },
  {
   "cell_type": "code",
   "execution_count": 50,
   "id": "435d51a2",
   "metadata": {
    "scrolled": true
   },
   "outputs": [
    {
     "name": "stdout",
     "output_type": "stream",
     "text": [
      "Urban accident training data (13113, 199) Urban accident test data (5621, 199) \n",
      " Urban fatality training data (13113,) Urban fatality testing data (5621,)\n"
     ]
    }
   ],
   "source": [
    "# For Rural, We now want to check the shape of the X train, y_train, X_test and y_test to make sure the proportions are right. \n",
    "print('Urban accident training data', X_train_U_scaled.shape, 'Urban accident test data', X_test_U_scaled.shape, \"\\n\", 'Urban fatality training data', y_train_U.shape, 'Urban fatality testing data', y_test_U.shape)\n",
    "\n"
   ]
  },
  {
   "cell_type": "markdown",
   "id": "6f39a8f7",
   "metadata": {},
   "source": [
    "<a id=\"id5=6\"></a>"
   ]
  },
  {
   "cell_type": "markdown",
   "id": "751a0376",
   "metadata": {},
   "source": [
    "## Saving progress\n"
   ]
  },
  {
   "cell_type": "markdown",
   "id": "af6dddd4",
   "metadata": {},
   "source": [
    "Data for each dataset is test/train split and then scaled to avoid data leakage."
   ]
  }
 ],
 "metadata": {
  "kernelspec": {
   "display_name": "Python 3 (ipykernel)",
   "language": "python",
   "name": "python3"
  },
  "language_info": {
   "codemirror_mode": {
    "name": "ipython",
    "version": 3
   },
   "file_extension": ".py",
   "mimetype": "text/x-python",
   "name": "python",
   "nbconvert_exporter": "python",
   "pygments_lexer": "ipython3",
   "version": "3.9.7"
  }
 },
 "nbformat": 4,
 "nbformat_minor": 5
}
