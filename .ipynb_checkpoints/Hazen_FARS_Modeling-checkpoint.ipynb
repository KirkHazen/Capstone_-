{
 "cells": [
  {
   "cell_type": "markdown",
   "id": "65a581ff",
   "metadata": {},
   "source": [
    "# Modeling for Capstone 2\n",
    "This notebook deploys several models to assess the FARS dataset."
   ]
  },
  {
   "cell_type": "markdown",
   "id": "5c846b4a",
   "metadata": {},
   "source": [
    "# Table of Contents \n",
    "1. [Research questions](#id0)\n",
    "2. [Import Packages](#id1)\n",
    "3. [Load the data](#id2)\n",
    "4. [Test Train Split for Total](#id3)\n",
    "5. [Test Train Split for Rural](#id4)\n",
    "6. [Test Train Split for Urban](#id5)\n",
    "7. [Saving progress](#id6)\n",
    "8. [Multiple Linear Regression for Total](#id7)\n",
    "9. [Random forest](#id8)\n",
    "10.[Lasso regression](#id9)\n",
    "11.[Recursive feature elimination (RFE)](#id10)"
   ]
  },
  {
   "cell_type": "markdown",
   "id": "8feeba2f",
   "metadata": {},
   "source": [
    "<a id=\"id0\"></a>"
   ]
  },
  {
   "cell_type": "markdown",
   "id": "16185b72",
   "metadata": {},
   "source": [
    "## Research questions\n",
    "\n",
    "In considering the transformation of rural areas into nonrural areas in the US, what factors most strongly predict fatal crashes in each context for the year under consideration and thereby what is predictable as this transformation continues? Will there be more fatal crashes if rural areas are transformed to urban areas? Do rural and urban areas have the same factors that correlate with fatalities.\n"
   ]
  },
  {
   "cell_type": "markdown",
   "id": "ee37c3ba",
   "metadata": {},
   "source": [
    "<a id=\"id1\"></a>"
   ]
  },
  {
   "cell_type": "markdown",
   "id": "65870c7c",
   "metadata": {},
   "source": [
    "## Import packages"
   ]
  },
  {
   "cell_type": "code",
   "execution_count": 1,
   "id": "d7aeca1e",
   "metadata": {},
   "outputs": [],
   "source": [
    "import pandas as pd\n",
    "import numpy as np\n",
    "import os\n",
    "import matplotlib.pyplot as plt\n",
    "import seaborn as sns\n",
    "from sklearn.decomposition import PCA\n",
    "from sklearn import preprocessing\n",
    "from sklearn.preprocessing import scale\n",
    "from sklearn.model_selection import train_test_split\n",
    "import ppscore as pps\n",
    "import statsmodels.api as sm \n",
    "from statsmodels.graphics.api import abline_plot \n",
    "from sklearn.metrics import mean_squared_error, r2_score, mean_absolute_error\n",
    "import matplotlib.lines as lines\n",
    "from sklearn import linear_model\n",
    "from sklearn.tree import DecisionTreeRegressor\n",
    "from numpy import absolute\n",
    "from sklearn.model_selection import cross_val_score\n",
    "from sklearn.model_selection import RepeatedKFold\n",
    "from sklearn.linear_model import Lasso\n",
    "from numpy import mean\n",
    "from numpy import std\n",
    "from sklearn.model_selection import RepeatedKFold\n",
    "from sklearn.feature_selection import RFE\n",
    "from sklearn.linear_model import LinearRegression\n",
    "from sklearn.pipeline import Pipeline\n",
    "import warnings \n",
    "warnings.simplefilter(action=\"ignore\", category=FutureWarning)\n",
    "warnings.filterwarnings(action=\"ignore\", module=\"scipy\", message=\"^internal gelsd\")"
   ]
  },
  {
   "cell_type": "markdown",
   "id": "e135963f",
   "metadata": {},
   "source": [
    "<a id=\"id2\"></a>"
   ]
  },
  {
   "cell_type": "markdown",
   "id": "fefb4998",
   "metadata": {},
   "source": [
    "## Load the data"
   ]
  },
  {
   "cell_type": "code",
   "execution_count": 2,
   "id": "969aba1a",
   "metadata": {},
   "outputs": [],
   "source": [
    "#Import total; will test and train within total and keep rural/urban as a factor\n",
    "\n",
    "total = pd.read_csv('../data/processed/total.csv')"
   ]
  },
  {
   "cell_type": "code",
   "execution_count": 3,
   "id": "431edb4a",
   "metadata": {},
   "outputs": [
    {
     "data": {
      "text/html": [
       "<div>\n",
       "<style scoped>\n",
       "    .dataframe tbody tr th:only-of-type {\n",
       "        vertical-align: middle;\n",
       "    }\n",
       "\n",
       "    .dataframe tbody tr th {\n",
       "        vertical-align: top;\n",
       "    }\n",
       "\n",
       "    .dataframe thead th {\n",
       "        text-align: right;\n",
       "    }\n",
       "</style>\n",
       "<table border=\"1\" class=\"dataframe\">\n",
       "  <thead>\n",
       "    <tr style=\"text-align: right;\">\n",
       "      <th></th>\n",
       "      <th>STATENAME</th>\n",
       "      <th>VE_TOTAL</th>\n",
       "      <th>PEDS</th>\n",
       "      <th>PERSONS</th>\n",
       "      <th>DAYNAME</th>\n",
       "      <th>MONTHNAME</th>\n",
       "      <th>HOUR</th>\n",
       "      <th>DAY_WEEKNAME</th>\n",
       "      <th>RUR_URBNAME</th>\n",
       "      <th>HARM_EVNAME</th>\n",
       "      <th>...</th>\n",
       "      <th>DRUNK_DR</th>\n",
       "      <th>REGION</th>\n",
       "      <th>WEEK_END</th>\n",
       "      <th>DAY_NIGHT</th>\n",
       "      <th>DayNight_Avg</th>\n",
       "      <th>WEEK_END_Avg</th>\n",
       "      <th>State_Avg</th>\n",
       "      <th>Day_Avg</th>\n",
       "      <th>Region_Avg</th>\n",
       "      <th>F_RATIO</th>\n",
       "    </tr>\n",
       "  </thead>\n",
       "  <tbody>\n",
       "    <tr>\n",
       "      <th>0</th>\n",
       "      <td>Michigan</td>\n",
       "      <td>1</td>\n",
       "      <td>0</td>\n",
       "      <td>1</td>\n",
       "      <td>11</td>\n",
       "      <td>November</td>\n",
       "      <td>14</td>\n",
       "      <td>Monday</td>\n",
       "      <td>Urban</td>\n",
       "      <td>Guardrail End</td>\n",
       "      <td>...</td>\n",
       "      <td>0</td>\n",
       "      <td>Midwest</td>\n",
       "      <td>Weekday</td>\n",
       "      <td>Night_Time</td>\n",
       "      <td>1.085086</td>\n",
       "      <td>1.078599</td>\n",
       "      <td>1.091916</td>\n",
       "      <td>1.073699</td>\n",
       "      <td>1.093226</td>\n",
       "      <td>100.0</td>\n",
       "    </tr>\n",
       "    <tr>\n",
       "      <th>1</th>\n",
       "      <td>Wisconsin</td>\n",
       "      <td>1</td>\n",
       "      <td>0</td>\n",
       "      <td>1</td>\n",
       "      <td>5</td>\n",
       "      <td>January</td>\n",
       "      <td>9</td>\n",
       "      <td>Saturday</td>\n",
       "      <td>Rural</td>\n",
       "      <td>Railway Vehicle</td>\n",
       "      <td>...</td>\n",
       "      <td>0</td>\n",
       "      <td>Midwest</td>\n",
       "      <td>Weekend</td>\n",
       "      <td>Night_Time</td>\n",
       "      <td>1.085086</td>\n",
       "      <td>1.100224</td>\n",
       "      <td>1.079681</td>\n",
       "      <td>1.099804</td>\n",
       "      <td>1.093226</td>\n",
       "      <td>100.0</td>\n",
       "    </tr>\n",
       "    <tr>\n",
       "      <th>2</th>\n",
       "      <td>Wisconsin</td>\n",
       "      <td>1</td>\n",
       "      <td>0</td>\n",
       "      <td>1</td>\n",
       "      <td>7</td>\n",
       "      <td>January</td>\n",
       "      <td>9</td>\n",
       "      <td>Monday</td>\n",
       "      <td>Urban</td>\n",
       "      <td>Traffic Signal Support</td>\n",
       "      <td>...</td>\n",
       "      <td>0</td>\n",
       "      <td>Midwest</td>\n",
       "      <td>Weekday</td>\n",
       "      <td>Night_Time</td>\n",
       "      <td>1.085086</td>\n",
       "      <td>1.078599</td>\n",
       "      <td>1.079681</td>\n",
       "      <td>1.073699</td>\n",
       "      <td>1.093226</td>\n",
       "      <td>100.0</td>\n",
       "    </tr>\n",
       "  </tbody>\n",
       "</table>\n",
       "<p>3 rows × 24 columns</p>\n",
       "</div>"
      ],
      "text/plain": [
       "   STATENAME  VE_TOTAL  PEDS  PERSONS  DAYNAME MONTHNAME  HOUR DAY_WEEKNAME  \\\n",
       "0   Michigan         1     0        1       11  November    14       Monday   \n",
       "1  Wisconsin         1     0        1        5   January     9     Saturday   \n",
       "2  Wisconsin         1     0        1        7   January     9       Monday   \n",
       "\n",
       "  RUR_URBNAME             HARM_EVNAME  ... DRUNK_DR   REGION WEEK_END  \\\n",
       "0       Urban           Guardrail End  ...        0  Midwest  Weekday   \n",
       "1       Rural         Railway Vehicle  ...        0  Midwest  Weekend   \n",
       "2       Urban  Traffic Signal Support  ...        0  Midwest  Weekday   \n",
       "\n",
       "    DAY_NIGHT  DayNight_Avg WEEK_END_Avg State_Avg   Day_Avg  Region_Avg  \\\n",
       "0  Night_Time      1.085086     1.078599  1.091916  1.073699    1.093226   \n",
       "1  Night_Time      1.085086     1.100224  1.079681  1.099804    1.093226   \n",
       "2  Night_Time      1.085086     1.078599  1.079681  1.073699    1.093226   \n",
       "\n",
       "   F_RATIO  \n",
       "0    100.0  \n",
       "1    100.0  \n",
       "2    100.0  \n",
       "\n",
       "[3 rows x 24 columns]"
      ]
     },
     "execution_count": 3,
     "metadata": {},
     "output_type": "execute_result"
    }
   ],
   "source": [
    "total.head(3)"
   ]
  },
  {
   "cell_type": "code",
   "execution_count": 4,
   "id": "5be4581d",
   "metadata": {},
   "outputs": [
    {
     "data": {
      "text/plain": [
       "Index(['STATENAME', 'VE_TOTAL', 'PEDS', 'PERSONS', 'DAYNAME', 'MONTHNAME',\n",
       "       'HOUR', 'DAY_WEEKNAME', 'RUR_URBNAME', 'HARM_EVNAME', 'LGT_CONDNAME',\n",
       "       'WEATHER1NAME', 'WEATHERNAME', 'FATALS', 'DRUNK_DR', 'REGION',\n",
       "       'WEEK_END', 'DAY_NIGHT', 'DayNight_Avg', 'WEEK_END_Avg', 'State_Avg',\n",
       "       'Day_Avg', 'Region_Avg', 'F_RATIO'],\n",
       "      dtype='object')"
      ]
     },
     "execution_count": 4,
     "metadata": {},
     "output_type": "execute_result"
    }
   ],
   "source": [
    "total.columns"
   ]
  },
  {
   "cell_type": "markdown",
   "id": "154f12c2",
   "metadata": {},
   "source": [
    "The columns 'DayNight_Avg', 'WEEK_END_Avg', 'State_Avg','Day_Avg', and 'Region_Avg'are themselves measures of fatalities for certain criteria. They are not factors. Fatalities is an alternative dependent variable, but F_Ratio is a more helpful measure. Fatalities and the other measures will be dropped."
   ]
  },
  {
   "cell_type": "code",
   "execution_count": 5,
   "id": "f827c9ca",
   "metadata": {},
   "outputs": [],
   "source": [
    "total = total[['STATENAME', 'VE_TOTAL', 'PEDS', 'PERSONS', 'DAYNAME', 'MONTHNAME',\n",
    "       'HOUR', 'DAY_WEEKNAME', 'RUR_URBNAME', 'HARM_EVNAME', 'LGT_CONDNAME',\n",
    "       'WEATHER1NAME', 'WEATHERNAME', 'DRUNK_DR', 'REGION',\n",
    "       'WEEK_END', 'DAY_NIGHT','F_RATIO']]"
   ]
  },
  {
   "cell_type": "code",
   "execution_count": 6,
   "id": "5448083a",
   "metadata": {
    "scrolled": true
   },
   "outputs": [
    {
     "data": {
      "text/plain": [
       "Index(['STATENAME', 'VE_TOTAL', 'PEDS', 'PERSONS', 'DAYNAME', 'MONTHNAME',\n",
       "       'HOUR', 'DAY_WEEKNAME', 'RUR_URBNAME', 'HARM_EVNAME', 'LGT_CONDNAME',\n",
       "       'WEATHER1NAME', 'WEATHERNAME', 'DRUNK_DR', 'REGION', 'WEEK_END',\n",
       "       'DAY_NIGHT', 'F_RATIO'],\n",
       "      dtype='object')"
      ]
     },
     "execution_count": 6,
     "metadata": {},
     "output_type": "execute_result"
    }
   ],
   "source": [
    "total.columns"
   ]
  },
  {
   "cell_type": "code",
   "execution_count": 7,
   "id": "796e6b1b",
   "metadata": {},
   "outputs": [
    {
     "name": "stdout",
     "output_type": "stream",
     "text": [
      "total shape is (33238, 18)\n"
     ]
    }
   ],
   "source": [
    "print('total shape is', total.shape)"
   ]
  },
  {
   "cell_type": "code",
   "execution_count": 8,
   "id": "4c89495e",
   "metadata": {},
   "outputs": [
    {
     "data": {
      "text/html": [
       "<div>\n",
       "<style scoped>\n",
       "    .dataframe tbody tr th:only-of-type {\n",
       "        vertical-align: middle;\n",
       "    }\n",
       "\n",
       "    .dataframe tbody tr th {\n",
       "        vertical-align: top;\n",
       "    }\n",
       "\n",
       "    .dataframe thead th {\n",
       "        text-align: right;\n",
       "    }\n",
       "</style>\n",
       "<table border=\"1\" class=\"dataframe\">\n",
       "  <thead>\n",
       "    <tr style=\"text-align: right;\">\n",
       "      <th></th>\n",
       "      <th>STATENAME</th>\n",
       "      <th>VE_TOTAL</th>\n",
       "      <th>PEDS</th>\n",
       "      <th>PERSONS</th>\n",
       "      <th>DAYNAME</th>\n",
       "      <th>MONTHNAME</th>\n",
       "      <th>HOUR</th>\n",
       "      <th>DAY_WEEKNAME</th>\n",
       "      <th>RUR_URBNAME</th>\n",
       "      <th>HARM_EVNAME</th>\n",
       "      <th>LGT_CONDNAME</th>\n",
       "      <th>WEATHER1NAME</th>\n",
       "      <th>WEATHERNAME</th>\n",
       "      <th>DRUNK_DR</th>\n",
       "      <th>REGION</th>\n",
       "      <th>WEEK_END</th>\n",
       "      <th>DAY_NIGHT</th>\n",
       "      <th>F_RATIO</th>\n",
       "    </tr>\n",
       "  </thead>\n",
       "  <tbody>\n",
       "    <tr>\n",
       "      <th>33237</th>\n",
       "      <td>Kentucky</td>\n",
       "      <td>12</td>\n",
       "      <td>0</td>\n",
       "      <td>30</td>\n",
       "      <td>28</td>\n",
       "      <td>June</td>\n",
       "      <td>16</td>\n",
       "      <td>Friday</td>\n",
       "      <td>Rural</td>\n",
       "      <td>Motor Vehicle In-Transport</td>\n",
       "      <td>Daylight</td>\n",
       "      <td>Clear</td>\n",
       "      <td>Clear</td>\n",
       "      <td>0</td>\n",
       "      <td>South</td>\n",
       "      <td>Weekday</td>\n",
       "      <td>Night_Time</td>\n",
       "      <td>3.333</td>\n",
       "    </tr>\n",
       "    <tr>\n",
       "      <th>33236</th>\n",
       "      <td>Virginia</td>\n",
       "      <td>1</td>\n",
       "      <td>0</td>\n",
       "      <td>57</td>\n",
       "      <td>19</td>\n",
       "      <td>March</td>\n",
       "      <td>5</td>\n",
       "      <td>Tuesday</td>\n",
       "      <td>Rural</td>\n",
       "      <td>Ditch</td>\n",
       "      <td>Dark - Not Lighted</td>\n",
       "      <td>Fog, Smog, Smoke</td>\n",
       "      <td>Fog, Smog, Smoke</td>\n",
       "      <td>0</td>\n",
       "      <td>South</td>\n",
       "      <td>Weekday</td>\n",
       "      <td>Day_Time</td>\n",
       "      <td>3.509</td>\n",
       "    </tr>\n",
       "    <tr>\n",
       "      <th>33235</th>\n",
       "      <td>New Jersey</td>\n",
       "      <td>2</td>\n",
       "      <td>0</td>\n",
       "      <td>24</td>\n",
       "      <td>24</td>\n",
       "      <td>January</td>\n",
       "      <td>19</td>\n",
       "      <td>Thursday</td>\n",
       "      <td>Urban</td>\n",
       "      <td>Motor Vehicle In-Transport</td>\n",
       "      <td>Dark - Lighted</td>\n",
       "      <td>Clear</td>\n",
       "      <td>Clear</td>\n",
       "      <td>0</td>\n",
       "      <td>Northeast</td>\n",
       "      <td>Weekday</td>\n",
       "      <td>Night_Time</td>\n",
       "      <td>4.167</td>\n",
       "    </tr>\n",
       "    <tr>\n",
       "      <th>33234</th>\n",
       "      <td>Nevada</td>\n",
       "      <td>8</td>\n",
       "      <td>0</td>\n",
       "      <td>21</td>\n",
       "      <td>6</td>\n",
       "      <td>July</td>\n",
       "      <td>20</td>\n",
       "      <td>Saturday</td>\n",
       "      <td>Urban</td>\n",
       "      <td>Motor Vehicle In-Transport</td>\n",
       "      <td>Dark - Lighted</td>\n",
       "      <td>Clear</td>\n",
       "      <td>Clear</td>\n",
       "      <td>0</td>\n",
       "      <td>West</td>\n",
       "      <td>Weekend</td>\n",
       "      <td>Night_Time</td>\n",
       "      <td>4.762</td>\n",
       "    </tr>\n",
       "    <tr>\n",
       "      <th>33233</th>\n",
       "      <td>North Carolina</td>\n",
       "      <td>3</td>\n",
       "      <td>0</td>\n",
       "      <td>18</td>\n",
       "      <td>14</td>\n",
       "      <td>May</td>\n",
       "      <td>14</td>\n",
       "      <td>Tuesday</td>\n",
       "      <td>Rural</td>\n",
       "      <td>Motor Vehicle In-Transport</td>\n",
       "      <td>Daylight</td>\n",
       "      <td>Clear</td>\n",
       "      <td>Clear</td>\n",
       "      <td>0</td>\n",
       "      <td>South</td>\n",
       "      <td>Weekday</td>\n",
       "      <td>Night_Time</td>\n",
       "      <td>5.556</td>\n",
       "    </tr>\n",
       "  </tbody>\n",
       "</table>\n",
       "</div>"
      ],
      "text/plain": [
       "            STATENAME  VE_TOTAL  PEDS  PERSONS  DAYNAME MONTHNAME  HOUR  \\\n",
       "33237        Kentucky        12     0       30       28      June    16   \n",
       "33236        Virginia         1     0       57       19     March     5   \n",
       "33235      New Jersey         2     0       24       24   January    19   \n",
       "33234          Nevada         8     0       21        6      July    20   \n",
       "33233  North Carolina         3     0       18       14       May    14   \n",
       "\n",
       "      DAY_WEEKNAME RUR_URBNAME                 HARM_EVNAME  \\\n",
       "33237       Friday       Rural  Motor Vehicle In-Transport   \n",
       "33236      Tuesday       Rural                       Ditch   \n",
       "33235     Thursday       Urban  Motor Vehicle In-Transport   \n",
       "33234     Saturday       Urban  Motor Vehicle In-Transport   \n",
       "33233      Tuesday       Rural  Motor Vehicle In-Transport   \n",
       "\n",
       "             LGT_CONDNAME      WEATHER1NAME       WEATHERNAME  DRUNK_DR  \\\n",
       "33237            Daylight             Clear             Clear         0   \n",
       "33236  Dark - Not Lighted  Fog, Smog, Smoke  Fog, Smog, Smoke         0   \n",
       "33235      Dark - Lighted             Clear             Clear         0   \n",
       "33234      Dark - Lighted             Clear             Clear         0   \n",
       "33233            Daylight             Clear             Clear         0   \n",
       "\n",
       "          REGION WEEK_END   DAY_NIGHT  F_RATIO  \n",
       "33237      South  Weekday  Night_Time    3.333  \n",
       "33236      South  Weekday    Day_Time    3.509  \n",
       "33235  Northeast  Weekday  Night_Time    4.167  \n",
       "33234       West  Weekend  Night_Time    4.762  \n",
       "33233      South  Weekday  Night_Time    5.556  "
      ]
     },
     "execution_count": 8,
     "metadata": {},
     "output_type": "execute_result"
    }
   ],
   "source": [
    "### In the Modeling below, the lowest F_Ratio is throwing off the graphing and predicting. \n",
    "###Those below I will drop to try and clean up the graphs below. There are 4 rows with an F_Ratio < 5\n",
    "total.sort_values(by=['F_RATIO']).head()"
   ]
  },
  {
   "cell_type": "code",
   "execution_count": 9,
   "id": "3d137deb",
   "metadata": {},
   "outputs": [],
   "source": [
    "total = total[total.F_RATIO > 5]"
   ]
  },
  {
   "cell_type": "code",
   "execution_count": 10,
   "id": "32c826f3",
   "metadata": {},
   "outputs": [
    {
     "data": {
      "text/html": [
       "<div>\n",
       "<style scoped>\n",
       "    .dataframe tbody tr th:only-of-type {\n",
       "        vertical-align: middle;\n",
       "    }\n",
       "\n",
       "    .dataframe tbody tr th {\n",
       "        vertical-align: top;\n",
       "    }\n",
       "\n",
       "    .dataframe thead th {\n",
       "        text-align: right;\n",
       "    }\n",
       "</style>\n",
       "<table border=\"1\" class=\"dataframe\">\n",
       "  <thead>\n",
       "    <tr style=\"text-align: right;\">\n",
       "      <th></th>\n",
       "      <th>STATENAME</th>\n",
       "      <th>VE_TOTAL</th>\n",
       "      <th>PEDS</th>\n",
       "      <th>PERSONS</th>\n",
       "      <th>DAYNAME</th>\n",
       "      <th>MONTHNAME</th>\n",
       "      <th>HOUR</th>\n",
       "      <th>DAY_WEEKNAME</th>\n",
       "      <th>RUR_URBNAME</th>\n",
       "      <th>HARM_EVNAME</th>\n",
       "      <th>LGT_CONDNAME</th>\n",
       "      <th>WEATHER1NAME</th>\n",
       "      <th>WEATHERNAME</th>\n",
       "      <th>DRUNK_DR</th>\n",
       "      <th>REGION</th>\n",
       "      <th>WEEK_END</th>\n",
       "      <th>DAY_NIGHT</th>\n",
       "      <th>F_RATIO</th>\n",
       "    </tr>\n",
       "  </thead>\n",
       "  <tbody>\n",
       "    <tr>\n",
       "      <th>33233</th>\n",
       "      <td>North Carolina</td>\n",
       "      <td>3</td>\n",
       "      <td>0</td>\n",
       "      <td>18</td>\n",
       "      <td>14</td>\n",
       "      <td>May</td>\n",
       "      <td>14</td>\n",
       "      <td>Tuesday</td>\n",
       "      <td>Rural</td>\n",
       "      <td>Motor Vehicle In-Transport</td>\n",
       "      <td>Daylight</td>\n",
       "      <td>Clear</td>\n",
       "      <td>Clear</td>\n",
       "      <td>0</td>\n",
       "      <td>South</td>\n",
       "      <td>Weekday</td>\n",
       "      <td>Night_Time</td>\n",
       "      <td>5.556</td>\n",
       "    </tr>\n",
       "    <tr>\n",
       "      <th>33228</th>\n",
       "      <td>North Carolina</td>\n",
       "      <td>7</td>\n",
       "      <td>0</td>\n",
       "      <td>17</td>\n",
       "      <td>21</td>\n",
       "      <td>July</td>\n",
       "      <td>14</td>\n",
       "      <td>Sunday</td>\n",
       "      <td>Rural</td>\n",
       "      <td>Motor Vehicle In-Transport</td>\n",
       "      <td>Daylight</td>\n",
       "      <td>Clear</td>\n",
       "      <td>Clear</td>\n",
       "      <td>0</td>\n",
       "      <td>South</td>\n",
       "      <td>Weekend</td>\n",
       "      <td>Night_Time</td>\n",
       "      <td>5.882</td>\n",
       "    </tr>\n",
       "    <tr>\n",
       "      <th>33229</th>\n",
       "      <td>Ohio</td>\n",
       "      <td>16</td>\n",
       "      <td>0</td>\n",
       "      <td>17</td>\n",
       "      <td>12</td>\n",
       "      <td>November</td>\n",
       "      <td>8</td>\n",
       "      <td>Tuesday</td>\n",
       "      <td>Urban</td>\n",
       "      <td>Motor Vehicle In-Transport</td>\n",
       "      <td>Daylight</td>\n",
       "      <td>Snow</td>\n",
       "      <td>Snow</td>\n",
       "      <td>0</td>\n",
       "      <td>Midwest</td>\n",
       "      <td>Weekday</td>\n",
       "      <td>Night_Time</td>\n",
       "      <td>5.882</td>\n",
       "    </tr>\n",
       "    <tr>\n",
       "      <th>33232</th>\n",
       "      <td>Arizona</td>\n",
       "      <td>7</td>\n",
       "      <td>0</td>\n",
       "      <td>17</td>\n",
       "      <td>13</td>\n",
       "      <td>April</td>\n",
       "      <td>16</td>\n",
       "      <td>Saturday</td>\n",
       "      <td>Urban</td>\n",
       "      <td>Motor Vehicle In-Transport</td>\n",
       "      <td>Daylight</td>\n",
       "      <td>Clear</td>\n",
       "      <td>Clear</td>\n",
       "      <td>0</td>\n",
       "      <td>West</td>\n",
       "      <td>Weekend</td>\n",
       "      <td>Night_Time</td>\n",
       "      <td>5.882</td>\n",
       "    </tr>\n",
       "    <tr>\n",
       "      <th>33231</th>\n",
       "      <td>Florida</td>\n",
       "      <td>2</td>\n",
       "      <td>0</td>\n",
       "      <td>17</td>\n",
       "      <td>22</td>\n",
       "      <td>January</td>\n",
       "      <td>18</td>\n",
       "      <td>Tuesday</td>\n",
       "      <td>Urban</td>\n",
       "      <td>Motor Vehicle In-Transport</td>\n",
       "      <td>Dark - Lighted</td>\n",
       "      <td>Clear</td>\n",
       "      <td>Clear</td>\n",
       "      <td>0</td>\n",
       "      <td>South</td>\n",
       "      <td>Weekday</td>\n",
       "      <td>Night_Time</td>\n",
       "      <td>5.882</td>\n",
       "    </tr>\n",
       "  </tbody>\n",
       "</table>\n",
       "</div>"
      ],
      "text/plain": [
       "            STATENAME  VE_TOTAL  PEDS  PERSONS  DAYNAME MONTHNAME  HOUR  \\\n",
       "33233  North Carolina         3     0       18       14       May    14   \n",
       "33228  North Carolina         7     0       17       21      July    14   \n",
       "33229            Ohio        16     0       17       12  November     8   \n",
       "33232         Arizona         7     0       17       13     April    16   \n",
       "33231         Florida         2     0       17       22   January    18   \n",
       "\n",
       "      DAY_WEEKNAME RUR_URBNAME                 HARM_EVNAME    LGT_CONDNAME  \\\n",
       "33233      Tuesday       Rural  Motor Vehicle In-Transport        Daylight   \n",
       "33228       Sunday       Rural  Motor Vehicle In-Transport        Daylight   \n",
       "33229      Tuesday       Urban  Motor Vehicle In-Transport        Daylight   \n",
       "33232     Saturday       Urban  Motor Vehicle In-Transport        Daylight   \n",
       "33231      Tuesday       Urban  Motor Vehicle In-Transport  Dark - Lighted   \n",
       "\n",
       "      WEATHER1NAME WEATHERNAME  DRUNK_DR   REGION WEEK_END   DAY_NIGHT  \\\n",
       "33233        Clear       Clear         0    South  Weekday  Night_Time   \n",
       "33228        Clear       Clear         0    South  Weekend  Night_Time   \n",
       "33229         Snow        Snow         0  Midwest  Weekday  Night_Time   \n",
       "33232        Clear       Clear         0     West  Weekend  Night_Time   \n",
       "33231        Clear       Clear         0    South  Weekday  Night_Time   \n",
       "\n",
       "       F_RATIO  \n",
       "33233    5.556  \n",
       "33228    5.882  \n",
       "33229    5.882  \n",
       "33232    5.882  \n",
       "33231    5.882  "
      ]
     },
     "execution_count": 10,
     "metadata": {},
     "output_type": "execute_result"
    }
   ],
   "source": [
    "total.sort_values(by=['F_RATIO']).head()"
   ]
  },
  {
   "cell_type": "markdown",
   "id": "c2d81e49",
   "metadata": {},
   "source": [
    "<a id=\"id3\"></a>"
   ]
  },
  {
   "cell_type": "markdown",
   "id": "4dcf8cf7",
   "metadata": {},
   "source": [
    "## Test train split for Total\n"
   ]
  },
  {
   "cell_type": "code",
   "execution_count": 11,
   "id": "18d75ea2",
   "metadata": {},
   "outputs": [
    {
     "data": {
      "text/plain": [
       "Index(['VE_TOTAL', 'PEDS', 'PERSONS', 'DAYNAME', 'HOUR', 'DRUNK_DR', 'F_RATIO',\n",
       "       'STATENAME_Alabama', 'STATENAME_Alaska', 'STATENAME_Arizona',\n",
       "       ...\n",
       "       'WEATHERNAME_Sleet or Hail', 'WEATHERNAME_Snow', 'REGION_Midwest',\n",
       "       'REGION_Northeast', 'REGION_South', 'REGION_West', 'WEEK_END_Weekday',\n",
       "       'WEEK_END_Weekend', 'DAY_NIGHT_Day_Time', 'DAY_NIGHT_Night_Time'],\n",
       "      dtype='object', length=180)"
      ]
     },
     "execution_count": 11,
     "metadata": {},
     "output_type": "execute_result"
    }
   ],
   "source": [
    "### Sorting out the categorical variables\n",
    "dfo = total.select_dtypes(include=['object']) # select object type columns\n",
    "total_ready = pd.concat([total.drop(dfo, axis=1), pd.get_dummies(dfo)], axis=1) ### concatenating the dummy filled columns\n",
    "total_ready.columns"
   ]
  },
  {
   "cell_type": "code",
   "execution_count": 12,
   "id": "4785d52d",
   "metadata": {},
   "outputs": [],
   "source": [
    "### Test Train Split for total\n",
    "X = total_ready.loc[:, total_ready.columns!='F_RATIO']\n",
    "y = total_ready.F_RATIO\n",
    "\n",
    "X_train, X_test, y_train, y_test = train_test_split(X, y, test_size=.3, random_state=42)"
   ]
  },
  {
   "cell_type": "code",
   "execution_count": 13,
   "id": "f1dd4312",
   "metadata": {},
   "outputs": [],
   "source": [
    "# For Total, build scaler based on training data and apply it to X_test data \n",
    "scaler = preprocessing.StandardScaler().fit(X_train)\n",
    "X_train_scaled=scaler.transform(X_train)\n",
    "X_test_scaled=scaler.transform(X_test)"
   ]
  },
  {
   "cell_type": "code",
   "execution_count": 14,
   "id": "9d8a2444",
   "metadata": {},
   "outputs": [
    {
     "name": "stdout",
     "output_type": "stream",
     "text": [
      "Total accident training data (23263, 179) ; Total accident test data (9971, 179) \n",
      " total fatality training data (23263,) ; total fatality testing data (9971,)\n"
     ]
    }
   ],
   "source": [
    "# For Total, We now want to check the shape of the X train, y_train, X_test and y_test to make sure the proportions are right. \n",
    "print('Total accident training data', X_train_scaled.shape, ';', 'Total accident test data', X_test_scaled.shape, \"\\n\", 'total fatality training data', y_train.shape,';', 'total fatality testing data', y_test.shape) \n"
   ]
  },
  {
   "cell_type": "markdown",
   "id": "af6dddd4",
   "metadata": {},
   "source": [
    "\n",
    "Data for total dataset is test/train split and then scaled to avoid data leakage."
   ]
  },
  {
   "cell_type": "markdown",
   "id": "6a432d65",
   "metadata": {},
   "source": [
    "## Model Evaluation"
   ]
  },
  {
   "cell_type": "markdown",
   "id": "1ae0076b",
   "metadata": {},
   "source": [
    "### Linear Regression"
   ]
  },
  {
   "cell_type": "code",
   "execution_count": 15,
   "id": "8df2d881",
   "metadata": {},
   "outputs": [],
   "source": [
    "# Using linear regression for the entire Total set\n",
    "rModel = linear_model.LinearRegression()"
   ]
  },
  {
   "cell_type": "code",
   "execution_count": 16,
   "id": "a04da2a8",
   "metadata": {},
   "outputs": [
    {
     "data": {
      "text/plain": [
       "LinearRegression()"
      ]
     },
     "execution_count": 16,
     "metadata": {},
     "output_type": "execute_result"
    }
   ],
   "source": [
    "rModel.fit(X_train_scaled, y_train)"
   ]
  },
  {
   "cell_type": "code",
   "execution_count": 17,
   "id": "3f15e23a",
   "metadata": {},
   "outputs": [
    {
     "name": "stdout",
     "output_type": "stream",
     "text": [
      "Training R-sqaured for simple linear regression: 0.7107888460023336\n",
      "Testing R-squared for simple linear regression: 0.7157144287978345\n"
     ]
    }
   ],
   "source": [
    "# Evaluate the model: And a halfway decent R-Squared score for a full go; Ok comparison for the test score. \n",
    "# Not overfit or underfit\n",
    "\n",
    "print(\"Training R-sqaured for simple linear regression:\", rModel.score(X_train_scaled, y_train))\n",
    "print(\"Testing R-squared for simple linear regression:\", rModel.score(X_test_scaled, y_test))"
   ]
  },
  {
   "cell_type": "code",
   "execution_count": 18,
   "id": "6ceb4dd2",
   "metadata": {},
   "outputs": [],
   "source": [
    "# Use the model to make predictions about our test data\n",
    "y_pred = rModel.predict(X_test_scaled)"
   ]
  },
  {
   "cell_type": "code",
   "execution_count": 19,
   "id": "1e765056",
   "metadata": {},
   "outputs": [
    {
     "name": "stdout",
     "output_type": "stream",
     "text": [
      "The Root Mean Squared Error: 15.21\n",
      "The Mean Absolute Error: 10.99\n",
      "Coefficient of determination: 0.72\n"
     ]
    }
   ],
   "source": [
    "###mean_squared_error, r2_score, mean_absolute_error\n",
    "print('The Root Mean Squared Error with Linear Regression:', round(np.sqrt(mean_squared_error(y_test,y_pred)), 2))\n",
    "print('The Mean Absolute Error with Linear Regression:', round(mean_absolute_error(y_test,y_pred), 2))\n",
    "print('Coefficient of determination with Linear Regression:', round(r2_score(y_test,y_pred), 2))"
   ]
  },
  {
   "cell_type": "code",
   "execution_count": 20,
   "id": "d2b089e9",
   "metadata": {
    "scrolled": true
   },
   "outputs": [
    {
     "data": {
      "image/png": "[encoded data removed]",
      "text/plain": [
       "<Figure size 432x288 with 1 Axes>"
      ]
     },
     "metadata": {
      "needs_background": "light"
     },
     "output_type": "display_data"
    }
   ],
   "source": [
    "# Let's plot the predictions against the actual result. Use scatter()\n",
    "# appears that there is an exponential curve to the relationship\n",
    "_ = plt.scatter(y_test, y_pred)\n",
    "_ = plt.ylabel('F_Ratio Predicted')\n",
    "_ = plt.xlabel('F_Ratio Acutal')\n",
    "plt.savefig('../figures/Actual vs Predicted for Linear Regression')"
   ]
  },
  {
   "cell_type": "markdown",
   "id": "7e767a0c",
   "metadata": {},
   "source": [
    "<a id=\"id7\"></a>\n"
   ]
  },
  {
   "cell_type": "markdown",
   "id": "092efce6",
   "metadata": {},
   "source": [
    "## Oridinary Least Squares"
   ]
  },
  {
   "cell_type": "code",
   "execution_count": 21,
   "id": "58b9b873",
   "metadata": {},
   "outputs": [],
   "source": [
    "model_OLS = sm.OLS(y_train, X_train_scaled)\n",
    "\n",
    "# Fit the model\n",
    "model_OLS = model_OLS.fit()\n",
    "\n"
   ]
  },
  {
   "cell_type": "code",
   "execution_count": 22,
   "id": "d00d39b7",
   "metadata": {},
   "outputs": [
    {
     "data": {
      "text/html": [
       "<table class=\"simpletable\">\n",
       "<caption>OLS Regression Results</caption>\n",
       "<tr>\n",
       "  <th>Dep. Variable:</th>         <td>F_RATIO</td>     <th>  R-squared (uncentered):</th>       <td>   0.139</td>  \n",
       "</tr>\n",
       "<tr>\n",
       "  <th>Model:</th>                   <td>OLS</td>       <th>  Adj. R-squared (uncentered):</th>  <td>   0.133</td>  \n",
       "</tr>\n",
       "<tr>\n",
       "  <th>Method:</th>             <td>Least Squares</td>  <th>  F-statistic:       </th>           <td>   23.17</td>  \n",
       "</tr>\n",
       "<tr>\n",
       "  <th>Date:</th>             <td>Mon, 19 Sep 2022</td> <th>  Prob (F-statistic):</th>            <td>  0.00</td>   \n",
       "</tr>\n",
       "<tr>\n",
       "  <th>Time:</th>                 <td>09:44:10</td>     <th>  Log-Likelihood:    </th>          <td>-1.2801e+05</td>\n",
       "</tr>\n",
       "<tr>\n",
       "  <th>No. Observations:</th>      <td> 23263</td>      <th>  AIC:               </th>           <td>2.563e+05</td> \n",
       "</tr>\n",
       "<tr>\n",
       "  <th>Df Residuals:</th>          <td> 23102</td>      <th>  BIC:               </th>           <td>2.576e+05</td> \n",
       "</tr>\n",
       "<tr>\n",
       "  <th>Df Model:</th>              <td>   161</td>      <th>                     </th>               <td> </td>     \n",
       "</tr>\n",
       "<tr>\n",
       "  <th>Covariance Type:</th>      <td>nonrobust</td>    <th>                     </th>               <td> </td>     \n",
       "</tr>\n",
       "</table>\n",
       "<table class=\"simpletable\">\n",
       "<tr>\n",
       "    <td></td>      <th>coef</th>     <th>std err</th>      <th>t</th>      <th>P>|t|</th>  <th>[0.025</th>    <th>0.975]</th>  \n",
       "</tr>\n",
       "<tr>\n",
       "  <th>x1</th>   <td>    0.8358</td> <td>    0.669</td> <td>    1.250</td> <td> 0.211</td> <td>   -0.475</td> <td>    2.147</td>\n",
       "</tr>\n",
       "<tr>\n",
       "  <th>x2</th>   <td>   -5.0999</td> <td>    0.963</td> <td>   -5.295</td> <td> 0.000</td> <td>   -6.988</td> <td>   -3.212</td>\n",
       "</tr>\n",
       "<tr>\n",
       "  <th>x3</th>   <td>  -15.2585</td> <td>    0.542</td> <td>  -28.130</td> <td> 0.000</td> <td>  -16.322</td> <td>  -14.195</td>\n",
       "</tr>\n",
       "<tr>\n",
       "  <th>x4</th>   <td>    0.0351</td> <td>    0.394</td> <td>    0.089</td> <td> 0.929</td> <td>   -0.737</td> <td>    0.807</td>\n",
       "</tr>\n",
       "<tr>\n",
       "  <th>x5</th>   <td>   -0.4137</td> <td>    0.878</td> <td>   -0.471</td> <td> 0.638</td> <td>   -2.135</td> <td>    1.308</td>\n",
       "</tr>\n",
       "<tr>\n",
       "  <th>x6</th>   <td>    0.7194</td> <td>    0.434</td> <td>    1.656</td> <td> 0.098</td> <td>   -0.132</td> <td>    1.571</td>\n",
       "</tr>\n",
       "<tr>\n",
       "  <th>x7</th>   <td>-1.051e+14</td> <td> 2.08e+13</td> <td>   -5.040</td> <td> 0.000</td> <td>-1.46e+14</td> <td>-6.42e+13</td>\n",
       "</tr>\n",
       "<tr>\n",
       "  <th>x8</th>   <td> 4.278e+12</td> <td> 5.94e+12</td> <td>    0.720</td> <td> 0.472</td> <td>-7.37e+12</td> <td> 1.59e+13</td>\n",
       "</tr>\n",
       "<tr>\n",
       "  <th>x9</th>   <td> 1.823e+13</td> <td> 2.53e+13</td> <td>    0.720</td> <td> 0.472</td> <td>-3.14e+13</td> <td> 6.79e+13</td>\n",
       "</tr>\n",
       "<tr>\n",
       "  <th>x10</th>  <td>-7.991e+13</td> <td> 1.59e+13</td> <td>   -5.040</td> <td> 0.000</td> <td>-1.11e+14</td> <td>-4.88e+13</td>\n",
       "</tr>\n",
       "<tr>\n",
       "  <th>x11</th>  <td> 3.365e+13</td> <td> 4.67e+13</td> <td>    0.720</td> <td> 0.472</td> <td> -5.8e+13</td> <td> 1.25e+14</td>\n",
       "</tr>\n",
       "<tr>\n",
       "  <th>x12</th>  <td> 1.429e+13</td> <td> 1.98e+13</td> <td>    0.720</td> <td> 0.472</td> <td>-2.46e+13</td> <td> 5.32e+13</td>\n",
       "</tr>\n",
       "<tr>\n",
       "  <th>x13</th>  <td>-1.155e+14</td> <td> 2.33e+13</td> <td>   -4.959</td> <td> 0.000</td> <td>-1.61e+14</td> <td>-6.98e+13</td>\n",
       "</tr>\n",
       "<tr>\n",
       "  <th>x14</th>  <td>-3.668e+13</td> <td> 7.28e+12</td> <td>   -5.040</td> <td> 0.000</td> <td>-5.09e+13</td> <td>-2.24e+13</td>\n",
       "</tr>\n",
       "<tr>\n",
       "  <th>x15</th>  <td>-1.797e+13</td> <td> 3.56e+12</td> <td>   -5.040</td> <td> 0.000</td> <td> -2.5e+13</td> <td> -1.1e+13</td>\n",
       "</tr>\n",
       "<tr>\n",
       "  <th>x16</th>  <td>-1.891e+14</td> <td> 3.75e+13</td> <td>   -5.040</td> <td> 0.000</td> <td>-2.63e+14</td> <td>-1.16e+14</td>\n",
       "</tr>\n",
       "<tr>\n",
       "  <th>x17</th>  <td>-1.325e+14</td> <td> 2.63e+13</td> <td>   -5.040</td> <td> 0.000</td> <td>-1.84e+14</td> <td> -8.1e+13</td>\n",
       "</tr>\n",
       "<tr>\n",
       "  <th>x18</th>  <td> 6.046e+12</td> <td>  8.4e+12</td> <td>    0.720</td> <td> 0.472</td> <td>-1.04e+13</td> <td> 2.25e+13</td>\n",
       "</tr>\n",
       "<tr>\n",
       "  <th>x19</th>  <td> 8.348e+12</td> <td> 1.16e+13</td> <td>    0.720</td> <td> 0.472</td> <td>-1.44e+13</td> <td> 3.11e+13</td>\n",
       "</tr>\n",
       "<tr>\n",
       "  <th>x20</th>  <td>-2.909e+13</td> <td> 6.25e+12</td> <td>   -4.656</td> <td> 0.000</td> <td>-4.13e+13</td> <td>-1.68e+13</td>\n",
       "</tr>\n",
       "<tr>\n",
       "  <th>x21</th>  <td>-2.596e+13</td> <td> 5.57e+12</td> <td>   -4.656</td> <td> 0.000</td> <td>-3.69e+13</td> <td> -1.5e+13</td>\n",
       "</tr>\n",
       "<tr>\n",
       "  <th>x22</th>  <td>-1.717e+13</td> <td> 3.69e+12</td> <td>   -4.656</td> <td> 0.000</td> <td>-2.44e+13</td> <td>-9.94e+12</td>\n",
       "</tr>\n",
       "<tr>\n",
       "  <th>x23</th>  <td>-1.851e+13</td> <td> 3.98e+12</td> <td>   -4.656</td> <td> 0.000</td> <td>-2.63e+13</td> <td>-1.07e+13</td>\n",
       "</tr>\n",
       "<tr>\n",
       "  <th>x24</th>  <td>-9.047e+13</td> <td> 1.79e+13</td> <td>   -5.040</td> <td> 0.000</td> <td>-1.26e+14</td> <td>-5.53e+13</td>\n",
       "</tr>\n",
       "<tr>\n",
       "  <th>x25</th>  <td>-9.471e+13</td> <td> 1.88e+13</td> <td>   -5.040</td> <td> 0.000</td> <td>-1.32e+14</td> <td>-5.79e+13</td>\n",
       "</tr>\n",
       "<tr>\n",
       "  <th>x26</th>  <td> -9.38e+13</td> <td> 1.89e+13</td> <td>   -4.959</td> <td> 0.000</td> <td>-1.31e+14</td> <td>-5.67e+13</td>\n",
       "</tr>\n",
       "<tr>\n",
       "  <th>x27</th>  <td>-8.196e+13</td> <td> 1.63e+13</td> <td>   -5.040</td> <td> 0.000</td> <td>-1.14e+14</td> <td>-5.01e+13</td>\n",
       "</tr>\n",
       "<tr>\n",
       "  <th>x28</th>  <td>-1.369e+14</td> <td> 2.76e+13</td> <td>   -4.959</td> <td> 0.000</td> <td>-1.91e+14</td> <td>-8.28e+13</td>\n",
       "</tr>\n",
       "<tr>\n",
       "  <th>x29</th>  <td>-2.822e+13</td> <td> 6.06e+12</td> <td>   -4.656</td> <td> 0.000</td> <td>-4.01e+13</td> <td>-1.63e+13</td>\n",
       "</tr>\n",
       "<tr>\n",
       "  <th>x30</th>  <td>-1.777e+13</td> <td> 3.82e+12</td> <td>   -4.656</td> <td> 0.000</td> <td>-2.52e+13</td> <td>-1.03e+13</td>\n",
       "</tr>\n",
       "<tr>\n",
       "  <th>x31</th>  <td>-8.874e+13</td> <td> 1.76e+13</td> <td>   -5.040</td> <td> 0.000</td> <td>-1.23e+14</td> <td>-5.42e+13</td>\n",
       "</tr>\n",
       "<tr>\n",
       "  <th>x32</th>  <td>-2.723e+13</td> <td> 5.85e+12</td> <td>   -4.656</td> <td> 0.000</td> <td>-3.87e+13</td> <td>-1.58e+13</td>\n",
       "</tr>\n",
       "<tr>\n",
       "  <th>x33</th>  <td> 7.717e+12</td> <td> 1.07e+13</td> <td>    0.720</td> <td> 0.472</td> <td>-1.33e+13</td> <td> 2.87e+13</td>\n",
       "</tr>\n",
       "<tr>\n",
       "  <th>x34</th>  <td>-1.305e+13</td> <td>  2.8e+12</td> <td>   -4.656</td> <td> 0.000</td> <td>-1.85e+13</td> <td>-7.56e+12</td>\n",
       "</tr>\n",
       "<tr>\n",
       "  <th>x35</th>  <td> 1.059e+13</td> <td> 1.47e+13</td> <td>    0.720</td> <td> 0.472</td> <td>-1.82e+13</td> <td> 3.94e+13</td>\n",
       "</tr>\n",
       "<tr>\n",
       "  <th>x36</th>  <td>-7.408e+13</td> <td> 1.49e+13</td> <td>   -4.959</td> <td> 0.000</td> <td>-1.03e+14</td> <td>-4.48e+13</td>\n",
       "</tr>\n",
       "<tr>\n",
       "  <th>x37</th>  <td>-1.754e+14</td> <td> 3.54e+13</td> <td>   -4.959</td> <td> 0.000</td> <td>-2.45e+14</td> <td>-1.06e+14</td>\n",
       "</tr>\n",
       "<tr>\n",
       "  <th>x38</th>  <td> 1.152e+13</td> <td>  1.6e+13</td> <td>    0.720</td> <td> 0.472</td> <td>-1.98e+13</td> <td> 4.29e+13</td>\n",
       "</tr>\n",
       "<tr>\n",
       "  <th>x39</th>  <td> -2.22e+14</td> <td> 4.48e+13</td> <td>   -4.959</td> <td> 0.000</td> <td> -3.1e+14</td> <td>-1.34e+14</td>\n",
       "</tr>\n",
       "<tr>\n",
       "  <th>x40</th>  <td>-1.306e+14</td> <td> 2.59e+13</td> <td>   -5.040</td> <td> 0.000</td> <td>-1.81e+14</td> <td>-7.98e+13</td>\n",
       "</tr>\n",
       "<tr>\n",
       "  <th>x41</th>  <td>-8.881e+12</td> <td> 1.91e+12</td> <td>   -4.656</td> <td> 0.000</td> <td>-1.26e+13</td> <td>-5.14e+12</td>\n",
       "</tr>\n",
       "<tr>\n",
       "  <th>x42</th>  <td>-3.081e+13</td> <td> 6.62e+12</td> <td>   -4.656</td> <td> 0.000</td> <td>-4.38e+13</td> <td>-1.78e+13</td>\n",
       "</tr>\n",
       "<tr>\n",
       "  <th>x43</th>  <td>-8.622e+13</td> <td> 1.71e+13</td> <td>   -5.040</td> <td> 0.000</td> <td> -1.2e+14</td> <td>-5.27e+13</td>\n",
       "</tr>\n",
       "<tr>\n",
       "  <th>x44</th>  <td> 1.255e+13</td> <td> 1.74e+13</td> <td>    0.720</td> <td> 0.472</td> <td>-2.16e+13</td> <td> 4.67e+13</td>\n",
       "</tr>\n",
       "<tr>\n",
       "  <th>x45</th>  <td>-2.376e+14</td> <td> 4.79e+13</td> <td>   -4.959</td> <td> 0.000</td> <td>-3.32e+14</td> <td>-1.44e+14</td>\n",
       "</tr>\n",
       "<tr>\n",
       "  <th>x46</th>  <td>-5.081e+13</td> <td> 1.02e+13</td> <td>   -4.959</td> <td> 0.000</td> <td>-7.09e+13</td> <td>-3.07e+13</td>\n",
       "</tr>\n",
       "<tr>\n",
       "  <th>x47</th>  <td>  -1.1e+14</td> <td> 2.18e+13</td> <td>   -5.040</td> <td> 0.000</td> <td>-1.53e+14</td> <td>-6.72e+13</td>\n",
       "</tr>\n",
       "<tr>\n",
       "  <th>x48</th>  <td>-9.242e+12</td> <td> 1.98e+12</td> <td>   -4.656</td> <td> 0.000</td> <td>-1.31e+13</td> <td>-5.35e+12</td>\n",
       "</tr>\n",
       "<tr>\n",
       "  <th>x49</th>  <td>-1.127e+14</td> <td> 2.24e+13</td> <td>   -5.040</td> <td> 0.000</td> <td>-1.57e+14</td> <td>-6.89e+13</td>\n",
       "</tr>\n",
       "<tr>\n",
       "  <th>x50</th>  <td>-1.964e+14</td> <td>  3.9e+13</td> <td>   -5.040</td> <td> 0.000</td> <td>-2.73e+14</td> <td> -1.2e+14</td>\n",
       "</tr>\n",
       "<tr>\n",
       "  <th>x51</th>  <td> 8.993e+12</td> <td> 1.25e+13</td> <td>    0.720</td> <td> 0.472</td> <td>-1.55e+13</td> <td> 3.35e+13</td>\n",
       "</tr>\n",
       "<tr>\n",
       "  <th>x52</th>  <td>-5.242e+13</td> <td> 1.06e+13</td> <td>   -4.959</td> <td> 0.000</td> <td>-7.31e+13</td> <td>-3.17e+13</td>\n",
       "</tr>\n",
       "<tr>\n",
       "  <th>x53</th>  <td>-1.037e+14</td> <td> 2.06e+13</td> <td>   -5.040</td> <td> 0.000</td> <td>-1.44e+14</td> <td>-6.34e+13</td>\n",
       "</tr>\n",
       "<tr>\n",
       "  <th>x54</th>  <td> 1.379e+13</td> <td> 1.91e+13</td> <td>    0.720</td> <td> 0.472</td> <td>-2.37e+13</td> <td> 5.13e+13</td>\n",
       "</tr>\n",
       "<tr>\n",
       "  <th>x55</th>  <td>-5.826e+13</td> <td> 1.16e+13</td> <td>   -5.040</td> <td> 0.000</td> <td>-8.09e+13</td> <td>-3.56e+13</td>\n",
       "</tr>\n",
       "<tr>\n",
       "  <th>x56</th>  <td>-2.167e+13</td> <td> 4.65e+12</td> <td>   -4.656</td> <td> 0.000</td> <td>-3.08e+13</td> <td>-1.25e+13</td>\n",
       "</tr>\n",
       "<tr>\n",
       "  <th>x57</th>  <td> 6.677e+12</td> <td> 9.27e+12</td> <td>    0.720</td> <td> 0.472</td> <td>-1.15e+13</td> <td> 2.49e+13</td>\n",
       "</tr>\n",
       "<tr>\n",
       "  <th>x58</th>  <td>-6.092e+13</td> <td> 1.21e+13</td> <td>   -5.025</td> <td> 0.000</td> <td>-8.47e+13</td> <td>-3.72e+13</td>\n",
       "</tr>\n",
       "<tr>\n",
       "  <th>x59</th>  <td>-6.531e+13</td> <td>  1.3e+13</td> <td>   -5.025</td> <td> 0.000</td> <td>-9.08e+13</td> <td>-3.98e+13</td>\n",
       "</tr>\n",
       "<tr>\n",
       "  <th>x60</th>  <td>-6.242e+13</td> <td> 1.24e+13</td> <td>   -5.025</td> <td> 0.000</td> <td>-8.68e+13</td> <td>-3.81e+13</td>\n",
       "</tr>\n",
       "<tr>\n",
       "  <th>x61</th>  <td>-5.641e+13</td> <td> 1.12e+13</td> <td>   -5.025</td> <td> 0.000</td> <td>-7.84e+13</td> <td>-3.44e+13</td>\n",
       "</tr>\n",
       "<tr>\n",
       "  <th>x62</th>  <td>-5.903e+13</td> <td> 1.17e+13</td> <td>   -5.025</td> <td> 0.000</td> <td>-8.21e+13</td> <td> -3.6e+13</td>\n",
       "</tr>\n",
       "<tr>\n",
       "  <th>x63</th>  <td>-6.541e+13</td> <td>  1.3e+13</td> <td>   -5.025</td> <td> 0.000</td> <td>-9.09e+13</td> <td>-3.99e+13</td>\n",
       "</tr>\n",
       "<tr>\n",
       "  <th>x64</th>  <td>-6.315e+13</td> <td> 1.26e+13</td> <td>   -5.025</td> <td> 0.000</td> <td>-8.78e+13</td> <td>-3.85e+13</td>\n",
       "</tr>\n",
       "<tr>\n",
       "  <th>x65</th>  <td>-6.077e+13</td> <td> 1.21e+13</td> <td>   -5.025</td> <td> 0.000</td> <td>-8.45e+13</td> <td>-3.71e+13</td>\n",
       "</tr>\n",
       "<tr>\n",
       "  <th>x66</th>  <td>-6.377e+13</td> <td> 1.27e+13</td> <td>   -5.025</td> <td> 0.000</td> <td>-8.86e+13</td> <td>-3.89e+13</td>\n",
       "</tr>\n",
       "<tr>\n",
       "  <th>x67</th>  <td>-6.365e+13</td> <td> 1.27e+13</td> <td>   -5.025</td> <td> 0.000</td> <td>-8.85e+13</td> <td>-3.88e+13</td>\n",
       "</tr>\n",
       "<tr>\n",
       "  <th>x68</th>  <td>-6.402e+13</td> <td> 1.27e+13</td> <td>   -5.025</td> <td> 0.000</td> <td> -8.9e+13</td> <td>-3.91e+13</td>\n",
       "</tr>\n",
       "<tr>\n",
       "  <th>x69</th>  <td>-6.526e+13</td> <td>  1.3e+13</td> <td>   -5.025</td> <td> 0.000</td> <td>-9.07e+13</td> <td>-3.98e+13</td>\n",
       "</tr>\n",
       "<tr>\n",
       "  <th>x70</th>  <td>-1.553e+13</td> <td> 3.32e+12</td> <td>   -4.684</td> <td> 0.000</td> <td> -2.2e+13</td> <td>-9.03e+12</td>\n",
       "</tr>\n",
       "<tr>\n",
       "  <th>x71</th>  <td> -1.43e+13</td> <td> 3.05e+12</td> <td>   -4.684</td> <td> 0.000</td> <td>-2.03e+13</td> <td>-8.32e+12</td>\n",
       "</tr>\n",
       "<tr>\n",
       "  <th>x72</th>  <td> 1.459e+14</td> <td> 2.84e+13</td> <td>    5.146</td> <td> 0.000</td> <td> 9.03e+13</td> <td> 2.02e+14</td>\n",
       "</tr>\n",
       "<tr>\n",
       "  <th>x73</th>  <td> 1.403e+14</td> <td> 2.73e+13</td> <td>    5.146</td> <td> 0.000</td> <td> 8.69e+13</td> <td> 1.94e+14</td>\n",
       "</tr>\n",
       "<tr>\n",
       "  <th>x74</th>  <td>-1.459e+13</td> <td> 3.11e+12</td> <td>   -4.684</td> <td> 0.000</td> <td>-2.07e+13</td> <td>-8.48e+12</td>\n",
       "</tr>\n",
       "<tr>\n",
       "  <th>x75</th>  <td>-1.419e+13</td> <td> 3.03e+12</td> <td>   -4.684</td> <td> 0.000</td> <td>-2.01e+13</td> <td>-8.25e+12</td>\n",
       "</tr>\n",
       "<tr>\n",
       "  <th>x76</th>  <td>-1.418e+13</td> <td> 3.03e+12</td> <td>   -4.684</td> <td> 0.000</td> <td>-2.01e+13</td> <td>-8.25e+12</td>\n",
       "</tr>\n",
       "<tr>\n",
       "  <th>x77</th>  <td>-4.121e+12</td> <td> 8.09e+11</td> <td>   -5.097</td> <td> 0.000</td> <td>-5.71e+12</td> <td>-2.54e+12</td>\n",
       "</tr>\n",
       "<tr>\n",
       "  <th>x78</th>  <td>-1.559e+14</td> <td> 3.06e+13</td> <td>   -5.097</td> <td> 0.000</td> <td>-2.16e+14</td> <td>-9.59e+13</td>\n",
       "</tr>\n",
       "<tr>\n",
       "  <th>x79</th>  <td>-1.634e+13</td> <td>  3.2e+12</td> <td>   -5.097</td> <td> 0.000</td> <td>-2.26e+13</td> <td>-1.01e+13</td>\n",
       "</tr>\n",
       "<tr>\n",
       "  <th>x80</th>  <td>-7.979e+12</td> <td> 1.57e+12</td> <td>   -5.097</td> <td> 0.000</td> <td> -1.1e+13</td> <td>-4.91e+12</td>\n",
       "</tr>\n",
       "<tr>\n",
       "  <th>x81</th>  <td> -1.56e+14</td> <td> 3.06e+13</td> <td>   -5.097</td> <td> 0.000</td> <td>-2.16e+14</td> <td> -9.6e+13</td>\n",
       "</tr>\n",
       "<tr>\n",
       "  <th>x82</th>  <td>-6.975e+12</td> <td> 1.35e+12</td> <td>   -5.181</td> <td> 0.000</td> <td>-9.61e+12</td> <td>-4.34e+12</td>\n",
       "</tr>\n",
       "<tr>\n",
       "  <th>x83</th>  <td>-3.083e+12</td> <td> 5.95e+11</td> <td>   -5.181</td> <td> 0.000</td> <td>-4.25e+12</td> <td>-1.92e+12</td>\n",
       "</tr>\n",
       "<tr>\n",
       "  <th>x84</th>  <td>-8.911e+12</td> <td> 1.72e+12</td> <td>   -5.181</td> <td> 0.000</td> <td>-1.23e+13</td> <td>-5.54e+12</td>\n",
       "</tr>\n",
       "<tr>\n",
       "  <th>x85</th>  <td>-7.624e+12</td> <td> 1.47e+12</td> <td>   -5.181</td> <td> 0.000</td> <td>-1.05e+13</td> <td>-4.74e+12</td>\n",
       "</tr>\n",
       "<tr>\n",
       "  <th>x86</th>  <td>-7.624e+12</td> <td> 1.47e+12</td> <td>   -5.181</td> <td> 0.000</td> <td>-1.05e+13</td> <td>-4.74e+12</td>\n",
       "</tr>\n",
       "<tr>\n",
       "  <th>x87</th>  <td>-7.306e+12</td> <td> 1.41e+12</td> <td>   -5.181</td> <td> 0.000</td> <td>-1.01e+13</td> <td>-4.54e+12</td>\n",
       "</tr>\n",
       "<tr>\n",
       "  <th>x88</th>  <td>-3.083e+12</td> <td> 5.95e+11</td> <td>   -5.181</td> <td> 0.000</td> <td>-4.25e+12</td> <td>-1.92e+12</td>\n",
       "</tr>\n",
       "<tr>\n",
       "  <th>x89</th>  <td>-1.606e+13</td> <td>  3.1e+12</td> <td>   -5.181</td> <td> 0.000</td> <td>-2.21e+13</td> <td>-9.98e+12</td>\n",
       "</tr>\n",
       "<tr>\n",
       "  <th>x90</th>  <td>-1.804e+13</td> <td> 3.48e+12</td> <td>   -5.181</td> <td> 0.000</td> <td>-2.49e+13</td> <td>-1.12e+13</td>\n",
       "</tr>\n",
       "<tr>\n",
       "  <th>x91</th>  <td>-2.801e+13</td> <td> 5.41e+12</td> <td>   -5.181</td> <td> 0.000</td> <td>-3.86e+13</td> <td>-1.74e+13</td>\n",
       "</tr>\n",
       "<tr>\n",
       "  <th>x92</th>  <td>-2.597e+13</td> <td> 5.01e+12</td> <td>   -5.181</td> <td> 0.000</td> <td>-3.58e+13</td> <td>-1.61e+13</td>\n",
       "</tr>\n",
       "<tr>\n",
       "  <th>x93</th>  <td>-2.564e+13</td> <td> 4.95e+12</td> <td>   -5.181</td> <td> 0.000</td> <td>-3.53e+13</td> <td>-1.59e+13</td>\n",
       "</tr>\n",
       "<tr>\n",
       "  <th>x94</th>  <td>-1.309e+13</td> <td> 2.53e+12</td> <td>   -5.181</td> <td> 0.000</td> <td> -1.8e+13</td> <td>-8.14e+12</td>\n",
       "</tr>\n",
       "<tr>\n",
       "  <th>x95</th>  <td>-1.687e+13</td> <td> 3.26e+12</td> <td>   -5.181</td> <td> 0.000</td> <td>-2.33e+13</td> <td>-1.05e+13</td>\n",
       "</tr>\n",
       "<tr>\n",
       "  <th>x96</th>  <td>-4.494e+12</td> <td> 8.67e+11</td> <td>   -5.181</td> <td> 0.000</td> <td>-6.19e+12</td> <td>-2.79e+12</td>\n",
       "</tr>\n",
       "<tr>\n",
       "  <th>x97</th>  <td>-3.083e+12</td> <td> 5.95e+11</td> <td>   -5.181</td> <td> 0.000</td> <td>-4.25e+12</td> <td>-1.92e+12</td>\n",
       "</tr>\n",
       "<tr>\n",
       "  <th>x98</th>  <td>-7.701e+12</td> <td> 1.49e+12</td> <td>   -5.181</td> <td> 0.000</td> <td>-1.06e+13</td> <td>-4.79e+12</td>\n",
       "</tr>\n",
       "<tr>\n",
       "  <th>x99</th>  <td>-1.249e+13</td> <td> 2.41e+12</td> <td>   -5.181</td> <td> 0.000</td> <td>-1.72e+13</td> <td>-7.77e+12</td>\n",
       "</tr>\n",
       "<tr>\n",
       "  <th>x100</th> <td>-2.376e+13</td> <td> 4.59e+12</td> <td>   -5.181</td> <td> 0.000</td> <td>-3.27e+13</td> <td>-1.48e+13</td>\n",
       "</tr>\n",
       "<tr>\n",
       "  <th>x101</th> <td> -2.67e+12</td> <td> 5.15e+11</td> <td>   -5.181</td> <td> 0.000</td> <td>-3.68e+12</td> <td>-1.66e+12</td>\n",
       "</tr>\n",
       "<tr>\n",
       "  <th>x102</th> <td>-6.715e+12</td> <td>  1.3e+12</td> <td>   -5.181</td> <td> 0.000</td> <td>-9.26e+12</td> <td>-4.17e+12</td>\n",
       "</tr>\n",
       "<tr>\n",
       "  <th>x103</th> <td>-7.225e+12</td> <td> 1.39e+12</td> <td>   -5.181</td> <td> 0.000</td> <td>-9.96e+12</td> <td>-4.49e+12</td>\n",
       "</tr>\n",
       "<tr>\n",
       "  <th>x104</th> <td> -1.09e+12</td> <td>  2.1e+11</td> <td>   -5.181</td> <td> 0.000</td> <td> -1.5e+12</td> <td>-6.78e+11</td>\n",
       "</tr>\n",
       "<tr>\n",
       "  <th>x105</th> <td>-3.447e+12</td> <td> 6.65e+11</td> <td>   -5.181</td> <td> 0.000</td> <td>-4.75e+12</td> <td>-2.14e+12</td>\n",
       "</tr>\n",
       "<tr>\n",
       "  <th>x106</th> <td>-1.216e+13</td> <td> 2.35e+12</td> <td>   -5.181</td> <td> 0.000</td> <td>-1.68e+13</td> <td>-7.56e+12</td>\n",
       "</tr>\n",
       "<tr>\n",
       "  <th>x107</th> <td>-1.361e+13</td> <td> 2.63e+12</td> <td>   -5.181</td> <td> 0.000</td> <td>-1.88e+13</td> <td>-8.46e+12</td>\n",
       "</tr>\n",
       "<tr>\n",
       "  <th>x108</th> <td> -8.13e+13</td> <td> 1.57e+13</td> <td>   -5.181</td> <td> 0.000</td> <td>-1.12e+14</td> <td>-5.05e+13</td>\n",
       "</tr>\n",
       "<tr>\n",
       "  <th>x109</th> <td>-5.662e+12</td> <td> 1.09e+12</td> <td>   -5.181</td> <td> 0.000</td> <td> -7.8e+12</td> <td>-3.52e+12</td>\n",
       "</tr>\n",
       "<tr>\n",
       "  <th>x110</th> <td>-1.249e+13</td> <td> 2.41e+12</td> <td>   -5.181</td> <td> 0.000</td> <td>-1.72e+13</td> <td>-7.77e+12</td>\n",
       "</tr>\n",
       "<tr>\n",
       "  <th>x111</th> <td>-1.542e+12</td> <td> 2.98e+11</td> <td>   -5.181</td> <td> 0.000</td> <td>-2.13e+12</td> <td>-9.58e+11</td>\n",
       "</tr>\n",
       "<tr>\n",
       "  <th>x112</th> <td>-1.441e+13</td> <td> 2.78e+12</td> <td>   -5.181</td> <td> 0.000</td> <td>-1.99e+13</td> <td>-8.96e+12</td>\n",
       "</tr>\n",
       "<tr>\n",
       "  <th>x113</th> <td>-4.494e+12</td> <td> 8.67e+11</td> <td>   -5.181</td> <td> 0.000</td> <td>-6.19e+12</td> <td>-2.79e+12</td>\n",
       "</tr>\n",
       "<tr>\n",
       "  <th>x114</th> <td>-1.181e+13</td> <td> 2.28e+12</td> <td>   -5.181</td> <td> 0.000</td> <td>-1.63e+13</td> <td>-7.34e+12</td>\n",
       "</tr>\n",
       "<tr>\n",
       "  <th>x115</th> <td>-4.994e+12</td> <td> 9.64e+11</td> <td>   -5.181</td> <td> 0.000</td> <td>-6.88e+12</td> <td> -3.1e+12</td>\n",
       "</tr>\n",
       "<tr>\n",
       "  <th>x116</th> <td>-1.842e+13</td> <td> 3.55e+12</td> <td>   -5.181</td> <td> 0.000</td> <td>-2.54e+13</td> <td>-1.15e+13</td>\n",
       "</tr>\n",
       "<tr>\n",
       "  <th>x117</th> <td>-4.994e+12</td> <td> 9.64e+11</td> <td>   -5.181</td> <td> 0.000</td> <td>-6.88e+12</td> <td> -3.1e+12</td>\n",
       "</tr>\n",
       "<tr>\n",
       "  <th>x118</th> <td> -2.61e+13</td> <td> 5.04e+12</td> <td>   -5.181</td> <td> 0.000</td> <td> -3.6e+13</td> <td>-1.62e+13</td>\n",
       "</tr>\n",
       "<tr>\n",
       "  <th>x119</th> <td>-6.311e+13</td> <td> 1.22e+13</td> <td>   -5.181</td> <td> 0.000</td> <td> -8.7e+13</td> <td>-3.92e+13</td>\n",
       "</tr>\n",
       "<tr>\n",
       "  <th>x120</th> <td>-1.433e+13</td> <td> 2.77e+12</td> <td>   -5.181</td> <td> 0.000</td> <td>-1.97e+13</td> <td>-8.91e+12</td>\n",
       "</tr>\n",
       "<tr>\n",
       "  <th>x121</th> <td> -8.71e+12</td> <td> 1.68e+12</td> <td>   -5.181</td> <td> 0.000</td> <td> -1.2e+13</td> <td>-5.41e+12</td>\n",
       "</tr>\n",
       "<tr>\n",
       "  <th>x122</th> <td>-5.226e+12</td> <td> 1.01e+12</td> <td>   -5.181</td> <td> 0.000</td> <td> -7.2e+12</td> <td>-3.25e+12</td>\n",
       "</tr>\n",
       "<tr>\n",
       "  <th>x123</th> <td>-3.615e+12</td> <td> 6.98e+11</td> <td>   -5.181</td> <td> 0.000</td> <td>-4.98e+12</td> <td>-2.25e+12</td>\n",
       "</tr>\n",
       "<tr>\n",
       "  <th>x124</th> <td> -1.09e+12</td> <td>  2.1e+11</td> <td>   -5.181</td> <td> 0.000</td> <td> -1.5e+12</td> <td>-6.78e+11</td>\n",
       "</tr>\n",
       "<tr>\n",
       "  <th>x125</th> <td>-4.337e+13</td> <td> 8.37e+12</td> <td>   -5.181</td> <td> 0.000</td> <td>-5.98e+13</td> <td> -2.7e+13</td>\n",
       "</tr>\n",
       "<tr>\n",
       "  <th>x126</th> <td>-6.715e+12</td> <td>  1.3e+12</td> <td>   -5.181</td> <td> 0.000</td> <td>-9.26e+12</td> <td>-4.17e+12</td>\n",
       "</tr>\n",
       "<tr>\n",
       "  <th>x127</th> <td>-3.615e+12</td> <td> 6.98e+11</td> <td>   -5.181</td> <td> 0.000</td> <td>-4.98e+12</td> <td>-2.25e+12</td>\n",
       "</tr>\n",
       "<tr>\n",
       "  <th>x128</th> <td>-4.494e+12</td> <td> 8.67e+11</td> <td>   -5.181</td> <td> 0.000</td> <td>-6.19e+12</td> <td>-2.79e+12</td>\n",
       "</tr>\n",
       "<tr>\n",
       "  <th>x129</th> <td>-1.823e+13</td> <td> 3.52e+12</td> <td>   -5.181</td> <td> 0.000</td> <td>-2.51e+13</td> <td>-1.13e+13</td>\n",
       "</tr>\n",
       "<tr>\n",
       "  <th>x130</th> <td>-6.975e+12</td> <td> 1.35e+12</td> <td>   -5.181</td> <td> 0.000</td> <td>-9.61e+12</td> <td>-4.34e+12</td>\n",
       "</tr>\n",
       "<tr>\n",
       "  <th>x131</th> <td>-4.267e+13</td> <td> 8.24e+12</td> <td>   -5.181</td> <td> 0.000</td> <td>-5.88e+13</td> <td>-2.65e+13</td>\n",
       "</tr>\n",
       "<tr>\n",
       "  <th>x132</th> <td>-2.884e+12</td> <td> 5.57e+11</td> <td>   -5.181</td> <td> 0.000</td> <td>-3.98e+12</td> <td>-1.79e+12</td>\n",
       "</tr>\n",
       "<tr>\n",
       "  <th>x133</th> <td> -2.67e+12</td> <td> 5.15e+11</td> <td>   -5.181</td> <td> 0.000</td> <td>-3.68e+12</td> <td>-1.66e+12</td>\n",
       "</tr>\n",
       "<tr>\n",
       "  <th>x134</th> <td>-2.275e+13</td> <td> 4.39e+12</td> <td>   -5.181</td> <td> 0.000</td> <td>-3.14e+13</td> <td>-1.41e+13</td>\n",
       "</tr>\n",
       "<tr>\n",
       "  <th>x135</th> <td>-8.642e+12</td> <td> 1.67e+12</td> <td>   -5.181</td> <td> 0.000</td> <td>-1.19e+13</td> <td>-5.37e+12</td>\n",
       "</tr>\n",
       "<tr>\n",
       "  <th>x136</th> <td>-5.111e+12</td> <td> 9.87e+11</td> <td>   -5.181</td> <td> 0.000</td> <td>-7.04e+12</td> <td>-3.18e+12</td>\n",
       "</tr>\n",
       "<tr>\n",
       "  <th>x137</th> <td>-2.575e+12</td> <td> 2.73e+12</td> <td>   -0.943</td> <td> 0.346</td> <td>-7.93e+12</td> <td> 2.78e+12</td>\n",
       "</tr>\n",
       "<tr>\n",
       "  <th>x138</th> <td>-2.845e+12</td> <td> 3.02e+12</td> <td>   -0.943</td> <td> 0.346</td> <td>-8.76e+12</td> <td> 3.07e+12</td>\n",
       "</tr>\n",
       "<tr>\n",
       "  <th>x139</th> <td>-5.655e+11</td> <td>    6e+11</td> <td>   -0.943</td> <td> 0.346</td> <td>-1.74e+12</td> <td>  6.1e+11</td>\n",
       "</tr>\n",
       "<tr>\n",
       "  <th>x140</th> <td>-9.092e+11</td> <td> 9.65e+11</td> <td>   -0.943</td> <td> 0.346</td> <td> -2.8e+12</td> <td> 9.82e+11</td>\n",
       "</tr>\n",
       "<tr>\n",
       "  <th>x141</th> <td>-3.214e+12</td> <td> 3.41e+12</td> <td>   -0.943</td> <td> 0.346</td> <td> -9.9e+12</td> <td> 3.47e+12</td>\n",
       "</tr>\n",
       "<tr>\n",
       "  <th>x142</th> <td>-9.761e+11</td> <td> 1.04e+12</td> <td>   -0.943</td> <td> 0.346</td> <td>-3.01e+12</td> <td> 1.05e+12</td>\n",
       "</tr>\n",
       "<tr>\n",
       "  <th>x143</th> <td>-2.271e+11</td> <td> 2.41e+11</td> <td>   -0.943</td> <td> 0.346</td> <td>-6.99e+11</td> <td> 2.45e+11</td>\n",
       "</tr>\n",
       "<tr>\n",
       "  <th>x144</th> <td>-1.266e+11</td> <td> 1.34e+11</td> <td>   -0.943</td> <td> 0.346</td> <td> -3.9e+11</td> <td> 1.37e+11</td>\n",
       "</tr>\n",
       "<tr>\n",
       "  <th>x145</th> <td>  -3.5e+11</td> <td> 3.71e+11</td> <td>   -0.943</td> <td> 0.346</td> <td>-1.08e+12</td> <td> 3.78e+11</td>\n",
       "</tr>\n",
       "<tr>\n",
       "  <th>x146</th> <td>-9.223e+11</td> <td> 1.85e+11</td> <td>   -4.981</td> <td> 0.000</td> <td>-1.29e+12</td> <td>-5.59e+11</td>\n",
       "</tr>\n",
       "<tr>\n",
       "  <th>x147</th> <td>  -1.7e+12</td> <td> 3.41e+11</td> <td>   -4.981</td> <td> 0.000</td> <td>-2.37e+12</td> <td>-1.03e+12</td>\n",
       "</tr>\n",
       "<tr>\n",
       "  <th>x148</th> <td> 1.266e+13</td> <td> 2.56e+12</td> <td>    4.937</td> <td> 0.000</td> <td> 7.63e+12</td> <td> 1.77e+13</td>\n",
       "</tr>\n",
       "<tr>\n",
       "  <th>x149</th> <td>-2.234e+13</td> <td> 4.48e+12</td> <td>   -4.981</td> <td> 0.000</td> <td>-3.11e+13</td> <td>-1.35e+13</td>\n",
       "</tr>\n",
       "<tr>\n",
       "  <th>x150</th> <td>-6.344e+12</td> <td> 1.27e+12</td> <td>   -4.981</td> <td> 0.000</td> <td>-8.84e+12</td> <td>-3.85e+12</td>\n",
       "</tr>\n",
       "<tr>\n",
       "  <th>x151</th> <td>-2.181e+12</td> <td> 4.38e+11</td> <td>   -4.981</td> <td> 0.000</td> <td>-3.04e+12</td> <td>-1.32e+12</td>\n",
       "</tr>\n",
       "<tr>\n",
       "  <th>x152</th> <td>-5.989e+12</td> <td> 1.31e+12</td> <td>   -4.579</td> <td> 0.000</td> <td>-8.55e+12</td> <td>-3.43e+12</td>\n",
       "</tr>\n",
       "<tr>\n",
       "  <th>x153</th> <td>-1.934e+12</td> <td> 3.88e+11</td> <td>   -4.981</td> <td> 0.000</td> <td>-2.69e+12</td> <td>-1.17e+12</td>\n",
       "</tr>\n",
       "<tr>\n",
       "  <th>x154</th> <td> -1.65e+13</td> <td> 3.31e+12</td> <td>   -4.981</td> <td> 0.000</td> <td> -2.3e+13</td> <td>   -1e+13</td>\n",
       "</tr>\n",
       "<tr>\n",
       "  <th>x155</th> <td>-5.631e+13</td> <td> 1.13e+13</td> <td>   -4.988</td> <td> 0.000</td> <td>-7.84e+13</td> <td>-3.42e+13</td>\n",
       "</tr>\n",
       "<tr>\n",
       "  <th>x156</th> <td>-2.507e+12</td> <td> 5.03e+11</td> <td>   -4.981</td> <td> 0.000</td> <td>-3.49e+12</td> <td>-1.52e+12</td>\n",
       "</tr>\n",
       "<tr>\n",
       "  <th>x157</th> <td> -2.22e+12</td> <td> 4.46e+11</td> <td>   -4.981</td> <td> 0.000</td> <td>-3.09e+12</td> <td>-1.35e+12</td>\n",
       "</tr>\n",
       "<tr>\n",
       "  <th>x158</th> <td>-6.048e+12</td> <td> 1.21e+12</td> <td>   -4.981</td> <td> 0.000</td> <td>-8.43e+12</td> <td>-3.67e+12</td>\n",
       "</tr>\n",
       "<tr>\n",
       "  <th>x159</th> <td> 1.394e+12</td> <td> 2.69e+11</td> <td>    5.183</td> <td> 0.000</td> <td> 8.67e+11</td> <td> 1.92e+12</td>\n",
       "</tr>\n",
       "<tr>\n",
       "  <th>x160</th> <td> 2.346e+12</td> <td> 4.53e+11</td> <td>    5.183</td> <td> 0.000</td> <td> 1.46e+12</td> <td> 3.23e+12</td>\n",
       "</tr>\n",
       "<tr>\n",
       "  <th>x161</th> <td>-1.494e+12</td> <td> 7.82e+11</td> <td>   -1.910</td> <td> 0.056</td> <td>-3.03e+12</td> <td>  3.9e+10</td>\n",
       "</tr>\n",
       "<tr>\n",
       "  <th>x162</th> <td>  3.05e+13</td> <td> 5.89e+12</td> <td>    5.183</td> <td> 0.000</td> <td>  1.9e+13</td> <td>  4.2e+13</td>\n",
       "</tr>\n",
       "<tr>\n",
       "  <th>x163</th> <td> 8.862e+12</td> <td> 1.71e+12</td> <td>    5.183</td> <td> 0.000</td> <td> 5.51e+12</td> <td> 1.22e+13</td>\n",
       "</tr>\n",
       "<tr>\n",
       "  <th>x164</th> <td>  3.01e+12</td> <td> 5.81e+11</td> <td>    5.183</td> <td> 0.000</td> <td> 1.87e+12</td> <td> 4.15e+12</td>\n",
       "</tr>\n",
       "<tr>\n",
       "  <th>x165</th> <td> 1.211e+13</td> <td> 2.35e+12</td> <td>    5.162</td> <td> 0.000</td> <td> 7.51e+12</td> <td> 1.67e+13</td>\n",
       "</tr>\n",
       "<tr>\n",
       "  <th>x166</th> <td> 2.728e+12</td> <td> 5.26e+11</td> <td>    5.183</td> <td> 0.000</td> <td>  1.7e+12</td> <td> 3.76e+12</td>\n",
       "</tr>\n",
       "<tr>\n",
       "  <th>x167</th> <td> 2.311e+13</td> <td> 4.46e+12</td> <td>    5.183</td> <td> 0.000</td> <td> 1.44e+13</td> <td> 3.18e+13</td>\n",
       "</tr>\n",
       "<tr>\n",
       "  <th>x168</th> <td> 5.774e+13</td> <td> 1.15e+13</td> <td>    5.019</td> <td> 0.000</td> <td> 3.52e+13</td> <td> 8.03e+13</td>\n",
       "</tr>\n",
       "<tr>\n",
       "  <th>x169</th> <td> 3.551e+12</td> <td> 6.85e+11</td> <td>    5.183</td> <td> 0.000</td> <td> 2.21e+12</td> <td> 4.89e+12</td>\n",
       "</tr>\n",
       "<tr>\n",
       "  <th>x170</th> <td> 3.316e+12</td> <td>  6.4e+11</td> <td>    5.183</td> <td> 0.000</td> <td> 2.06e+12</td> <td> 4.57e+12</td>\n",
       "</tr>\n",
       "<tr>\n",
       "  <th>x171</th> <td> 8.626e+12</td> <td> 1.66e+12</td> <td>    5.183</td> <td> 0.000</td> <td> 5.36e+12</td> <td> 1.19e+13</td>\n",
       "</tr>\n",
       "<tr>\n",
       "  <th>x172</th> <td>-1.128e+14</td> <td> 3.68e+13</td> <td>   -3.065</td> <td> 0.002</td> <td>-1.85e+14</td> <td>-4.07e+13</td>\n",
       "</tr>\n",
       "<tr>\n",
       "  <th>x173</th> <td> 2.782e+14</td> <td> 5.41e+13</td> <td>    5.141</td> <td> 0.000</td> <td> 1.72e+14</td> <td> 3.84e+14</td>\n",
       "</tr>\n",
       "<tr>\n",
       "  <th>x174</th> <td> 1.018e+14</td> <td> 2.41e+13</td> <td>    4.219</td> <td> 0.000</td> <td> 5.45e+13</td> <td> 1.49e+14</td>\n",
       "</tr>\n",
       "<tr>\n",
       "  <th>x175</th> <td>-2.362e+14</td> <td> 6.01e+13</td> <td>   -3.928</td> <td> 0.000</td> <td>-3.54e+14</td> <td>-1.18e+14</td>\n",
       "</tr>\n",
       "<tr>\n",
       "  <th>x176</th> <td> 9.062e+13</td> <td> 1.75e+13</td> <td>    5.178</td> <td> 0.000</td> <td> 5.63e+13</td> <td> 1.25e+14</td>\n",
       "</tr>\n",
       "<tr>\n",
       "  <th>x177</th> <td>-1.113e+14</td> <td> 2.15e+13</td> <td>   -5.168</td> <td> 0.000</td> <td>-1.53e+14</td> <td>-6.91e+13</td>\n",
       "</tr>\n",
       "<tr>\n",
       "  <th>x178</th> <td>  3.04e+13</td> <td> 6.18e+12</td> <td>    4.915</td> <td> 0.000</td> <td> 1.83e+13</td> <td> 4.25e+13</td>\n",
       "</tr>\n",
       "<tr>\n",
       "  <th>x179</th> <td>  3.04e+13</td> <td> 6.18e+12</td> <td>    4.915</td> <td> 0.000</td> <td> 1.83e+13</td> <td> 4.25e+13</td>\n",
       "</tr>\n",
       "</table>\n",
       "<table class=\"simpletable\">\n",
       "<tr>\n",
       "  <th>Omnibus:</th>       <td>2558.922</td> <th>  Durbin-Watson:     </th> <td>   0.137</td> \n",
       "</tr>\n",
       "<tr>\n",
       "  <th>Prob(Omnibus):</th>  <td> 0.000</td>  <th>  Jarque-Bera (JB):  </th> <td>14706.159</td>\n",
       "</tr>\n",
       "<tr>\n",
       "  <th>Skew:</th>           <td> 0.375</td>  <th>  Prob(JB):          </th> <td>    0.00</td> \n",
       "</tr>\n",
       "<tr>\n",
       "  <th>Kurtosis:</th>       <td> 6.822</td>  <th>  Cond. No.          </th> <td>1.40e+16</td> \n",
       "</tr>\n",
       "</table><br/><br/>Notes:<br/>[1] R² is computed without centering (uncentered) since the model does not contain a constant.<br/>[2] Standard Errors assume that the covariance matrix of the errors is correctly specified.<br/>[3] The smallest eigenvalue is 4.68e-28. This might indicate that there are<br/>strong multicollinearity problems or that the design matrix is singular."
      ],
      "text/plain": [
       "<class 'statsmodels.iolib.summary.Summary'>\n",
       "\"\"\"\n",
       "                                 OLS Regression Results                                \n",
       "=======================================================================================\n",
       "Dep. Variable:                F_RATIO   R-squared (uncentered):                   0.139\n",
       "Model:                            OLS   Adj. R-squared (uncentered):              0.133\n",
       "Method:                 Least Squares   F-statistic:                              23.17\n",
       "Date:                Mon, 19 Sep 2022   Prob (F-statistic):                        0.00\n",
       "Time:                        09:44:10   Log-Likelihood:                     -1.2801e+05\n",
       "No. Observations:               23263   AIC:                                  2.563e+05\n",
       "Df Residuals:                   23102   BIC:                                  2.576e+05\n",
       "Df Model:                         161                                                  \n",
       "Covariance Type:            nonrobust                                                  \n",
       "==============================================================================\n",
       "                 coef    std err          t      P>|t|      [0.025      0.975]\n",
       "------------------------------------------------------------------------------\n",
       "x1             0.8358      0.669      1.250      0.211      -0.475       2.147\n",
       "x2            -5.0999      0.963     -5.295      0.000      -6.988      -3.212\n",
       "x3           -15.2585      0.542    -28.130      0.000     -16.322     -14.195\n",
       "x4             0.0351      0.394      0.089      0.929      -0.737       0.807\n",
       "x5            -0.4137      0.878     -0.471      0.638      -2.135       1.308\n",
       "x6             0.7194      0.434      1.656      0.098      -0.132       1.571\n",
       "x7         -1.051e+14   2.08e+13     -5.040      0.000   -1.46e+14   -6.42e+13\n",
       "x8          4.278e+12   5.94e+12      0.720      0.472   -7.37e+12    1.59e+13\n",
       "x9          1.823e+13   2.53e+13      0.720      0.472   -3.14e+13    6.79e+13\n",
       "x10        -7.991e+13   1.59e+13     -5.040      0.000   -1.11e+14   -4.88e+13\n",
       "x11         3.365e+13   4.67e+13      0.720      0.472    -5.8e+13    1.25e+14\n",
       "x12         1.429e+13   1.98e+13      0.720      0.472   -2.46e+13    5.32e+13\n",
       "x13        -1.155e+14   2.33e+13     -4.959      0.000   -1.61e+14   -6.98e+13\n",
       "x14        -3.668e+13   7.28e+12     -5.040      0.000   -5.09e+13   -2.24e+13\n",
       "x15        -1.797e+13   3.56e+12     -5.040      0.000    -2.5e+13    -1.1e+13\n",
       "x16        -1.891e+14   3.75e+13     -5.040      0.000   -2.63e+14   -1.16e+14\n",
       "x17        -1.325e+14   2.63e+13     -5.040      0.000   -1.84e+14    -8.1e+13\n",
       "x18         6.046e+12    8.4e+12      0.720      0.472   -1.04e+13    2.25e+13\n",
       "x19         8.348e+12   1.16e+13      0.720      0.472   -1.44e+13    3.11e+13\n",
       "x20        -2.909e+13   6.25e+12     -4.656      0.000   -4.13e+13   -1.68e+13\n",
       "x21        -2.596e+13   5.57e+12     -4.656      0.000   -3.69e+13    -1.5e+13\n",
       "x22        -1.717e+13   3.69e+12     -4.656      0.000   -2.44e+13   -9.94e+12\n",
       "x23        -1.851e+13   3.98e+12     -4.656      0.000   -2.63e+13   -1.07e+13\n",
       "x24        -9.047e+13   1.79e+13     -5.040      0.000   -1.26e+14   -5.53e+13\n",
       "x25        -9.471e+13   1.88e+13     -5.040      0.000   -1.32e+14   -5.79e+13\n",
       "x26         -9.38e+13   1.89e+13     -4.959      0.000   -1.31e+14   -5.67e+13\n",
       "x27        -8.196e+13   1.63e+13     -5.040      0.000   -1.14e+14   -5.01e+13\n",
       "x28        -1.369e+14   2.76e+13     -4.959      0.000   -1.91e+14   -8.28e+13\n",
       "x29        -2.822e+13   6.06e+12     -4.656      0.000   -4.01e+13   -1.63e+13\n",
       "x30        -1.777e+13   3.82e+12     -4.656      0.000   -2.52e+13   -1.03e+13\n",
       "x31        -8.874e+13   1.76e+13     -5.040      0.000   -1.23e+14   -5.42e+13\n",
       "x32        -2.723e+13   5.85e+12     -4.656      0.000   -3.87e+13   -1.58e+13\n",
       "x33         7.717e+12   1.07e+13      0.720      0.472   -1.33e+13    2.87e+13\n",
       "x34        -1.305e+13    2.8e+12     -4.656      0.000   -1.85e+13   -7.56e+12\n",
       "x35         1.059e+13   1.47e+13      0.720      0.472   -1.82e+13    3.94e+13\n",
       "x36        -7.408e+13   1.49e+13     -4.959      0.000   -1.03e+14   -4.48e+13\n",
       "x37        -1.754e+14   3.54e+13     -4.959      0.000   -2.45e+14   -1.06e+14\n",
       "x38         1.152e+13    1.6e+13      0.720      0.472   -1.98e+13    4.29e+13\n",
       "x39         -2.22e+14   4.48e+13     -4.959      0.000    -3.1e+14   -1.34e+14\n",
       "x40        -1.306e+14   2.59e+13     -5.040      0.000   -1.81e+14   -7.98e+13\n",
       "x41        -8.881e+12   1.91e+12     -4.656      0.000   -1.26e+13   -5.14e+12\n",
       "x42        -3.081e+13   6.62e+12     -4.656      0.000   -4.38e+13   -1.78e+13\n",
       "x43        -8.622e+13   1.71e+13     -5.040      0.000    -1.2e+14   -5.27e+13\n",
       "x44         1.255e+13   1.74e+13      0.720      0.472   -2.16e+13    4.67e+13\n",
       "x45        -2.376e+14   4.79e+13     -4.959      0.000   -3.32e+14   -1.44e+14\n",
       "x46        -5.081e+13   1.02e+13     -4.959      0.000   -7.09e+13   -3.07e+13\n",
       "x47          -1.1e+14   2.18e+13     -5.040      0.000   -1.53e+14   -6.72e+13\n",
       "x48        -9.242e+12   1.98e+12     -4.656      0.000   -1.31e+13   -5.35e+12\n",
       "x49        -1.127e+14   2.24e+13     -5.040      0.000   -1.57e+14   -6.89e+13\n",
       "x50        -1.964e+14    3.9e+13     -5.040      0.000   -2.73e+14    -1.2e+14\n",
       "x51         8.993e+12   1.25e+13      0.720      0.472   -1.55e+13    3.35e+13\n",
       "x52        -5.242e+13   1.06e+13     -4.959      0.000   -7.31e+13   -3.17e+13\n",
       "x53        -1.037e+14   2.06e+13     -5.040      0.000   -1.44e+14   -6.34e+13\n",
       "x54         1.379e+13   1.91e+13      0.720      0.472   -2.37e+13    5.13e+13\n",
       "x55        -5.826e+13   1.16e+13     -5.040      0.000   -8.09e+13   -3.56e+13\n",
       "x56        -2.167e+13   4.65e+12     -4.656      0.000   -3.08e+13   -1.25e+13\n",
       "x57         6.677e+12   9.27e+12      0.720      0.472   -1.15e+13    2.49e+13\n",
       "x58        -6.092e+13   1.21e+13     -5.025      0.000   -8.47e+13   -3.72e+13\n",
       "x59        -6.531e+13    1.3e+13     -5.025      0.000   -9.08e+13   -3.98e+13\n",
       "x60        -6.242e+13   1.24e+13     -5.025      0.000   -8.68e+13   -3.81e+13\n",
       "x61        -5.641e+13   1.12e+13     -5.025      0.000   -7.84e+13   -3.44e+13\n",
       "x62        -5.903e+13   1.17e+13     -5.025      0.000   -8.21e+13    -3.6e+13\n",
       "x63        -6.541e+13    1.3e+13     -5.025      0.000   -9.09e+13   -3.99e+13\n",
       "x64        -6.315e+13   1.26e+13     -5.025      0.000   -8.78e+13   -3.85e+13\n",
       "x65        -6.077e+13   1.21e+13     -5.025      0.000   -8.45e+13   -3.71e+13\n",
       "x66        -6.377e+13   1.27e+13     -5.025      0.000   -8.86e+13   -3.89e+13\n",
       "x67        -6.365e+13   1.27e+13     -5.025      0.000   -8.85e+13   -3.88e+13\n",
       "x68        -6.402e+13   1.27e+13     -5.025      0.000    -8.9e+13   -3.91e+13\n",
       "x69        -6.526e+13    1.3e+13     -5.025      0.000   -9.07e+13   -3.98e+13\n",
       "x70        -1.553e+13   3.32e+12     -4.684      0.000    -2.2e+13   -9.03e+12\n",
       "x71         -1.43e+13   3.05e+12     -4.684      0.000   -2.03e+13   -8.32e+12\n",
       "x72         1.459e+14   2.84e+13      5.146      0.000    9.03e+13    2.02e+14\n",
       "x73         1.403e+14   2.73e+13      5.146      0.000    8.69e+13    1.94e+14\n",
       "x74        -1.459e+13   3.11e+12     -4.684      0.000   -2.07e+13   -8.48e+12\n",
       "x75        -1.419e+13   3.03e+12     -4.684      0.000   -2.01e+13   -8.25e+12\n",
       "x76        -1.418e+13   3.03e+12     -4.684      0.000   -2.01e+13   -8.25e+12\n",
       "x77        -4.121e+12   8.09e+11     -5.097      0.000   -5.71e+12   -2.54e+12\n",
       "x78        -1.559e+14   3.06e+13     -5.097      0.000   -2.16e+14   -9.59e+13\n",
       "x79        -1.634e+13    3.2e+12     -5.097      0.000   -2.26e+13   -1.01e+13\n",
       "x80        -7.979e+12   1.57e+12     -5.097      0.000    -1.1e+13   -4.91e+12\n",
       "x81         -1.56e+14   3.06e+13     -5.097      0.000   -2.16e+14    -9.6e+13\n",
       "x82        -6.975e+12   1.35e+12     -5.181      0.000   -9.61e+12   -4.34e+12\n",
       "x83        -3.083e+12   5.95e+11     -5.181      0.000   -4.25e+12   -1.92e+12\n",
       "x84        -8.911e+12   1.72e+12     -5.181      0.000   -1.23e+13   -5.54e+12\n",
       "x85        -7.624e+12   1.47e+12     -5.181      0.000   -1.05e+13   -4.74e+12\n",
       "x86        -7.624e+12   1.47e+12     -5.181      0.000   -1.05e+13   -4.74e+12\n",
       "x87        -7.306e+12   1.41e+12     -5.181      0.000   -1.01e+13   -4.54e+12\n",
       "x88        -3.083e+12   5.95e+11     -5.181      0.000   -4.25e+12   -1.92e+12\n",
       "x89        -1.606e+13    3.1e+12     -5.181      0.000   -2.21e+13   -9.98e+12\n",
       "x90        -1.804e+13   3.48e+12     -5.181      0.000   -2.49e+13   -1.12e+13\n",
       "x91        -2.801e+13   5.41e+12     -5.181      0.000   -3.86e+13   -1.74e+13\n",
       "x92        -2.597e+13   5.01e+12     -5.181      0.000   -3.58e+13   -1.61e+13\n",
       "x93        -2.564e+13   4.95e+12     -5.181      0.000   -3.53e+13   -1.59e+13\n",
       "x94        -1.309e+13   2.53e+12     -5.181      0.000    -1.8e+13   -8.14e+12\n",
       "x95        -1.687e+13   3.26e+12     -5.181      0.000   -2.33e+13   -1.05e+13\n",
       "x96        -4.494e+12   8.67e+11     -5.181      0.000   -6.19e+12   -2.79e+12\n",
       "x97        -3.083e+12   5.95e+11     -5.181      0.000   -4.25e+12   -1.92e+12\n",
       "x98        -7.701e+12   1.49e+12     -5.181      0.000   -1.06e+13   -4.79e+12\n",
       "x99        -1.249e+13   2.41e+12     -5.181      0.000   -1.72e+13   -7.77e+12\n",
       "x100       -2.376e+13   4.59e+12     -5.181      0.000   -3.27e+13   -1.48e+13\n",
       "x101        -2.67e+12   5.15e+11     -5.181      0.000   -3.68e+12   -1.66e+12\n",
       "x102       -6.715e+12    1.3e+12     -5.181      0.000   -9.26e+12   -4.17e+12\n",
       "x103       -7.225e+12   1.39e+12     -5.181      0.000   -9.96e+12   -4.49e+12\n",
       "x104        -1.09e+12    2.1e+11     -5.181      0.000    -1.5e+12   -6.78e+11\n",
       "x105       -3.447e+12   6.65e+11     -5.181      0.000   -4.75e+12   -2.14e+12\n",
       "x106       -1.216e+13   2.35e+12     -5.181      0.000   -1.68e+13   -7.56e+12\n",
       "x107       -1.361e+13   2.63e+12     -5.181      0.000   -1.88e+13   -8.46e+12\n",
       "x108        -8.13e+13   1.57e+13     -5.181      0.000   -1.12e+14   -5.05e+13\n",
       "x109       -5.662e+12   1.09e+12     -5.181      0.000    -7.8e+12   -3.52e+12\n",
       "x110       -1.249e+13   2.41e+12     -5.181      0.000   -1.72e+13   -7.77e+12\n",
       "x111       -1.542e+12   2.98e+11     -5.181      0.000   -2.13e+12   -9.58e+11\n",
       "x112       -1.441e+13   2.78e+12     -5.181      0.000   -1.99e+13   -8.96e+12\n",
       "x113       -4.494e+12   8.67e+11     -5.181      0.000   -6.19e+12   -2.79e+12\n",
       "x114       -1.181e+13   2.28e+12     -5.181      0.000   -1.63e+13   -7.34e+12\n",
       "x115       -4.994e+12   9.64e+11     -5.181      0.000   -6.88e+12    -3.1e+12\n",
       "x116       -1.842e+13   3.55e+12     -5.181      0.000   -2.54e+13   -1.15e+13\n",
       "x117       -4.994e+12   9.64e+11     -5.181      0.000   -6.88e+12    -3.1e+12\n",
       "x118        -2.61e+13   5.04e+12     -5.181      0.000    -3.6e+13   -1.62e+13\n",
       "x119       -6.311e+13   1.22e+13     -5.181      0.000    -8.7e+13   -3.92e+13\n",
       "x120       -1.433e+13   2.77e+12     -5.181      0.000   -1.97e+13   -8.91e+12\n",
       "x121        -8.71e+12   1.68e+12     -5.181      0.000    -1.2e+13   -5.41e+12\n",
       "x122       -5.226e+12   1.01e+12     -5.181      0.000    -7.2e+12   -3.25e+12\n",
       "x123       -3.615e+12   6.98e+11     -5.181      0.000   -4.98e+12   -2.25e+12\n",
       "x124        -1.09e+12    2.1e+11     -5.181      0.000    -1.5e+12   -6.78e+11\n",
       "x125       -4.337e+13   8.37e+12     -5.181      0.000   -5.98e+13    -2.7e+13\n",
       "x126       -6.715e+12    1.3e+12     -5.181      0.000   -9.26e+12   -4.17e+12\n",
       "x127       -3.615e+12   6.98e+11     -5.181      0.000   -4.98e+12   -2.25e+12\n",
       "x128       -4.494e+12   8.67e+11     -5.181      0.000   -6.19e+12   -2.79e+12\n",
       "x129       -1.823e+13   3.52e+12     -5.181      0.000   -2.51e+13   -1.13e+13\n",
       "x130       -6.975e+12   1.35e+12     -5.181      0.000   -9.61e+12   -4.34e+12\n",
       "x131       -4.267e+13   8.24e+12     -5.181      0.000   -5.88e+13   -2.65e+13\n",
       "x132       -2.884e+12   5.57e+11     -5.181      0.000   -3.98e+12   -1.79e+12\n",
       "x133        -2.67e+12   5.15e+11     -5.181      0.000   -3.68e+12   -1.66e+12\n",
       "x134       -2.275e+13   4.39e+12     -5.181      0.000   -3.14e+13   -1.41e+13\n",
       "x135       -8.642e+12   1.67e+12     -5.181      0.000   -1.19e+13   -5.37e+12\n",
       "x136       -5.111e+12   9.87e+11     -5.181      0.000   -7.04e+12   -3.18e+12\n",
       "x137       -2.575e+12   2.73e+12     -0.943      0.346   -7.93e+12    2.78e+12\n",
       "x138       -2.845e+12   3.02e+12     -0.943      0.346   -8.76e+12    3.07e+12\n",
       "x139       -5.655e+11      6e+11     -0.943      0.346   -1.74e+12     6.1e+11\n",
       "x140       -9.092e+11   9.65e+11     -0.943      0.346    -2.8e+12    9.82e+11\n",
       "x141       -3.214e+12   3.41e+12     -0.943      0.346    -9.9e+12    3.47e+12\n",
       "x142       -9.761e+11   1.04e+12     -0.943      0.346   -3.01e+12    1.05e+12\n",
       "x143       -2.271e+11   2.41e+11     -0.943      0.346   -6.99e+11    2.45e+11\n",
       "x144       -1.266e+11   1.34e+11     -0.943      0.346    -3.9e+11    1.37e+11\n",
       "x145         -3.5e+11   3.71e+11     -0.943      0.346   -1.08e+12    3.78e+11\n",
       "x146       -9.223e+11   1.85e+11     -4.981      0.000   -1.29e+12   -5.59e+11\n",
       "x147         -1.7e+12   3.41e+11     -4.981      0.000   -2.37e+12   -1.03e+12\n",
       "x148        1.266e+13   2.56e+12      4.937      0.000    7.63e+12    1.77e+13\n",
       "x149       -2.234e+13   4.48e+12     -4.981      0.000   -3.11e+13   -1.35e+13\n",
       "x150       -6.344e+12   1.27e+12     -4.981      0.000   -8.84e+12   -3.85e+12\n",
       "x151       -2.181e+12   4.38e+11     -4.981      0.000   -3.04e+12   -1.32e+12\n",
       "x152       -5.989e+12   1.31e+12     -4.579      0.000   -8.55e+12   -3.43e+12\n",
       "x153       -1.934e+12   3.88e+11     -4.981      0.000   -2.69e+12   -1.17e+12\n",
       "x154        -1.65e+13   3.31e+12     -4.981      0.000    -2.3e+13      -1e+13\n",
       "x155       -5.631e+13   1.13e+13     -4.988      0.000   -7.84e+13   -3.42e+13\n",
       "x156       -2.507e+12   5.03e+11     -4.981      0.000   -3.49e+12   -1.52e+12\n",
       "x157        -2.22e+12   4.46e+11     -4.981      0.000   -3.09e+12   -1.35e+12\n",
       "x158       -6.048e+12   1.21e+12     -4.981      0.000   -8.43e+12   -3.67e+12\n",
       "x159        1.394e+12   2.69e+11      5.183      0.000    8.67e+11    1.92e+12\n",
       "x160        2.346e+12   4.53e+11      5.183      0.000    1.46e+12    3.23e+12\n",
       "x161       -1.494e+12   7.82e+11     -1.910      0.056   -3.03e+12     3.9e+10\n",
       "x162         3.05e+13   5.89e+12      5.183      0.000     1.9e+13     4.2e+13\n",
       "x163        8.862e+12   1.71e+12      5.183      0.000    5.51e+12    1.22e+13\n",
       "x164         3.01e+12   5.81e+11      5.183      0.000    1.87e+12    4.15e+12\n",
       "x165        1.211e+13   2.35e+12      5.162      0.000    7.51e+12    1.67e+13\n",
       "x166        2.728e+12   5.26e+11      5.183      0.000     1.7e+12    3.76e+12\n",
       "x167        2.311e+13   4.46e+12      5.183      0.000    1.44e+13    3.18e+13\n",
       "x168        5.774e+13   1.15e+13      5.019      0.000    3.52e+13    8.03e+13\n",
       "x169        3.551e+12   6.85e+11      5.183      0.000    2.21e+12    4.89e+12\n",
       "x170        3.316e+12    6.4e+11      5.183      0.000    2.06e+12    4.57e+12\n",
       "x171        8.626e+12   1.66e+12      5.183      0.000    5.36e+12    1.19e+13\n",
       "x172       -1.128e+14   3.68e+13     -3.065      0.002   -1.85e+14   -4.07e+13\n",
       "x173        2.782e+14   5.41e+13      5.141      0.000    1.72e+14    3.84e+14\n",
       "x174        1.018e+14   2.41e+13      4.219      0.000    5.45e+13    1.49e+14\n",
       "x175       -2.362e+14   6.01e+13     -3.928      0.000   -3.54e+14   -1.18e+14\n",
       "x176        9.062e+13   1.75e+13      5.178      0.000    5.63e+13    1.25e+14\n",
       "x177       -1.113e+14   2.15e+13     -5.168      0.000   -1.53e+14   -6.91e+13\n",
       "x178         3.04e+13   6.18e+12      4.915      0.000    1.83e+13    4.25e+13\n",
       "x179         3.04e+13   6.18e+12      4.915      0.000    1.83e+13    4.25e+13\n",
       "==============================================================================\n",
       "Omnibus:                     2558.922   Durbin-Watson:                   0.137\n",
       "Prob(Omnibus):                  0.000   Jarque-Bera (JB):            14706.159\n",
       "Skew:                           0.375   Prob(JB):                         0.00\n",
       "Kurtosis:                       6.822   Cond. No.                     1.40e+16\n",
       "==============================================================================\n",
       "\n",
       "Notes:\n",
       "[1] R² is computed without centering (uncentered) since the model does not contain a constant.\n",
       "[2] Standard Errors assume that the covariance matrix of the errors is correctly specified.\n",
       "[3] The smallest eigenvalue is 4.68e-28. This might indicate that there are\n",
       "strong multicollinearity problems or that the design matrix is singular.\n",
       "\"\"\""
      ]
     },
     "execution_count": 22,
     "metadata": {},
     "output_type": "execute_result"
    }
   ],
   "source": [
    "# Evaluating the model; much lower R-squared here\n",
    "model_OLS.summary()"
   ]
  },
  {
   "cell_type": "code",
   "execution_count": 23,
   "id": "5f0ed426",
   "metadata": {},
   "outputs": [],
   "source": [
    "# Use our new model to make predictions\n",
    "y_pred = model_OLS.predict(X_test_scaled)"
   ]
  },
  {
   "cell_type": "code",
   "execution_count": 24,
   "id": "029119ee",
   "metadata": {
    "scrolled": true
   },
   "outputs": [
    {
     "name": "stdout",
     "output_type": "stream",
     "text": [
      "The Root Mean Squared Error: 59.5\n",
      "The Mean Absolute Error: 57.47\n",
      "Coefficient of determination: -3.35\n"
     ]
    }
   ],
   "source": [
    "###mean_squared_error, r2_score, mean_absolute_error. Yikes on all three for OLS\n",
    "print('The Root Mean Squared Error with OLS:', round(np.sqrt(mean_squared_error(y_test,y_pred)), 2))\n",
    "print('The Mean Absolute Error with OLS:', round(mean_absolute_error(y_test,y_pred), 2))\n",
    "print('Coefficient of determination with OLS:', round(r2_score(y_test,y_pred), 2))"
   ]
  },
  {
   "cell_type": "code",
   "execution_count": 25,
   "id": "56fb2b64",
   "metadata": {},
   "outputs": [
    {
     "data": {
      "image/png": "[encoded data removed]",
      "text/plain": [
       "<Figure size 432x288 with 1 Axes>"
      ]
     },
     "metadata": {
      "needs_background": "light"
     },
     "output_type": "display_data"
    }
   ],
   "source": [
    "# Plot the predictions\n",
    "# Build a scatterplot\n",
    "plt.scatter(y_test, y_pred)\n",
    "_ = plt.ylabel('F_Ratio Predicted')\n",
    "_ = plt.xlabel('F_Ratio Acutal')\n",
    "plt.savefig('../figures/Actual vs Predicted for Ordinary Least Squares')"
   ]
  },
  {
   "cell_type": "markdown",
   "id": "e2da0fd0",
   "metadata": {},
   "source": [
    "<a id=\"id8\"></a>"
   ]
  },
  {
   "cell_type": "markdown",
   "id": "b95ff202",
   "metadata": {},
   "source": [
    "### Decision Tree Regressor"
   ]
  },
  {
   "cell_type": "code",
   "execution_count": 32,
   "id": "7123dc74",
   "metadata": {},
   "outputs": [],
   "source": [
    "tree_reg1 = DecisionTreeRegressor(max_depth=2, random_state=42)\n",
    "tree_reg1.fit(X_train_scaled, y_train)\n",
    "y_pred_tree1 = tree_reg1.predict(X_test_scaled)"
   ]
  },
  {
   "cell_type": "code",
   "execution_count": 33,
   "id": "07f3d61f",
   "metadata": {
    "scrolled": true
   },
   "outputs": [
    {
     "name": "stdout",
     "output_type": "stream",
     "text": [
      "The Root Mean Squared Error Decision Tree Regression Depth 2: 11.57\n",
      "The Mean Absolute Error Decision Tree Regression Depth 2: 4.97\n",
      "Coefficient of determination Decision Tree Regression Depth 2: 0.84\n"
     ]
    }
   ],
   "source": [
    "###mean_squared_error, r2_score, mean_absolute_error. TREE WITH DEPTH 2\n",
    "print('The Root Mean Squared Error Decision Tree Regression Depth 2:', round(np.sqrt(mean_squared_error(y_test,y_pred_tree1)), 2))\n",
    "print('The Mean Absolute Error Decision Tree Regression Depth 2:', round(mean_absolute_error(y_test,y_pred_tree1), 2))\n",
    "print('Coefficient of determination Decision Tree Regression Depth 2:', round(r2_score(y_test,y_pred_tree1), 2))"
   ]
  },
  {
   "cell_type": "code",
   "execution_count": 34,
   "id": "101065ae",
   "metadata": {},
   "outputs": [
    {
     "name": "stdout",
     "output_type": "stream",
     "text": [
      "Training R-sqaured for Decision Tree Regression Depth 2: 0.8529540424259692\n",
      "Testing R-squared for Decision Tree Regression Depth 2: 0.8354799646129271\n"
     ]
    }
   ],
   "source": [
    "# Evaluate the model: And a halfway decent R-Squared score for a full go; Ok comparison for the test score. \n",
    "# Not overfit or underfit\n",
    "print(\"Training R-sqaured for Decision Tree Regression Depth 2:\", tree_reg1.score(X_train_scaled, y_train))\n",
    "print(\"Testing R-squared for Decision Tree Regression Depth 2:\", tree_reg1.score(X_test_scaled, y_test))"
   ]
  },
  {
   "cell_type": "code",
   "execution_count": 44,
   "id": "1b1d9cf6",
   "metadata": {},
   "outputs": [],
   "source": [
    "tree_reg2 = DecisionTreeRegressor(max_depth=5, random_state=42)\n",
    "tree_reg2.fit(X_train_scaled, y_train)\n",
    "y_pred_tree2 = tree_reg2.predict(X_test_scaled)"
   ]
  },
  {
   "cell_type": "code",
   "execution_count": 45,
   "id": "c40981d0",
   "metadata": {},
   "outputs": [
    {
     "name": "stdout",
     "output_type": "stream",
     "text": [
      "The Root Mean Squared Error: 9.91\n",
      "The Mean Absolute Error: 4.24\n",
      "Coefficient of determination: 0.88\n"
     ]
    }
   ],
   "source": [
    "###mean_squared_error, r2_score, mean_absolute_error\n",
    "print('The Root Mean Squared Error:', round(np.sqrt(mean_squared_error(y_test,y_pred_tree2)), 2))\n",
    "print('The Mean Absolute Error:', round(mean_absolute_error(y_test,y_pred_tree2), 2))\n",
    "print('Coefficient of determination:', round(r2_score(y_test,y_pred_tree2), 2))"
   ]
  },
  {
   "cell_type": "code",
   "execution_count": 38,
   "id": "fe63138b",
   "metadata": {},
   "outputs": [],
   "source": [
    "tree_reg2 = DecisionTreeRegressor(max_depth=7, random_state=42)\n",
    "tree_reg2.fit(X_train_scaled, y_train)\n",
    "y_pred_tree3 = tree_reg2.predict(X_test_scaled)"
   ]
  },
  {
   "cell_type": "code",
   "execution_count": 39,
   "id": "fe036cc0",
   "metadata": {},
   "outputs": [
    {
     "name": "stdout",
     "output_type": "stream",
     "text": [
      "The Root Mean Squared Error: 9.94\n",
      "The Mean Absolute Error: 4.2\n",
      "Coefficient of determination: 0.88\n"
     ]
    }
   ],
   "source": [
    "###mean_squared_error, r2_score, mean_absolute_error\n",
    "print('The Root Mean Squared Error:', round(np.sqrt(mean_squared_error(y_test,y_pred_tree3)), 2))\n",
    "print('The Mean Absolute Error:', round(mean_absolute_error(y_test,y_pred_tree3), 2))\n",
    "print('Coefficient of determination:', round(r2_score(y_test,y_pred_tree3), 2))"
   ]
  },
  {
   "cell_type": "code",
   "execution_count": 191,
   "id": "ca98750b",
   "metadata": {},
   "outputs": [
    {
     "name": "stdout",
     "output_type": "stream",
     "text": [
      "Training R-sqaured for Decision Tree Regression Depth 5: 0.8955702767122282\n",
      "Testing R-squared for Decision Tree Regression Depth 5: 0.8794343385788383\n"
     ]
    }
   ],
   "source": [
    "# Evaluate the model: And a halfway decent R-Squared score for a full go; Ok comparison for the test score. \n",
    "# Not overfit or underfit\n",
    "\n",
    "print(\"Training R-sqaured for Decision Tree Regression Depth 5:\", tree_reg2.score(X_train_scaled, y_train))\n",
    "print(\"Testing R-squared for Decision Tree Regression Depth 5:\", tree_reg2.score(X_test_scaled, y_test))"
   ]
  },
  {
   "cell_type": "code",
   "execution_count": 194,
   "id": "df0a8b93",
   "metadata": {
    "scrolled": true
   },
   "outputs": [
    {
     "name": "stdout",
     "output_type": "stream",
     "text": [
      "The Root Mean Squared Error Decision Tree Regression Depth 5: 9.91\n",
      "The Mean Absolute Error Decision Tree Regression Depth 5: 4.24\n",
      "Coefficient of determination Decision Tree Regression Depth 5: 0.88\n"
     ]
    }
   ],
   "source": [
    "###mean_squared_error, r2_score, mean_absolute_error. TREE WITH DEPTH 5\n",
    "print('The Root Mean Squared Error Decision Tree Regression Depth 5:', round(np.sqrt(mean_squared_error(y_test,y_pred_tree2)), 2))\n",
    "print('The Mean Absolute Error Decision Tree Regression Depth 5:', round(mean_absolute_error(y_test,y_pred_tree2), 2))\n",
    "print('Coefficient of determination Decision Tree Regression Depth 5:', round(r2_score(y_test,y_pred_tree2), 2))"
   ]
  },
  {
   "cell_type": "code",
   "execution_count": 195,
   "id": "70902b53",
   "metadata": {},
   "outputs": [
    {
     "name": "stdout",
     "output_type": "stream",
     "text": [
      "                                              Features  Importance scores\n",
      "0                                             VE_TOTAL           0.000000\n",
      "1                                                 PEDS           0.000000\n",
      "2                                              PERSONS           0.000000\n",
      "3                                              DAYNAME           0.000000\n",
      "4                                                 HOUR           0.000000\n",
      "5                                             DRUNK_DR           0.000000\n",
      "6                                    STATENAME_Alabama           0.000000\n",
      "7                                     STATENAME_Alaska           0.000000\n",
      "8                                    STATENAME_Arizona           0.000000\n",
      "9                                   STATENAME_Arkansas           0.000000\n",
      "10                                STATENAME_California           0.000000\n",
      "11                                  STATENAME_Colorado           0.000000\n",
      "12                               STATENAME_Connecticut           0.000000\n",
      "13                                  STATENAME_Delaware           0.000000\n",
      "14                      STATENAME_District of Columbia           0.000000\n",
      "15                                   STATENAME_Florida           0.000000\n",
      "16                                   STATENAME_Georgia           0.000000\n",
      "17                                    STATENAME_Hawaii           0.000000\n",
      "18                                     STATENAME_Idaho           0.000000\n",
      "19                                  STATENAME_Illinois           0.000000\n",
      "20                                   STATENAME_Indiana           0.000000\n",
      "21                                      STATENAME_Iowa           0.000000\n",
      "22                                    STATENAME_Kansas           0.000000\n",
      "23                                  STATENAME_Kentucky           0.000000\n",
      "24                                 STATENAME_Louisiana           0.000000\n",
      "25                                     STATENAME_Maine           0.000000\n",
      "26                                  STATENAME_Maryland           0.000000\n",
      "27                             STATENAME_Massachusetts           0.000000\n",
      "28                                  STATENAME_Michigan           0.000000\n",
      "29                                 STATENAME_Minnesota           0.000000\n",
      "30                               STATENAME_Mississippi           0.000000\n",
      "31                                  STATENAME_Missouri           0.000000\n",
      "32                                   STATENAME_Montana           0.000000\n",
      "33                                  STATENAME_Nebraska           0.000000\n",
      "34                                    STATENAME_Nevada           0.000000\n",
      "35                             STATENAME_New Hampshire           0.000000\n",
      "36                                STATENAME_New Jersey           0.000000\n",
      "37                                STATENAME_New Mexico           0.000000\n",
      "38                                  STATENAME_New York           0.000000\n",
      "39                            STATENAME_North Carolina           0.000000\n",
      "40                              STATENAME_North Dakota           0.000000\n",
      "41                                      STATENAME_Ohio           0.000000\n",
      "42                                  STATENAME_Oklahoma           0.000000\n",
      "43                                    STATENAME_Oregon           0.000000\n",
      "44                              STATENAME_Pennsylvania           0.000000\n",
      "45                              STATENAME_Rhode Island           0.000000\n",
      "46                            STATENAME_South Carolina           0.000000\n",
      "47                              STATENAME_South Dakota           0.000000\n",
      "48                                 STATENAME_Tennessee           0.000000\n",
      "49                                     STATENAME_Texas           0.000000\n",
      "50                                      STATENAME_Utah           0.000000\n",
      "51                                   STATENAME_Vermont           0.000000\n",
      "52                                  STATENAME_Virginia           0.000000\n",
      "53                                STATENAME_Washington           0.000000\n",
      "54                             STATENAME_West Virginia           0.000000\n",
      "55                                 STATENAME_Wisconsin           0.000000\n",
      "56                                   STATENAME_Wyoming           0.000000\n",
      "57                                     MONTHNAME_April           0.000000\n",
      "58                                    MONTHNAME_August           0.000000\n",
      "59                                  MONTHNAME_December           0.000000\n",
      "60                                  MONTHNAME_February           0.000000\n",
      "61                                   MONTHNAME_January           0.000000\n",
      "62                                      MONTHNAME_July           0.000000\n",
      "63                                      MONTHNAME_June           0.000000\n",
      "64                                     MONTHNAME_March           0.000000\n",
      "65                                       MONTHNAME_May           0.000000\n",
      "66                                  MONTHNAME_November           0.000000\n",
      "67                                   MONTHNAME_October           0.000000\n",
      "68                                 MONTHNAME_September           0.000000\n",
      "69                                 DAY_WEEKNAME_Friday           0.000000\n",
      "70                                 DAY_WEEKNAME_Monday           0.000000\n",
      "71                               DAY_WEEKNAME_Saturday           0.000000\n",
      "72                                 DAY_WEEKNAME_Sunday           0.000000\n",
      "73                               DAY_WEEKNAME_Thursday           0.000000\n",
      "74                                DAY_WEEKNAME_Tuesday           0.000000\n",
      "75                              DAY_WEEKNAME_Wednesday           0.000000\n",
      "76                            RUR_URBNAME_Not Reported           0.000000\n",
      "77                                   RUR_URBNAME_Rural           0.000000\n",
      "78       RUR_URBNAME_Trafficway Not in State Inventory           0.000000\n",
      "79                                 RUR_URBNAME_Unknown           0.000000\n",
      "80                                   RUR_URBNAME_Urban           0.000000\n",
      "81                                 HARM_EVNAME_Boulder           0.000000\n",
      "82               HARM_EVNAME_Bridge Overhead Structure           0.000000\n",
      "83                  HARM_EVNAME_Bridge Pier or Support           0.000000\n",
      "84          HARM_EVNAME_Bridge Rail (Includes parapet)           0.000000\n",
      "85                                HARM_EVNAME_Building           0.000000\n",
      "86                           HARM_EVNAME_Cable Barrier           0.000000\n",
      "87   HARM_EVNAME_Cargo/Equipment Loss, Shift, or Da...           0.000000\n",
      "88                HARM_EVNAME_Concrete Traffic Barrier           0.000000\n",
      "89                                 HARM_EVNAME_Culvert           0.000000\n",
      "90                                    HARM_EVNAME_Curb           0.000000\n",
      "91                                   HARM_EVNAME_Ditch           0.000000\n",
      "92                              HARM_EVNAME_Embankment           0.000000\n",
      "93                HARM_EVNAME_Fell/Jumped from Vehicle           0.000000\n",
      "94                                   HARM_EVNAME_Fence           0.000000\n",
      "95                            HARM_EVNAME_Fire Hydrant           0.000000\n",
      "96                          HARM_EVNAME_Fire/Explosion           0.000000\n",
      "97                                  HARM_EVNAME_Ground           0.000000\n",
      "98                           HARM_EVNAME_Guardrail End           0.000000\n",
      "99                          HARM_EVNAME_Guardrail Face           0.000000\n",
      "100    HARM_EVNAME_Harmful Event, Details Not Reported           0.000000\n",
      "101         HARM_EVNAME_Immersion or Partial Immersion           0.000000\n",
      "102        HARM_EVNAME_Impact Attenuator/Crash Cushion           0.000000\n",
      "103     HARM_EVNAME_Injured In Vehicle (Non-Collision)           0.000000\n",
      "104    HARM_EVNAME_Jackknife (harmful to this vehicle)           0.000000\n",
      "105                            HARM_EVNAME_Live Animal           0.000000\n",
      "106                               HARM_EVNAME_Mail Box           0.000000\n",
      "107             HARM_EVNAME_Motor Vehicle In-Transport           0.000000\n",
      "108  HARM_EVNAME_Motor Vehicle In-Transport Strikes...           0.000000\n",
      "109    HARM_EVNAME_Non-Motorist on Personal Conveyance           0.000000\n",
      "110  HARM_EVNAME_Object That Had Fallen From Motor ...           0.000000\n",
      "111                     HARM_EVNAME_Other Fixed Object           0.000000\n",
      "112                    HARM_EVNAME_Other Non-Collision           0.000000\n",
      "113               HARM_EVNAME_Other Object (not fixed)           0.000000\n",
      "114                  HARM_EVNAME_Other Traffic Barrier           0.000000\n",
      "115                   HARM_EVNAME_Parked Motor Vehicle           0.000000\n",
      "116  HARM_EVNAME_Pavement Surface Irregularity (Rut...           0.000000\n",
      "117                           HARM_EVNAME_Pedalcyclist           0.000000\n",
      "118                             HARM_EVNAME_Pedestrian           0.000000\n",
      "119           HARM_EVNAME_Post, Pole or Other Supports           0.000000\n",
      "120                        HARM_EVNAME_Railway Vehicle           0.000000\n",
      "121                    HARM_EVNAME_Reported as Unknown           0.000000\n",
      "122  HARM_EVNAME_Ridden Animal or Animal Drawn Conv...           0.000000\n",
      "123                  HARM_EVNAME_Road Vehicle on Rails           0.000000\n",
      "124                      HARM_EVNAME_Rollover/Overturn           0.000000\n",
      "125                              HARM_EVNAME_Shrubbery           0.000000\n",
      "126                              HARM_EVNAME_Snow Bank           0.000000\n",
      "127               HARM_EVNAME_Thrown or Falling Object           0.000000\n",
      "128                   HARM_EVNAME_Traffic Sign Support           0.000000\n",
      "129                 HARM_EVNAME_Traffic Signal Support           0.000000\n",
      "130                   HARM_EVNAME_Tree (Standing Only)           0.000000\n",
      "131                   HARM_EVNAME_Unknown Fixed Object           0.000000\n",
      "132               HARM_EVNAME_Unknown Object Not Fixed           0.000000\n",
      "133             HARM_EVNAME_Utility Pole/Light Support           0.000000\n",
      "134                                   HARM_EVNAME_Wall           0.000000\n",
      "135                  HARM_EVNAME_Working Motor Vehicle           0.000000\n",
      "136                        LGT_CONDNAME_Dark - Lighted           0.000000\n",
      "137                    LGT_CONDNAME_Dark - Not Lighted           0.000000\n",
      "138               LGT_CONDNAME_Dark - Unknown Lighting           0.000000\n",
      "139                                  LGT_CONDNAME_Dawn           0.000000\n",
      "140                              LGT_CONDNAME_Daylight           0.000000\n",
      "141                                  LGT_CONDNAME_Dusk           0.000000\n",
      "142                          LGT_CONDNAME_Not Reported           0.000000\n",
      "143                                 LGT_CONDNAME_Other           0.000000\n",
      "144                   LGT_CONDNAME_Reported as Unknown           0.000000\n",
      "145              WEATHER1NAME_Blowing Sand, Soil, Dirt           0.000000\n",
      "146                          WEATHER1NAME_Blowing Snow           0.000000\n",
      "147                                 WEATHER1NAME_Clear           0.000000\n",
      "148                                WEATHER1NAME_Cloudy           0.000000\n",
      "149                      WEATHER1NAME_Fog, Smog, Smoke           0.000000\n",
      "150              WEATHER1NAME_Freezing Rain or Drizzle           0.000000\n",
      "151                          WEATHER1NAME_Not Reported           0.000000\n",
      "152                                 WEATHER1NAME_Other           0.000000\n",
      "153                                  WEATHER1NAME_Rain           0.000000\n",
      "154                   WEATHER1NAME_Reported as Unknown           0.000000\n",
      "155                     WEATHER1NAME_Severe Crosswinds           0.000000\n",
      "156                         WEATHER1NAME_Sleet or Hail           0.000000\n",
      "157                                  WEATHER1NAME_Snow           0.000000\n",
      "158               WEATHERNAME_Blowing Sand, Soil, Dirt           0.000000\n",
      "159                           WEATHERNAME_Blowing Snow           0.000000\n",
      "160                                  WEATHERNAME_Clear           0.000000\n",
      "161                                 WEATHERNAME_Cloudy           0.000000\n",
      "162                       WEATHERNAME_Fog, Smog, Smoke           0.000000\n",
      "163               WEATHERNAME_Freezing Rain or Drizzle           0.000000\n",
      "164                           WEATHERNAME_Not Reported           0.000000\n",
      "165                                  WEATHERNAME_Other           0.000000\n",
      "166                                   WEATHERNAME_Rain           0.000000\n",
      "167                    WEATHERNAME_Reported as Unknown           0.000000\n",
      "168                      WEATHERNAME_Severe Crosswinds           0.000000\n",
      "169                          WEATHERNAME_Sleet or Hail           0.000010\n",
      "170                                   WEATHERNAME_Snow           0.000022\n",
      "171                                     REGION_Midwest           0.000026\n",
      "172                                   REGION_Northeast           0.000037\n",
      "173                                       REGION_South           0.000112\n",
      "174                                        REGION_West           0.000210\n",
      "175                                   WEEK_END_Weekday           0.000312\n",
      "176                                   WEEK_END_Weekend           0.002242\n",
      "177                                 DAY_NIGHT_Day_Time           0.365146\n",
      "178                               DAY_NIGHT_Night_Time           0.631882\n"
     ]
    }
   ],
   "source": [
    "features = X_train\n",
    "importances = list(tree_reg2.feature_importances_)\n",
    "imp=sorted(importances, reverse=False)\n",
    "tab=pd.DataFrame(list(zip(X,imp)),columns =['Features', 'Importance scores']) \n",
    "with pd.option_context('display.max_rows', None, 'display.max_columns', None):  \n",
    "    print(tab)"
   ]
  },
  {
   "cell_type": "markdown",
   "id": "cadb8a73",
   "metadata": {},
   "source": [
    "The results with the Decision Tree Regressor indicate that Night time is influential (and more so than day time) and that Weekend is slightly influential (and more so than Week day)."
   ]
  },
  {
   "cell_type": "markdown",
   "id": "3602e1e4",
   "metadata": {},
   "source": [
    "<a id=\"id69\"></a>"
   ]
  },
  {
   "cell_type": "markdown",
   "id": "ddd3afcc",
   "metadata": {},
   "source": [
    "### Lasso regression"
   ]
  },
  {
   "cell_type": "code",
   "execution_count": 93,
   "id": "563056de",
   "metadata": {},
   "outputs": [
    {
     "name": "stdout",
     "output_type": "stream",
     "text": [
      "[12.31058006 12.07863272 12.44487897 12.43623285 12.17444431 12.18240773\n",
      " 12.22439885 12.30100164 12.19975952 12.37194879 12.19169193 12.04369369\n",
      " 12.24675698 12.54217603 12.31530927 12.30779257 12.24595748 12.4713857\n",
      " 12.0094158  12.30127917 12.50353262 12.44001282 12.36494743 12.14788853\n",
      " 12.38150446 12.35016261 11.95285873 12.37701382 12.18241684 11.98962938]\n"
     ]
    }
   ],
   "source": [
    "### https://scikit-learn.org/stable/modules/generated/sklearn.linear_model.Lasso.html#sklearn.linear_model.Lasso.score\n",
    "### Working with Lasso regression to attend to possible overfitting\n",
    "Lasso_model = Lasso(alpha=1.0) ##full penalty for the alpha in this go around\n",
    "# define model evaluation method\n",
    "cv = RepeatedKFold(n_splits=10, n_repeats=3, random_state=1)\n",
    "# evaluate model\n",
    "Lasso_scores = cross_val_score(Lasso_model, X_train_scaled, y_train, scoring='neg_mean_absolute_error', cv=cv, n_jobs=-1)\n",
    "# force scores to be positive\n",
    "Lasso_scores = absolute(Lasso_scores)\n",
    "print(Lasso_scores)\n",
    "### Looks like overfitting is not a big issue"
   ]
  },
  {
   "cell_type": "code",
   "execution_count": 76,
   "id": "b6faf9fd",
   "metadata": {},
   "outputs": [
    {
     "data": {
      "text/plain": [
       "Lasso()"
      ]
     },
     "execution_count": 76,
     "metadata": {},
     "output_type": "execute_result"
    }
   ],
   "source": [
    "Lasso_model.fit(X_train_scaled, y_train)"
   ]
  },
  {
   "cell_type": "code",
   "execution_count": 77,
   "id": "2494fd05",
   "metadata": {},
   "outputs": [],
   "source": [
    "# Use the model to make predictions about our test data\n",
    "y_pred_Lasso = Lasso_model.predict(X_test_scaled)"
   ]
  },
  {
   "cell_type": "code",
   "execution_count": 94,
   "id": "9034d2a4",
   "metadata": {},
   "outputs": [
    {
     "name": "stdout",
     "output_type": "stream",
     "text": [
      "The Root Mean Squared Error: 15.63\n",
      "The Mean Absolute Error: 12.22\n",
      "Coefficient of determination: 0.7\n"
     ]
    }
   ],
   "source": [
    "###mean_squared_error, r2_score, mean_absolute_error. Yikes on the R2\n",
    "print('The Root Mean Squared Error:', round(np.sqrt(mean_squared_error(y_test,y_pred_Lasso)), 2))\n",
    "print('The Mean Absolute Error:', round(mean_absolute_error(y_test,y_pred_Lasso), 2))\n",
    "print('Coefficient of determination:', round(r2_score(y_test,y_pred_Lasso), 2))"
   ]
  },
  {
   "cell_type": "markdown",
   "id": "c81a869d",
   "metadata": {},
   "source": [
    "<a id=\"id10\"></a>"
   ]
  },
  {
   "cell_type": "markdown",
   "id": "84ec1e68",
   "metadata": {},
   "source": [
    "## Recursive feature elimination (RFE)"
   ]
  },
  {
   "cell_type": "code",
   "execution_count": 70,
   "id": "ec553735",
   "metadata": {},
   "outputs": [],
   "source": [
    "### RFE with Lasso; the Linear Regresssion was horrible; Lasso much better: What up?\n",
    "### In this section, let's see if we can pair down the number of features to make it reasonable/interpretable as a model\n",
    "# evaluate RFE for regression\n",
    "# fit RFE\n",
    "rfe = RFE(estimator=Lasso(alpha=1.0))\n",
    "rfe.fit(X_train_scaled, y_train)\n",
    "y_pred_rfe = rfe.predict(X_test_scaled)"
   ]
  },
  {
   "cell_type": "code",
   "execution_count": 71,
   "id": "34b87a8c",
   "metadata": {},
   "outputs": [
    {
     "name": "stdout",
     "output_type": "stream",
     "text": [
      "The Root Mean Squared Error: 15.63\n",
      "The Mean Absolute Error: 12.22\n",
      "Coefficient of determination: 0.7\n"
     ]
    }
   ],
   "source": [
    "###mean_squared_error, r2_score, mean_absolute_error; RFE is now doing horribly\n",
    "print('The Root Mean Squared Error:', round(np.sqrt(mean_squared_error(y_test,y_pred_rfe)), 2))\n",
    "print('The Mean Absolute Error:', round(mean_absolute_error(y_test,y_pred_rfe), 2))\n",
    "print('Coefficient of determination:', round(r2_score(y_test,y_pred_rfe), 2))\n"
   ]
  },
  {
   "cell_type": "code",
   "execution_count": 38,
   "id": "94308ead",
   "metadata": {},
   "outputs": [
    {
     "name": "stdout",
     "output_type": "stream",
     "text": [
      "Column: VE_TOTAL, Selected False, Rank: 91.000\n",
      "Column: PEDS, Selected True, Rank: 1.000\n",
      "Column: PERSONS, Selected True, Rank: 1.000\n",
      "Column: DAYNAME, Selected True, Rank: 1.000\n",
      "Column: HOUR, Selected True, Rank: 1.000\n",
      "Column: DRUNK_DR, Selected True, Rank: 1.000\n",
      "Column: STATENAME_Alabama, Selected True, Rank: 1.000\n",
      "Column: STATENAME_Alaska, Selected True, Rank: 1.000\n",
      "Column: STATENAME_Arizona, Selected True, Rank: 1.000\n",
      "Column: STATENAME_Arkansas, Selected True, Rank: 1.000\n",
      "Column: STATENAME_California, Selected True, Rank: 1.000\n",
      "Column: STATENAME_Colorado, Selected True, Rank: 1.000\n",
      "Column: STATENAME_Connecticut, Selected True, Rank: 1.000\n",
      "Column: STATENAME_Delaware, Selected True, Rank: 1.000\n",
      "Column: STATENAME_District of Columbia, Selected True, Rank: 1.000\n",
      "Column: STATENAME_Florida, Selected True, Rank: 1.000\n",
      "Column: STATENAME_Georgia, Selected True, Rank: 1.000\n",
      "Column: STATENAME_Hawaii, Selected True, Rank: 1.000\n",
      "Column: STATENAME_Idaho, Selected True, Rank: 1.000\n",
      "Column: STATENAME_Illinois, Selected True, Rank: 1.000\n",
      "Column: STATENAME_Indiana, Selected True, Rank: 1.000\n",
      "Column: STATENAME_Iowa, Selected True, Rank: 1.000\n",
      "Column: STATENAME_Kansas, Selected True, Rank: 1.000\n",
      "Column: STATENAME_Kentucky, Selected True, Rank: 1.000\n",
      "Column: STATENAME_Louisiana, Selected True, Rank: 1.000\n",
      "Column: STATENAME_Maine, Selected True, Rank: 1.000\n",
      "Column: STATENAME_Maryland, Selected True, Rank: 1.000\n",
      "Column: STATENAME_Massachusetts, Selected True, Rank: 1.000\n",
      "Column: STATENAME_Michigan, Selected True, Rank: 1.000\n",
      "Column: STATENAME_Minnesota, Selected True, Rank: 1.000\n",
      "Column: STATENAME_Mississippi, Selected True, Rank: 1.000\n",
      "Column: STATENAME_Missouri, Selected True, Rank: 1.000\n",
      "Column: STATENAME_Montana, Selected True, Rank: 1.000\n",
      "Column: STATENAME_Nebraska, Selected True, Rank: 1.000\n",
      "Column: STATENAME_Nevada, Selected True, Rank: 1.000\n",
      "Column: STATENAME_New Hampshire, Selected True, Rank: 1.000\n",
      "Column: STATENAME_New Jersey, Selected True, Rank: 1.000\n",
      "Column: STATENAME_New Mexico, Selected True, Rank: 1.000\n",
      "Column: STATENAME_New York, Selected True, Rank: 1.000\n",
      "Column: STATENAME_North Carolina, Selected True, Rank: 1.000\n",
      "Column: STATENAME_North Dakota, Selected True, Rank: 1.000\n",
      "Column: STATENAME_Ohio, Selected True, Rank: 1.000\n",
      "Column: STATENAME_Oklahoma, Selected True, Rank: 1.000\n",
      "Column: STATENAME_Oregon, Selected True, Rank: 1.000\n",
      "Column: STATENAME_Pennsylvania, Selected True, Rank: 1.000\n",
      "Column: STATENAME_Rhode Island, Selected False, Rank: 2.000\n",
      "Column: STATENAME_South Carolina, Selected False, Rank: 4.000\n",
      "Column: STATENAME_South Dakota, Selected False, Rank: 6.000\n",
      "Column: STATENAME_Tennessee, Selected False, Rank: 8.000\n",
      "Column: STATENAME_Texas, Selected False, Rank: 10.000\n",
      "Column: STATENAME_Utah, Selected False, Rank: 12.000\n",
      "Column: STATENAME_Vermont, Selected False, Rank: 14.000\n",
      "Column: STATENAME_Virginia, Selected False, Rank: 16.000\n",
      "Column: STATENAME_Washington, Selected False, Rank: 18.000\n",
      "Column: STATENAME_West Virginia, Selected False, Rank: 20.000\n",
      "Column: STATENAME_Wisconsin, Selected False, Rank: 22.000\n",
      "Column: STATENAME_Wyoming, Selected False, Rank: 24.000\n",
      "Column: MONTHNAME_April, Selected False, Rank: 26.000\n",
      "Column: MONTHNAME_August, Selected False, Rank: 28.000\n",
      "Column: MONTHNAME_December, Selected False, Rank: 30.000\n",
      "Column: MONTHNAME_February, Selected False, Rank: 32.000\n",
      "Column: MONTHNAME_January, Selected False, Rank: 34.000\n",
      "Column: MONTHNAME_July, Selected False, Rank: 36.000\n",
      "Column: MONTHNAME_June, Selected False, Rank: 38.000\n",
      "Column: MONTHNAME_March, Selected False, Rank: 40.000\n",
      "Column: MONTHNAME_May, Selected False, Rank: 42.000\n",
      "Column: MONTHNAME_November, Selected False, Rank: 44.000\n",
      "Column: MONTHNAME_October, Selected False, Rank: 46.000\n",
      "Column: MONTHNAME_September, Selected False, Rank: 48.000\n",
      "Column: DAY_WEEKNAME_Friday, Selected False, Rank: 50.000\n",
      "Column: DAY_WEEKNAME_Monday, Selected False, Rank: 52.000\n",
      "Column: DAY_WEEKNAME_Saturday, Selected False, Rank: 54.000\n",
      "Column: DAY_WEEKNAME_Sunday, Selected False, Rank: 56.000\n",
      "Column: DAY_WEEKNAME_Thursday, Selected False, Rank: 58.000\n",
      "Column: DAY_WEEKNAME_Tuesday, Selected False, Rank: 60.000\n",
      "Column: DAY_WEEKNAME_Wednesday, Selected False, Rank: 62.000\n",
      "Column: RUR_URBNAME_Not Reported, Selected False, Rank: 64.000\n",
      "Column: RUR_URBNAME_Rural, Selected True, Rank: 1.000\n",
      "Column: RUR_URBNAME_Trafficway Not in State Inventory, Selected False, Rank: 68.000\n",
      "Column: RUR_URBNAME_Unknown, Selected False, Rank: 70.000\n",
      "Column: RUR_URBNAME_Urban, Selected False, Rank: 72.000\n",
      "Column: HARM_EVNAME_Boulder, Selected False, Rank: 74.000\n",
      "Column: HARM_EVNAME_Bridge Overhead Structure, Selected False, Rank: 76.000\n",
      "Column: HARM_EVNAME_Bridge Pier or Support, Selected False, Rank: 78.000\n",
      "Column: HARM_EVNAME_Bridge Rail (Includes parapet), Selected False, Rank: 80.000\n",
      "Column: HARM_EVNAME_Building, Selected False, Rank: 82.000\n",
      "Column: HARM_EVNAME_Cable Barrier, Selected False, Rank: 84.000\n",
      "Column: HARM_EVNAME_Cargo/Equipment Loss, Shift, or Damage [harmful], Selected False, Rank: 86.000\n",
      "Column: HARM_EVNAME_Concrete Traffic Barrier, Selected False, Rank: 88.000\n",
      "Column: HARM_EVNAME_Culvert, Selected False, Rank: 90.000\n",
      "Column: HARM_EVNAME_Curb, Selected False, Rank: 89.000\n",
      "Column: HARM_EVNAME_Ditch, Selected False, Rank: 87.000\n",
      "Column: HARM_EVNAME_Embankment, Selected False, Rank: 85.000\n",
      "Column: HARM_EVNAME_Fell/Jumped from Vehicle, Selected False, Rank: 83.000\n",
      "Column: HARM_EVNAME_Fence, Selected False, Rank: 81.000\n",
      "Column: HARM_EVNAME_Fire Hydrant, Selected False, Rank: 79.000\n",
      "Column: HARM_EVNAME_Fire/Explosion, Selected False, Rank: 77.000\n",
      "Column: HARM_EVNAME_Ground, Selected False, Rank: 75.000\n",
      "Column: HARM_EVNAME_Guardrail End, Selected False, Rank: 73.000\n",
      "Column: HARM_EVNAME_Guardrail Face, Selected False, Rank: 71.000\n",
      "Column: HARM_EVNAME_Harmful Event, Details Not Reported, Selected False, Rank: 69.000\n",
      "Column: HARM_EVNAME_Immersion or Partial Immersion, Selected False, Rank: 67.000\n",
      "Column: HARM_EVNAME_Impact Attenuator/Crash Cushion, Selected True, Rank: 1.000\n",
      "Column: HARM_EVNAME_Injured In Vehicle (Non-Collision), Selected True, Rank: 1.000\n",
      "Column: HARM_EVNAME_Jackknife (harmful to this vehicle), Selected True, Rank: 1.000\n",
      "Column: HARM_EVNAME_Live Animal, Selected True, Rank: 1.000\n",
      "Column: HARM_EVNAME_Mail Box, Selected True, Rank: 1.000\n",
      "Column: HARM_EVNAME_Motor Vehicle In-Transport, Selected True, Rank: 1.000\n",
      "Column: HARM_EVNAME_Motor Vehicle In-Transport Strikes or is Struck by Cargo, Persons or Objects Set-in-Motion from/by Another Motor Vehicle In Transport, Selected True, Rank: 1.000\n",
      "Column: HARM_EVNAME_Non-Motorist on Personal Conveyance, Selected True, Rank: 1.000\n",
      "Column: HARM_EVNAME_Object That Had Fallen From Motor Vehicle In-Transport, Selected True, Rank: 1.000\n",
      "Column: HARM_EVNAME_Other Fixed Object, Selected True, Rank: 1.000\n",
      "Column: HARM_EVNAME_Other Non-Collision, Selected True, Rank: 1.000\n",
      "Column: HARM_EVNAME_Other Object (not fixed), Selected True, Rank: 1.000\n",
      "Column: HARM_EVNAME_Other Traffic Barrier, Selected True, Rank: 1.000\n",
      "Column: HARM_EVNAME_Parked Motor Vehicle, Selected True, Rank: 1.000\n",
      "Column: HARM_EVNAME_Pavement Surface Irregularity (Ruts, Potholes, Grates, etc.), Selected True, Rank: 1.000\n",
      "Column: HARM_EVNAME_Pedalcyclist, Selected True, Rank: 1.000\n",
      "Column: HARM_EVNAME_Pedestrian, Selected True, Rank: 1.000\n",
      "Column: HARM_EVNAME_Post, Pole or Other Supports, Selected True, Rank: 1.000\n",
      "Column: HARM_EVNAME_Railway Vehicle, Selected True, Rank: 1.000\n",
      "Column: HARM_EVNAME_Reported as Unknown, Selected True, Rank: 1.000\n",
      "Column: HARM_EVNAME_Ridden Animal or Animal Drawn Conveyance, Selected True, Rank: 1.000\n",
      "Column: HARM_EVNAME_Road Vehicle on Rails, Selected True, Rank: 1.000\n",
      "Column: HARM_EVNAME_Rollover/Overturn, Selected True, Rank: 1.000\n",
      "Column: HARM_EVNAME_Shrubbery, Selected True, Rank: 1.000\n",
      "Column: HARM_EVNAME_Snow Bank, Selected True, Rank: 1.000\n",
      "Column: HARM_EVNAME_Thrown or Falling Object, Selected True, Rank: 1.000\n",
      "Column: HARM_EVNAME_Traffic Sign Support, Selected True, Rank: 1.000\n",
      "Column: HARM_EVNAME_Traffic Signal Support, Selected True, Rank: 1.000\n",
      "Column: HARM_EVNAME_Tree (Standing Only), Selected True, Rank: 1.000\n",
      "Column: HARM_EVNAME_Unknown Fixed Object, Selected True, Rank: 1.000\n",
      "Column: HARM_EVNAME_Unknown Object Not Fixed, Selected True, Rank: 1.000\n",
      "Column: HARM_EVNAME_Utility Pole/Light Support, Selected True, Rank: 1.000\n",
      "Column: HARM_EVNAME_Wall, Selected True, Rank: 1.000\n",
      "Column: HARM_EVNAME_Working Motor Vehicle, Selected True, Rank: 1.000\n",
      "Column: LGT_CONDNAME_Dark - Lighted, Selected True, Rank: 1.000\n",
      "Column: LGT_CONDNAME_Dark - Not Lighted, Selected True, Rank: 1.000\n",
      "Column: LGT_CONDNAME_Dark - Unknown Lighting, Selected True, Rank: 1.000\n",
      "Column: LGT_CONDNAME_Dawn, Selected True, Rank: 1.000\n",
      "Column: LGT_CONDNAME_Daylight, Selected True, Rank: 1.000\n",
      "Column: LGT_CONDNAME_Dusk, Selected True, Rank: 1.000\n",
      "Column: LGT_CONDNAME_Not Reported, Selected True, Rank: 1.000\n",
      "Column: LGT_CONDNAME_Other, Selected True, Rank: 1.000\n",
      "Column: LGT_CONDNAME_Reported as Unknown, Selected True, Rank: 1.000\n",
      "Column: WEATHER1NAME_Blowing Sand, Soil, Dirt, Selected True, Rank: 1.000\n",
      "Column: WEATHER1NAME_Blowing Snow, Selected False, Rank: 3.000\n",
      "Column: WEATHER1NAME_Clear, Selected False, Rank: 5.000\n",
      "Column: WEATHER1NAME_Cloudy, Selected False, Rank: 7.000\n",
      "Column: WEATHER1NAME_Fog, Smog, Smoke, Selected False, Rank: 9.000\n",
      "Column: WEATHER1NAME_Freezing Rain or Drizzle, Selected False, Rank: 11.000\n",
      "Column: WEATHER1NAME_Not Reported, Selected False, Rank: 13.000\n",
      "Column: WEATHER1NAME_Other, Selected False, Rank: 15.000\n",
      "Column: WEATHER1NAME_Rain, Selected False, Rank: 17.000\n",
      "Column: WEATHER1NAME_Reported as Unknown, Selected False, Rank: 19.000\n",
      "Column: WEATHER1NAME_Severe Crosswinds, Selected False, Rank: 21.000\n",
      "Column: WEATHER1NAME_Sleet or Hail, Selected False, Rank: 23.000\n",
      "Column: WEATHER1NAME_Snow, Selected False, Rank: 25.000\n",
      "Column: WEATHERNAME_Blowing Sand, Soil, Dirt, Selected False, Rank: 27.000\n",
      "Column: WEATHERNAME_Blowing Snow, Selected False, Rank: 29.000\n",
      "Column: WEATHERNAME_Clear, Selected False, Rank: 31.000\n",
      "Column: WEATHERNAME_Cloudy, Selected False, Rank: 33.000\n",
      "Column: WEATHERNAME_Fog, Smog, Smoke, Selected False, Rank: 35.000\n",
      "Column: WEATHERNAME_Freezing Rain or Drizzle, Selected False, Rank: 37.000\n",
      "Column: WEATHERNAME_Not Reported, Selected False, Rank: 39.000\n",
      "Column: WEATHERNAME_Other, Selected False, Rank: 41.000\n",
      "Column: WEATHERNAME_Rain, Selected False, Rank: 43.000\n",
      "Column: WEATHERNAME_Reported as Unknown, Selected False, Rank: 45.000\n",
      "Column: WEATHERNAME_Severe Crosswinds, Selected False, Rank: 47.000\n",
      "Column: WEATHERNAME_Sleet or Hail, Selected False, Rank: 49.000\n",
      "Column: WEATHERNAME_Snow, Selected False, Rank: 51.000\n",
      "Column: REGION_Midwest, Selected False, Rank: 53.000\n",
      "Column: REGION_Northeast, Selected False, Rank: 55.000\n",
      "Column: REGION_South, Selected False, Rank: 57.000\n",
      "Column: REGION_West, Selected False, Rank: 59.000\n",
      "Column: WEEK_END_Weekday, Selected False, Rank: 61.000\n",
      "Column: WEEK_END_Weekend, Selected False, Rank: 63.000\n",
      "Column: DAY_NIGHT_Day_Time, Selected False, Rank: 65.000\n",
      "Column: DAY_NIGHT_Night_Time, Selected False, Rank: 66.000\n"
     ]
    }
   ],
   "source": [
    "###Showing the rank for the columns; \n",
    "###clearly, there are differences in their ranking that can be used to pair the model\n",
    "for i in range(X_train_scaled.shape[1]):\n",
    "\tprint('Column: %s, Selected %s, Rank: %.3f' % (X_train.columns[i], rfe.support_[i], rfe.ranking_[i]))"
   ]
  },
  {
   "cell_type": "code",
   "execution_count": 81,
   "id": "bfd100db",
   "metadata": {},
   "outputs": [
    {
     "name": "stdout",
     "output_type": "stream",
     "text": [
      "[12.31058006 12.07863272 12.44487897 12.43623285 12.17444431 12.18240773\n",
      " 12.22439885 12.30100164 12.19975952 12.37194879 12.19169193 12.04369369\n",
      " 12.24675698 12.54217603 12.31530927 12.30779257 12.24595748 12.4713857\n",
      " 12.0094158  12.30127917 12.50353262 12.44001282 12.36494743 12.14788853\n",
      " 12.38150446 12.35016261 11.95285873 12.37701382 12.18241684 11.98962938]\n"
     ]
    }
   ],
   "source": [
    "### RFE with Lasso CV\n",
    "# evaluate RFE for regression\n",
    "# fit RFE\n",
    "rfe = RFE(estimator=Lasso(alpha=1.0), n_features_to_select=10)\n",
    "model = Lasso(alpha=1.0)\n",
    "pipeline = Pipeline(steps=[('s',rfe),('m',model)])\n",
    "# evaluate model\n",
    "cv = RepeatedKFold(n_splits=10, n_repeats=3, random_state=1)\n",
    "n_scores = cross_val_score(pipeline, X_train_scaled, y_train, scoring='neg_mean_absolute_error', cv=cv, n_jobs=-1, error_score='raise')\n",
    "# report performance\n",
    "rfe_scores = absolute(scores)\n",
    "print(rfe_scores)\n",
    "### Overfitting not an issue"
   ]
  },
  {
   "cell_type": "code",
   "execution_count": 82,
   "id": "35da06bb",
   "metadata": {},
   "outputs": [
    {
     "name": "stdout",
     "output_type": "stream",
     "text": [
      "R2: 0.690 (0.012)\n"
     ]
    }
   ],
   "source": [
    "R_scores = cross_val_score(pipeline, X_train_scaled, y_train, scoring='r2', cv=cv, n_jobs=-1, error_score='raise')\n",
    "# report performance\n",
    "print('R2: %.3f (%.3f)' % (mean(R_scores), std(R_scores)))"
   ]
  },
  {
   "cell_type": "code",
   "execution_count": 86,
   "id": "24ca4f05",
   "metadata": {},
   "outputs": [
    {
     "name": "stdout",
     "output_type": "stream",
     "text": [
      "R2: 15.851 (0.323)\n"
     ]
    }
   ],
   "source": [
    "RMSE_scores = cross_val_score(pipeline, X_train_scaled, y_train, scoring='neg_root_mean_squared_error', cv=cv, n_jobs=-1, error_score='raise')\n",
    "RMSE_scores = abs(RMSE_scores)\n",
    "# report performance\n",
    "print('R2: %.3f (%.3f)' % (mean(RMSE_scores), std(RMSE_scores)))"
   ]
  },
  {
   "cell_type": "code",
   "execution_count": 84,
   "id": "b5dc1e7d",
   "metadata": {
    "scrolled": true
   },
   "outputs": [
    {
     "name": "stdout",
     "output_type": "stream",
     "text": [
      "Column: PEDS, Selected True, Rank: 1.000\n",
      "Column: PERSONS, Selected True, Rank: 1.000\n",
      "Column: DRUNK_DR, Selected True, Rank: 1.000\n",
      "Column: RUR_URBNAME_Rural, Selected True, Rank: 1.000\n",
      "Column: HARM_EVNAME_Motor Vehicle In-Transport, Selected True, Rank: 1.000\n",
      "Column: HARM_EVNAME_Non-Motorist on Personal Conveyance, Selected True, Rank: 1.000\n",
      "Column: HARM_EVNAME_Other Fixed Object, Selected False, Rank: 4.000\n",
      "Column: HARM_EVNAME_Other Non-Collision, Selected False, Rank: 3.000\n",
      "Column: HARM_EVNAME_Other Object (not fixed), Selected False, Rank: 2.000\n",
      "Column: HARM_EVNAME_Pedalcyclist, Selected True, Rank: 1.000\n",
      "Column: HARM_EVNAME_Pedestrian, Selected True, Rank: 1.000\n",
      "Column: HARM_EVNAME_Traffic Signal Support, Selected True, Rank: 1.000\n",
      "Column: HARM_EVNAME_Tree (Standing Only), Selected True, Rank: 1.000\n"
     ]
    }
   ],
   "source": [
    "###Showing the rank for the columns; clearly, there are differences in their ranking that can be used to pair the model\n",
    "# fit RFE\n",
    "rfe.fit(X_train_scaled, y_train)\n",
    "# summarize all features\n",
    "for i in range(X_train_scaled.shape[1]):\n",
    "    if rfe.ranking_[i] < 5:\n",
    "        f = open(\"Selected Columns.txt\", 'a')\n",
    "        f.write('Column: %s, Selected %s, Rank: %.3f' % (X_train.columns[i], rfe.support_[i], rfe.ranking_[i]))\n",
    "        f.close\n",
    "        print('Column: %s, Selected %s, Rank: %.3f' % (X_train.columns[i], rfe.support_[i], rfe.ranking_[i]))\n",
    "    "
   ]
  },
  {
   "cell_type": "code",
   "execution_count": 87,
   "id": "aa7d29d5",
   "metadata": {},
   "outputs": [],
   "source": [
    "### Just checking with Linear Model with RFECV to see if it compares on autoselect of best features\n",
    "from sklearn.feature_selection import RFECV\n",
    "\n",
    "# Init, fit\n",
    "rfecv = RFECV(\n",
    "    estimator=Lasso(alpha=1.0),\n",
    "    min_features_to_select=5,\n",
    "    step=5,\n",
    "    n_jobs=-1,\n",
    "    scoring=\"r2\",\n",
    "    cv=5)\n",
    "\n",
    "_ = rfecv.fit(X_train_scaled, y_train)"
   ]
  },
  {
   "cell_type": "code",
   "execution_count": 88,
   "id": "bc9ef074",
   "metadata": {},
   "outputs": [
    {
     "data": {
      "text/plain": [
       "Index(['PEDS', 'PERSONS', 'DRUNK_DR', 'RUR_URBNAME_Not Reported',\n",
       "       'RUR_URBNAME_Rural', 'HARM_EVNAME_Motor Vehicle In-Transport',\n",
       "       'HARM_EVNAME_Non-Motorist on Personal Conveyance',\n",
       "       'HARM_EVNAME_Pedalcyclist', 'HARM_EVNAME_Pedestrian',\n",
       "       'HARM_EVNAME_Traffic Signal Support',\n",
       "       'HARM_EVNAME_Tree (Standing Only)',\n",
       "       'HARM_EVNAME_Other Object (not fixed)',\n",
       "       'HARM_EVNAME_Other Non-Collision', 'HARM_EVNAME_Other Fixed Object'],\n",
       "      dtype='object')"
      ]
     },
     "execution_count": 88,
     "metadata": {},
     "output_type": "execute_result"
    }
   ],
   "source": [
    "###With Cross-Validation LinearRegression, the RFE chose the following columns; Not Reported is new; \n",
    "### With Lasso (alpha=1.0) it pulls all 179 . . . ?\n",
    "X_train.columns[rfecv.support_]\n",
    "\n"
   ]
  },
  {
   "cell_type": "markdown",
   "id": "443b46d5",
   "metadata": {},
   "source": [
    "### Results from full feature models\n",
    "The results from the RFE with RepeatedKFold validation make the most sense as contributing conditions to a higher F_RATIO. Here are the factors ranked at 5 or lower (with 1 as most important).\n",
    "___________________________________________________________________________\n",
    " PEDS, Selected True, Rank: 1.000  \n",
    " PERSONS, Selected True, Rank: 1.000  \n",
    " DRUNK_DR, Selected True, Rank: 1.000  \n",
    " RUR_URBNAME_Rural, Selected True, Rank: 1.000  \n",
    " HARM_EVNAME_Motor Vehicle In-Transport, Selected True, Rank: 1.000  \n",
    " HARM_EVNAME_Non-Motorist on Personal Conveyance, Selected True, Rank: 1.000  \n",
    " HARM_EVNAME_Pedalcyclist, Selected True, Rank: 1.000  \n",
    " HARM_EVNAME_Pedestrian, Selected True, Rank: 1.000  \n",
    " HARM_EVNAME_Traffic Signal Support, Selected True, Rank: 1.000  \n",
    " HARM_EVNAME_Tree (Standing Only), Selected True, Rank: 1.000  \n",
    " HARM_EVNAME_Other Object (not fixed), Selected False, Rank: 2.000  \n",
    " HARM_EVNAME_Other Non-Collision, Selected False, Rank: 3.000  \n",
    " HARM_EVNAME_Other Fixed Object, Selected False, Rank: 4.000"
   ]
  },
  {
   "cell_type": "markdown",
   "id": "234909f6",
   "metadata": {},
   "source": [
    "## Dataset trimming\n",
    "With a trimmed dataset, given the indicators from the above analysis, the Decision Tree Regressor will be re-run.a"
   ]
  },
  {
   "cell_type": "code",
   "execution_count": 48,
   "id": "1fce8f20",
   "metadata": {},
   "outputs": [
    {
     "data": {
      "text/plain": [
       "Index(['STATENAME', 'VE_TOTAL', 'PEDS', 'PERSONS', 'DAYNAME', 'MONTHNAME',\n",
       "       'HOUR', 'DAY_WEEKNAME', 'RUR_URBNAME', 'HARM_EVNAME', 'LGT_CONDNAME',\n",
       "       'WEATHER1NAME', 'WEATHERNAME', 'FATALS', 'DRUNK_DR', 'REGION',\n",
       "       'WEEK_END', 'DAY_NIGHT', 'DayNight_Avg', 'WEEK_END_Avg', 'State_Avg',\n",
       "       'Day_Avg', 'Region_Avg', 'F_RATIO'],\n",
       "      dtype='object')"
      ]
     },
     "execution_count": 48,
     "metadata": {},
     "output_type": "execute_result"
    }
   ],
   "source": [
    "### reloading Total (capitalized)\n",
    "Total = pd.read_csv('../data/processed/total.csv')\n",
    "Total.columns"
   ]
  },
  {
   "cell_type": "code",
   "execution_count": 49,
   "id": "aa388457",
   "metadata": {},
   "outputs": [
    {
     "data": {
      "text/html": [
       "<div>\n",
       "<style scoped>\n",
       "    .dataframe tbody tr th:only-of-type {\n",
       "        vertical-align: middle;\n",
       "    }\n",
       "\n",
       "    .dataframe tbody tr th {\n",
       "        vertical-align: top;\n",
       "    }\n",
       "\n",
       "    .dataframe thead th {\n",
       "        text-align: right;\n",
       "    }\n",
       "</style>\n",
       "<table border=\"1\" class=\"dataframe\">\n",
       "  <thead>\n",
       "    <tr style=\"text-align: right;\">\n",
       "      <th></th>\n",
       "      <th>PEDS</th>\n",
       "      <th>PERSONS</th>\n",
       "      <th>DRUNK_DR</th>\n",
       "      <th>RUR_URBNAME</th>\n",
       "      <th>HARM_EVNAME</th>\n",
       "      <th>F_RATIO</th>\n",
       "    </tr>\n",
       "  </thead>\n",
       "  <tbody>\n",
       "    <tr>\n",
       "      <th>0</th>\n",
       "      <td>0</td>\n",
       "      <td>1</td>\n",
       "      <td>0</td>\n",
       "      <td>Urban</td>\n",
       "      <td>Guardrail End</td>\n",
       "      <td>100.0</td>\n",
       "    </tr>\n",
       "    <tr>\n",
       "      <th>1</th>\n",
       "      <td>0</td>\n",
       "      <td>1</td>\n",
       "      <td>0</td>\n",
       "      <td>Rural</td>\n",
       "      <td>Railway Vehicle</td>\n",
       "      <td>100.0</td>\n",
       "    </tr>\n",
       "    <tr>\n",
       "      <th>2</th>\n",
       "      <td>0</td>\n",
       "      <td>1</td>\n",
       "      <td>0</td>\n",
       "      <td>Urban</td>\n",
       "      <td>Traffic Signal Support</td>\n",
       "      <td>100.0</td>\n",
       "    </tr>\n",
       "  </tbody>\n",
       "</table>\n",
       "</div>"
      ],
      "text/plain": [
       "   PEDS  PERSONS  DRUNK_DR RUR_URBNAME             HARM_EVNAME  F_RATIO\n",
       "0     0        1         0       Urban           Guardrail End    100.0\n",
       "1     0        1         0       Rural         Railway Vehicle    100.0\n",
       "2     0        1         0       Urban  Traffic Signal Support    100.0"
      ]
     },
     "execution_count": 49,
     "metadata": {},
     "output_type": "execute_result"
    }
   ],
   "source": [
    "### Time to pair down some columns\n",
    "#\n",
    "Total = Total[['PEDS', 'PERSONS', 'DRUNK_DR', 'RUR_URBNAME', 'HARM_EVNAME','F_RATIO']]\n",
    "\n",
    "#Total.columns\n",
    "Total.head(3)"
   ]
  },
  {
   "cell_type": "code",
   "execution_count": 50,
   "id": "8257dc66",
   "metadata": {},
   "outputs": [
    {
     "name": "stdout",
     "output_type": "stream",
     "text": [
      "Total shape is (33238, 6)\n"
     ]
    }
   ],
   "source": [
    "print('Total shape is', Total.shape)"
   ]
  },
  {
   "cell_type": "code",
   "execution_count": 51,
   "id": "3a3fc309",
   "metadata": {},
   "outputs": [],
   "source": [
    "### Sorting out the categorical variables\n",
    "dfo = Total.select_dtypes(include=['object']) # select object type columns\n",
    "Total_ready = pd.concat([Total.drop(dfo, axis=1), pd.get_dummies(dfo)], axis=1) ### concatenating the dummy filled columns"
   ]
  },
  {
   "cell_type": "code",
   "execution_count": 52,
   "id": "f15f21fa",
   "metadata": {},
   "outputs": [
    {
     "data": {
      "text/plain": [
       "Index(['PEDS', 'PERSONS', 'DRUNK_DR', 'F_RATIO', 'RUR_URBNAME_Not Reported',\n",
       "       'RUR_URBNAME_Rural', 'HARM_EVNAME_Motor Vehicle In-Transport',\n",
       "       'HARM_EVNAME_Non-Motorist on Personal Conveyance',\n",
       "       'HARM_EVNAME_Pedalcyclist', 'HARM_EVNAME_Pedestrian',\n",
       "       'HARM_EVNAME_Traffic Signal Support',\n",
       "       'HARM_EVNAME_Tree (Standing Only)',\n",
       "       'HARM_EVNAME_Other Object (not fixed)',\n",
       "       'HARM_EVNAME_Other Non-Collision', 'HARM_EVNAME_Other Fixed Object'],\n",
       "      dtype='object')"
      ]
     },
     "execution_count": 52,
     "metadata": {},
     "output_type": "execute_result"
    }
   ],
   "source": [
    "### Because Harmful Events has been splayed and ONLY SOME of them were seen as important, \n",
    "### these themselves need to trimmed. Same goes with Rural_Urban which has four subtypes\n",
    "Total_ready = Total_ready[['PEDS', 'PERSONS', 'DRUNK_DR', 'F_RATIO', 'RUR_URBNAME_Not Reported','RUR_URBNAME_Rural',\n",
    "'HARM_EVNAME_Motor Vehicle In-Transport',\n",
    "'HARM_EVNAME_Non-Motorist on Personal Conveyance', \n",
    "'HARM_EVNAME_Pedalcyclist',\n",
    "'HARM_EVNAME_Pedestrian',  \n",
    "'HARM_EVNAME_Traffic Signal Support',  \n",
    "'HARM_EVNAME_Tree (Standing Only)',\n",
    "'HARM_EVNAME_Other Object (not fixed)',  \n",
    "'HARM_EVNAME_Other Non-Collision',   \n",
    "'HARM_EVNAME_Other Fixed Object', ]]\n",
    "Total_ready.columns"
   ]
  },
  {
   "cell_type": "code",
   "execution_count": 67,
   "id": "c0ca942d",
   "metadata": {},
   "outputs": [],
   "source": [
    "### And to fix the really low four outliers of F_Ratio, let's filter\n",
    "Total_ready = Total_ready[Total_ready.F_RATIO > 5]"
   ]
  },
  {
   "cell_type": "code",
   "execution_count": 68,
   "id": "25fa27f1",
   "metadata": {},
   "outputs": [],
   "source": [
    "### Test Train Split for total\n",
    "X = Total_ready.loc[:, Total_ready.columns!='F_RATIO']\n",
    "y = Total_ready.F_RATIO\n",
    "\n",
    "X_train, X_test, y_train, y_test = train_test_split(X, y, test_size=.3, random_state=42)"
   ]
  },
  {
   "cell_type": "code",
   "execution_count": 69,
   "id": "80d5eea7",
   "metadata": {},
   "outputs": [],
   "source": [
    "# For Total, build scaler based on training data and apply it to test data to then also scale the test data\n",
    "scaler = preprocessing.StandardScaler().fit(X_train)\n",
    "X_train_scaled=scaler.transform(X_train)\n",
    "X_test_scaled=scaler.transform(X_test)"
   ]
  },
  {
   "cell_type": "code",
   "execution_count": 70,
   "id": "8d02a479",
   "metadata": {},
   "outputs": [
    {
     "name": "stdout",
     "output_type": "stream",
     "text": [
      "Total accident training data (23263, 14) Total accident test data (9971, 14) \n",
      " total fatality training data (23263,) total fatality testing data (9971,)\n"
     ]
    }
   ],
   "source": [
    "# For Total, We now want to check the shape of the X train, y_train, X_test and y_test to make sure the proportions are right. \n",
    "print('Total accident training data', X_train_scaled.shape, 'Total accident test data', X_test_scaled.shape, \"\\n\", 'total fatality training data', y_train.shape, 'total fatality testing data', y_test.shape)"
   ]
  },
  {
   "cell_type": "markdown",
   "id": "1782e6b5",
   "metadata": {},
   "source": [
    "### Linear Regression with Trimmed Features"
   ]
  },
  {
   "cell_type": "code",
   "execution_count": 89,
   "id": "a2584a7f",
   "metadata": {},
   "outputs": [
    {
     "data": {
      "text/plain": [
       "LinearRegression()"
      ]
     },
     "execution_count": 89,
     "metadata": {},
     "output_type": "execute_result"
    }
   ],
   "source": [
    "# Using linear regression for the entire Total set\n",
    "rModel = linear_model.LinearRegression()\n",
    "rModel.fit(X_train_scaled, y_train)\n"
   ]
  },
  {
   "cell_type": "code",
   "execution_count": 60,
   "id": "46793196",
   "metadata": {},
   "outputs": [],
   "source": [
    "# Use the model to make predictions about our test data\n",
    "y_pred_trim = rModel.predict(X_test_scaled)"
   ]
  },
  {
   "cell_type": "code",
   "execution_count": 61,
   "id": "a09e5aba",
   "metadata": {
    "scrolled": false
   },
   "outputs": [
    {
     "name": "stdout",
     "output_type": "stream",
     "text": [
      "The Root Mean Squared Error with Linear Regression: 15.3\n",
      "The Mean Absolute Error with Linear Regression: 11.15\n",
      "Coefficient of Determination with Linear Regression: 0.71\n"
     ]
    }
   ],
   "source": [
    "###mean_squared_error, r2_score, mean_absolute_error. TREE WITH DEPTH 5\n",
    "print('The Root Mean Squared Error with Linear Regression:', round(np.sqrt(mean_squared_error(y_test,y_pred_trim)), 2))\n",
    "print('The Mean Absolute Error with Linear Regression:', round(mean_absolute_error(y_test,y_pred_trim), 2))\n",
    "print('Coefficient of Determination with Linear Regression:', round(r2_score(y_test,y_pred_trim), 2))"
   ]
  },
  {
   "cell_type": "code",
   "execution_count": 90,
   "id": "46db8ca9",
   "metadata": {},
   "outputs": [
    {
     "name": "stdout",
     "output_type": "stream",
     "text": [
      "Training R-sqaured: 0.7009958690284569\n",
      "Testing R-squared: 0.7126001568136767\n"
     ]
    }
   ],
   "source": [
    "### Good comparability between train and test sets\n",
    "_ = rModel.fit(X_train_scaled, y_train)\n",
    "\n",
    "print(\"Training R-sqaured:\", rModel.score(X_train_scaled, y_train))\n",
    "print(\"Testing R-squared:\",rModel.score(X_test_scaled, y_test))"
   ]
  },
  {
   "cell_type": "code",
   "execution_count": 91,
   "id": "f413fa5e",
   "metadata": {
    "scrolled": false
   },
   "outputs": [
    {
     "data": {
      "image/png": "[encoded data removed]",
      "text/plain": [
       "<Figure size 432x288 with 1 Axes>"
      ]
     },
     "metadata": {
      "needs_background": "light"
     },
     "output_type": "display_data"
    }
   ],
   "source": [
    "# Let's plot the predictions against the actual result. Use scatter()\n",
    "# appears that there is an exponential curve to the relationship\n",
    "_ = plt.scatter(y_pred_trim, y_test)\n",
    "_ = plt.xlabel('F_Ratio Predicted')\n",
    "_ = plt.ylabel('F_Ratio Acutal')\n",
    "_ = plt.title('Actual vs Predicted for Linear Regression')\n",
    "plt.savefig('../figures/Actual vs Predicted for Linear Regression')"
   ]
  },
  {
   "cell_type": "markdown",
   "id": "18adea80",
   "metadata": {},
   "source": [
    "### Lasso with Cross-fold Validation with Trimmed Features"
   ]
  },
  {
   "cell_type": "code",
   "execution_count": 92,
   "id": "c31827a3",
   "metadata": {},
   "outputs": [
    {
     "name": "stdout",
     "output_type": "stream",
     "text": [
      "[12.31058006 12.07863272 12.44487897 12.43623285 12.17444431 12.18240773\n",
      " 12.22439885 12.30100164 12.19975952 12.37194879 12.19169193 12.04369369\n",
      " 12.24675698 12.54217603 12.31530927 12.30779257 12.24595748 12.4713857\n",
      " 12.0094158  12.30127917 12.50353262 12.44001282 12.36494743 12.14788853\n",
      " 12.38150446 12.35016261 11.95285873 12.37701382 12.18241684 11.98962938]\n"
     ]
    }
   ],
   "source": [
    "### https://scikit-learn.org/stable/modules/generated/sklearn.linear_model.Lasso.html#sklearn.linear_model.Lasso.score\n",
    "### Working with Lasso regression to attend to possible overfitting\n",
    "Lasso_model2 = Lasso(alpha=1.0) ##full penalty for the alpha in this go around\n",
    "# define model evaluation method\n",
    "cv = RepeatedKFold(n_splits=10, n_repeats=3, random_state=1)\n",
    "# evaluate model\n",
    "Lasso_scores2 = cross_val_score(Lasso_model, X_train_scaled, y_train, scoring='neg_mean_absolute_error', cv=cv, n_jobs=-1)\n",
    "# force scores to be positive\n",
    "Lasso_scores2 = absolute(Lasso_scores2)\n",
    "print(Lasso_scores2)\n",
    "### Looks like overfitting is not a big issue"
   ]
  },
  {
   "cell_type": "code",
   "execution_count": 101,
   "id": "89e75b97",
   "metadata": {},
   "outputs": [
    {
     "data": {
      "text/plain": [
       "Lasso()"
      ]
     },
     "execution_count": 101,
     "metadata": {},
     "output_type": "execute_result"
    }
   ],
   "source": [
    "Lasso_model2.fit(X_train_scaled, y_train)"
   ]
  },
  {
   "cell_type": "code",
   "execution_count": 102,
   "id": "244ef9e1",
   "metadata": {},
   "outputs": [],
   "source": [
    "# Use the model to make predictions about our test data\n",
    "y_pred_Lasso2 = Lasso_model2.predict(X_test_scaled)"
   ]
  },
  {
   "cell_type": "code",
   "execution_count": 103,
   "id": "90aab3a5",
   "metadata": {},
   "outputs": [
    {
     "name": "stdout",
     "output_type": "stream",
     "text": [
      "The Root Mean Squared Error: 15.63\n",
      "The Mean Absolute Error: 12.22\n",
      "Coefficient of determination: 0.7\n"
     ]
    }
   ],
   "source": [
    "###mean_squared_error, r2_score, mean_absolute_error. Yikes on the R2\n",
    "print('The Root Mean Squared Error:', round(np.sqrt(mean_squared_error(y_test,y_pred_Lasso2)), 2))\n",
    "print('The Mean Absolute Error:', round(mean_absolute_error(y_test,y_pred_Lasso2), 2))\n",
    "print('Coefficient of determination:', round(r2_score(y_test,y_pred_Lasso2), 2))"
   ]
  },
  {
   "cell_type": "markdown",
   "id": "f7e99fdd",
   "metadata": {},
   "source": [
    "### Decision Tree Regressor with Trimmed Features"
   ]
  },
  {
   "cell_type": "code",
   "execution_count": 104,
   "id": "76ef1965",
   "metadata": {},
   "outputs": [
    {
     "name": "stdout",
     "output_type": "stream",
     "text": [
      "[4.15099094 3.9764989  3.93468497 4.17353498 4.30643437 4.17084894\n",
      " 4.12646    3.96680665 3.90789819 3.87414678 3.97470673 3.95718604\n",
      " 4.15670675 4.12466153 4.02005412 4.05427299 4.24689167 4.13918344\n",
      " 3.91230787 3.98300623 4.11342724 4.11823297 4.10076073 4.24990245\n",
      " 3.95706655 3.93001571 4.06578706 4.15365085 3.80196716 4.13198946]\n"
     ]
    }
   ],
   "source": [
    "tree_reg2 = DecisionTreeRegressor(max_depth=5, random_state=42)\n",
    "\n",
    "cv = RepeatedKFold(n_splits=10, n_repeats=3, random_state=1)\n",
    "# evaluate model\n",
    "tree_scores2 = cross_val_score(tree_reg2, X_train_scaled, y_train, scoring='neg_mean_absolute_error', cv=cv, n_jobs=-1)\n",
    "# force scores to be positive\n",
    "tree_scores2 = absolute(tree_scores2)\n",
    "print(tree_scores2)\n",
    "### Looks like overfitting is not a big issue"
   ]
  },
  {
   "cell_type": "code",
   "execution_count": 105,
   "id": "65d34aa0",
   "metadata": {},
   "outputs": [
    {
     "data": {
      "text/plain": [
       "DecisionTreeRegressor(max_depth=5, random_state=42)"
      ]
     },
     "execution_count": 105,
     "metadata": {},
     "output_type": "execute_result"
    }
   ],
   "source": [
    "tree_reg2.fit(X_train_scaled, y_train)"
   ]
  },
  {
   "cell_type": "code",
   "execution_count": 106,
   "id": "c2b5207f",
   "metadata": {},
   "outputs": [],
   "source": [
    "y_pred_tree2 = tree_reg2.predict(X_test_scaled)"
   ]
  },
  {
   "cell_type": "code",
   "execution_count": 107,
   "id": "413fa88f",
   "metadata": {
    "scrolled": true
   },
   "outputs": [
    {
     "name": "stdout",
     "output_type": "stream",
     "text": [
      "The Root Mean Squared Error: 9.92\n",
      "The Mean Absolute Error: 4.25\n",
      "Coefficient of determination: 0.88\n"
     ]
    }
   ],
   "source": [
    "###mean_squared_error, r2_score, mean_absolute_error\n",
    "print('The Root Mean Squared Error:', round(np.sqrt(mean_squared_error(y_test,y_pred_tree2)), 2))\n",
    "print('The Mean Absolute Error:', round(mean_absolute_error(y_test,y_pred_tree2), 2))\n",
    "print('Coefficient of determination:', round(r2_score(y_test,y_pred_tree2), 2))"
   ]
  },
  {
   "cell_type": "markdown",
   "id": "e3e9e697",
   "metadata": {},
   "source": [
    "Calling Decision Tree Regression with max depth of 5 the winner based on RMSE and R2.  \n",
    "\n",
    "https://scikit-learn.org/stable/modules/generated/sklearn.tree.DecisionTreeRegressor.html"
   ]
  },
  {
   "cell_type": "code",
   "execution_count": 108,
   "id": "ab5130a6",
   "metadata": {},
   "outputs": [
    {
     "data": {
      "image/png": "[encoded data removed]",
      "text/plain": [
       "<Figure size 432x288 with 1 Axes>"
      ]
     },
     "metadata": {
      "needs_background": "light"
     },
     "output_type": "display_data"
    }
   ],
   "source": [
    "# Let's plot the predictions against the actual result. Ugly plot though based on tree-ness\n",
    "_ = plt.scatter(y_pred_tree2, y_test)\n",
    "_ = plt.xlabel('F_Ratio Predicted')\n",
    "_ = plt.ylabel('F_Ratio Acutal')\n",
    "_ = plt.title('Actual vs Predicted for Decision Tree Regression')\n",
    "plt.savefig('../figures/Actual vs Predicted for Decision Tree Regression')"
   ]
  },
  {
   "cell_type": "markdown",
   "id": "3ac6dea5",
   "metadata": {},
   "source": [
    "### Overall Trimmed\n",
    "Through RFE with Lasso, we were able to trim the factors to those of greatest importance and get a model that has decent R2 without overfitting."
   ]
  }
 ],
 "metadata": {
  "kernelspec": {
   "display_name": "Python 3 (ipykernel)",
   "language": "python",
   "name": "python3"
  },
  "language_info": {
   "codemirror_mode": {
    "name": "ipython",
    "version": 3
   },
   "file_extension": ".py",
   "mimetype": "text/x-python",
   "name": "python",
   "nbconvert_exporter": "python",
   "pygments_lexer": "ipython3",
   "version": "3.9.7"
  }
 },
 "nbformat": 4,
 "nbformat_minor": 5
}
