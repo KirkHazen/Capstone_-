{
 "cells": [
  {
   "cell_type": "markdown",
   "id": "f18ab214",
   "metadata": {},
   "source": [
    "# Table of Contents \n",
    "1. [Research questions](#id0)\n",
    "2. [Import Packages](#id1)\n",
    "3. [Load the data](#id2)\n",
    "4. [Test Train Split for Total](#id3)\n",
    "5. [Test Train Split for Rural](#id4)\n",
    "6. [Test Train Split for Urban](#id5)\n",
    "7. [Saving progress](#id6)"
   ]
  },
  {
   "cell_type": "markdown",
   "id": "65a581ff",
   "metadata": {},
   "source": [
    "# Preprocessing and Training Data Development for Capstone 2\n",
    "This notebook handles the preprocessing and development of the training data for the FARS dataset."
   ]
  },
  {
   "cell_type": "markdown",
   "id": "506fc19c",
   "metadata": {},
   "source": [
    "<a id=\"id0\"></a>"
   ]
  },
  {
   "cell_type": "markdown",
   "id": "16185b72",
   "metadata": {},
   "source": [
    "## Research questions\n",
    "\n",
    "In considering the transformation of rural areas into nonrural areas in the US, what factors most strongly predict fatal crashes in each context for the year under consideration and thereby what is predictable as this transformation continues? Will there be more fatal crashes if rural areas are transformed to urban areas? Do rural and urban areas have the same factors that correlate with fatalities.\n"
   ]
  },
  {
   "cell_type": "markdown",
   "id": "0d28e09b",
   "metadata": {},
   "source": [
    "<a id=\"id1\"></a>"
   ]
  },
  {
   "cell_type": "markdown",
   "id": "bcc1f066",
   "metadata": {},
   "source": [
    "## Import packages"
   ]
  },
  {
   "cell_type": "code",
   "execution_count": 33,
   "id": "d7aeca1e",
   "metadata": {},
   "outputs": [],
   "source": [
    "import pandas as pd\n",
    "import numpy as np\n",
    "import os\n",
    "import matplotlib.pyplot as plt\n",
    "import seaborn as sns\n",
    "from sklearn.decomposition import PCA\n",
    "from sklearn import preprocessing\n",
    "from sklearn.preprocessing import scale\n",
    "from sklearn.model_selection import train_test_split\n",
    "import ppscore as pps"
   ]
  },
  {
   "cell_type": "markdown",
   "id": "006e0286",
   "metadata": {},
   "source": [
    "<a id=\"id2\"></a>"
   ]
  },
  {
   "cell_type": "markdown",
   "id": "7e1e85f4",
   "metadata": {},
   "source": [
    "## Load the data"
   ]
  },
  {
   "cell_type": "code",
   "execution_count": 34,
   "id": "969aba1a",
   "metadata": {},
   "outputs": [],
   "source": [
    "#Import rural and urban datasets separately and also total; will test and train within each and within total.\n",
    "\n",
    "rural = pd.read_csv('../data/processed/new_rural.csv')\n",
    "urban = pd.read_csv('../data/processed/new_urban.csv')\n",
    "total = pd.read_csv('../data/processed/new_total.csv')"
   ]
  },
  {
   "cell_type": "code",
   "execution_count": 35,
   "id": "a4462a3a",
   "metadata": {},
   "outputs": [
    {
     "data": {
      "text/html": [
       "<div>\n",
       "<style scoped>\n",
       "    .dataframe tbody tr th:only-of-type {\n",
       "        vertical-align: middle;\n",
       "    }\n",
       "\n",
       "    .dataframe tbody tr th {\n",
       "        vertical-align: top;\n",
       "    }\n",
       "\n",
       "    .dataframe thead th {\n",
       "        text-align: right;\n",
       "    }\n",
       "</style>\n",
       "<table border=\"1\" class=\"dataframe\">\n",
       "  <thead>\n",
       "    <tr style=\"text-align: right;\">\n",
       "      <th></th>\n",
       "      <th>Unnamed: 0</th>\n",
       "      <th>Unnamed: 0.1</th>\n",
       "      <th>STATE</th>\n",
       "      <th>STATENAME</th>\n",
       "      <th>ST_CASE</th>\n",
       "      <th>VE_TOTAL</th>\n",
       "      <th>VE_FORMS</th>\n",
       "      <th>PVH_INVL</th>\n",
       "      <th>PEDS</th>\n",
       "      <th>PERSONS</th>\n",
       "      <th>...</th>\n",
       "      <th>FATALS</th>\n",
       "      <th>DRUNK_DR</th>\n",
       "      <th>F_RATIO</th>\n",
       "      <th>REGION</th>\n",
       "      <th>WEEK_END</th>\n",
       "      <th>DAY_NIGHT</th>\n",
       "      <th>DN_Avg</th>\n",
       "      <th>WEEK_END_Avg</th>\n",
       "      <th>State_Avg</th>\n",
       "      <th>Day_Avg</th>\n",
       "    </tr>\n",
       "  </thead>\n",
       "  <tbody>\n",
       "    <tr>\n",
       "      <th>0</th>\n",
       "      <td>2</td>\n",
       "      <td>2</td>\n",
       "      <td>1</td>\n",
       "      <td>Alabama</td>\n",
       "      <td>10003</td>\n",
       "      <td>3</td>\n",
       "      <td>3</td>\n",
       "      <td>0</td>\n",
       "      <td>0</td>\n",
       "      <td>4</td>\n",
       "      <td>...</td>\n",
       "      <td>1</td>\n",
       "      <td>0</td>\n",
       "      <td>25.0</td>\n",
       "      <td>South</td>\n",
       "      <td>Weekday</td>\n",
       "      <td>Night_Time</td>\n",
       "      <td>1.085287</td>\n",
       "      <td>1.078926</td>\n",
       "      <td>1.086449</td>\n",
       "      <td>1.079063</td>\n",
       "    </tr>\n",
       "    <tr>\n",
       "      <th>1</th>\n",
       "      <td>3</td>\n",
       "      <td>3</td>\n",
       "      <td>1</td>\n",
       "      <td>Alabama</td>\n",
       "      <td>10004</td>\n",
       "      <td>1</td>\n",
       "      <td>1</td>\n",
       "      <td>0</td>\n",
       "      <td>1</td>\n",
       "      <td>1</td>\n",
       "      <td>...</td>\n",
       "      <td>1</td>\n",
       "      <td>0</td>\n",
       "      <td>50.0</td>\n",
       "      <td>South</td>\n",
       "      <td>Weekday</td>\n",
       "      <td>Day_Time</td>\n",
       "      <td>1.086942</td>\n",
       "      <td>1.078926</td>\n",
       "      <td>1.086449</td>\n",
       "      <td>1.079063</td>\n",
       "    </tr>\n",
       "    <tr>\n",
       "      <th>2</th>\n",
       "      <td>5</td>\n",
       "      <td>5</td>\n",
       "      <td>1</td>\n",
       "      <td>Alabama</td>\n",
       "      <td>10006</td>\n",
       "      <td>2</td>\n",
       "      <td>2</td>\n",
       "      <td>0</td>\n",
       "      <td>0</td>\n",
       "      <td>2</td>\n",
       "      <td>...</td>\n",
       "      <td>1</td>\n",
       "      <td>0</td>\n",
       "      <td>50.0</td>\n",
       "      <td>South</td>\n",
       "      <td>Weekday</td>\n",
       "      <td>Night_Time</td>\n",
       "      <td>1.085287</td>\n",
       "      <td>1.078926</td>\n",
       "      <td>1.086449</td>\n",
       "      <td>1.073489</td>\n",
       "    </tr>\n",
       "    <tr>\n",
       "      <th>3</th>\n",
       "      <td>6</td>\n",
       "      <td>6</td>\n",
       "      <td>1</td>\n",
       "      <td>Alabama</td>\n",
       "      <td>10007</td>\n",
       "      <td>1</td>\n",
       "      <td>1</td>\n",
       "      <td>0</td>\n",
       "      <td>0</td>\n",
       "      <td>5</td>\n",
       "      <td>...</td>\n",
       "      <td>1</td>\n",
       "      <td>0</td>\n",
       "      <td>20.0</td>\n",
       "      <td>South</td>\n",
       "      <td>Weekday</td>\n",
       "      <td>Night_Time</td>\n",
       "      <td>1.085287</td>\n",
       "      <td>1.078926</td>\n",
       "      <td>1.086449</td>\n",
       "      <td>1.082433</td>\n",
       "    </tr>\n",
       "    <tr>\n",
       "      <th>4</th>\n",
       "      <td>7</td>\n",
       "      <td>7</td>\n",
       "      <td>1</td>\n",
       "      <td>Alabama</td>\n",
       "      <td>10008</td>\n",
       "      <td>1</td>\n",
       "      <td>1</td>\n",
       "      <td>0</td>\n",
       "      <td>0</td>\n",
       "      <td>1</td>\n",
       "      <td>...</td>\n",
       "      <td>1</td>\n",
       "      <td>1</td>\n",
       "      <td>100.0</td>\n",
       "      <td>South</td>\n",
       "      <td>Weekend</td>\n",
       "      <td>Night_Time</td>\n",
       "      <td>1.085287</td>\n",
       "      <td>1.100046</td>\n",
       "      <td>1.086449</td>\n",
       "      <td>1.099610</td>\n",
       "    </tr>\n",
       "  </tbody>\n",
       "</table>\n",
       "<p>5 rows × 32 columns</p>\n",
       "</div>"
      ],
      "text/plain": [
       "   Unnamed: 0  Unnamed: 0.1  STATE STATENAME  ST_CASE  VE_TOTAL  VE_FORMS  \\\n",
       "0           2             2      1   Alabama    10003         3         3   \n",
       "1           3             3      1   Alabama    10004         1         1   \n",
       "2           5             5      1   Alabama    10006         2         2   \n",
       "3           6             6      1   Alabama    10007         1         1   \n",
       "4           7             7      1   Alabama    10008         1         1   \n",
       "\n",
       "   PVH_INVL  PEDS  PERSONS  ...  FATALS  DRUNK_DR  F_RATIO REGION WEEK_END  \\\n",
       "0         0     0        4  ...       1         0     25.0  South  Weekday   \n",
       "1         0     1        1  ...       1         0     50.0  South  Weekday   \n",
       "2         0     0        2  ...       1         0     50.0  South  Weekday   \n",
       "3         0     0        5  ...       1         0     20.0  South  Weekday   \n",
       "4         0     0        1  ...       1         1    100.0  South  Weekend   \n",
       "\n",
       "    DAY_NIGHT    DN_Avg WEEK_END_Avg State_Avg   Day_Avg  \n",
       "0  Night_Time  1.085287     1.078926  1.086449  1.079063  \n",
       "1    Day_Time  1.086942     1.078926  1.086449  1.079063  \n",
       "2  Night_Time  1.085287     1.078926  1.086449  1.073489  \n",
       "3  Night_Time  1.085287     1.078926  1.086449  1.082433  \n",
       "4  Night_Time  1.085287     1.100046  1.086449  1.099610  \n",
       "\n",
       "[5 rows x 32 columns]"
      ]
     },
     "execution_count": 35,
     "metadata": {},
     "output_type": "execute_result"
    }
   ],
   "source": [
    "rural.head(5)"
   ]
  },
  {
   "cell_type": "code",
   "execution_count": 36,
   "id": "7ed274ee",
   "metadata": {},
   "outputs": [
    {
     "data": {
      "text/html": [
       "<div>\n",
       "<style scoped>\n",
       "    .dataframe tbody tr th:only-of-type {\n",
       "        vertical-align: middle;\n",
       "    }\n",
       "\n",
       "    .dataframe tbody tr th {\n",
       "        vertical-align: top;\n",
       "    }\n",
       "\n",
       "    .dataframe thead th {\n",
       "        text-align: right;\n",
       "    }\n",
       "</style>\n",
       "<table border=\"1\" class=\"dataframe\">\n",
       "  <thead>\n",
       "    <tr style=\"text-align: right;\">\n",
       "      <th></th>\n",
       "      <th>Unnamed: 0</th>\n",
       "      <th>Unnamed: 0.1</th>\n",
       "      <th>STATE</th>\n",
       "      <th>STATENAME</th>\n",
       "      <th>ST_CASE</th>\n",
       "      <th>VE_TOTAL</th>\n",
       "      <th>VE_FORMS</th>\n",
       "      <th>PVH_INVL</th>\n",
       "      <th>PEDS</th>\n",
       "      <th>PERSONS</th>\n",
       "      <th>...</th>\n",
       "      <th>FATALS</th>\n",
       "      <th>DRUNK_DR</th>\n",
       "      <th>F_RATIO</th>\n",
       "      <th>REGION</th>\n",
       "      <th>WEEK_END</th>\n",
       "      <th>DAY_NIGHT</th>\n",
       "      <th>DN_Avg</th>\n",
       "      <th>WEEK_END_Avg</th>\n",
       "      <th>State_Avg</th>\n",
       "      <th>Day_Avg</th>\n",
       "    </tr>\n",
       "  </thead>\n",
       "  <tbody>\n",
       "    <tr>\n",
       "      <th>0</th>\n",
       "      <td>0</td>\n",
       "      <td>0</td>\n",
       "      <td>1</td>\n",
       "      <td>Alabama</td>\n",
       "      <td>10001</td>\n",
       "      <td>2</td>\n",
       "      <td>2</td>\n",
       "      <td>0</td>\n",
       "      <td>0</td>\n",
       "      <td>3</td>\n",
       "      <td>...</td>\n",
       "      <td>1</td>\n",
       "      <td>1</td>\n",
       "      <td>33.33</td>\n",
       "      <td>South</td>\n",
       "      <td>Weekday</td>\n",
       "      <td>Night_Time</td>\n",
       "      <td>1.085287</td>\n",
       "      <td>1.078926</td>\n",
       "      <td>1.086449</td>\n",
       "      <td>1.073477</td>\n",
       "    </tr>\n",
       "    <tr>\n",
       "      <th>1</th>\n",
       "      <td>1</td>\n",
       "      <td>1</td>\n",
       "      <td>1</td>\n",
       "      <td>Alabama</td>\n",
       "      <td>10002</td>\n",
       "      <td>2</td>\n",
       "      <td>2</td>\n",
       "      <td>0</td>\n",
       "      <td>0</td>\n",
       "      <td>2</td>\n",
       "      <td>...</td>\n",
       "      <td>1</td>\n",
       "      <td>0</td>\n",
       "      <td>50.00</td>\n",
       "      <td>South</td>\n",
       "      <td>Weekday</td>\n",
       "      <td>Night_Time</td>\n",
       "      <td>1.085287</td>\n",
       "      <td>1.078926</td>\n",
       "      <td>1.086449</td>\n",
       "      <td>1.082433</td>\n",
       "    </tr>\n",
       "    <tr>\n",
       "      <th>2</th>\n",
       "      <td>4</td>\n",
       "      <td>4</td>\n",
       "      <td>1</td>\n",
       "      <td>Alabama</td>\n",
       "      <td>10005</td>\n",
       "      <td>1</td>\n",
       "      <td>1</td>\n",
       "      <td>0</td>\n",
       "      <td>0</td>\n",
       "      <td>1</td>\n",
       "      <td>...</td>\n",
       "      <td>1</td>\n",
       "      <td>1</td>\n",
       "      <td>100.00</td>\n",
       "      <td>South</td>\n",
       "      <td>Weekday</td>\n",
       "      <td>Day_Time</td>\n",
       "      <td>1.086942</td>\n",
       "      <td>1.078926</td>\n",
       "      <td>1.086449</td>\n",
       "      <td>1.085082</td>\n",
       "    </tr>\n",
       "    <tr>\n",
       "      <th>3</th>\n",
       "      <td>8</td>\n",
       "      <td>8</td>\n",
       "      <td>1</td>\n",
       "      <td>Alabama</td>\n",
       "      <td>10009</td>\n",
       "      <td>1</td>\n",
       "      <td>1</td>\n",
       "      <td>0</td>\n",
       "      <td>0</td>\n",
       "      <td>1</td>\n",
       "      <td>...</td>\n",
       "      <td>1</td>\n",
       "      <td>0</td>\n",
       "      <td>100.00</td>\n",
       "      <td>South</td>\n",
       "      <td>Weekday</td>\n",
       "      <td>Day_Time</td>\n",
       "      <td>1.086942</td>\n",
       "      <td>1.078926</td>\n",
       "      <td>1.086449</td>\n",
       "      <td>1.085082</td>\n",
       "    </tr>\n",
       "    <tr>\n",
       "      <th>4</th>\n",
       "      <td>9</td>\n",
       "      <td>9</td>\n",
       "      <td>1</td>\n",
       "      <td>Alabama</td>\n",
       "      <td>10010</td>\n",
       "      <td>1</td>\n",
       "      <td>1</td>\n",
       "      <td>0</td>\n",
       "      <td>1</td>\n",
       "      <td>1</td>\n",
       "      <td>...</td>\n",
       "      <td>1</td>\n",
       "      <td>0</td>\n",
       "      <td>50.00</td>\n",
       "      <td>South</td>\n",
       "      <td>Weekday</td>\n",
       "      <td>Day_Time</td>\n",
       "      <td>1.086942</td>\n",
       "      <td>1.078926</td>\n",
       "      <td>1.086449</td>\n",
       "      <td>1.073477</td>\n",
       "    </tr>\n",
       "  </tbody>\n",
       "</table>\n",
       "<p>5 rows × 32 columns</p>\n",
       "</div>"
      ],
      "text/plain": [
       "   Unnamed: 0  Unnamed: 0.1  STATE STATENAME  ST_CASE  VE_TOTAL  VE_FORMS  \\\n",
       "0           0             0      1   Alabama    10001         2         2   \n",
       "1           1             1      1   Alabama    10002         2         2   \n",
       "2           4             4      1   Alabama    10005         1         1   \n",
       "3           8             8      1   Alabama    10009         1         1   \n",
       "4           9             9      1   Alabama    10010         1         1   \n",
       "\n",
       "   PVH_INVL  PEDS  PERSONS  ...  FATALS  DRUNK_DR  F_RATIO REGION WEEK_END  \\\n",
       "0         0     0        3  ...       1         1    33.33  South  Weekday   \n",
       "1         0     0        2  ...       1         0    50.00  South  Weekday   \n",
       "2         0     0        1  ...       1         1   100.00  South  Weekday   \n",
       "3         0     0        1  ...       1         0   100.00  South  Weekday   \n",
       "4         0     1        1  ...       1         0    50.00  South  Weekday   \n",
       "\n",
       "    DAY_NIGHT    DN_Avg WEEK_END_Avg State_Avg   Day_Avg  \n",
       "0  Night_Time  1.085287     1.078926  1.086449  1.073477  \n",
       "1  Night_Time  1.085287     1.078926  1.086449  1.082433  \n",
       "2    Day_Time  1.086942     1.078926  1.086449  1.085082  \n",
       "3    Day_Time  1.086942     1.078926  1.086449  1.085082  \n",
       "4    Day_Time  1.086942     1.078926  1.086449  1.073477  \n",
       "\n",
       "[5 rows x 32 columns]"
      ]
     },
     "execution_count": 36,
     "metadata": {},
     "output_type": "execute_result"
    }
   ],
   "source": [
    "urban.head(5)"
   ]
  },
  {
   "cell_type": "code",
   "execution_count": 37,
   "id": "431edb4a",
   "metadata": {},
   "outputs": [
    {
     "data": {
      "text/html": [
       "<div>\n",
       "<style scoped>\n",
       "    .dataframe tbody tr th:only-of-type {\n",
       "        vertical-align: middle;\n",
       "    }\n",
       "\n",
       "    .dataframe tbody tr th {\n",
       "        vertical-align: top;\n",
       "    }\n",
       "\n",
       "    .dataframe thead th {\n",
       "        text-align: right;\n",
       "    }\n",
       "</style>\n",
       "<table border=\"1\" class=\"dataframe\">\n",
       "  <thead>\n",
       "    <tr style=\"text-align: right;\">\n",
       "      <th></th>\n",
       "      <th>Unnamed: 0</th>\n",
       "      <th>Unnamed: 0.1</th>\n",
       "      <th>STATE</th>\n",
       "      <th>STATENAME</th>\n",
       "      <th>ST_CASE</th>\n",
       "      <th>VE_TOTAL</th>\n",
       "      <th>VE_FORMS</th>\n",
       "      <th>PVH_INVL</th>\n",
       "      <th>PEDS</th>\n",
       "      <th>PERSONS</th>\n",
       "      <th>...</th>\n",
       "      <th>FATALS</th>\n",
       "      <th>DRUNK_DR</th>\n",
       "      <th>F_RATIO</th>\n",
       "      <th>REGION</th>\n",
       "      <th>WEEK_END</th>\n",
       "      <th>DAY_NIGHT</th>\n",
       "      <th>DN_Avg</th>\n",
       "      <th>WEEK_END_Avg</th>\n",
       "      <th>State_Avg</th>\n",
       "      <th>Day_Avg</th>\n",
       "    </tr>\n",
       "  </thead>\n",
       "  <tbody>\n",
       "    <tr>\n",
       "      <th>0</th>\n",
       "      <td>0</td>\n",
       "      <td>0</td>\n",
       "      <td>1</td>\n",
       "      <td>Alabama</td>\n",
       "      <td>10001</td>\n",
       "      <td>2</td>\n",
       "      <td>2</td>\n",
       "      <td>0</td>\n",
       "      <td>0</td>\n",
       "      <td>3</td>\n",
       "      <td>...</td>\n",
       "      <td>1</td>\n",
       "      <td>1</td>\n",
       "      <td>33.33</td>\n",
       "      <td>South</td>\n",
       "      <td>Weekday</td>\n",
       "      <td>Night_Time</td>\n",
       "      <td>1.085287</td>\n",
       "      <td>1.078926</td>\n",
       "      <td>1.086449</td>\n",
       "      <td>1.073477</td>\n",
       "    </tr>\n",
       "    <tr>\n",
       "      <th>1</th>\n",
       "      <td>1</td>\n",
       "      <td>1</td>\n",
       "      <td>1</td>\n",
       "      <td>Alabama</td>\n",
       "      <td>10002</td>\n",
       "      <td>2</td>\n",
       "      <td>2</td>\n",
       "      <td>0</td>\n",
       "      <td>0</td>\n",
       "      <td>2</td>\n",
       "      <td>...</td>\n",
       "      <td>1</td>\n",
       "      <td>0</td>\n",
       "      <td>50.00</td>\n",
       "      <td>South</td>\n",
       "      <td>Weekday</td>\n",
       "      <td>Night_Time</td>\n",
       "      <td>1.085287</td>\n",
       "      <td>1.078926</td>\n",
       "      <td>1.086449</td>\n",
       "      <td>1.082433</td>\n",
       "    </tr>\n",
       "    <tr>\n",
       "      <th>2</th>\n",
       "      <td>2</td>\n",
       "      <td>2</td>\n",
       "      <td>1</td>\n",
       "      <td>Alabama</td>\n",
       "      <td>10003</td>\n",
       "      <td>3</td>\n",
       "      <td>3</td>\n",
       "      <td>0</td>\n",
       "      <td>0</td>\n",
       "      <td>4</td>\n",
       "      <td>...</td>\n",
       "      <td>1</td>\n",
       "      <td>0</td>\n",
       "      <td>25.00</td>\n",
       "      <td>South</td>\n",
       "      <td>Weekday</td>\n",
       "      <td>Night_Time</td>\n",
       "      <td>1.085287</td>\n",
       "      <td>1.078926</td>\n",
       "      <td>1.086449</td>\n",
       "      <td>1.079063</td>\n",
       "    </tr>\n",
       "    <tr>\n",
       "      <th>3</th>\n",
       "      <td>3</td>\n",
       "      <td>3</td>\n",
       "      <td>1</td>\n",
       "      <td>Alabama</td>\n",
       "      <td>10004</td>\n",
       "      <td>1</td>\n",
       "      <td>1</td>\n",
       "      <td>0</td>\n",
       "      <td>1</td>\n",
       "      <td>1</td>\n",
       "      <td>...</td>\n",
       "      <td>1</td>\n",
       "      <td>0</td>\n",
       "      <td>50.00</td>\n",
       "      <td>South</td>\n",
       "      <td>Weekday</td>\n",
       "      <td>Day_Time</td>\n",
       "      <td>1.086942</td>\n",
       "      <td>1.078926</td>\n",
       "      <td>1.086449</td>\n",
       "      <td>1.079063</td>\n",
       "    </tr>\n",
       "    <tr>\n",
       "      <th>4</th>\n",
       "      <td>4</td>\n",
       "      <td>4</td>\n",
       "      <td>1</td>\n",
       "      <td>Alabama</td>\n",
       "      <td>10005</td>\n",
       "      <td>1</td>\n",
       "      <td>1</td>\n",
       "      <td>0</td>\n",
       "      <td>0</td>\n",
       "      <td>1</td>\n",
       "      <td>...</td>\n",
       "      <td>1</td>\n",
       "      <td>1</td>\n",
       "      <td>100.00</td>\n",
       "      <td>South</td>\n",
       "      <td>Weekday</td>\n",
       "      <td>Day_Time</td>\n",
       "      <td>1.086942</td>\n",
       "      <td>1.078926</td>\n",
       "      <td>1.086449</td>\n",
       "      <td>1.085082</td>\n",
       "    </tr>\n",
       "  </tbody>\n",
       "</table>\n",
       "<p>5 rows × 32 columns</p>\n",
       "</div>"
      ],
      "text/plain": [
       "   Unnamed: 0  Unnamed: 0.1  STATE STATENAME  ST_CASE  VE_TOTAL  VE_FORMS  \\\n",
       "0           0             0      1   Alabama    10001         2         2   \n",
       "1           1             1      1   Alabama    10002         2         2   \n",
       "2           2             2      1   Alabama    10003         3         3   \n",
       "3           3             3      1   Alabama    10004         1         1   \n",
       "4           4             4      1   Alabama    10005         1         1   \n",
       "\n",
       "   PVH_INVL  PEDS  PERSONS  ...  FATALS  DRUNK_DR  F_RATIO REGION WEEK_END  \\\n",
       "0         0     0        3  ...       1         1    33.33  South  Weekday   \n",
       "1         0     0        2  ...       1         0    50.00  South  Weekday   \n",
       "2         0     0        4  ...       1         0    25.00  South  Weekday   \n",
       "3         0     1        1  ...       1         0    50.00  South  Weekday   \n",
       "4         0     0        1  ...       1         1   100.00  South  Weekday   \n",
       "\n",
       "    DAY_NIGHT    DN_Avg WEEK_END_Avg State_Avg   Day_Avg  \n",
       "0  Night_Time  1.085287     1.078926  1.086449  1.073477  \n",
       "1  Night_Time  1.085287     1.078926  1.086449  1.082433  \n",
       "2  Night_Time  1.085287     1.078926  1.086449  1.079063  \n",
       "3    Day_Time  1.086942     1.078926  1.086449  1.079063  \n",
       "4    Day_Time  1.086942     1.078926  1.086449  1.085082  \n",
       "\n",
       "[5 rows x 32 columns]"
      ]
     },
     "execution_count": 37,
     "metadata": {},
     "output_type": "execute_result"
    }
   ],
   "source": [
    "total.head(5)"
   ]
  },
  {
   "cell_type": "code",
   "execution_count": 38,
   "id": "796e6b1b",
   "metadata": {},
   "outputs": [
    {
     "name": "stdout",
     "output_type": "stream",
     "text": [
      "rural shape is (14615, 32) urban shape is (18734, 32) total shape is (33457, 32)\n"
     ]
    }
   ],
   "source": [
    "print(\"rural shape is\", rural.shape, 'urban shape is', urban.shape, 'total shape is', total.shape)"
   ]
  },
  {
   "cell_type": "markdown",
   "id": "821d268e",
   "metadata": {},
   "source": [
    "<a id=\"id3\"></a>"
   ]
  },
  {
   "cell_type": "markdown",
   "id": "127ac06b",
   "metadata": {},
   "source": [
    "## Test train split for Total\n"
   ]
  },
  {
   "cell_type": "code",
   "execution_count": 39,
   "id": "18d75ea2",
   "metadata": {},
   "outputs": [
    {
     "data": {
      "text/plain": [
       "Index(['Unnamed: 0', 'Unnamed: 0.1', 'STATE', 'ST_CASE', 'VE_TOTAL',\n",
       "       'VE_FORMS', 'PVH_INVL', 'PEDS', 'PERSONS', 'DAY',\n",
       "       ...\n",
       "       'WEATHERNAME_Sleet or Hail', 'WEATHERNAME_Snow', 'REGION_Midwest',\n",
       "       'REGION_Northeast', 'REGION_South', 'REGION_West', 'WEEK_END_Weekday',\n",
       "       'WEEK_END_Weekend', 'DAY_NIGHT_Day_Time', 'DAY_NIGHT_Night_Time'],\n",
       "      dtype='object', length=205)"
      ]
     },
     "execution_count": 39,
     "metadata": {},
     "output_type": "execute_result"
    }
   ],
   "source": [
    "### Sorting out the categorical variables\n",
    "dfo = total.select_dtypes(include=['object']) # select object type columns\n",
    "total_ready = pd.concat([total.drop(dfo, axis=1), pd.get_dummies(dfo)], axis=1) ### concatenating the dummy filled columns\n",
    "total_ready.columns"
   ]
  },
  {
   "cell_type": "code",
   "execution_count": 40,
   "id": "b22eee79",
   "metadata": {},
   "outputs": [
    {
     "data": {
      "text/plain": [
       "Index(['Unnamed: 0', 'Unnamed: 0.1', 'STATE', 'ST_CASE', 'VE_TOTAL',\n",
       "       'VE_FORMS', 'PVH_INVL', 'PEDS', 'PERSONS', 'DAY',\n",
       "       ...\n",
       "       'WEATHERNAME_Sleet or Hail', 'WEATHERNAME_Snow', 'REGION_Midwest',\n",
       "       'REGION_Northeast', 'REGION_South', 'REGION_West', 'WEEK_END_Weekday',\n",
       "       'WEEK_END_Weekend', 'DAY_NIGHT_Day_Time', 'DAY_NIGHT_Night_Time'],\n",
       "      dtype='object', length=198)"
      ]
     },
     "execution_count": 40,
     "metadata": {},
     "output_type": "execute_result"
    }
   ],
   "source": [
    "### Sorting out the categorical variables for rural\n",
    "dfo = rural.select_dtypes(include=['object']) # select object type columns\n",
    "rural_ready = pd.concat([rural.drop(dfo, axis=1), pd.get_dummies(dfo)], axis=1) ### concatenating the dummy filled columns\n",
    "rural_ready.columns"
   ]
  },
  {
   "cell_type": "code",
   "execution_count": 41,
   "id": "dd7adb02",
   "metadata": {},
   "outputs": [
    {
     "data": {
      "text/plain": [
       "Index(['Unnamed: 0', 'Unnamed: 0.1', 'STATE', 'ST_CASE', 'VE_TOTAL',\n",
       "       'VE_FORMS', 'PVH_INVL', 'PEDS', 'PERSONS', 'DAY',\n",
       "       ...\n",
       "       'WEATHERNAME_Sleet or Hail', 'WEATHERNAME_Snow', 'REGION_Midwest',\n",
       "       'REGION_Northeast', 'REGION_South', 'REGION_West', 'WEEK_END_Weekday',\n",
       "       'WEEK_END_Weekend', 'DAY_NIGHT_Day_Time', 'DAY_NIGHT_Night_Time'],\n",
       "      dtype='object', length=199)"
      ]
     },
     "execution_count": 41,
     "metadata": {},
     "output_type": "execute_result"
    }
   ],
   "source": [
    "### Sorting out the categorical variables for rural\n",
    "dfo = urban.select_dtypes(include=['object']) # select object type columns\n",
    "urban_ready = pd.concat([urban.drop(dfo, axis=1), pd.get_dummies(dfo)], axis=1) ### concatenating the dummy filled columns\n",
    "urban_ready.columns"
   ]
  },
  {
   "cell_type": "code",
   "execution_count": 42,
   "id": "4785d52d",
   "metadata": {},
   "outputs": [],
   "source": [
    "### Test Train Split for total\n",
    "X = total_ready.loc[:, total_ready.columns!='F_RATIO']\n",
    "y = total_ready.F_RATIO\n",
    "\n",
    "X_train, X_test, y_train, y_test = train_test_split(X, y, test_size=.3, random_state=42)"
   ]
  },
  {
   "cell_type": "code",
   "execution_count": 43,
   "id": "f1dd4312",
   "metadata": {},
   "outputs": [],
   "source": [
    "# For Total, build scaler based on training data and apply it to test data to then also scale the test data\n",
    "scaler = preprocessing.StandardScaler().fit(X_train)\n",
    "X_train_scaled=scaler.transform(X_train)\n",
    "X_test_scaled=scaler.transform(X_test)"
   ]
  },
  {
   "cell_type": "code",
   "execution_count": 44,
   "id": "9d8a2444",
   "metadata": {},
   "outputs": [
    {
     "name": "stdout",
     "output_type": "stream",
     "text": [
      "Total accident training data (23419, 204) Total accident test data (10038, 204) \n",
      " total fatality training data (23419,) total fatality testing data (10038,)\n"
     ]
    }
   ],
   "source": [
    "# For Total, We now want to check the shape of the X train, y_train, X_test and y_test to make sure the proportions are right. \n",
    "print('Total accident training data', X_train_scaled.shape, 'Total accident test data', X_test_scaled.shape, \"\\n\", 'total fatality training data', y_train.shape, 'total fatality testing data', y_test.shape)"
   ]
  },
  {
   "cell_type": "markdown",
   "id": "a7175336",
   "metadata": {},
   "source": [
    "<a id=\"id4\"></a>"
   ]
  },
  {
   "cell_type": "markdown",
   "id": "220041a8",
   "metadata": {},
   "source": [
    "## Test train split for rural\n"
   ]
  },
  {
   "cell_type": "code",
   "execution_count": 45,
   "id": "8b70afcb",
   "metadata": {},
   "outputs": [],
   "source": [
    "### Test Train Split for Rural\n",
    "X_R = rural_ready.loc[:, rural_ready.columns!='F_RATIO']\n",
    "y_R = rural_ready.F_RATIO\n",
    "\n",
    "X_train_R, X_test_R, y_train_R, y_test_R = train_test_split(X_R, y_R, test_size=.3, random_state=42)"
   ]
  },
  {
   "cell_type": "code",
   "execution_count": 46,
   "id": "876921c6",
   "metadata": {},
   "outputs": [],
   "source": [
    "# For Rural, build scaler based on training data and apply it to test data to then also scale the test data\n",
    "scaler = preprocessing.StandardScaler().fit(X_train_R)\n",
    "X_train_R_scaled=scaler.transform(X_train_R)\n",
    "X_test_R_scaled=scaler.transform(X_test_R)"
   ]
  },
  {
   "cell_type": "code",
   "execution_count": 47,
   "id": "93cded23",
   "metadata": {
    "scrolled": true
   },
   "outputs": [
    {
     "name": "stdout",
     "output_type": "stream",
     "text": [
      "Rural accident training data (10230, 197) Rural accident test data (4385, 197) \n",
      " Rural fatality training data (10230,) Rural fatality testing data (4385,)\n"
     ]
    }
   ],
   "source": [
    "# For Rural, We now want to check the shape of the X train, y_train, X_test and y_test to make sure the proportions are right. \n",
    "print('Rural accident training data', X_train_R_scaled.shape, 'Rural accident test data', X_test_R_scaled.shape, \"\\n\", 'Rural fatality training data', y_train_R.shape, 'Rural fatality testing data', y_test_R.shape)\n",
    "\n"
   ]
  },
  {
   "cell_type": "markdown",
   "id": "795fdd2d",
   "metadata": {},
   "source": [
    "<a id=\"id5\"></a>"
   ]
  },
  {
   "cell_type": "markdown",
   "id": "9ca6fcb2",
   "metadata": {},
   "source": [
    "## Test train split for urban\n"
   ]
  },
  {
   "cell_type": "code",
   "execution_count": 48,
   "id": "8ff3d160",
   "metadata": {},
   "outputs": [],
   "source": [
    "### Test Train Split for Rural\n",
    "X_U = urban_ready.loc[:, urban_ready.columns!='Rural']\n",
    "y_U = urban_ready.F_RATIO\n",
    "\n",
    "X_train_U, X_test_U, y_train_U, y_test_U = train_test_split(X_U, y_U, test_size=.3, random_state=42)"
   ]
  },
  {
   "cell_type": "code",
   "execution_count": 49,
   "id": "faec62d0",
   "metadata": {},
   "outputs": [],
   "source": [
    "# For Rural, build scaler based on training data and apply it to test data to then also scale the test data\n",
    "scaler = preprocessing.StandardScaler().fit(X_train_U)\n",
    "X_train_U_scaled=scaler.transform(X_train_U)\n",
    "X_test_U_scaled=scaler.transform(X_test_U)"
   ]
  },
  {
   "cell_type": "code",
   "execution_count": 50,
   "id": "435d51a2",
   "metadata": {
    "scrolled": true
   },
   "outputs": [
    {
     "name": "stdout",
     "output_type": "stream",
     "text": [
      "Urban accident training data (13113, 199) Urban accident test data (5621, 199) \n",
      " Urban fatality training data (13113,) Urban fatality testing data (5621,)\n"
     ]
    }
   ],
   "source": [
    "# For Rural, We now want to check the shape of the X train, y_train, X_test and y_test to make sure the proportions are right. \n",
    "print('Urban accident training data', X_train_U_scaled.shape, 'Urban accident test data', X_test_U_scaled.shape, \"\\n\", 'Urban fatality training data', y_train_U.shape, 'Urban fatality testing data', y_test_U.shape)\n",
    "\n"
   ]
  },
  {
   "cell_type": "markdown",
   "id": "af6dddd4",
   "metadata": {},
   "source": [
    "Data for each dataset is test/train split and then scaled to avoid data leakage."
   ]
  }
 ],
 "metadata": {
  "kernelspec": {
   "display_name": "Python 3 (ipykernel)",
   "language": "python",
   "name": "python3"
  },
  "language_info": {
   "codemirror_mode": {
    "name": "ipython",
    "version": 3
   },
   "file_extension": ".py",
   "mimetype": "text/x-python",
   "name": "python",
   "nbconvert_exporter": "python",
   "pygments_lexer": "ipython3",
   "version": "3.9.7"
  }
 },
 "nbformat": 4,
 "nbformat_minor": 5
}
