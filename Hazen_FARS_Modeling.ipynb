{
 "cells": [
  {
   "cell_type": "markdown",
   "id": "65a581ff",
   "metadata": {},
   "source": [
    "# Modeling for Capstone 2\n",
    "This notebook deploys several models to assess the FARS dataset."
   ]
  },
  {
   "cell_type": "markdown",
   "id": "5c846b4a",
   "metadata": {},
   "source": [
    "# Table of Contents \n",
    "1. [Research Questions](#id0)\n",
    "2. [Import Packages](#id1)\n",
    "3. [Load the Data](#id2)\n",
    "4. [Test Train Split for Total](#id3)\n",
    "5. [Model Evaluation](#id4)\n",
    "6. [Linear Regression](#id5)\n",
    "7. [Ordinary Least Squares](#id6)\n",
    "8. [Decision Tree Regressor](#id7)\n",
    "9. [Lasso Regression](#id8)\n",
    "10. [Recursive Feature Elimination](#id9)\n",
    "11. [Recursive Feature Elimination (RFE)](#id10)\n",
    "12. [Dataset Trimming](#id11)\n",
    "13. [Linear Regression with Trimmed Features](#id12)\n",
    "14. [Lasso with Cross-fold Validation with Trimmed Features](#id13)\n",
    "14. [Decision Tree Regressor with Trimmed Features](#id14)\n",
    "15. [Overall Trimmed](#id15)\n"
   ]
  },
  {
   "cell_type": "markdown",
   "id": "8feeba2f",
   "metadata": {},
   "source": [
    "<a id=\"id0\"></a>"
   ]
  },
  {
   "cell_type": "markdown",
   "id": "16185b72",
   "metadata": {},
   "source": [
    "## Research Questions\n",
    "\n",
    "In considering the transformation of rural areas into nonrural areas in the US, what factors most strongly predict fatal crashes in each context for the year under consideration and thereby what is predictable as this transformation continues? Will there be more fatal crashes if rural areas are transformed to urban areas? Do rural and urban areas have the same factors that correlate with fatalities.\n"
   ]
  },
  {
   "cell_type": "markdown",
   "id": "ee37c3ba",
   "metadata": {},
   "source": [
    "<a id=\"id1\"></a>"
   ]
  },
  {
   "cell_type": "markdown",
   "id": "65870c7c",
   "metadata": {},
   "source": [
    "## Import Packages"
   ]
  },
  {
   "cell_type": "code",
   "execution_count": 22,
   "id": "d7aeca1e",
   "metadata": {},
   "outputs": [],
   "source": [
    "import pandas as pd\n",
    "import numpy as np\n",
    "import os\n",
    "import matplotlib.pyplot as plt\n",
    "import seaborn as sns\n",
    "from sklearn.decomposition import PCA\n",
    "from sklearn import preprocessing\n",
    "from sklearn.preprocessing import scale\n",
    "from sklearn.model_selection import train_test_split\n",
    "import ppscore as pps\n",
    "import statsmodels.api as sm \n",
    "from statsmodels.graphics.api import abline_plot \n",
    "from sklearn.metrics import mean_squared_error, r2_score, mean_absolute_error\n",
    "import matplotlib.lines as lines\n",
    "from sklearn import linear_model\n",
    "from sklearn.tree import DecisionTreeRegressor\n",
    "from numpy import absolute\n",
    "from sklearn.model_selection import cross_val_score\n",
    "from sklearn.model_selection import RepeatedKFold\n",
    "from sklearn.linear_model import Lasso\n",
    "from numpy import mean\n",
    "from numpy import std\n",
    "from sklearn.model_selection import RepeatedKFold\n",
    "from sklearn.feature_selection import RFE\n",
    "from sklearn.linear_model import LinearRegression\n",
    "from sklearn.pipeline import Pipeline\n",
    "import warnings \n",
    "warnings.simplefilter(action=\"ignore\", category=FutureWarning)\n",
    "warnings.filterwarnings(action=\"ignore\", module=\"scipy\", message=\"^internal gelsd\")"
   ]
  },
  {
   "cell_type": "markdown",
   "id": "e135963f",
   "metadata": {},
   "source": [
    "<a id=\"id2\"></a>"
   ]
  },
  {
   "cell_type": "markdown",
   "id": "fefb4998",
   "metadata": {},
   "source": [
    "## Load the Data"
   ]
  },
  {
   "cell_type": "code",
   "execution_count": 23,
   "id": "969aba1a",
   "metadata": {},
   "outputs": [],
   "source": [
    "#Import total; will test and train within total and keep rural/urban as a factor\n",
    "\n",
    "total = pd.read_csv('../data/processed/total.csv')"
   ]
  },
  {
   "cell_type": "code",
   "execution_count": 24,
   "id": "431edb4a",
   "metadata": {},
   "outputs": [
    {
     "data": {
      "text/html": [
       "<div>\n",
       "<style scoped>\n",
       "    .dataframe tbody tr th:only-of-type {\n",
       "        vertical-align: middle;\n",
       "    }\n",
       "\n",
       "    .dataframe tbody tr th {\n",
       "        vertical-align: top;\n",
       "    }\n",
       "\n",
       "    .dataframe thead th {\n",
       "        text-align: right;\n",
       "    }\n",
       "</style>\n",
       "<table border=\"1\" class=\"dataframe\">\n",
       "  <thead>\n",
       "    <tr style=\"text-align: right;\">\n",
       "      <th></th>\n",
       "      <th>STATENAME</th>\n",
       "      <th>VE_TOTAL</th>\n",
       "      <th>PEDS</th>\n",
       "      <th>PERSONS</th>\n",
       "      <th>DAYNAME</th>\n",
       "      <th>MONTHNAME</th>\n",
       "      <th>HOUR</th>\n",
       "      <th>DAY_WEEKNAME</th>\n",
       "      <th>RUR_URBNAME</th>\n",
       "      <th>HARM_EVNAME</th>\n",
       "      <th>...</th>\n",
       "      <th>DRUNK_DR</th>\n",
       "      <th>REGION</th>\n",
       "      <th>WEEK_END</th>\n",
       "      <th>DAY_NIGHT</th>\n",
       "      <th>DayNight_Avg</th>\n",
       "      <th>WEEK_END_Avg</th>\n",
       "      <th>State_Avg</th>\n",
       "      <th>Day_Avg</th>\n",
       "      <th>Region_Avg</th>\n",
       "      <th>F_RATIO</th>\n",
       "    </tr>\n",
       "  </thead>\n",
       "  <tbody>\n",
       "    <tr>\n",
       "      <th>0</th>\n",
       "      <td>Michigan</td>\n",
       "      <td>1</td>\n",
       "      <td>0</td>\n",
       "      <td>1</td>\n",
       "      <td>11</td>\n",
       "      <td>November</td>\n",
       "      <td>14</td>\n",
       "      <td>Monday</td>\n",
       "      <td>Urban</td>\n",
       "      <td>Guardrail End</td>\n",
       "      <td>...</td>\n",
       "      <td>0</td>\n",
       "      <td>Midwest</td>\n",
       "      <td>Weekday</td>\n",
       "      <td>Night_Time</td>\n",
       "      <td>1.085086</td>\n",
       "      <td>1.078599</td>\n",
       "      <td>1.091916</td>\n",
       "      <td>1.073699</td>\n",
       "      <td>1.093226</td>\n",
       "      <td>100.0</td>\n",
       "    </tr>\n",
       "    <tr>\n",
       "      <th>1</th>\n",
       "      <td>Wisconsin</td>\n",
       "      <td>1</td>\n",
       "      <td>0</td>\n",
       "      <td>1</td>\n",
       "      <td>5</td>\n",
       "      <td>January</td>\n",
       "      <td>9</td>\n",
       "      <td>Saturday</td>\n",
       "      <td>Rural</td>\n",
       "      <td>Railway Vehicle</td>\n",
       "      <td>...</td>\n",
       "      <td>0</td>\n",
       "      <td>Midwest</td>\n",
       "      <td>Weekend</td>\n",
       "      <td>Night_Time</td>\n",
       "      <td>1.085086</td>\n",
       "      <td>1.100224</td>\n",
       "      <td>1.079681</td>\n",
       "      <td>1.099804</td>\n",
       "      <td>1.093226</td>\n",
       "      <td>100.0</td>\n",
       "    </tr>\n",
       "    <tr>\n",
       "      <th>2</th>\n",
       "      <td>Wisconsin</td>\n",
       "      <td>1</td>\n",
       "      <td>0</td>\n",
       "      <td>1</td>\n",
       "      <td>7</td>\n",
       "      <td>January</td>\n",
       "      <td>9</td>\n",
       "      <td>Monday</td>\n",
       "      <td>Urban</td>\n",
       "      <td>Traffic Signal Support</td>\n",
       "      <td>...</td>\n",
       "      <td>0</td>\n",
       "      <td>Midwest</td>\n",
       "      <td>Weekday</td>\n",
       "      <td>Night_Time</td>\n",
       "      <td>1.085086</td>\n",
       "      <td>1.078599</td>\n",
       "      <td>1.079681</td>\n",
       "      <td>1.073699</td>\n",
       "      <td>1.093226</td>\n",
       "      <td>100.0</td>\n",
       "    </tr>\n",
       "  </tbody>\n",
       "</table>\n",
       "<p>3 rows × 24 columns</p>\n",
       "</div>"
      ],
      "text/plain": [
       "   STATENAME  VE_TOTAL  PEDS  PERSONS  DAYNAME MONTHNAME  HOUR DAY_WEEKNAME  \\\n",
       "0   Michigan         1     0        1       11  November    14       Monday   \n",
       "1  Wisconsin         1     0        1        5   January     9     Saturday   \n",
       "2  Wisconsin         1     0        1        7   January     9       Monday   \n",
       "\n",
       "  RUR_URBNAME             HARM_EVNAME  ... DRUNK_DR   REGION WEEK_END  \\\n",
       "0       Urban           Guardrail End  ...        0  Midwest  Weekday   \n",
       "1       Rural         Railway Vehicle  ...        0  Midwest  Weekend   \n",
       "2       Urban  Traffic Signal Support  ...        0  Midwest  Weekday   \n",
       "\n",
       "    DAY_NIGHT  DayNight_Avg WEEK_END_Avg State_Avg   Day_Avg  Region_Avg  \\\n",
       "0  Night_Time      1.085086     1.078599  1.091916  1.073699    1.093226   \n",
       "1  Night_Time      1.085086     1.100224  1.079681  1.099804    1.093226   \n",
       "2  Night_Time      1.085086     1.078599  1.079681  1.073699    1.093226   \n",
       "\n",
       "   F_RATIO  \n",
       "0    100.0  \n",
       "1    100.0  \n",
       "2    100.0  \n",
       "\n",
       "[3 rows x 24 columns]"
      ]
     },
     "execution_count": 24,
     "metadata": {},
     "output_type": "execute_result"
    }
   ],
   "source": [
    "total.head(3)"
   ]
  },
  {
   "cell_type": "code",
   "execution_count": 25,
   "id": "5be4581d",
   "metadata": {},
   "outputs": [
    {
     "data": {
      "text/plain": [
       "Index(['STATENAME', 'VE_TOTAL', 'PEDS', 'PERSONS', 'DAYNAME', 'MONTHNAME',\n",
       "       'HOUR', 'DAY_WEEKNAME', 'RUR_URBNAME', 'HARM_EVNAME', 'LGT_CONDNAME',\n",
       "       'WEATHER1NAME', 'WEATHERNAME', 'FATALS', 'DRUNK_DR', 'REGION',\n",
       "       'WEEK_END', 'DAY_NIGHT', 'DayNight_Avg', 'WEEK_END_Avg', 'State_Avg',\n",
       "       'Day_Avg', 'Region_Avg', 'F_RATIO'],\n",
       "      dtype='object')"
      ]
     },
     "execution_count": 25,
     "metadata": {},
     "output_type": "execute_result"
    }
   ],
   "source": [
    "total.columns"
   ]
  },
  {
   "cell_type": "markdown",
   "id": "154f12c2",
   "metadata": {},
   "source": [
    "The columns 'DayNight_Avg', 'WEEK_END_Avg', 'State_Avg','Day_Avg', and 'Region_Avg'are themselves measures of fatalities for certain criteria. They are not factors. Fatalities is an alternative dependent variable, but F_Ratio is a more helpful measure. Fatalities and the other measures will be dropped."
   ]
  },
  {
   "cell_type": "code",
   "execution_count": 26,
   "id": "f827c9ca",
   "metadata": {},
   "outputs": [],
   "source": [
    "total = total[['STATENAME', 'VE_TOTAL', 'PEDS', 'PERSONS', 'DAYNAME', 'MONTHNAME',\n",
    "       'HOUR', 'DAY_WEEKNAME', 'RUR_URBNAME', 'HARM_EVNAME', 'LGT_CONDNAME',\n",
    "       'WEATHER1NAME', 'WEATHERNAME', 'DRUNK_DR', 'REGION',\n",
    "       'WEEK_END', 'DAY_NIGHT','F_RATIO']]"
   ]
  },
  {
   "cell_type": "code",
   "execution_count": 27,
   "id": "5448083a",
   "metadata": {
    "scrolled": true
   },
   "outputs": [
    {
     "data": {
      "text/plain": [
       "Index(['STATENAME', 'VE_TOTAL', 'PEDS', 'PERSONS', 'DAYNAME', 'MONTHNAME',\n",
       "       'HOUR', 'DAY_WEEKNAME', 'RUR_URBNAME', 'HARM_EVNAME', 'LGT_CONDNAME',\n",
       "       'WEATHER1NAME', 'WEATHERNAME', 'DRUNK_DR', 'REGION', 'WEEK_END',\n",
       "       'DAY_NIGHT', 'F_RATIO'],\n",
       "      dtype='object')"
      ]
     },
     "execution_count": 27,
     "metadata": {},
     "output_type": "execute_result"
    }
   ],
   "source": [
    "total.columns"
   ]
  },
  {
   "cell_type": "code",
   "execution_count": 28,
   "id": "796e6b1b",
   "metadata": {},
   "outputs": [
    {
     "name": "stdout",
     "output_type": "stream",
     "text": [
      "total shape is (33238, 18)\n"
     ]
    }
   ],
   "source": [
    "print('total shape is', total.shape)"
   ]
  },
  {
   "cell_type": "code",
   "execution_count": 29,
   "id": "4c89495e",
   "metadata": {},
   "outputs": [
    {
     "data": {
      "text/html": [
       "<div>\n",
       "<style scoped>\n",
       "    .dataframe tbody tr th:only-of-type {\n",
       "        vertical-align: middle;\n",
       "    }\n",
       "\n",
       "    .dataframe tbody tr th {\n",
       "        vertical-align: top;\n",
       "    }\n",
       "\n",
       "    .dataframe thead th {\n",
       "        text-align: right;\n",
       "    }\n",
       "</style>\n",
       "<table border=\"1\" class=\"dataframe\">\n",
       "  <thead>\n",
       "    <tr style=\"text-align: right;\">\n",
       "      <th></th>\n",
       "      <th>STATENAME</th>\n",
       "      <th>VE_TOTAL</th>\n",
       "      <th>PEDS</th>\n",
       "      <th>PERSONS</th>\n",
       "      <th>DAYNAME</th>\n",
       "      <th>MONTHNAME</th>\n",
       "      <th>HOUR</th>\n",
       "      <th>DAY_WEEKNAME</th>\n",
       "      <th>RUR_URBNAME</th>\n",
       "      <th>HARM_EVNAME</th>\n",
       "      <th>LGT_CONDNAME</th>\n",
       "      <th>WEATHER1NAME</th>\n",
       "      <th>WEATHERNAME</th>\n",
       "      <th>DRUNK_DR</th>\n",
       "      <th>REGION</th>\n",
       "      <th>WEEK_END</th>\n",
       "      <th>DAY_NIGHT</th>\n",
       "      <th>F_RATIO</th>\n",
       "    </tr>\n",
       "  </thead>\n",
       "  <tbody>\n",
       "    <tr>\n",
       "      <th>33237</th>\n",
       "      <td>Kentucky</td>\n",
       "      <td>12</td>\n",
       "      <td>0</td>\n",
       "      <td>30</td>\n",
       "      <td>28</td>\n",
       "      <td>June</td>\n",
       "      <td>16</td>\n",
       "      <td>Friday</td>\n",
       "      <td>Rural</td>\n",
       "      <td>Motor Vehicle In-Transport</td>\n",
       "      <td>Daylight</td>\n",
       "      <td>Clear</td>\n",
       "      <td>Clear</td>\n",
       "      <td>0</td>\n",
       "      <td>South</td>\n",
       "      <td>Weekday</td>\n",
       "      <td>Night_Time</td>\n",
       "      <td>3.333</td>\n",
       "    </tr>\n",
       "    <tr>\n",
       "      <th>33236</th>\n",
       "      <td>Virginia</td>\n",
       "      <td>1</td>\n",
       "      <td>0</td>\n",
       "      <td>57</td>\n",
       "      <td>19</td>\n",
       "      <td>March</td>\n",
       "      <td>5</td>\n",
       "      <td>Tuesday</td>\n",
       "      <td>Rural</td>\n",
       "      <td>Ditch</td>\n",
       "      <td>Dark - Not Lighted</td>\n",
       "      <td>Fog, Smog, Smoke</td>\n",
       "      <td>Fog, Smog, Smoke</td>\n",
       "      <td>0</td>\n",
       "      <td>South</td>\n",
       "      <td>Weekday</td>\n",
       "      <td>Day_Time</td>\n",
       "      <td>3.509</td>\n",
       "    </tr>\n",
       "    <tr>\n",
       "      <th>33235</th>\n",
       "      <td>New Jersey</td>\n",
       "      <td>2</td>\n",
       "      <td>0</td>\n",
       "      <td>24</td>\n",
       "      <td>24</td>\n",
       "      <td>January</td>\n",
       "      <td>19</td>\n",
       "      <td>Thursday</td>\n",
       "      <td>Urban</td>\n",
       "      <td>Motor Vehicle In-Transport</td>\n",
       "      <td>Dark - Lighted</td>\n",
       "      <td>Clear</td>\n",
       "      <td>Clear</td>\n",
       "      <td>0</td>\n",
       "      <td>Northeast</td>\n",
       "      <td>Weekday</td>\n",
       "      <td>Night_Time</td>\n",
       "      <td>4.167</td>\n",
       "    </tr>\n",
       "    <tr>\n",
       "      <th>33234</th>\n",
       "      <td>Nevada</td>\n",
       "      <td>8</td>\n",
       "      <td>0</td>\n",
       "      <td>21</td>\n",
       "      <td>6</td>\n",
       "      <td>July</td>\n",
       "      <td>20</td>\n",
       "      <td>Saturday</td>\n",
       "      <td>Urban</td>\n",
       "      <td>Motor Vehicle In-Transport</td>\n",
       "      <td>Dark - Lighted</td>\n",
       "      <td>Clear</td>\n",
       "      <td>Clear</td>\n",
       "      <td>0</td>\n",
       "      <td>West</td>\n",
       "      <td>Weekend</td>\n",
       "      <td>Night_Time</td>\n",
       "      <td>4.762</td>\n",
       "    </tr>\n",
       "    <tr>\n",
       "      <th>33233</th>\n",
       "      <td>North Carolina</td>\n",
       "      <td>3</td>\n",
       "      <td>0</td>\n",
       "      <td>18</td>\n",
       "      <td>14</td>\n",
       "      <td>May</td>\n",
       "      <td>14</td>\n",
       "      <td>Tuesday</td>\n",
       "      <td>Rural</td>\n",
       "      <td>Motor Vehicle In-Transport</td>\n",
       "      <td>Daylight</td>\n",
       "      <td>Clear</td>\n",
       "      <td>Clear</td>\n",
       "      <td>0</td>\n",
       "      <td>South</td>\n",
       "      <td>Weekday</td>\n",
       "      <td>Night_Time</td>\n",
       "      <td>5.556</td>\n",
       "    </tr>\n",
       "  </tbody>\n",
       "</table>\n",
       "</div>"
      ],
      "text/plain": [
       "            STATENAME  VE_TOTAL  PEDS  PERSONS  DAYNAME MONTHNAME  HOUR  \\\n",
       "33237        Kentucky        12     0       30       28      June    16   \n",
       "33236        Virginia         1     0       57       19     March     5   \n",
       "33235      New Jersey         2     0       24       24   January    19   \n",
       "33234          Nevada         8     0       21        6      July    20   \n",
       "33233  North Carolina         3     0       18       14       May    14   \n",
       "\n",
       "      DAY_WEEKNAME RUR_URBNAME                 HARM_EVNAME  \\\n",
       "33237       Friday       Rural  Motor Vehicle In-Transport   \n",
       "33236      Tuesday       Rural                       Ditch   \n",
       "33235     Thursday       Urban  Motor Vehicle In-Transport   \n",
       "33234     Saturday       Urban  Motor Vehicle In-Transport   \n",
       "33233      Tuesday       Rural  Motor Vehicle In-Transport   \n",
       "\n",
       "             LGT_CONDNAME      WEATHER1NAME       WEATHERNAME  DRUNK_DR  \\\n",
       "33237            Daylight             Clear             Clear         0   \n",
       "33236  Dark - Not Lighted  Fog, Smog, Smoke  Fog, Smog, Smoke         0   \n",
       "33235      Dark - Lighted             Clear             Clear         0   \n",
       "33234      Dark - Lighted             Clear             Clear         0   \n",
       "33233            Daylight             Clear             Clear         0   \n",
       "\n",
       "          REGION WEEK_END   DAY_NIGHT  F_RATIO  \n",
       "33237      South  Weekday  Night_Time    3.333  \n",
       "33236      South  Weekday    Day_Time    3.509  \n",
       "33235  Northeast  Weekday  Night_Time    4.167  \n",
       "33234       West  Weekend  Night_Time    4.762  \n",
       "33233      South  Weekday  Night_Time    5.556  "
      ]
     },
     "execution_count": 29,
     "metadata": {},
     "output_type": "execute_result"
    }
   ],
   "source": [
    "### In the Modeling below, the lowest F_Ratio is throwing off the graphing and predicting. \n",
    "###Those below I will drop to try and clean up the graphs below. There are 4 rows with an F_Ratio < 5\n",
    "total.sort_values(by=['F_RATIO']).head()"
   ]
  },
  {
   "cell_type": "code",
   "execution_count": 30,
   "id": "3d137deb",
   "metadata": {},
   "outputs": [],
   "source": [
    "total = total[total.F_RATIO > 5]"
   ]
  },
  {
   "cell_type": "code",
   "execution_count": 31,
   "id": "32c826f3",
   "metadata": {},
   "outputs": [
    {
     "data": {
      "text/html": [
       "<div>\n",
       "<style scoped>\n",
       "    .dataframe tbody tr th:only-of-type {\n",
       "        vertical-align: middle;\n",
       "    }\n",
       "\n",
       "    .dataframe tbody tr th {\n",
       "        vertical-align: top;\n",
       "    }\n",
       "\n",
       "    .dataframe thead th {\n",
       "        text-align: right;\n",
       "    }\n",
       "</style>\n",
       "<table border=\"1\" class=\"dataframe\">\n",
       "  <thead>\n",
       "    <tr style=\"text-align: right;\">\n",
       "      <th></th>\n",
       "      <th>STATENAME</th>\n",
       "      <th>VE_TOTAL</th>\n",
       "      <th>PEDS</th>\n",
       "      <th>PERSONS</th>\n",
       "      <th>DAYNAME</th>\n",
       "      <th>MONTHNAME</th>\n",
       "      <th>HOUR</th>\n",
       "      <th>DAY_WEEKNAME</th>\n",
       "      <th>RUR_URBNAME</th>\n",
       "      <th>HARM_EVNAME</th>\n",
       "      <th>LGT_CONDNAME</th>\n",
       "      <th>WEATHER1NAME</th>\n",
       "      <th>WEATHERNAME</th>\n",
       "      <th>DRUNK_DR</th>\n",
       "      <th>REGION</th>\n",
       "      <th>WEEK_END</th>\n",
       "      <th>DAY_NIGHT</th>\n",
       "      <th>F_RATIO</th>\n",
       "    </tr>\n",
       "  </thead>\n",
       "  <tbody>\n",
       "    <tr>\n",
       "      <th>33233</th>\n",
       "      <td>North Carolina</td>\n",
       "      <td>3</td>\n",
       "      <td>0</td>\n",
       "      <td>18</td>\n",
       "      <td>14</td>\n",
       "      <td>May</td>\n",
       "      <td>14</td>\n",
       "      <td>Tuesday</td>\n",
       "      <td>Rural</td>\n",
       "      <td>Motor Vehicle In-Transport</td>\n",
       "      <td>Daylight</td>\n",
       "      <td>Clear</td>\n",
       "      <td>Clear</td>\n",
       "      <td>0</td>\n",
       "      <td>South</td>\n",
       "      <td>Weekday</td>\n",
       "      <td>Night_Time</td>\n",
       "      <td>5.556</td>\n",
       "    </tr>\n",
       "    <tr>\n",
       "      <th>33228</th>\n",
       "      <td>North Carolina</td>\n",
       "      <td>7</td>\n",
       "      <td>0</td>\n",
       "      <td>17</td>\n",
       "      <td>21</td>\n",
       "      <td>July</td>\n",
       "      <td>14</td>\n",
       "      <td>Sunday</td>\n",
       "      <td>Rural</td>\n",
       "      <td>Motor Vehicle In-Transport</td>\n",
       "      <td>Daylight</td>\n",
       "      <td>Clear</td>\n",
       "      <td>Clear</td>\n",
       "      <td>0</td>\n",
       "      <td>South</td>\n",
       "      <td>Weekend</td>\n",
       "      <td>Night_Time</td>\n",
       "      <td>5.882</td>\n",
       "    </tr>\n",
       "    <tr>\n",
       "      <th>33229</th>\n",
       "      <td>Ohio</td>\n",
       "      <td>16</td>\n",
       "      <td>0</td>\n",
       "      <td>17</td>\n",
       "      <td>12</td>\n",
       "      <td>November</td>\n",
       "      <td>8</td>\n",
       "      <td>Tuesday</td>\n",
       "      <td>Urban</td>\n",
       "      <td>Motor Vehicle In-Transport</td>\n",
       "      <td>Daylight</td>\n",
       "      <td>Snow</td>\n",
       "      <td>Snow</td>\n",
       "      <td>0</td>\n",
       "      <td>Midwest</td>\n",
       "      <td>Weekday</td>\n",
       "      <td>Night_Time</td>\n",
       "      <td>5.882</td>\n",
       "    </tr>\n",
       "    <tr>\n",
       "      <th>33232</th>\n",
       "      <td>Arizona</td>\n",
       "      <td>7</td>\n",
       "      <td>0</td>\n",
       "      <td>17</td>\n",
       "      <td>13</td>\n",
       "      <td>April</td>\n",
       "      <td>16</td>\n",
       "      <td>Saturday</td>\n",
       "      <td>Urban</td>\n",
       "      <td>Motor Vehicle In-Transport</td>\n",
       "      <td>Daylight</td>\n",
       "      <td>Clear</td>\n",
       "      <td>Clear</td>\n",
       "      <td>0</td>\n",
       "      <td>West</td>\n",
       "      <td>Weekend</td>\n",
       "      <td>Night_Time</td>\n",
       "      <td>5.882</td>\n",
       "    </tr>\n",
       "    <tr>\n",
       "      <th>33231</th>\n",
       "      <td>Florida</td>\n",
       "      <td>2</td>\n",
       "      <td>0</td>\n",
       "      <td>17</td>\n",
       "      <td>22</td>\n",
       "      <td>January</td>\n",
       "      <td>18</td>\n",
       "      <td>Tuesday</td>\n",
       "      <td>Urban</td>\n",
       "      <td>Motor Vehicle In-Transport</td>\n",
       "      <td>Dark - Lighted</td>\n",
       "      <td>Clear</td>\n",
       "      <td>Clear</td>\n",
       "      <td>0</td>\n",
       "      <td>South</td>\n",
       "      <td>Weekday</td>\n",
       "      <td>Night_Time</td>\n",
       "      <td>5.882</td>\n",
       "    </tr>\n",
       "  </tbody>\n",
       "</table>\n",
       "</div>"
      ],
      "text/plain": [
       "            STATENAME  VE_TOTAL  PEDS  PERSONS  DAYNAME MONTHNAME  HOUR  \\\n",
       "33233  North Carolina         3     0       18       14       May    14   \n",
       "33228  North Carolina         7     0       17       21      July    14   \n",
       "33229            Ohio        16     0       17       12  November     8   \n",
       "33232         Arizona         7     0       17       13     April    16   \n",
       "33231         Florida         2     0       17       22   January    18   \n",
       "\n",
       "      DAY_WEEKNAME RUR_URBNAME                 HARM_EVNAME    LGT_CONDNAME  \\\n",
       "33233      Tuesday       Rural  Motor Vehicle In-Transport        Daylight   \n",
       "33228       Sunday       Rural  Motor Vehicle In-Transport        Daylight   \n",
       "33229      Tuesday       Urban  Motor Vehicle In-Transport        Daylight   \n",
       "33232     Saturday       Urban  Motor Vehicle In-Transport        Daylight   \n",
       "33231      Tuesday       Urban  Motor Vehicle In-Transport  Dark - Lighted   \n",
       "\n",
       "      WEATHER1NAME WEATHERNAME  DRUNK_DR   REGION WEEK_END   DAY_NIGHT  \\\n",
       "33233        Clear       Clear         0    South  Weekday  Night_Time   \n",
       "33228        Clear       Clear         0    South  Weekend  Night_Time   \n",
       "33229         Snow        Snow         0  Midwest  Weekday  Night_Time   \n",
       "33232        Clear       Clear         0     West  Weekend  Night_Time   \n",
       "33231        Clear       Clear         0    South  Weekday  Night_Time   \n",
       "\n",
       "       F_RATIO  \n",
       "33233    5.556  \n",
       "33228    5.882  \n",
       "33229    5.882  \n",
       "33232    5.882  \n",
       "33231    5.882  "
      ]
     },
     "execution_count": 31,
     "metadata": {},
     "output_type": "execute_result"
    }
   ],
   "source": [
    "total.sort_values(by=['F_RATIO']).head()"
   ]
  },
  {
   "cell_type": "markdown",
   "id": "c2d81e49",
   "metadata": {},
   "source": [
    "<a id=\"id3\"></a>"
   ]
  },
  {
   "cell_type": "markdown",
   "id": "4dcf8cf7",
   "metadata": {},
   "source": [
    "## Test Train Split for Total\n"
   ]
  },
  {
   "cell_type": "code",
   "execution_count": 32,
   "id": "18d75ea2",
   "metadata": {},
   "outputs": [
    {
     "data": {
      "text/plain": [
       "Index(['VE_TOTAL', 'PEDS', 'PERSONS', 'DAYNAME', 'HOUR', 'DRUNK_DR', 'F_RATIO',\n",
       "       'STATENAME_Alabama', 'STATENAME_Alaska', 'STATENAME_Arizona',\n",
       "       ...\n",
       "       'WEATHERNAME_Sleet or Hail', 'WEATHERNAME_Snow', 'REGION_Midwest',\n",
       "       'REGION_Northeast', 'REGION_South', 'REGION_West', 'WEEK_END_Weekday',\n",
       "       'WEEK_END_Weekend', 'DAY_NIGHT_Day_Time', 'DAY_NIGHT_Night_Time'],\n",
       "      dtype='object', length=180)"
      ]
     },
     "execution_count": 32,
     "metadata": {},
     "output_type": "execute_result"
    }
   ],
   "source": [
    "### Sorting out the categorical variables\n",
    "dfo = total.select_dtypes(include=['object']) # select object type columns\n",
    "total_ready = pd.concat([total.drop(dfo, axis=1), pd.get_dummies(dfo)], axis=1) ### concatenating the dummy filled columns\n",
    "total_ready.columns"
   ]
  },
  {
   "cell_type": "code",
   "execution_count": 33,
   "id": "4785d52d",
   "metadata": {},
   "outputs": [],
   "source": [
    "### Test Train Split for total\n",
    "X = total_ready.loc[:, total_ready.columns!='F_RATIO']\n",
    "y = total_ready.F_RATIO\n",
    "\n",
    "X_train, X_test, y_train, y_test = train_test_split(X, y, test_size=.3, random_state=42)"
   ]
  },
  {
   "cell_type": "code",
   "execution_count": 34,
   "id": "f1dd4312",
   "metadata": {},
   "outputs": [],
   "source": [
    "# For Total, build scaler based on training data and apply it to X_test data \n",
    "scaler = preprocessing.StandardScaler().fit(X_train)\n",
    "X_train_scaled=scaler.transform(X_train)\n",
    "X_test_scaled=scaler.transform(X_test)"
   ]
  },
  {
   "cell_type": "code",
   "execution_count": 35,
   "id": "9d8a2444",
   "metadata": {},
   "outputs": [
    {
     "name": "stdout",
     "output_type": "stream",
     "text": [
      "Total accident training data (23263, 179) ; Total accident test data (9971, 179) \n",
      " total fatality training data (23263,) ; total fatality testing data (9971,)\n"
     ]
    }
   ],
   "source": [
    "# For Total, We now want to check the shape of the X train, y_train, X_test and y_test to make sure the proportions are right. \n",
    "print('Total accident training data', X_train_scaled.shape, ';', 'Total accident test data', X_test_scaled.shape, \"\\n\", 'total fatality training data', y_train.shape,';', 'total fatality testing data', y_test.shape) \n"
   ]
  },
  {
   "cell_type": "markdown",
   "id": "af6dddd4",
   "metadata": {},
   "source": [
    "\n",
    "Data for total dataset is test/train split and then scaled to avoid data leakage."
   ]
  },
  {
   "cell_type": "markdown",
   "id": "cde73866",
   "metadata": {},
   "source": [
    "<a id=\"id4\"></a>"
   ]
  },
  {
   "cell_type": "markdown",
   "id": "6a432d65",
   "metadata": {},
   "source": [
    "## Model Evaluation"
   ]
  },
  {
   "cell_type": "markdown",
   "id": "09d0908e",
   "metadata": {},
   "source": [
    "<a id=\"id5\"></a>"
   ]
  },
  {
   "cell_type": "markdown",
   "id": "1ae0076b",
   "metadata": {},
   "source": [
    "### Linear Regression"
   ]
  },
  {
   "cell_type": "code",
   "execution_count": 49,
   "id": "8df2d881",
   "metadata": {},
   "outputs": [],
   "source": [
    "# Using linear regression for the entire Total set\n",
    "rModel = linear_model.LinearRegression()"
   ]
  },
  {
   "cell_type": "code",
   "execution_count": 50,
   "id": "a04da2a8",
   "metadata": {},
   "outputs": [
    {
     "data": {
      "text/plain": [
       "LinearRegression()"
      ]
     },
     "execution_count": 50,
     "metadata": {},
     "output_type": "execute_result"
    }
   ],
   "source": [
    "rModel.fit(X_train_scaled, y_train)"
   ]
  },
  {
   "cell_type": "code",
   "execution_count": 51,
   "id": "3f15e23a",
   "metadata": {},
   "outputs": [
    {
     "name": "stdout",
     "output_type": "stream",
     "text": [
      "Training R-sqaured for simple linear regression: 0.7107888460023336\n",
      "Testing R-squared for simple linear regression: 0.7157144287978345\n"
     ]
    }
   ],
   "source": [
    "# Evaluate the model: And a halfway decent R-Squared score for a full go; Ok comparison for the test score. \n",
    "# Not overfit or underfit\n",
    "\n",
    "print(\"Training R-sqaured for simple linear regression:\", rModel.score(X_train_scaled, y_train))\n",
    "print(\"Testing R-squared for simple linear regression:\", rModel.score(X_test_scaled, y_test))"
   ]
  },
  {
   "cell_type": "code",
   "execution_count": 52,
   "id": "6ceb4dd2",
   "metadata": {},
   "outputs": [],
   "source": [
    "# Use the model to make predictions about our test data\n",
    "y_pred = rModel.predict(X_test_scaled)"
   ]
  },
  {
   "cell_type": "code",
   "execution_count": 53,
   "id": "1e765056",
   "metadata": {},
   "outputs": [
    {
     "name": "stdout",
     "output_type": "stream",
     "text": [
      "The Root Mean Squared Error with Linear Regression: 15.21\n",
      "The Mean Absolute Error with Linear Regression: 10.99\n",
      "Coefficient of determination with Linear Regression: 0.72\n"
     ]
    }
   ],
   "source": [
    "###mean_squared_error, r2_score, mean_absolute_error\n",
    "print('The Root Mean Squared Error with Linear Regression:', round(np.sqrt(mean_squared_error(y_test,y_pred)), 2))\n",
    "print('The Mean Absolute Error with Linear Regression:', round(mean_absolute_error(y_test,y_pred), 2))\n",
    "print('Coefficient of determination with Linear Regression:', round(r2_score(y_test,y_pred), 2))"
   ]
  },
  {
   "cell_type": "code",
   "execution_count": 55,
   "id": "d2b089e9",
   "metadata": {
    "scrolled": true
   },
   "outputs": [
    {
     "ename": "FileNotFoundError",
     "evalue": "[Errno 2] No such file or directory: '../figures/Actual vs Predicted for Linear Regression.png'",
     "output_type": "error",
     "traceback": [
      "\u001b[0;31m---------------------------------------------------------------------------\u001b[0m",
      "\u001b[0;31mFileNotFoundError\u001b[0m                         Traceback (most recent call last)",
      "\u001b[0;32m/var/folders/0j/dq36f4893tn_4kzb5g26474h0000gq/T/ipykernel_11019/2814029036.py\u001b[0m in \u001b[0;36m<module>\u001b[0;34m\u001b[0m\n\u001b[1;32m      4\u001b[0m \u001b[0m_\u001b[0m \u001b[0;34m=\u001b[0m \u001b[0mplt\u001b[0m\u001b[0;34m.\u001b[0m\u001b[0mylabel\u001b[0m\u001b[0;34m(\u001b[0m\u001b[0;34m'F_Ratio Predicted'\u001b[0m\u001b[0;34m)\u001b[0m\u001b[0;34m\u001b[0m\u001b[0;34m\u001b[0m\u001b[0m\n\u001b[1;32m      5\u001b[0m \u001b[0m_\u001b[0m \u001b[0;34m=\u001b[0m \u001b[0mplt\u001b[0m\u001b[0;34m.\u001b[0m\u001b[0mxlabel\u001b[0m\u001b[0;34m(\u001b[0m\u001b[0;34m'F_Ratio Acutal'\u001b[0m\u001b[0;34m)\u001b[0m\u001b[0;34m\u001b[0m\u001b[0;34m\u001b[0m\u001b[0m\n\u001b[0;32m----> 6\u001b[0;31m \u001b[0mplt\u001b[0m\u001b[0;34m.\u001b[0m\u001b[0msavefig\u001b[0m\u001b[0;34m(\u001b[0m\u001b[0;34m'../figures/Actual vs Predicted for Linear Regression'\u001b[0m\u001b[0;34m)\u001b[0m\u001b[0;34m;\u001b[0m\u001b[0;34m\u001b[0m\u001b[0;34m\u001b[0m\u001b[0m\n\u001b[0m",
      "\u001b[0;32m~/opt/anaconda3/lib/python3.9/site-packages/matplotlib/pyplot.py\u001b[0m in \u001b[0;36msavefig\u001b[0;34m(*args, **kwargs)\u001b[0m\n\u001b[1;32m    964\u001b[0m \u001b[0;32mdef\u001b[0m \u001b[0msavefig\u001b[0m\u001b[0;34m(\u001b[0m\u001b[0;34m*\u001b[0m\u001b[0margs\u001b[0m\u001b[0;34m,\u001b[0m \u001b[0;34m**\u001b[0m\u001b[0mkwargs\u001b[0m\u001b[0;34m)\u001b[0m\u001b[0;34m:\u001b[0m\u001b[0;34m\u001b[0m\u001b[0;34m\u001b[0m\u001b[0m\n\u001b[1;32m    965\u001b[0m     \u001b[0mfig\u001b[0m \u001b[0;34m=\u001b[0m \u001b[0mgcf\u001b[0m\u001b[0;34m(\u001b[0m\u001b[0;34m)\u001b[0m\u001b[0;34m\u001b[0m\u001b[0;34m\u001b[0m\u001b[0m\n\u001b[0;32m--> 966\u001b[0;31m     \u001b[0mres\u001b[0m \u001b[0;34m=\u001b[0m \u001b[0mfig\u001b[0m\u001b[0;34m.\u001b[0m\u001b[0msavefig\u001b[0m\u001b[0;34m(\u001b[0m\u001b[0;34m*\u001b[0m\u001b[0margs\u001b[0m\u001b[0;34m,\u001b[0m \u001b[0;34m**\u001b[0m\u001b[0mkwargs\u001b[0m\u001b[0;34m)\u001b[0m\u001b[0;34m\u001b[0m\u001b[0;34m\u001b[0m\u001b[0m\n\u001b[0m\u001b[1;32m    967\u001b[0m     \u001b[0mfig\u001b[0m\u001b[0;34m.\u001b[0m\u001b[0mcanvas\u001b[0m\u001b[0;34m.\u001b[0m\u001b[0mdraw_idle\u001b[0m\u001b[0;34m(\u001b[0m\u001b[0;34m)\u001b[0m   \u001b[0;31m# need this if 'transparent=True' to reset colors\u001b[0m\u001b[0;34m\u001b[0m\u001b[0;34m\u001b[0m\u001b[0m\n\u001b[1;32m    968\u001b[0m     \u001b[0;32mreturn\u001b[0m \u001b[0mres\u001b[0m\u001b[0;34m\u001b[0m\u001b[0;34m\u001b[0m\u001b[0m\n",
      "\u001b[0;32m~/opt/anaconda3/lib/python3.9/site-packages/matplotlib/figure.py\u001b[0m in \u001b[0;36msavefig\u001b[0;34m(self, fname, transparent, **kwargs)\u001b[0m\n\u001b[1;32m   3013\u001b[0m                 \u001b[0mpatch\u001b[0m\u001b[0;34m.\u001b[0m\u001b[0mset_edgecolor\u001b[0m\u001b[0;34m(\u001b[0m\u001b[0;34m'none'\u001b[0m\u001b[0;34m)\u001b[0m\u001b[0;34m\u001b[0m\u001b[0;34m\u001b[0m\u001b[0m\n\u001b[1;32m   3014\u001b[0m \u001b[0;34m\u001b[0m\u001b[0m\n\u001b[0;32m-> 3015\u001b[0;31m         \u001b[0mself\u001b[0m\u001b[0;34m.\u001b[0m\u001b[0mcanvas\u001b[0m\u001b[0;34m.\u001b[0m\u001b[0mprint_figure\u001b[0m\u001b[0;34m(\u001b[0m\u001b[0mfname\u001b[0m\u001b[0;34m,\u001b[0m \u001b[0;34m**\u001b[0m\u001b[0mkwargs\u001b[0m\u001b[0;34m)\u001b[0m\u001b[0;34m\u001b[0m\u001b[0;34m\u001b[0m\u001b[0m\n\u001b[0m\u001b[1;32m   3016\u001b[0m \u001b[0;34m\u001b[0m\u001b[0m\n\u001b[1;32m   3017\u001b[0m         \u001b[0;32mif\u001b[0m \u001b[0mtransparent\u001b[0m\u001b[0;34m:\u001b[0m\u001b[0;34m\u001b[0m\u001b[0;34m\u001b[0m\u001b[0m\n",
      "\u001b[0;32m~/opt/anaconda3/lib/python3.9/site-packages/matplotlib/backend_bases.py\u001b[0m in \u001b[0;36mprint_figure\u001b[0;34m(self, filename, dpi, facecolor, edgecolor, orientation, format, bbox_inches, pad_inches, bbox_extra_artists, backend, **kwargs)\u001b[0m\n\u001b[1;32m   2253\u001b[0m                 \u001b[0;31m# force the figure dpi to 72), so we need to set it again here.\u001b[0m\u001b[0;34m\u001b[0m\u001b[0;34m\u001b[0m\u001b[0m\n\u001b[1;32m   2254\u001b[0m                 \u001b[0;32mwith\u001b[0m \u001b[0mcbook\u001b[0m\u001b[0;34m.\u001b[0m\u001b[0m_setattr_cm\u001b[0m\u001b[0;34m(\u001b[0m\u001b[0mself\u001b[0m\u001b[0;34m.\u001b[0m\u001b[0mfigure\u001b[0m\u001b[0;34m,\u001b[0m \u001b[0mdpi\u001b[0m\u001b[0;34m=\u001b[0m\u001b[0mdpi\u001b[0m\u001b[0;34m)\u001b[0m\u001b[0;34m:\u001b[0m\u001b[0;34m\u001b[0m\u001b[0;34m\u001b[0m\u001b[0m\n\u001b[0;32m-> 2255\u001b[0;31m                     result = print_method(\n\u001b[0m\u001b[1;32m   2256\u001b[0m                         \u001b[0mfilename\u001b[0m\u001b[0;34m,\u001b[0m\u001b[0;34m\u001b[0m\u001b[0;34m\u001b[0m\u001b[0m\n\u001b[1;32m   2257\u001b[0m                         \u001b[0mfacecolor\u001b[0m\u001b[0;34m=\u001b[0m\u001b[0mfacecolor\u001b[0m\u001b[0;34m,\u001b[0m\u001b[0;34m\u001b[0m\u001b[0;34m\u001b[0m\u001b[0m\n",
      "\u001b[0;32m~/opt/anaconda3/lib/python3.9/site-packages/matplotlib/backend_bases.py\u001b[0m in \u001b[0;36mwrapper\u001b[0;34m(*args, **kwargs)\u001b[0m\n\u001b[1;32m   1667\u001b[0m             \u001b[0mkwargs\u001b[0m\u001b[0;34m.\u001b[0m\u001b[0mpop\u001b[0m\u001b[0;34m(\u001b[0m\u001b[0marg\u001b[0m\u001b[0;34m)\u001b[0m\u001b[0;34m\u001b[0m\u001b[0;34m\u001b[0m\u001b[0m\n\u001b[1;32m   1668\u001b[0m \u001b[0;34m\u001b[0m\u001b[0m\n\u001b[0;32m-> 1669\u001b[0;31m         \u001b[0;32mreturn\u001b[0m \u001b[0mfunc\u001b[0m\u001b[0;34m(\u001b[0m\u001b[0;34m*\u001b[0m\u001b[0margs\u001b[0m\u001b[0;34m,\u001b[0m \u001b[0;34m**\u001b[0m\u001b[0mkwargs\u001b[0m\u001b[0;34m)\u001b[0m\u001b[0;34m\u001b[0m\u001b[0;34m\u001b[0m\u001b[0m\n\u001b[0m\u001b[1;32m   1670\u001b[0m \u001b[0;34m\u001b[0m\u001b[0m\n\u001b[1;32m   1671\u001b[0m     \u001b[0;32mreturn\u001b[0m \u001b[0mwrapper\u001b[0m\u001b[0;34m\u001b[0m\u001b[0;34m\u001b[0m\u001b[0m\n",
      "\u001b[0;32m~/opt/anaconda3/lib/python3.9/site-packages/matplotlib/backends/backend_agg.py\u001b[0m in \u001b[0;36mprint_png\u001b[0;34m(self, filename_or_obj, metadata, pil_kwargs, *args)\u001b[0m\n\u001b[1;32m    507\u001b[0m         \"\"\"\n\u001b[1;32m    508\u001b[0m         \u001b[0mFigureCanvasAgg\u001b[0m\u001b[0;34m.\u001b[0m\u001b[0mdraw\u001b[0m\u001b[0;34m(\u001b[0m\u001b[0mself\u001b[0m\u001b[0;34m)\u001b[0m\u001b[0;34m\u001b[0m\u001b[0;34m\u001b[0m\u001b[0m\n\u001b[0;32m--> 509\u001b[0;31m         mpl.image.imsave(\n\u001b[0m\u001b[1;32m    510\u001b[0m             \u001b[0mfilename_or_obj\u001b[0m\u001b[0;34m,\u001b[0m \u001b[0mself\u001b[0m\u001b[0;34m.\u001b[0m\u001b[0mbuffer_rgba\u001b[0m\u001b[0;34m(\u001b[0m\u001b[0;34m)\u001b[0m\u001b[0;34m,\u001b[0m \u001b[0mformat\u001b[0m\u001b[0;34m=\u001b[0m\u001b[0;34m\"png\"\u001b[0m\u001b[0;34m,\u001b[0m \u001b[0morigin\u001b[0m\u001b[0;34m=\u001b[0m\u001b[0;34m\"upper\"\u001b[0m\u001b[0;34m,\u001b[0m\u001b[0;34m\u001b[0m\u001b[0;34m\u001b[0m\u001b[0m\n\u001b[1;32m    511\u001b[0m             dpi=self.figure.dpi, metadata=metadata, pil_kwargs=pil_kwargs)\n",
      "\u001b[0;32m~/opt/anaconda3/lib/python3.9/site-packages/matplotlib/image.py\u001b[0m in \u001b[0;36mimsave\u001b[0;34m(fname, arr, vmin, vmax, cmap, format, origin, dpi, metadata, pil_kwargs)\u001b[0m\n\u001b[1;32m   1614\u001b[0m         \u001b[0mpil_kwargs\u001b[0m\u001b[0;34m.\u001b[0m\u001b[0msetdefault\u001b[0m\u001b[0;34m(\u001b[0m\u001b[0;34m\"format\"\u001b[0m\u001b[0;34m,\u001b[0m \u001b[0mformat\u001b[0m\u001b[0;34m)\u001b[0m\u001b[0;34m\u001b[0m\u001b[0;34m\u001b[0m\u001b[0m\n\u001b[1;32m   1615\u001b[0m         \u001b[0mpil_kwargs\u001b[0m\u001b[0;34m.\u001b[0m\u001b[0msetdefault\u001b[0m\u001b[0;34m(\u001b[0m\u001b[0;34m\"dpi\"\u001b[0m\u001b[0;34m,\u001b[0m \u001b[0;34m(\u001b[0m\u001b[0mdpi\u001b[0m\u001b[0;34m,\u001b[0m \u001b[0mdpi\u001b[0m\u001b[0;34m)\u001b[0m\u001b[0;34m)\u001b[0m\u001b[0;34m\u001b[0m\u001b[0;34m\u001b[0m\u001b[0m\n\u001b[0;32m-> 1616\u001b[0;31m         \u001b[0mimage\u001b[0m\u001b[0;34m.\u001b[0m\u001b[0msave\u001b[0m\u001b[0;34m(\u001b[0m\u001b[0mfname\u001b[0m\u001b[0;34m,\u001b[0m \u001b[0;34m**\u001b[0m\u001b[0mpil_kwargs\u001b[0m\u001b[0;34m)\u001b[0m\u001b[0;34m\u001b[0m\u001b[0;34m\u001b[0m\u001b[0m\n\u001b[0m\u001b[1;32m   1617\u001b[0m \u001b[0;34m\u001b[0m\u001b[0m\n\u001b[1;32m   1618\u001b[0m \u001b[0;34m\u001b[0m\u001b[0m\n",
      "\u001b[0;32m~/opt/anaconda3/lib/python3.9/site-packages/PIL/Image.py\u001b[0m in \u001b[0;36msave\u001b[0;34m(self, fp, format, **params)\u001b[0m\n\u001b[1;32m   2235\u001b[0m                 \u001b[0mfp\u001b[0m \u001b[0;34m=\u001b[0m \u001b[0mbuiltins\u001b[0m\u001b[0;34m.\u001b[0m\u001b[0mopen\u001b[0m\u001b[0;34m(\u001b[0m\u001b[0mfilename\u001b[0m\u001b[0;34m,\u001b[0m \u001b[0;34m\"r+b\"\u001b[0m\u001b[0;34m)\u001b[0m\u001b[0;34m\u001b[0m\u001b[0;34m\u001b[0m\u001b[0m\n\u001b[1;32m   2236\u001b[0m             \u001b[0;32melse\u001b[0m\u001b[0;34m:\u001b[0m\u001b[0;34m\u001b[0m\u001b[0;34m\u001b[0m\u001b[0m\n\u001b[0;32m-> 2237\u001b[0;31m                 \u001b[0mfp\u001b[0m \u001b[0;34m=\u001b[0m \u001b[0mbuiltins\u001b[0m\u001b[0;34m.\u001b[0m\u001b[0mopen\u001b[0m\u001b[0;34m(\u001b[0m\u001b[0mfilename\u001b[0m\u001b[0;34m,\u001b[0m \u001b[0;34m\"w+b\"\u001b[0m\u001b[0;34m)\u001b[0m\u001b[0;34m\u001b[0m\u001b[0;34m\u001b[0m\u001b[0m\n\u001b[0m\u001b[1;32m   2238\u001b[0m \u001b[0;34m\u001b[0m\u001b[0m\n\u001b[1;32m   2239\u001b[0m         \u001b[0;32mtry\u001b[0m\u001b[0;34m:\u001b[0m\u001b[0;34m\u001b[0m\u001b[0;34m\u001b[0m\u001b[0m\n",
      "\u001b[0;31mFileNotFoundError\u001b[0m: [Errno 2] No such file or directory: '../figures/Actual vs Predicted for Linear Regression.png'"
     ]
    },
    {
     "data": {
      "image/png": "[encoded data removed]",
      "text/plain": [
       "<Figure size 432x288 with 1 Axes>"
      ]
     },
     "metadata": {
      "needs_background": "light"
     },
     "output_type": "display_data"
    }
   ],
   "source": [
    "# Let's plot the predictions against the actual result. Use scatter()\n",
    "# appears that there is an exponential curve to the relationship\n",
    "_ = plt.scatter(y_test, y_pred)\n",
    "_ = plt.ylabel('F_Ratio Predicted')\n",
    "_ = plt.xlabel('F_Ratio Acutal')\n",
    "plt.savefig('../figures/Actual vs Predicted for Linear Regression');"
   ]
  },
  {
   "cell_type": "markdown",
   "id": "7e767a0c",
   "metadata": {},
   "source": [
    "<a id=\"id6\"></a>\n"
   ]
  },
  {
   "cell_type": "markdown",
   "id": "092efce6",
   "metadata": {},
   "source": [
    "## Oridinary Least Squares"
   ]
  },
  {
   "cell_type": "code",
   "execution_count": null,
   "id": "58b9b873",
   "metadata": {},
   "outputs": [],
   "source": [
    "model_OLS = sm.OLS(y_train, X_train_scaled)\n",
    "\n",
    "# Fit the model\n",
    "model_OLS = model_OLS.fit()\n",
    "\n"
   ]
  },
  {
   "cell_type": "code",
   "execution_count": null,
   "id": "d00d39b7",
   "metadata": {},
   "outputs": [],
   "source": [
    "# Evaluating the model; much lower R-squared here\n",
    "model_OLS.summary()"
   ]
  },
  {
   "cell_type": "code",
   "execution_count": null,
   "id": "5f0ed426",
   "metadata": {},
   "outputs": [],
   "source": [
    "# Use our new model to make predictions\n",
    "y_pred = model_OLS.predict(X_test_scaled)"
   ]
  },
  {
   "cell_type": "code",
   "execution_count": null,
   "id": "029119ee",
   "metadata": {
    "scrolled": true
   },
   "outputs": [],
   "source": [
    "###mean_squared_error, r2_score, mean_absolute_error. Yikes on all three for OLS\n",
    "print('The Root Mean Squared Error with OLS:', round(np.sqrt(mean_squared_error(y_test,y_pred)), 2))\n",
    "print('The Mean Absolute Error with OLS:', round(mean_absolute_error(y_test,y_pred), 2))\n",
    "print('Coefficient of determination with OLS:', round(r2_score(y_test,y_pred), 2))"
   ]
  },
  {
   "cell_type": "code",
   "execution_count": null,
   "id": "56fb2b64",
   "metadata": {},
   "outputs": [],
   "source": [
    "# Plot the predictions\n",
    "# Build a scatterplot\n",
    "plt.scatter(y_test, y_pred)\n",
    "_ = plt.ylabel('F_Ratio Predicted')\n",
    "_ = plt.xlabel('F_Ratio Acutal')\n",
    "plt.savefig('../figures/Actual vs Predicted for Ordinary Least Squares')"
   ]
  },
  {
   "cell_type": "markdown",
   "id": "e2da0fd0",
   "metadata": {},
   "source": [
    "<a id=\"id7\"></a>"
   ]
  },
  {
   "cell_type": "markdown",
   "id": "b95ff202",
   "metadata": {},
   "source": [
    "### Decision Tree Regressor"
   ]
  },
  {
   "cell_type": "code",
   "execution_count": null,
   "id": "7123dc74",
   "metadata": {},
   "outputs": [],
   "source": [
    "tree_reg1 = DecisionTreeRegressor(max_depth=2, random_state=42)\n",
    "tree_reg1.fit(X_train_scaled, y_train)\n",
    "y_pred_tree1 = tree_reg1.predict(X_test_scaled)"
   ]
  },
  {
   "cell_type": "code",
   "execution_count": null,
   "id": "07f3d61f",
   "metadata": {
    "scrolled": true
   },
   "outputs": [],
   "source": [
    "###mean_squared_error, r2_score, mean_absolute_error. TREE WITH DEPTH 2\n",
    "print('The Root Mean Squared Error Decision Tree Regression Depth 2:', round(np.sqrt(mean_squared_error(y_test,y_pred_tree1)), 2))\n",
    "print('The Mean Absolute Error Decision Tree Regression Depth 2:', round(mean_absolute_error(y_test,y_pred_tree1), 2))\n",
    "print('Coefficient of determination Decision Tree Regression Depth 2:', round(r2_score(y_test,y_pred_tree1), 2))"
   ]
  },
  {
   "cell_type": "code",
   "execution_count": null,
   "id": "101065ae",
   "metadata": {},
   "outputs": [],
   "source": [
    "# Evaluate the model: And a halfway decent R-Squared score for a full go; Ok comparison for the test score. \n",
    "# Not overfit or underfit\n",
    "print(\"Training R-sqaured for Decision Tree Regression Depth 2:\", tree_reg1.score(X_train_scaled, y_train))\n",
    "print(\"Testing R-squared for Decision Tree Regression Depth 2:\", tree_reg1.score(X_test_scaled, y_test))"
   ]
  },
  {
   "cell_type": "code",
   "execution_count": null,
   "id": "1b1d9cf6",
   "metadata": {},
   "outputs": [],
   "source": [
    "tree_reg2 = DecisionTreeRegressor(max_depth=5, random_state=42)\n",
    "tree_reg2.fit(X_train_scaled, y_train)\n",
    "y_pred_tree2 = tree_reg2.predict(X_test_scaled)"
   ]
  },
  {
   "cell_type": "code",
   "execution_count": null,
   "id": "c40981d0",
   "metadata": {},
   "outputs": [],
   "source": [
    "###mean_squared_error, r2_score, mean_absolute_error\n",
    "print('The Root Mean Squared Error:', round(np.sqrt(mean_squared_error(y_test,y_pred_tree2)), 2))\n",
    "print('The Mean Absolute Error:', round(mean_absolute_error(y_test,y_pred_tree2), 2))\n",
    "print('Coefficient of determination:', round(r2_score(y_test,y_pred_tree2), 2))"
   ]
  },
  {
   "cell_type": "code",
   "execution_count": null,
   "id": "fe63138b",
   "metadata": {},
   "outputs": [],
   "source": [
    "tree_reg2 = DecisionTreeRegressor(max_depth=7, random_state=42)\n",
    "tree_reg2.fit(X_train_scaled, y_train)\n",
    "y_pred_tree3 = tree_reg2.predict(X_test_scaled)"
   ]
  },
  {
   "cell_type": "code",
   "execution_count": null,
   "id": "fe036cc0",
   "metadata": {},
   "outputs": [],
   "source": [
    "###mean_squared_error, r2_score, mean_absolute_error\n",
    "print('The Root Mean Squared Error:', round(np.sqrt(mean_squared_error(y_test,y_pred_tree3)), 2))\n",
    "print('The Mean Absolute Error:', round(mean_absolute_error(y_test,y_pred_tree3), 2))\n",
    "print('Coefficient of determination:', round(r2_score(y_test,y_pred_tree3), 2))"
   ]
  },
  {
   "cell_type": "code",
   "execution_count": null,
   "id": "ca98750b",
   "metadata": {},
   "outputs": [],
   "source": [
    "# Evaluate the model: And a halfway decent R-Squared score for a full go; Ok comparison for the test score. \n",
    "# Not overfit or underfit\n",
    "\n",
    "print(\"Training R-sqaured for Decision Tree Regression Depth 5:\", tree_reg2.score(X_train_scaled, y_train))\n",
    "print(\"Testing R-squared for Decision Tree Regression Depth 5:\", tree_reg2.score(X_test_scaled, y_test))"
   ]
  },
  {
   "cell_type": "code",
   "execution_count": null,
   "id": "df0a8b93",
   "metadata": {
    "scrolled": true
   },
   "outputs": [],
   "source": [
    "###mean_squared_error, r2_score, mean_absolute_error. TREE WITH DEPTH 5\n",
    "print('The Root Mean Squared Error Decision Tree Regression Depth 5:', round(np.sqrt(mean_squared_error(y_test,y_pred_tree2)), 2))\n",
    "print('The Mean Absolute Error Decision Tree Regression Depth 5:', round(mean_absolute_error(y_test,y_pred_tree2), 2))\n",
    "print('Coefficient of determination Decision Tree Regression Depth 5:', round(r2_score(y_test,y_pred_tree2), 2))"
   ]
  },
  {
   "cell_type": "code",
   "execution_count": null,
   "id": "70902b53",
   "metadata": {},
   "outputs": [],
   "source": [
    "features = X_train\n",
    "importances = list(tree_reg2.feature_importances_)\n",
    "imp=sorted(importances, reverse=False)\n",
    "tab=pd.DataFrame(list(zip(X,imp)),columns =['Features', 'Importance scores']) \n",
    "with pd.option_context('display.max_rows', None, 'display.max_columns', None):  \n",
    "    print(tab)"
   ]
  },
  {
   "cell_type": "markdown",
   "id": "cadb8a73",
   "metadata": {},
   "source": [
    "The results with the Decision Tree Regressor indicate that Night time is influential (and more so than day time) and that Weekend is slightly influential (and more so than Week day)."
   ]
  },
  {
   "cell_type": "markdown",
   "id": "3602e1e4",
   "metadata": {},
   "source": [
    "<a id=\"id8\"></a>"
   ]
  },
  {
   "cell_type": "markdown",
   "id": "ddd3afcc",
   "metadata": {},
   "source": [
    "### Lasso Regression"
   ]
  },
  {
   "cell_type": "code",
   "execution_count": null,
   "id": "563056de",
   "metadata": {},
   "outputs": [],
   "source": [
    "### https://scikit-learn.org/stable/modules/generated/sklearn.linear_model.Lasso.html#sklearn.linear_model.Lasso.score\n",
    "### Working with Lasso regression to attend to possible overfitting\n",
    "Lasso_model = Lasso(alpha=1.0) ##full penalty for the alpha in this go around\n",
    "# define model evaluation method\n",
    "cv = RepeatedKFold(n_splits=10, n_repeats=3, random_state=1)\n",
    "# evaluate model\n",
    "Lasso_scores = cross_val_score(Lasso_model, X_train_scaled, y_train, scoring='neg_mean_absolute_error', cv=cv, n_jobs=-1)\n",
    "# force scores to be positive\n",
    "Lasso_scores = absolute(Lasso_scores)\n",
    "print(Lasso_scores)\n",
    "### Looks like overfitting is not a big issue"
   ]
  },
  {
   "cell_type": "code",
   "execution_count": null,
   "id": "b6faf9fd",
   "metadata": {},
   "outputs": [],
   "source": [
    "Lasso_model.fit(X_train_scaled, y_train)"
   ]
  },
  {
   "cell_type": "code",
   "execution_count": null,
   "id": "2494fd05",
   "metadata": {},
   "outputs": [],
   "source": [
    "# Use the model to make predictions about our test data\n",
    "y_pred_Lasso = Lasso_model.predict(X_test_scaled)"
   ]
  },
  {
   "cell_type": "code",
   "execution_count": null,
   "id": "9034d2a4",
   "metadata": {},
   "outputs": [],
   "source": [
    "###mean_squared_error, r2_score, mean_absolute_error. Yikes on the R2\n",
    "print('The Root Mean Squared Error:', round(np.sqrt(mean_squared_error(y_test,y_pred_Lasso)), 2))\n",
    "print('The Mean Absolute Error:', round(mean_absolute_error(y_test,y_pred_Lasso), 2))\n",
    "print('Coefficient of determination:', round(r2_score(y_test,y_pred_Lasso), 2))"
   ]
  },
  {
   "cell_type": "markdown",
   "id": "c81a869d",
   "metadata": {},
   "source": [
    "<a id=\"id9\"></a>"
   ]
  },
  {
   "cell_type": "markdown",
   "id": "84ec1e68",
   "metadata": {},
   "source": [
    "## Recursive feature elimination (RFE)"
   ]
  },
  {
   "cell_type": "code",
   "execution_count": null,
   "id": "ec553735",
   "metadata": {},
   "outputs": [],
   "source": [
    "### RFE with Lasso; the Linear Regresssion was horrible; Lasso much better: What up?\n",
    "### In this section, let's see if we can pair down the number of features to make it reasonable/interpretable as a model\n",
    "# evaluate RFE for regression\n",
    "# fit RFE\n",
    "rfe = RFE(estimator=Lasso(alpha=1.0))\n",
    "rfe.fit(X_train_scaled, y_train)\n",
    "y_pred_rfe = rfe.predict(X_test_scaled)"
   ]
  },
  {
   "cell_type": "code",
   "execution_count": null,
   "id": "34b87a8c",
   "metadata": {},
   "outputs": [],
   "source": [
    "###mean_squared_error, r2_score, mean_absolute_error; RFE is now doing horribly\n",
    "print('The Root Mean Squared Error:', round(np.sqrt(mean_squared_error(y_test,y_pred_rfe)), 2))\n",
    "print('The Mean Absolute Error:', round(mean_absolute_error(y_test,y_pred_rfe), 2))\n",
    "print('Coefficient of determination:', round(r2_score(y_test,y_pred_rfe), 2))\n"
   ]
  },
  {
   "cell_type": "code",
   "execution_count": null,
   "id": "94308ead",
   "metadata": {},
   "outputs": [],
   "source": [
    "###Showing the rank for the columns; \n",
    "###clearly, there are differences in their ranking that can be used to pair the model\n",
    "for i in range(X_train_scaled.shape[1]):\n",
    "\tprint('Column: %s, Selected %s, Rank: %.3f' % (X_train.columns[i], rfe.support_[i], rfe.ranking_[i]))"
   ]
  },
  {
   "cell_type": "code",
   "execution_count": null,
   "id": "bfd100db",
   "metadata": {},
   "outputs": [],
   "source": [
    "### RFE with Lasso CV\n",
    "# evaluate RFE for regression\n",
    "# fit RFE\n",
    "rfe = RFE(estimator=Lasso(alpha=1.0), n_features_to_select=10)\n",
    "model = Lasso(alpha=1.0)\n",
    "pipeline = Pipeline(steps=[('s',rfe),('m',model)])\n",
    "# evaluate model\n",
    "cv = RepeatedKFold(n_splits=10, n_repeats=3, random_state=1)\n",
    "n_scores = cross_val_score(pipeline, X_train_scaled, y_train, scoring='neg_mean_absolute_error', cv=cv, n_jobs=-1, error_score='raise')\n",
    "# report performance\n",
    "rfe_scores = absolute(scores)\n",
    "print(rfe_scores)\n",
    "### Overfitting not an issue"
   ]
  },
  {
   "cell_type": "code",
   "execution_count": null,
   "id": "35da06bb",
   "metadata": {},
   "outputs": [],
   "source": [
    "R_scores = cross_val_score(pipeline, X_train_scaled, y_train, scoring='r2', cv=cv, n_jobs=-1, error_score='raise')\n",
    "# report performance\n",
    "print('R2: %.3f (%.3f)' % (mean(R_scores), std(R_scores)))"
   ]
  },
  {
   "cell_type": "code",
   "execution_count": null,
   "id": "24ca4f05",
   "metadata": {},
   "outputs": [],
   "source": [
    "RMSE_scores = cross_val_score(pipeline, X_train_scaled, y_train, scoring='neg_root_mean_squared_error', cv=cv, n_jobs=-1, error_score='raise')\n",
    "RMSE_scores = abs(RMSE_scores)\n",
    "# report performance\n",
    "print('R2: %.3f (%.3f)' % (mean(RMSE_scores), std(RMSE_scores)))"
   ]
  },
  {
   "cell_type": "code",
   "execution_count": null,
   "id": "b5dc1e7d",
   "metadata": {
    "scrolled": true
   },
   "outputs": [],
   "source": [
    "###Showing the rank for the columns; clearly, there are differences in their ranking that can be used to pair the model\n",
    "# fit RFE\n",
    "rfe.fit(X_train_scaled, y_train)\n",
    "# summarize all features\n",
    "for i in range(X_train_scaled.shape[1]):\n",
    "    if rfe.ranking_[i] < 5:\n",
    "        f = open(\"Selected Columns.txt\", 'a')\n",
    "        f.write('Column: %s, Selected %s, Rank: %.3f' % (X_train.columns[i], rfe.support_[i], rfe.ranking_[i]))\n",
    "        f.close\n",
    "        print('Column: %s, Selected %s, Rank: %.3f' % (X_train.columns[i], rfe.support_[i], rfe.ranking_[i]))\n",
    "    "
   ]
  },
  {
   "cell_type": "code",
   "execution_count": null,
   "id": "aa7d29d5",
   "metadata": {},
   "outputs": [],
   "source": [
    "### Just checking with Linear Model with RFECV to see if it compares on autoselect of best features\n",
    "from sklearn.feature_selection import RFECV\n",
    "\n",
    "# Init, fit\n",
    "rfecv = RFECV(\n",
    "    estimator=Lasso(alpha=1.0),\n",
    "    min_features_to_select=5,\n",
    "    step=5,\n",
    "    n_jobs=-1,\n",
    "    scoring=\"r2\",\n",
    "    cv=5)\n",
    "\n",
    "_ = rfecv.fit(X_train_scaled, y_train)"
   ]
  },
  {
   "cell_type": "code",
   "execution_count": null,
   "id": "bc9ef074",
   "metadata": {},
   "outputs": [],
   "source": [
    "###With Cross-Validation LinearRegression, the RFE chose the following columns; Not Reported is new; \n",
    "###\n",
    "X_train.columns[rfecv.support_]\n",
    "\n"
   ]
  },
  {
   "cell_type": "markdown",
   "id": "3506e425",
   "metadata": {},
   "source": [
    "<a id=\"id10\"></a>"
   ]
  },
  {
   "cell_type": "markdown",
   "id": "443b46d5",
   "metadata": {},
   "source": [
    "### Results from Full Feature Models\n",
    "The results from the RFE with RepeatedKFold validation make the most sense as contributing conditions to a higher F_RATIO. Here are the factors ranked at 5 or lower (with 1 as most important).\n",
    "___________________________________________________________________________\n",
    " PEDS, Selected True, Rank: 1.000  \n",
    " PERSONS, Selected True, Rank: 1.000  \n",
    " DRUNK_DR, Selected True, Rank: 1.000  \n",
    " RUR_URBNAME_Rural, Selected True, Rank: 1.000  \n",
    " HARM_EVNAME_Motor Vehicle In-Transport, Selected True, Rank: 1.000  \n",
    " HARM_EVNAME_Non-Motorist on Personal Conveyance, Selected True, Rank: 1.000  \n",
    " HARM_EVNAME_Pedalcyclist, Selected True, Rank: 1.000  \n",
    " HARM_EVNAME_Pedestrian, Selected True, Rank: 1.000  \n",
    " HARM_EVNAME_Traffic Signal Support, Selected True, Rank: 1.000  \n",
    " HARM_EVNAME_Tree (Standing Only), Selected True, Rank: 1.000  \n",
    " HARM_EVNAME_Other Object (not fixed), Selected False, Rank: 2.000  \n",
    " HARM_EVNAME_Other Non-Collision, Selected False, Rank: 3.000  \n",
    " HARM_EVNAME_Other Fixed Object, Selected False, Rank: 4.000"
   ]
  },
  {
   "cell_type": "markdown",
   "id": "7f5fc91b",
   "metadata": {},
   "source": [
    "<a id=\"id11\"></a>"
   ]
  },
  {
   "cell_type": "markdown",
   "id": "234909f6",
   "metadata": {},
   "source": [
    "## Dataset Trimming\n",
    "With a trimmed dataset, given the indicators from the above analysis, the Decision Tree Regressor will be re-run.a"
   ]
  },
  {
   "cell_type": "code",
   "execution_count": null,
   "id": "1fce8f20",
   "metadata": {},
   "outputs": [],
   "source": [
    "### reloading Total (capitalized)\n",
    "Total = pd.read_csv('../data/processed/total.csv')\n",
    "Total.columns"
   ]
  },
  {
   "cell_type": "code",
   "execution_count": null,
   "id": "aa388457",
   "metadata": {},
   "outputs": [],
   "source": [
    "### Time to pair down some columns\n",
    "#\n",
    "Total = Total[['PEDS', 'PERSONS', 'DRUNK_DR', 'RUR_URBNAME', 'HARM_EVNAME','F_RATIO']]\n",
    "\n",
    "#Total.columns\n",
    "Total.head(3)"
   ]
  },
  {
   "cell_type": "code",
   "execution_count": null,
   "id": "8257dc66",
   "metadata": {},
   "outputs": [],
   "source": [
    "print('Total shape is', Total.shape)"
   ]
  },
  {
   "cell_type": "code",
   "execution_count": null,
   "id": "3a3fc309",
   "metadata": {},
   "outputs": [],
   "source": [
    "### Sorting out the categorical variables\n",
    "dfo = Total.select_dtypes(include=['object']) # select object type columns\n",
    "Total_ready = pd.concat([Total.drop(dfo, axis=1), pd.get_dummies(dfo)], axis=1) ### concatenating the dummy filled columns"
   ]
  },
  {
   "cell_type": "code",
   "execution_count": null,
   "id": "f15f21fa",
   "metadata": {},
   "outputs": [],
   "source": [
    "### Because Harmful Events has been splayed and ONLY SOME of them were seen as important, \n",
    "### these themselves need to trimmed. Same goes with Rural_Urban which has four subtypes\n",
    "Total_ready = Total_ready[['PEDS', 'PERSONS', 'DRUNK_DR', 'F_RATIO', 'RUR_URBNAME_Not Reported','RUR_URBNAME_Rural',\n",
    "'HARM_EVNAME_Motor Vehicle In-Transport',\n",
    "'HARM_EVNAME_Non-Motorist on Personal Conveyance', \n",
    "'HARM_EVNAME_Pedalcyclist',\n",
    "'HARM_EVNAME_Pedestrian',  \n",
    "'HARM_EVNAME_Traffic Signal Support',  \n",
    "'HARM_EVNAME_Tree (Standing Only)',\n",
    "'HARM_EVNAME_Other Object (not fixed)',  \n",
    "'HARM_EVNAME_Other Non-Collision',   \n",
    "'HARM_EVNAME_Other Fixed Object', ]]\n",
    "Total_ready.columns"
   ]
  },
  {
   "cell_type": "code",
   "execution_count": null,
   "id": "c0ca942d",
   "metadata": {},
   "outputs": [],
   "source": [
    "### And to fix the really low four outliers of F_Ratio, let's filter\n",
    "Total_ready = Total_ready[Total_ready.F_RATIO > 5]"
   ]
  },
  {
   "cell_type": "code",
   "execution_count": null,
   "id": "25fa27f1",
   "metadata": {},
   "outputs": [],
   "source": [
    "### Test Train Split for total\n",
    "X = Total_ready.loc[:, Total_ready.columns!='F_RATIO']\n",
    "y = Total_ready.F_RATIO\n",
    "\n",
    "X_train, X_test, y_train, y_test = train_test_split(X, y, test_size=.3, random_state=42)"
   ]
  },
  {
   "cell_type": "code",
   "execution_count": null,
   "id": "80d5eea7",
   "metadata": {},
   "outputs": [],
   "source": [
    "# For Total, build scaler based on training data and apply it to test data to then also scale the test data\n",
    "scaler = preprocessing.StandardScaler().fit(X_train)\n",
    "X_train_scaled=scaler.transform(X_train)\n",
    "X_test_scaled=scaler.transform(X_test)"
   ]
  },
  {
   "cell_type": "code",
   "execution_count": null,
   "id": "8d02a479",
   "metadata": {},
   "outputs": [],
   "source": [
    "# For Total, We now want to check the shape of the X train, y_train, X_test and y_test to make sure the proportions are right. \n",
    "print('Total accident training data', X_train_scaled.shape, 'Total accident test data', X_test_scaled.shape, \"\\n\", 'total fatality training data', y_train.shape, 'total fatality testing data', y_test.shape)"
   ]
  },
  {
   "cell_type": "markdown",
   "id": "9a190b4a",
   "metadata": {},
   "source": [
    "<a id=\"id12\"></a>"
   ]
  },
  {
   "cell_type": "markdown",
   "id": "1782e6b5",
   "metadata": {},
   "source": [
    "### Linear Regression with Trimmed Features"
   ]
  },
  {
   "cell_type": "code",
   "execution_count": null,
   "id": "a2584a7f",
   "metadata": {},
   "outputs": [],
   "source": [
    "# Using linear regression for the entire Total set\n",
    "rModel = linear_model.LinearRegression()\n",
    "rModel.fit(X_train_scaled, y_train)\n"
   ]
  },
  {
   "cell_type": "code",
   "execution_count": null,
   "id": "46793196",
   "metadata": {},
   "outputs": [],
   "source": [
    "# Use the model to make predictions about our test data\n",
    "y_pred_trim = rModel.predict(X_test_scaled)"
   ]
  },
  {
   "cell_type": "code",
   "execution_count": null,
   "id": "a09e5aba",
   "metadata": {
    "scrolled": false
   },
   "outputs": [],
   "source": [
    "###mean_squared_error, r2_score, mean_absolute_error. TREE WITH DEPTH 5\n",
    "print('The Root Mean Squared Error with Linear Regression:', round(np.sqrt(mean_squared_error(y_test,y_pred_trim)), 2))\n",
    "print('The Mean Absolute Error with Linear Regression:', round(mean_absolute_error(y_test,y_pred_trim), 2))\n",
    "print('Coefficient of Determination with Linear Regression:', round(r2_score(y_test,y_pred_trim), 2))"
   ]
  },
  {
   "cell_type": "code",
   "execution_count": null,
   "id": "46db8ca9",
   "metadata": {},
   "outputs": [],
   "source": [
    "### Good comparability between train and test sets\n",
    "_ = rModel.fit(X_train_scaled, y_train)\n",
    "\n",
    "print(\"Training R-sqaured:\", rModel.score(X_train_scaled, y_train))\n",
    "print(\"Testing R-squared:\",rModel.score(X_test_scaled, y_test))"
   ]
  },
  {
   "cell_type": "code",
   "execution_count": null,
   "id": "f413fa5e",
   "metadata": {
    "scrolled": false
   },
   "outputs": [],
   "source": [
    "# Let's plot the predictions against the actual result. Use scatter()\n",
    "# appears that there is an exponential curve to the relationship\n",
    "_ = plt.scatter(y_pred_trim, y_test)\n",
    "_ = plt.xlabel('F_Ratio Predicted')\n",
    "_ = plt.ylabel('F_Ratio Acutal')\n",
    "_ = plt.title('Actual vs Predicted for Linear Regression')\n",
    "plt.savefig('../figures/Actual vs Predicted for Linear Regression')"
   ]
  },
  {
   "cell_type": "markdown",
   "id": "e31824ad",
   "metadata": {},
   "source": [
    "<a id=\"id13\"></a>"
   ]
  },
  {
   "cell_type": "markdown",
   "id": "18adea80",
   "metadata": {},
   "source": [
    "### Lasso with Cross-fold Validation with Trimmed Features"
   ]
  },
  {
   "cell_type": "code",
   "execution_count": null,
   "id": "c31827a3",
   "metadata": {},
   "outputs": [],
   "source": [
    "### https://scikit-learn.org/stable/modules/generated/sklearn.linear_model.Lasso.html#sklearn.linear_model.Lasso.score\n",
    "### Working with Lasso regression to attend to possible overfitting\n",
    "Lasso_model2 = Lasso(alpha=1.0) ##full penalty for the alpha in this go around\n",
    "# define model evaluation method\n",
    "cv = RepeatedKFold(n_splits=10, n_repeats=3, random_state=1)\n",
    "# evaluate model\n",
    "Lasso_scores2 = cross_val_score(Lasso_model, X_train_scaled, y_train, scoring='neg_mean_absolute_error', cv=cv, n_jobs=-1)\n",
    "# force scores to be positive\n",
    "Lasso_scores2 = absolute(Lasso_scores2)\n",
    "print(Lasso_scores2)\n",
    "### Looks like overfitting is not a big issue"
   ]
  },
  {
   "cell_type": "code",
   "execution_count": null,
   "id": "89e75b97",
   "metadata": {},
   "outputs": [],
   "source": [
    "Lasso_model2.fit(X_train_scaled, y_train)"
   ]
  },
  {
   "cell_type": "code",
   "execution_count": null,
   "id": "244ef9e1",
   "metadata": {},
   "outputs": [],
   "source": [
    "# Use the model to make predictions about our test data\n",
    "y_pred_Lasso2 = Lasso_model2.predict(X_test_scaled)"
   ]
  },
  {
   "cell_type": "code",
   "execution_count": null,
   "id": "90aab3a5",
   "metadata": {},
   "outputs": [],
   "source": [
    "###mean_squared_error, r2_score, mean_absolute_error. Yikes on the R2\n",
    "print('The Root Mean Squared Error:', round(np.sqrt(mean_squared_error(y_test,y_pred_Lasso2)), 2))\n",
    "print('The Mean Absolute Error:', round(mean_absolute_error(y_test,y_pred_Lasso2), 2))\n",
    "print('Coefficient of determination:', round(r2_score(y_test,y_pred_Lasso2), 2))"
   ]
  },
  {
   "cell_type": "markdown",
   "id": "a764035b",
   "metadata": {},
   "source": [
    "<a id=\"id14\"></a>"
   ]
  },
  {
   "cell_type": "markdown",
   "id": "f7e99fdd",
   "metadata": {},
   "source": [
    "### Decision Tree Regressor with Trimmed Features"
   ]
  },
  {
   "cell_type": "code",
   "execution_count": 44,
   "id": "76ef1965",
   "metadata": {},
   "outputs": [
    {
     "name": "stdout",
     "output_type": "stream",
     "text": [
      "[4.14211153 3.95502881 3.95519405 4.15933208 4.30515713 4.15666371\n",
      " 4.1516189  3.97404375 3.89997156 3.87526606 3.92402935 3.9607852\n",
      " 4.14227249 4.09266468 4.03572849 4.06059104 4.23164828 4.1031147\n",
      " 3.9112639  3.96135979 4.09635803 4.07981596 4.11266798 4.27467634\n",
      " 3.92127353 3.95194389 4.03175924 4.10892263 3.80245894 4.13307554]\n"
     ]
    }
   ],
   "source": [
    "tree_reg2 = DecisionTreeRegressor(max_depth=5, random_state=42)\n",
    "\n",
    "cv = RepeatedKFold(n_splits=10, n_repeats=3, random_state=1)\n",
    "# evaluate model\n",
    "tree_scores2 = cross_val_score(tree_reg2, X_train_scaled, y_train, scoring='neg_mean_absolute_error', cv=cv, n_jobs=-1)\n",
    "# force scores to be positive\n",
    "tree_scores2 = absolute(tree_scores2)\n",
    "print(tree_scores2)\n",
    "### Looks like overfitting is not a big issue"
   ]
  },
  {
   "cell_type": "code",
   "execution_count": 46,
   "id": "65d34aa0",
   "metadata": {},
   "outputs": [
    {
     "data": {
      "text/plain": [
       "DecisionTreeRegressor(max_depth=5, random_state=42)"
      ]
     },
     "execution_count": 46,
     "metadata": {},
     "output_type": "execute_result"
    }
   ],
   "source": [
    "tree_reg2.fit(X_train_scaled, y_train)"
   ]
  },
  {
   "cell_type": "code",
   "execution_count": 48,
   "id": "c2b5207f",
   "metadata": {},
   "outputs": [],
   "source": [
    "y_pred_tree2 = tree_reg2.predict(X_test_scaled)"
   ]
  },
  {
   "cell_type": "code",
   "execution_count": null,
   "id": "413fa88f",
   "metadata": {
    "scrolled": true
   },
   "outputs": [],
   "source": [
    "###mean_squared_error, r2_score, mean_absolute_error\n",
    "print('The Root Mean Squared Error:', round(np.sqrt(mean_squared_error(y_test,y_pred_tree2)), 2))\n",
    "print('The Mean Absolute Error:', round(mean_absolute_error(y_test,y_pred_tree2), 2))\n",
    "print('Coefficient of determination:', round(r2_score(y_test,y_pred_tree2), 2))"
   ]
  },
  {
   "cell_type": "markdown",
   "id": "e3e9e697",
   "metadata": {},
   "source": [
    "Calling Decision Tree Regression with max depth of 5 the winner based on RMSE and R2.  \n",
    "\n",
    "https://scikit-learn.org/stable/modules/generated/sklearn.tree.DecisionTreeRegressor.html"
   ]
  },
  {
   "cell_type": "code",
   "execution_count": null,
   "id": "ab5130a6",
   "metadata": {},
   "outputs": [],
   "source": [
    "# Let's plot the predictions against the actual result. Ugly plot though based on tree-ness\n",
    "_ = plt.scatter(y_pred_tree2, y_test)\n",
    "_ = plt.xlabel('F_Ratio Predicted')\n",
    "_ = plt.ylabel('F_Ratio Acutal')\n",
    "_ = plt.title('Actual vs Predicted for Decision Tree Regression')\n",
    "plt.savefig('../figures/Actual vs Predicted for Decision Tree Regression')"
   ]
  },
  {
   "cell_type": "markdown",
   "id": "04872503",
   "metadata": {},
   "source": [
    "<a id=\"id15\"></a>"
   ]
  },
  {
   "cell_type": "markdown",
   "id": "5d523ee3",
   "metadata": {},
   "source": [
    "### Overall Trimmed\n",
    "Through RFE with Lasso regression, we were able to trim the factors to those of greatest importance and get a model that has decent R2 without overfitting."
   ]
  }
 ],
 "metadata": {
  "kernelspec": {
   "display_name": "Python 3 (ipykernel)",
   "language": "python",
   "name": "python3"
  },
  "language_info": {
   "codemirror_mode": {
    "name": "ipython",
    "version": 3
   },
   "file_extension": ".py",
   "mimetype": "text/x-python",
   "name": "python",
   "nbconvert_exporter": "python",
   "pygments_lexer": "ipython3",
   "version": "3.9.7"
  }
 },
 "nbformat": 4,
 "nbformat_minor": 5
}
